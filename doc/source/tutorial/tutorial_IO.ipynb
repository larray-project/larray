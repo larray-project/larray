{
 "cells": [
  {
   "cell_type": "markdown",
   "metadata": {},
   "source": [
    "# Load/Dump Arrays And Sessions From/To Files\n"
   ]
  },
  {
   "cell_type": "markdown",
   "metadata": {},
   "source": [
    "Import the LArray library:\n"
   ]
  },
  {
   "cell_type": "code",
   "execution_count": null,
   "metadata": {},
   "outputs": [],
   "source": [
    "from larray import *"
   ]
  },
  {
   "cell_type": "markdown",
   "metadata": {},
   "source": [
    "## Load from CVS, Excel or HDF5 files\n",
    "\n",
    "Arrays can be loaded from CSV files\n",
    "\n",
    "```python\n",
    "# read_tsv is a shortcut when data are separated by tabs instead of commas (default separator of read_csv)\n",
    "# read_eurostat is a shortcut to read EUROSTAT TSV files\n",
    "household = read_csv('hh.csv')\n",
    "```\n"
   ]
  },
  {
   "cell_type": "markdown",
   "metadata": {},
   "source": [
    "or Excel sheets\n",
    "\n",
    "```python\n",
    "# loads array from the first sheet if no sheet is given\n",
    "pop = read_excel('demography.xlsx', 'pop')\n",
    "```\n"
   ]
  },
  {
   "cell_type": "markdown",
   "metadata": {},
   "source": [
    "or HDF5 files (HDF5 is file format designed to store and organize large amounts of data.\n",
    "An HDF5 file can contain multiple arrays.\n",
    "\n",
    "```python\n",
    "mortality = read_hdf('demography.h5','qx')\n",
    "```\n"
   ]
  },
  {
   "cell_type": "markdown",
   "metadata": {},
   "source": [
    "See documentation of reading functions for more details.\n"
   ]
  },
  {
   "cell_type": "markdown",
   "metadata": {},
   "source": [
    "### Load Sessions\n"
   ]
  },
  {
   "cell_type": "markdown",
   "metadata": {},
   "source": [
    "The advantage of sessions is that you can load many arrays in one shot:\n",
    "\n",
    "```python\n",
    "# this load several arrays from a single Excel file (each array is stored on a different sheet)\n",
    "s = Session()\n",
    "s.load('test.xlsx')\n",
    "# or \n",
    "s = Session('test.xlsx')\n",
    "\n",
    "# this load several arrays from a single HDF5 file (which is a very fast format)\n",
    "s = Session()\n",
    "s.load('test.h5')\n",
    "# or \n",
    "s = Session('test.h5')\n",
    "```\n"
   ]
  },
  {
   "cell_type": "markdown",
   "metadata": {},
   "source": [
    "## Dump to CSV, Excel or HDF5 files\n",
    "\n",
    "Arrays can be dumped in CSV files\n",
    "\n",
    "```python\n",
    "household.to_csv('hh2.csv')\n",
    "```\n"
   ]
  },
  {
   "cell_type": "markdown",
   "metadata": {},
   "source": [
    "or in Excel files\n",
    "\n",
    "```python\n",
    "# if the file does not already exist, it is created with a single sheet,\n",
    "# otherwise a new sheet is added to it\n",
    "household.to_excel('demography_2.xlsx', overwrite_file=True)\n",
    "# it is usually better to specify the sheet explicitly (by name or position) though\n",
    "household.to_excel('demography_2.xlsx', 'hh')\n",
    "```\n"
   ]
  },
  {
   "cell_type": "markdown",
   "metadata": {},
   "source": [
    "or in HDF5 files\n",
    "\n",
    "```python\n",
    "household.to_hdf('demography_2.h5', 'hh')\n",
    "```\n"
   ]
  },
  {
   "cell_type": "markdown",
   "metadata": {},
   "source": [
    "See documentation of writing methods for more details.\n"
   ]
  },
  {
   "cell_type": "markdown",
   "metadata": {},
   "source": [
    "### Dump Sessions\n"
   ]
  },
  {
   "cell_type": "markdown",
   "metadata": {},
   "source": [
    "The advantage of sessions is that you can save many arrays in one shot:\n",
    "\n",
    "```python\n",
    "# this saves all the arrays in a single excel file (each array on a different sheet)\n",
    "s.save('test.xlsx')\n",
    "\n",
    "# this saves all the arrays in a single HDF5 file (which is a very fast format)\n",
    "s.save('test.h5')\n",
    "```\n"
   ]
  },
  {
   "cell_type": "markdown",
   "metadata": {},
   "source": [
    "## Interact with Excel files\n"
   ]
  },
  {
   "cell_type": "markdown",
   "metadata": {},
   "source": [
    "### Write Arrays\n",
    "\n",
    "Open an Excel file\n",
    "\n",
    "```python\n",
    "wb = open_excel('test.xlsx', overwrite_file=True)\n",
    "```\n"
   ]
  },
  {
   "cell_type": "markdown",
   "metadata": {},
   "source": [
    "Put an array in an Excel Sheet, **excluding** headers (labels)\n",
    "\n",
    "```python\n",
    "# put arr at A1 in Sheet1, excluding headers (labels)\n",
    "wb['Sheet1'] = arr\n",
    "# same but starting at A9\n",
    "# note that Sheet1 must exist\n",
    "wb['Sheet1']['A9'] = arr\n",
    "```\n"
   ]
  },
  {
   "cell_type": "markdown",
   "metadata": {},
   "source": [
    "Put an array in an Excel Sheet, **including** headers (labels)\n",
    "\n",
    "```python\n",
    "# dump arr at A1 in Sheet2, including headers (labels)\n",
    "wb['Sheet2'] = arr.dump()\n",
    "# same but starting at A10\n",
    "wb['Sheet2']['A10'] = arr.dump()\n",
    "```\n"
   ]
  },
  {
   "cell_type": "markdown",
   "metadata": {},
   "source": [
    "Save file to disk\n",
    "\n",
    "```python\n",
    "wb.save()\n",
    "```\n"
   ]
  },
  {
   "cell_type": "markdown",
   "metadata": {},
   "source": [
    "Close file\n",
    "\n",
    "```python\n",
    "wb.close()\n",
    "```\n"
   ]
  },
  {
   "cell_type": "markdown",
   "metadata": {},
   "source": [
    "### Read Arrays\n",
    "\n",
    "Open an Excel file\n",
    "\n",
    "```python\n",
    "wb = open_excel('test.xlsx')\n",
    "```\n"
   ]
  },
  {
   "cell_type": "markdown",
   "metadata": {},
   "source": [
    "Load an array from a sheet (assuming the presence of (correctly formatted) headers and only one array in sheet)\n",
    "\n",
    "```python\n",
    "# save one array in Sheet3 (including headers)\n",
    "wb['Sheet3'] = arr.dump()\n",
    "\n",
    "# load array from the data starting at A1 in Sheet3\n",
    "arr = wb['Sheet3'].load()\n",
    "```\n"
   ]
  },
  {
   "cell_type": "markdown",
   "metadata": {},
   "source": [
    "Load an array with its axes information from a range\n",
    "\n",
    "```python\n",
    "# if you need to use the same sheet several times,\n",
    "# you can create a sheet variable\n",
    "sheet2 = wb['Sheet2']\n",
    "\n",
    "# load array contained in the 4 x 4 table defined by cells A10 and D14\n",
    "arr2 = sheet2['A10:D14'].load()\n",
    "```\n"
   ]
  },
  {
   "cell_type": "markdown",
   "metadata": {},
   "source": [
    "### Read Ranges (experimental)\n",
    "\n",
    "Load an array (raw data) with no axis information from a range\n",
    "\n",
    "```python\n",
    "arr3 = wb['Sheet1']['A1:B4']\n",
    "```\n"
   ]
  },
  {
   "cell_type": "markdown",
   "metadata": {},
   "source": [
    "in fact, this is not really an LArray ...\n",
    "\n",
    "```python\n",
    "type(arr3)\n",
    "\n",
    "larray.io.excel.Range\n",
    "```\n"
   ]
  },
  {
   "cell_type": "markdown",
   "metadata": {},
   "source": [
    "... but it can be used as such\n",
    "\n",
    "```python\n",
    "arr3.sum(axis=0)\n",
    "```\n"
   ]
  },
  {
   "cell_type": "markdown",
   "metadata": {},
   "source": [
    "... and it can be used for other stuff, like setting the formula instead of the value:\n",
    "\n",
    "```python\n",
    "arr3.formula = '=D10+1'\n",
    "```\n"
   ]
  },
  {
   "cell_type": "markdown",
   "metadata": {},
   "source": [
    "In the future, we should also be able to set font name, size, style, etc.\n"
   ]
  }
 ],
 "metadata": {
  "celltoolbar": "Edit Metadata",
  "kernelspec": {
   "display_name": "Python 3",
   "language": "python",
   "name": "python3"
  },
  "language_info": {
   "codemirror_mode": {
    "name": "ipython",
    "version": 3
   },
   "file_extension": ".py",
   "mimetype": "text/x-python",
   "name": "python",
   "nbconvert_exporter": "python",
   "pygments_lexer": "ipython3",
   "version": "3.6.4"
  },
  "livereveal": {
   "autolaunch": false,
   "scroll": true
  }
 },
 "nbformat": 4,
 "nbformat_minor": 2
}
