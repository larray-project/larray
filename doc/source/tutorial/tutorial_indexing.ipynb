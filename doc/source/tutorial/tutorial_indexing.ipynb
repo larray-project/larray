{
 "cells": [
  {
   "cell_type": "markdown",
   "metadata": {},
   "source": [
    "# Indexing, Selecting and Assigning\n"
   ]
  },
  {
   "cell_type": "markdown",
   "metadata": {},
   "source": [
    "Import the LArray library:\n"
   ]
  },
  {
   "cell_type": "code",
   "execution_count": null,
   "metadata": {},
   "outputs": [],
   "source": [
    "from larray import *"
   ]
  },
  {
   "cell_type": "markdown",
   "metadata": {},
   "source": [
    "Import the test array ``pop``:\n"
   ]
  },
  {
   "cell_type": "code",
   "execution_count": null,
   "metadata": {},
   "outputs": [],
   "source": [
    "# let's start with\n",
    "pop = load_example_data('demography').pop\n",
    "pop"
   ]
  },
  {
   "cell_type": "markdown",
   "metadata": {},
   "source": [
    "## Selecting (Subsets)\n",
    "\n",
    "LArray allows to select a subset of an array either by labels or indices (positions)\n"
   ]
  },
  {
   "cell_type": "markdown",
   "metadata": {},
   "source": [
    "### Selecting by Labels\n",
    "\n",
    "To take a subset of an array using labels, use brackets [ ].\n",
    "\n",
    "Let's start by selecting a single element:\n"
   ]
  },
  {
   "cell_type": "code",
   "execution_count": null,
   "metadata": {},
   "outputs": [],
   "source": [
    "# here we select the value associated with Belgian women\n",
    "# of age 50 from Brussels region for the year 2015\n",
    "pop[2015, 'BruCap', 50, 'F', 'BE']"
   ]
  },
  {
   "cell_type": "markdown",
   "metadata": {},
   "source": [
    "Continue with selecting a subset using slices and lists of labels\n"
   ]
  },
  {
   "cell_type": "code",
   "execution_count": null,
   "metadata": {},
   "outputs": [],
   "source": [
    "# here we select the subset associated with Belgian women of age 50, 51 and 52\n",
    "# from Brussels region for the years 2010 to 2016\n",
    "pop[2010:2016, 'BruCap', 50:52, 'F', 'BE']"
   ]
  },
  {
   "cell_type": "code",
   "execution_count": null,
   "metadata": {},
   "outputs": [],
   "source": [
    "# slices bounds are optional:\n",
    "# if not given start is assumed to be the first label and stop is the last one.\n",
    "# Here we select all years starting from 2010\n",
    "pop[2010:, 'BruCap', 50:52, 'F', 'BE']"
   ]
  },
  {
   "cell_type": "code",
   "execution_count": null,
   "metadata": {},
   "outputs": [],
   "source": [
    "# Slices can also have a step (defaults to 1), to take every Nth labels\n",
    "# Here we select all even years starting from 2010\n",
    "pop[2010::2, 'BruCap', 50:52, 'F', 'BE']"
   ]
  },
  {
   "cell_type": "code",
   "execution_count": null,
   "metadata": {},
   "outputs": [],
   "source": [
    "# one can also use list of labels to take non-contiguous labels.\n",
    "# Here we select years 2008, 2010, 2013 and 2015\n",
    "pop[[2008, 2010, 2013, 2015], 'BruCap', 50:52, 'F', 'BE']"
   ]
  },
  {
   "cell_type": "markdown",
   "metadata": {},
   "source": [
    "The order of indexing does not matter either, so you usually do not care/have to remember about axes positions during computation. It only matters for output.\n"
   ]
  },
  {
   "cell_type": "code",
   "execution_count": null,
   "metadata": {},
   "outputs": [],
   "source": [
    "# order of index doesn't matter\n",
    "pop['F', 'BE', 'BruCap', [2008, 2010, 2013, 2015], 50:52]"
   ]
  },
  {
   "cell_type": "markdown",
   "metadata": {},
   "source": [
    "<div class=\"alert alert-warning\">\n",
    "**Warning:** Selecting by labels as above works well as long as there is no ambiguity.\n",
    "   When two or more axes have common labels, it may lead to a crash.\n",
    "   The solution is then to precise to which axis belong the labels.\n",
    "</div>\n"
   ]
  },
  {
   "cell_type": "code",
   "execution_count": null,
   "metadata": {},
   "outputs": [],
   "source": [
    "# let us now create an array with the same labels on several axes\n",
    "age, weight, size = Axis('age=0..80'), Axis('weight=0..120'), Axis('size=0..200')\n",
    "\n",
    "arr_ws = ndtest([age, weight, size])"
   ]
  },
  {
   "cell_type": "code",
   "execution_count": null,
   "metadata": {},
   "outputs": [],
   "source": [
    "# let's try to select teenagers with size between 1 m 60 and 1 m 65 and weight > 80 kg.\n",
    "# In this case the subset is ambiguous and this results in an error:\n",
    "arr_ws[10:18, :80, 160:165]"
   ]
  },
  {
   "cell_type": "code",
   "execution_count": null,
   "metadata": {},
   "outputs": [],
   "source": [
    "# the solution is simple. You need to precise the axes on which you make a selection\n",
    "arr_ws[age[10:18], weight[:80], size[160:165]]"
   ]
  },
  {
   "cell_type": "markdown",
   "metadata": {},
   "source": [
    "### Ambiguous Cases - Specifying Axes Using The Special Variable X\n",
    "\n",
    "When selecting, assiging or using aggregate functions, an axis can be\n",
    "refered via the special variable ``X``:\n",
    "\n",
    "-  pop[X.age[:20]]\n",
    "-  pop.sum(X.age)\n",
    "\n",
    "This gives you acces to axes of the array you are manipulating. The main\n",
    "drawback of using ``X`` is that you lose the autocompletion available from\n",
    "many editors. It only works with non-anonymous axes for which names do not contain whitespaces or special characters.\n"
   ]
  },
  {
   "cell_type": "code",
   "execution_count": null,
   "metadata": {},
   "outputs": [],
   "source": [
    "# the previous example could have been also written as\n",
    "arr_ws[X.age[10:18], X.weight[:80], X.size[160:165]]"
   ]
  },
  {
   "cell_type": "markdown",
   "metadata": {},
   "source": [
    "### Selecting by Indices\n",
    "\n",
    "Sometimes it is more practical to use indices (positions) along the axis, instead of labels.\n",
    "You need to add the character ``i`` before the brackets: ``.i[indices]``.\n",
    "As for selection with labels, you can use a single index, a slice or a list of indices.\n",
    "Indices can be also negative (-1 represent the last element of an axis).\n"
   ]
  },
  {
   "cell_type": "markdown",
   "metadata": {},
   "source": [
    "<div class=\"alert alert-info\">\n",
    "**Note:** Remember that indices (positions) are always **0-based** in Python.\n",
    "So the first element is at index 0, the second is at index 1, etc.\n",
    "</div>\n"
   ]
  },
  {
   "cell_type": "code",
   "execution_count": null,
   "metadata": {},
   "outputs": [],
   "source": [
    "# here we select the subset associated with Belgian women of age 50, 51 and 52\n",
    "# from Brussels region for the first 3 years\n",
    "pop[X.time.i[:3], 'BruCap', 50:52, 'F', 'BE']"
   ]
  },
  {
   "cell_type": "code",
   "execution_count": null,
   "metadata": {},
   "outputs": [],
   "source": [
    "# same but for the last 3 years\n",
    "pop[X.time.i[-3:], 'BruCap', 50:52, 'F', 'BE']"
   ]
  },
  {
   "cell_type": "code",
   "execution_count": null,
   "metadata": {},
   "outputs": [],
   "source": [
    "# using list of indices\n",
    "pop[X.time.i[-9,-7,-4,-2], 'BruCap', 50:52, 'F', 'BE']"
   ]
  },
  {
   "cell_type": "markdown",
   "metadata": {},
   "source": [
    "<div class=\"alert alert-warning\">\n",
    "**Warning:** The end *indice* (position) is EXCLUSIVE while the end label is INCLUSIVE.\n",
    "</div>\n"
   ]
  },
  {
   "cell_type": "code",
   "execution_count": null,
   "metadata": {},
   "outputs": [],
   "source": [
    "# with labels (3 is included)\n",
    "pop[2015, 'BruCap', X.age[:3], 'F', 'BE']"
   ]
  },
  {
   "cell_type": "code",
   "execution_count": null,
   "metadata": {},
   "outputs": [],
   "source": [
    "# with indices (3 is out)\n",
    "pop[2015, 'BruCap', X.age.i[:3], 'F', 'BE']"
   ]
  },
  {
   "cell_type": "markdown",
   "metadata": {},
   "source": [
    "You can use ``.i[]`` selection directly on array instead of axes.\n",
    "In this context, if you want to select a subset of the first and third axes for example, you must use a full slice ``:`` for the second one.\n"
   ]
  },
  {
   "cell_type": "code",
   "execution_count": null,
   "metadata": {},
   "outputs": [],
   "source": [
    "# here we select the last year and first 3 ages\n",
    "# equivalent to: pop.i[-1, :, :3, :, :]\n",
    "pop.i[-1, :, :3]"
   ]
  },
  {
   "cell_type": "markdown",
   "metadata": {},
   "source": [
    "### Using Groups In Selections\n"
   ]
  },
  {
   "cell_type": "code",
   "execution_count": null,
   "metadata": {},
   "outputs": [],
   "source": [
    "teens = pop.age[10:20]\n",
    "\n",
    "pop[2015, 'BruCap', teens, 'F', 'BE']"
   ]
  },
  {
   "cell_type": "markdown",
   "metadata": {},
   "source": [
    "## Assigning subsets\n",
    "\n",
    "### Assigning A Value\n",
    "\n",
    "Assign a value to a subset\n"
   ]
  },
  {
   "cell_type": "code",
   "execution_count": null,
   "metadata": {},
   "outputs": [],
   "source": [
    "# let's take a smaller array\n",
    "pop = load_example_data('demography').pop[2016, 'BruCap', 100:105]\n",
    "pop2 = pop\n",
    "pop2"
   ]
  },
  {
   "cell_type": "code",
   "execution_count": null,
   "metadata": {},
   "outputs": [],
   "source": [
    "# set all data corresponding to age >= 102 to 0\n",
    "pop2[102:] = 0\n",
    "pop2"
   ]
  },
  {
   "cell_type": "markdown",
   "metadata": {},
   "source": [
    "One very important gotcha though...\n",
    "\n",
    "<div class=\"alert alert-warning\">\n",
    "**Warning:** Modifying a slice of an array in-place like we did above should be done with care otherwise you could have **unexpected effects**. The reason is that taking a **slice** subset of an array does not return a copy of that array, but rather a view on that array. To avoid such behavior, use ``.copy()`` method.\n",
    "</div>\n",
    "\n",
    "Remember:\n",
    "\n",
    "-  taking a slice subset of an array is extremely fast (no data is\n",
    "   copied)\n",
    "-  if one modifies that subset in-place, one also **modifies the\n",
    "   original array**\n",
    "-  **.copy()** returns a copy of the subset (takes speed and memory) but\n",
    "   allows you to change the subset without modifying the original array\n",
    "   in the same time\n"
   ]
  },
  {
   "cell_type": "code",
   "execution_count": null,
   "metadata": {},
   "outputs": [],
   "source": [
    "# indeed, data from the original array have also changed\n",
    "pop"
   ]
  },
  {
   "cell_type": "code",
   "execution_count": null,
   "metadata": {},
   "outputs": [],
   "source": [
    "# the right way\n",
    "pop = load_example_data('demography').pop[2016, 'BruCap', 100:105]\n",
    "\n",
    "pop2 = pop.copy()\n",
    "pop2[102:] = 0\n",
    "pop2"
   ]
  },
  {
   "cell_type": "code",
   "execution_count": null,
   "metadata": {},
   "outputs": [],
   "source": [
    "# now, data from the original array have not changed this time\n",
    "pop"
   ]
  },
  {
   "cell_type": "markdown",
   "metadata": {},
   "source": [
    "### Assigning Arrays And Broadcasting\n",
    "\n",
    "Instead of a value, we can also assign an array to a subset. In that\n",
    "case, that array can have less axes than the target but those which are\n",
    "present must be compatible with the subset being targeted.\n"
   ]
  },
  {
   "cell_type": "code",
   "execution_count": null,
   "metadata": {},
   "outputs": [],
   "source": [
    "sex, nat = Axis('sex=M,F'), Axis('nat=BE,FO')\n",
    "new_value = LArray([[1, -1], [2, -2]],[sex, nat])\n",
    "new_value"
   ]
  },
  {
   "cell_type": "code",
   "execution_count": null,
   "metadata": {},
   "outputs": [],
   "source": [
    "# this assigns 1, -1 to Belgian, Foreigner men\n",
    "# and 2, -2 to Belgian, Foreigner women for all\n",
    "# people older than 100\n",
    "pop[102:] = new_value\n",
    "pop"
   ]
  },
  {
   "cell_type": "markdown",
   "metadata": {},
   "source": [
    "<div class=\"alert alert-warning\">\n",
    "**Warning:** The array being assigned must have compatible axes (i.e. same axes names and same labels) with the target subset.\n",
    "</div>\n"
   ]
  },
  {
   "cell_type": "code",
   "execution_count": null,
   "metadata": {},
   "outputs": [],
   "source": [
    "# assume we define the following array with shape 3 x 2 x 2\n",
    "new_value = zeros(['age=100..102', sex, nat])\n",
    "new_value"
   ]
  },
  {
   "cell_type": "code",
   "execution_count": null,
   "metadata": {},
   "outputs": [],
   "source": [
    "# now let's try to assign the previous array in a subset from age 103 to 105\n",
    "pop[103:105] = new_value"
   ]
  },
  {
   "cell_type": "code",
   "execution_count": null,
   "metadata": {},
   "outputs": [],
   "source": [
    "# but this works\n",
    "pop[100:102] = new_value\n",
    "pop"
   ]
  },
  {
   "cell_type": "markdown",
   "metadata": {},
   "source": [
    "## Boolean Filtering\n",
    "\n",
    "Boolean filtering can be use to extract subsets.\n"
   ]
  },
  {
   "cell_type": "code",
   "execution_count": null,
   "metadata": {},
   "outputs": [],
   "source": [
    "#Let's focus on population living in Brussels during the year 2016\n",
    "pop = load_example_data('demography').pop[2016, 'BruCap']\n",
    "\n",
    "# here we select all males and females with age less than 5 and 10 respectively\n",
    "subset = pop[((X.sex == 'H') & (X.age <= 5)) | ((X.sex == 'F') & (X.age <= 10))]\n",
    "subset"
   ]
  },
  {
   "cell_type": "markdown",
   "metadata": {},
   "source": [
    "<div class=\"alert alert-info\">\n",
    "**Note:** Be aware that after boolean filtering, several axes may have merged.\n",
    "</div>\n"
   ]
  },
  {
   "cell_type": "code",
   "execution_count": null,
   "metadata": {},
   "outputs": [],
   "source": [
    "# 'age' and 'sex' axes have been merged together\n",
    "subset.info"
   ]
  },
  {
   "cell_type": "markdown",
   "metadata": {},
   "source": [
    "This may be not what you because previous selections on merged axes are no longer valid\n"
   ]
  },
  {
   "cell_type": "code",
   "execution_count": null,
   "metadata": {},
   "outputs": [],
   "source": [
    "# now let's try to calculate the proportion of females with age less than 10\n",
    "subset['F'].sum() / pop['F'].sum()"
   ]
  },
  {
   "cell_type": "markdown",
   "metadata": {},
   "source": [
    "Therefore, it is sometimes more useful to not select, but rather set to 0 (or another value) non matching elements\n"
   ]
  },
  {
   "cell_type": "code",
   "execution_count": null,
   "metadata": {},
   "outputs": [],
   "source": [
    "subset = pop.copy()\n",
    "subset[((X.sex == 'F') & (X.age > 10))] = 0\n",
    "subset['F', :20]"
   ]
  },
  {
   "cell_type": "code",
   "execution_count": null,
   "metadata": {},
   "outputs": [],
   "source": [
    "# now we can calculate the proportion of females with age less than 10\n",
    "subset['F'].sum() / pop['F'].sum()"
   ]
  },
  {
   "cell_type": "markdown",
   "metadata": {},
   "source": [
    "Boolean filtering can also mix axes and arrays. Example above could also have been written as\n"
   ]
  },
  {
   "cell_type": "code",
   "execution_count": null,
   "metadata": {},
   "outputs": [],
   "source": [
    "age_limit = sequence('sex=M,F', initial=5, inc=5)\n",
    "age_limit"
   ]
  },
  {
   "cell_type": "code",
   "execution_count": null,
   "metadata": {},
   "outputs": [],
   "source": [
    "age = pop.axes['age']\n",
    "(age <= age_limit)[:20]"
   ]
  },
  {
   "cell_type": "code",
   "execution_count": null,
   "metadata": {},
   "outputs": [],
   "source": [
    "subset = pop.copy()\n",
    "subset[X.age > age_limit] = 0\n",
    "subset['F'].sum() / pop['F'].sum()"
   ]
  },
  {
   "cell_type": "markdown",
   "metadata": {},
   "source": [
    "Finally, you can choose to filter on data instead of axes\n"
   ]
  },
  {
   "cell_type": "code",
   "execution_count": null,
   "metadata": {},
   "outputs": [],
   "source": [
    "# let's focus on females older than 90\n",
    "subset = pop['F', 90:110].copy()\n",
    "subset"
   ]
  },
  {
   "cell_type": "code",
   "execution_count": null,
   "metadata": {},
   "outputs": [],
   "source": [
    "# here we set to 0 all data < 10\n",
    "subset[subset < 10] = 0\n",
    "subset"
   ]
  }
 ],
 "metadata": {
  "celltoolbar": "Edit Metadata",
  "kernelspec": {
   "display_name": "Python 3",
   "language": "python",
   "name": "python3"
  },
  "language_info": {
   "codemirror_mode": {
    "name": "ipython",
    "version": 3
   },
   "file_extension": ".py",
   "mimetype": "text/x-python",
   "name": "python",
   "nbconvert_exporter": "python",
   "pygments_lexer": "ipython3",
   "version": "3.6.4"
  },
  "livereveal": {
   "autolaunch": false,
   "scroll": true
  }
 },
 "nbformat": 4,
 "nbformat_minor": 2
}
