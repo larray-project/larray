{
 "cells": [
  {
   "cell_type": "markdown",
   "metadata": {},
   "source": [
    "# Getting Started"
   ]
  },
  {
   "cell_type": "markdown",
   "metadata": {},
   "source": [
    "The purpose of the present **Getting Started** section is to give a quick overview\n",
    "of the main objects and features of the LArray library.\n",
    "To get a more detailed presentation of all capabilities of LArray, read the next sections of the tutorial.\n",
    "\n",
    "The [API Reference](../api.rst#api-reference) section of the documentation give you the list of all objects, methods and functions with their individual documentation and examples.\n",
    "\n",
    "To use the LArray library, the first thing to do is to import it:"
   ]
  },
  {
   "cell_type": "code",
   "execution_count": null,
   "metadata": {},
   "outputs": [],
   "source": [
    "from larray import *"
   ]
  },
  {
   "cell_type": "markdown",
   "metadata": {},
   "source": [
    "To know the version of the LArray library installed on your machine, type:"
   ]
  },
  {
   "cell_type": "code",
   "execution_count": null,
   "metadata": {},
   "outputs": [],
   "source": [
    "from larray import __version__\n",
    "__version__"
   ]
  },
  {
   "cell_type": "code",
   "execution_count": null,
   "metadata": {
    "nbsphinx": "hidden"
   },
   "outputs": [],
   "source": [
    "# run this cell to avoid annoying warnings\n",
    "import warnings\n",
    "warnings.filterwarnings(\"ignore\", message=r'.*numpy.dtype size changed*')"
   ]
  },
  {
   "cell_type": "markdown",
   "metadata": {},
   "source": [
    "## Create an array"
   ]
  },
  {
   "cell_type": "markdown",
   "metadata": {},
   "source": [
    "Working with the LArray library mainly consists of manipulating [Array](../api.rst#array) data structures.\n",
    "They represent N-dimensional labelled arrays and are composed of raw data (NumPy ndarray), axes and optionally some metadata.\n",
    "\n",
    "An [Axis](../api.rst#axis) object represents a dimension of an array. It contains a list of labels and has a name:"
   ]
  },
  {
   "cell_type": "code",
   "execution_count": null,
   "metadata": {},
   "outputs": [],
   "source": [
    "# define some axes to be used later\n",
    "age = Axis(['0-9', '10-17', '18-66', '67+'], 'age')\n",
    "gender = Axis(['female', 'male'], 'gender')\n",
    "time = Axis([2015, 2016, 2017], 'time')"
   ]
  },
  {
   "cell_type": "markdown",
   "metadata": {},
   "source": [
    "The labels allow to select subsets and to manipulate the data without working with the positions\n",
    "of array elements directly.\n",
    "\n",
    "To create an array from scratch, you need to supply data and axes:"
   ]
  },
  {
   "cell_type": "code",
   "execution_count": null,
   "metadata": {},
   "outputs": [],
   "source": [
    "# define some data. This is the belgian population (in thousands). Source: eurostat.\n",
    "data = [[[633, 635, 634],\n",
    "         [663, 665, 664]],\n",
    "        [[484, 486, 491],\n",
    "         [505, 511, 516]],\n",
    "        [[3572, 3581, 3583],\n",
    "         [3600, 3618, 3616]],\n",
    "        [[1023, 1038, 1053],\n",
    "         [756, 775, 793]]]\n",
    "\n",
    "# create an Array object\n",
    "pop = Array(data, axes=[age, gender, time])\n",
    "pop"
   ]
  },
  {
   "cell_type": "markdown",
   "metadata": {},
   "source": [
    "You can optionally attach some metadata to an array:"
   ]
  },
  {
   "cell_type": "code",
   "execution_count": null,
   "metadata": {},
   "outputs": [],
   "source": [
    "# attach some metadata to the pop array\n",
    "pop.meta.title = 'population by age, sex and year'\n",
    "pop.meta.source = 'Eurostat'\n",
    "\n",
    "# display metadata\n",
    "pop.meta"
   ]
  },
  {
   "cell_type": "markdown",
   "metadata": {},
   "source": [
    "To get a short summary of an array, type:"
   ]
  },
  {
   "cell_type": "code",
   "execution_count": null,
   "metadata": {},
   "outputs": [],
   "source": [
    "# Array summary: metadata + dimensions + description of axes\n",
    "pop.info"
   ]
  },
  {
   "cell_type": "markdown",
   "metadata": {},
   "source": [
    "## Create an array filled with predefined values"
   ]
  },
  {
   "cell_type": "markdown",
   "metadata": {},
   "source": [
    "Arrays filled with predefined values can be generated through [dedicated functions](../api.rst#array-creation-functions):\n",
    "\n",
    "  - `zeros` : creates an array filled with 0\n",
    "  - `ones` : creates an array filled with 1\n",
    "  - `full` : creates an array filled with a given value\n",
    "  - `sequence` : creates an array by sequentially applying modifications to the array along axis.\n",
    "  - `ndtest` : creates a test array with increasing numbers as data"
   ]
  },
  {
   "cell_type": "code",
   "execution_count": null,
   "metadata": {},
   "outputs": [],
   "source": [
    "zeros([age, gender])"
   ]
  },
  {
   "cell_type": "code",
   "execution_count": null,
   "metadata": {},
   "outputs": [],
   "source": [
    "ones([age, gender])"
   ]
  },
  {
   "cell_type": "code",
   "execution_count": null,
   "metadata": {},
   "outputs": [],
   "source": [
    "full([age, gender], fill_value=10.0)"
   ]
  },
  {
   "cell_type": "code",
   "execution_count": null,
   "metadata": {},
   "outputs": [],
   "source": [
    "sequence(age)"
   ]
  },
  {
   "cell_type": "code",
   "execution_count": null,
   "metadata": {},
   "outputs": [],
   "source": [
    "ndtest([age, gender])"
   ]
  },
  {
   "cell_type": "markdown",
   "metadata": {},
   "source": [
    "## Save/Load an array"
   ]
  },
  {
   "cell_type": "markdown",
   "metadata": {},
   "source": [
    "The LArray library offers many I/O functions to read and write arrays in various formats\n",
    "(CSV, Excel, HDF5). For example, to save an array in a CSV file, call the method `to_csv`:"
   ]
  },
  {
   "cell_type": "code",
   "execution_count": null,
   "metadata": {},
   "outputs": [],
   "source": [
    "# save our pop array to a CSV file\n",
    "pop.to_csv('belgium_pop.csv')"
   ]
  },
  {
   "cell_type": "markdown",
   "metadata": {},
   "source": [
    "The content of the CSV file is then:\n",
    "\n",
    "    age,gender\\time,2015,2016,2017\n",
    "    0-9,female,633,635,634\n",
    "    0-9,male,663,665,664\n",
    "    10-17,female,484,486,491\n",
    "    10-17,male,505,511,516\n",
    "    18-66,female,3572,3581,3583\n",
    "    18-66,male,3600,3618,3616\n",
    "    67+,female,1023,1038,1053\n",
    "    67+,male,756,775,793  "
   ]
  },
  {
   "cell_type": "markdown",
   "metadata": {},
   "source": [
    "<div class=\"alert alert-info\">\n",
    "   Note: In CSV or Excel files, the last dimension is horizontal and the names of the\n",
    "   last two dimensions are separated by a backslash \\.\n",
    "</div>"
   ]
  },
  {
   "cell_type": "markdown",
   "metadata": {},
   "source": [
    "To load a saved array, call the function `read_csv`:"
   ]
  },
  {
   "cell_type": "code",
   "execution_count": null,
   "metadata": {},
   "outputs": [],
   "source": [
    "pop = read_csv('belgium_pop.csv')\n",
    "pop"
   ]
  },
  {
   "cell_type": "markdown",
   "metadata": {},
   "source": [
    "Other input/output functions are described in the [Input/Output](../api.rst#input-output) section of the API documentation."
   ]
  },
  {
   "cell_type": "markdown",
   "metadata": {},
   "source": [
    "## Selecting a subset"
   ]
  },
  {
   "cell_type": "markdown",
   "metadata": {},
   "source": [
    "To select an element or a subset of an array, use brackets [ ].\n",
    "In Python we usually use the term *indexing* for this operation.\n",
    "\n",
    "Let us start by selecting a single element:"
   ]
  },
  {
   "cell_type": "code",
   "execution_count": null,
   "metadata": {},
   "outputs": [],
   "source": [
    "pop['67+', 'female', 2017]"
   ]
  },
  {
   "cell_type": "markdown",
   "metadata": {},
   "source": [
    "Labels can be given in arbitrary order:"
   ]
  },
  {
   "cell_type": "code",
   "execution_count": null,
   "metadata": {},
   "outputs": [],
   "source": [
    "pop[2017, 'female', '67+']"
   ]
  },
  {
   "cell_type": "markdown",
   "metadata": {},
   "source": [
    "When selecting a larger subset the result is an array:"
   ]
  },
  {
   "cell_type": "code",
   "execution_count": null,
   "metadata": {},
   "outputs": [],
   "source": [
    "pop['female']"
   ]
  },
  {
   "cell_type": "markdown",
   "metadata": {},
   "source": [
    "When selecting several labels for the same axis, they must be given as a list (enclosed by ``[ ]``)"
   ]
  },
  {
   "cell_type": "code",
   "execution_count": null,
   "metadata": {},
   "outputs": [],
   "source": [
    "pop['female', ['0-9', '10-17']]"
   ]
  },
  {
   "cell_type": "markdown",
   "metadata": {},
   "source": [
    "You can also select *slices*, which are all labels between two bounds (we usually call them the `start` and `stop`\n",
    "bounds). Specifying the `start` and `stop` bounds of a slice is optional: when not given, `start` is the first label\n",
    "of the corresponding axis, `stop` the last one:"
   ]
  },
  {
   "cell_type": "code",
   "execution_count": null,
   "metadata": {},
   "outputs": [],
   "source": [
    "# in this case '10-17':'67+' is equivalent to ['10-17', '18-66', '67+']\n",
    "pop['female', '10-17':'67+']"
   ]
  },
  {
   "cell_type": "code",
   "execution_count": null,
   "metadata": {},
   "outputs": [],
   "source": [
    "# :'18-66' selects all labels between the first one and '18-66'\n",
    "# 2017: selects all labels between 2017 and the last one\n",
    "pop[:'18-66', 2017:]"
   ]
  },
  {
   "cell_type": "markdown",
   "metadata": {},
   "source": [
    "<div class=\"alert alert-info\">\n",
    "   Note: Contrary to slices on normal Python lists, the stop bound is included in the selection.\n",
    "</div>"
   ]
  },
  {
   "cell_type": "markdown",
   "metadata": {},
   "source": [
    "<div class=\"alert alert-warning\">\n",
    "    Selecting by labels as above only works as long as there is no ambiguity.\n",
    "    When several axes have some labels in common and you do not specify explicitly\n",
    "    on which axis to work, it fails with an error ending with something like\n",
    "    \n",
    "    ValueError: <somelabel> is ambiguous (valid in <axis1>, <axis2>).\n",
    "</div>"
   ]
  },
  {
   "cell_type": "markdown",
   "metadata": {},
   "source": [
    "For example, imagine you need to work with an 'immigration' array containing two axes sharing some common labels:"
   ]
  },
  {
   "cell_type": "code",
   "execution_count": null,
   "metadata": {},
   "outputs": [],
   "source": [
    "country = Axis(['Belgium', 'Netherlands', 'Germany'], 'country')\n",
    "citizenship = Axis(['Belgium', 'Netherlands', 'Germany'], 'citizenship')\n",
    "\n",
    "immigration = ndtest((country, citizenship, time))\n",
    "\n",
    "immigration"
   ]
  },
  {
   "cell_type": "markdown",
   "metadata": {},
   "source": [
    "If we try to get the number of Belgians living in the Netherlands for the year 2017, we might try something like:"
   ]
  },
  {
   "cell_type": "markdown",
   "metadata": {},
   "source": [
    "```python\n",
    "    immigration['Netherlands', 'Belgium', 2017]\n",
    "```"
   ]
  },
  {
   "cell_type": "markdown",
   "metadata": {},
   "source": [
    "... but we receive back a volley of insults:"
   ]
  },
  {
   "cell_type": "markdown",
   "metadata": {},
   "source": [
    "```\n",
    "    [some long error message ending with the line below]\n",
    "    [...]\n",
    "    ValueError: Netherlands is ambiguous (valid in country, citizenship)\n",
    "```"
   ]
  },
  {
   "cell_type": "markdown",
   "metadata": {},
   "source": [
    "In that case, we have to specify explicitly which axes the 'Netherlands' and 'Belgium' labels we want to select belong to:"
   ]
  },
  {
   "cell_type": "code",
   "execution_count": null,
   "metadata": {},
   "outputs": [],
   "source": [
    "immigration[country['Netherlands'], citizenship['Belgium'], 2017]"
   ]
  },
  {
   "cell_type": "markdown",
   "metadata": {},
   "source": [
    "## Aggregation"
   ]
  },
  {
   "cell_type": "markdown",
   "metadata": {},
   "source": [
    "The LArray library includes many [aggregations methods](../api.rst#aggregation-functions): sum, mean, min, max, std, var, ...\n",
    "\n",
    "For example, assuming we still have an array in the ``pop`` variable:"
   ]
  },
  {
   "cell_type": "code",
   "execution_count": null,
   "metadata": {},
   "outputs": [],
   "source": [
    "pop"
   ]
  },
  {
   "cell_type": "markdown",
   "metadata": {},
   "source": [
    "We can sum along the 'sex' axis using:"
   ]
  },
  {
   "cell_type": "code",
   "execution_count": null,
   "metadata": {},
   "outputs": [],
   "source": [
    "pop.sum(gender)"
   ]
  },
  {
   "cell_type": "markdown",
   "metadata": {},
   "source": [
    "Or sum along both 'age' and 'sex':"
   ]
  },
  {
   "cell_type": "code",
   "execution_count": null,
   "metadata": {},
   "outputs": [],
   "source": [
    "pop.sum(age, gender)"
   ]
  },
  {
   "cell_type": "markdown",
   "metadata": {},
   "source": [
    "It is sometimes more convenient to aggregate along all axes **except** some. In that case, use the aggregation\n",
    "methods ending with `_by`. For example:"
   ]
  },
  {
   "cell_type": "code",
   "execution_count": null,
   "metadata": {},
   "outputs": [],
   "source": [
    "pop.sum_by(time)"
   ]
  },
  {
   "cell_type": "markdown",
   "metadata": {},
   "source": [
    "## Groups"
   ]
  },
  {
   "cell_type": "markdown",
   "metadata": {},
   "source": [
    "A [Group](../api.rst#group) object represents a subset of labels or positions of an axis:"
   ]
  },
  {
   "cell_type": "code",
   "execution_count": null,
   "metadata": {},
   "outputs": [],
   "source": [
    "children = age['0-9', '10-17']\n",
    "children"
   ]
  },
  {
   "cell_type": "markdown",
   "metadata": {},
   "source": [
    "It is often useful to attach them an explicit name using the ``>>`` operator:"
   ]
  },
  {
   "cell_type": "code",
   "execution_count": null,
   "metadata": {},
   "outputs": [],
   "source": [
    "working = age['18-66'] >> 'working'\n",
    "working"
   ]
  },
  {
   "cell_type": "code",
   "execution_count": null,
   "metadata": {},
   "outputs": [],
   "source": [
    "nonworking = age['0-9', '10-17', '67+'] >> 'nonworking'\n",
    "nonworking"
   ]
  },
  {
   "cell_type": "markdown",
   "metadata": {},
   "source": [
    "Still using the same ``pop`` array:"
   ]
  },
  {
   "cell_type": "code",
   "execution_count": null,
   "metadata": {},
   "outputs": [],
   "source": [
    "pop"
   ]
  },
  {
   "cell_type": "markdown",
   "metadata": {},
   "source": [
    "Groups can be used in selections:"
   ]
  },
  {
   "cell_type": "code",
   "execution_count": null,
   "metadata": {},
   "outputs": [],
   "source": [
    "pop[working]"
   ]
  },
  {
   "cell_type": "code",
   "execution_count": null,
   "metadata": {},
   "outputs": [],
   "source": [
    "pop[nonworking]"
   ]
  },
  {
   "cell_type": "markdown",
   "metadata": {},
   "source": [
    "or aggregations:"
   ]
  },
  {
   "cell_type": "code",
   "execution_count": null,
   "metadata": {},
   "outputs": [],
   "source": [
    "pop.sum(nonworking)"
   ]
  },
  {
   "cell_type": "markdown",
   "metadata": {},
   "source": [
    "When aggregating several groups, the names we set above using ``>>`` determines the label on the aggregated axis.\n",
    "Since we did not give a name for the children group, the resulting label is generated automatically :"
   ]
  },
  {
   "cell_type": "code",
   "execution_count": null,
   "metadata": {},
   "outputs": [],
   "source": [
    "pop.sum((children, working, nonworking))"
   ]
  },
  {
   "cell_type": "markdown",
   "metadata": {},
   "source": [
    "## Grouping arrays in a Session"
   ]
  },
  {
   "cell_type": "markdown",
   "metadata": {},
   "source": [
    "Arrays may be grouped in [Session](../api.rst#session) objects.\n",
    "A session is an ordered dict-like container of Array objects with special I/O methods.\n",
    "To create a session, you need to pass a list of pairs (array_name, array):"
   ]
  },
  {
   "cell_type": "code",
   "execution_count": null,
   "metadata": {},
   "outputs": [],
   "source": [
    "pop = zeros([age, gender, time])\n",
    "births = zeros([age, gender, time])\n",
    "deaths = zeros([age, gender, time])\n",
    "\n",
    "# create a session containing the three arrays 'pop', 'births' and 'deaths'\n",
    "demo = Session(pop=pop, births=births, deaths=deaths)\n",
    "\n",
    "# displays names of arrays contained in the session\n",
    "demo.names\n",
    "# get an array\n",
    "demo['pop']\n",
    "# add/modify an array\n",
    "demo['foreigners'] = zeros([age, gender, time])"
   ]
  },
  {
   "cell_type": "markdown",
   "metadata": {},
   "source": [
    "<div class=\"alert alert-warning\">\n",
    "    If you are using a Python version prior to 3.6, you will have to pass a list of pairs\n",
    "    to the Session constructor otherwise the arrays will be stored in an arbitrary order in\n",
    "    the new session. For example, the session above must be created using the syntax:\n",
    "    \n",
    "    `demo=Session([('pop', pop), ('births', births), ('deaths', deaths)])`.\n",
    "</div>"
   ]
  },
  {
   "cell_type": "markdown",
   "metadata": {},
   "source": [
    "One of the main interests of using sessions is to save and load many arrays at once:"
   ]
  },
  {
   "cell_type": "code",
   "execution_count": null,
   "metadata": {},
   "outputs": [],
   "source": [
    "# dump all arrays contained in the session 'demo' in one HDF5 file\n",
    "demo.save('demo.h5')\n",
    "# load all arrays saved in the HDF5 file 'demo.h5' and store them in the session 'demo'\n",
    "demo = Session('demo.h5')"
   ]
  },
  {
   "cell_type": "markdown",
   "metadata": {},
   "source": [
    "## Graphical User Interface (viewer)"
   ]
  },
  {
   "cell_type": "markdown",
   "metadata": {},
   "source": [
    "The LArray project provides an optional package called [larray-editor](../api.rst#editor) allowing users to explore and edit arrays through a graphical interface.\n",
    "\n",
    "The larray-editor tool is automatically available when installing the **larrayenv** metapackage from conda.\n",
    "\n",
    "To explore the content of arrays in read-only mode, call the `view` function:"
   ]
  },
  {
   "cell_type": "markdown",
   "metadata": {},
   "source": [
    "```python\n",
    "    # shows the arrays of a given session in a graphical user interface\n",
    "    view(demo)\n",
    "\n",
    "    # the session may be directly loaded from a file\n",
    "    view('demo.h5')\n",
    "\n",
    "    # creates a session with all existing arrays from the current namespace\n",
    "    # and shows its content\n",
    "    view()\n",
    "```"
   ]
  },
  {
   "cell_type": "markdown",
   "metadata": {},
   "source": [
    "To open the user interface in edit mode, call the `edit` function instead.\n",
    "\n",
    "![compare](../_static/editor.png)"
   ]
  },
  {
   "cell_type": "markdown",
   "metadata": {},
   "source": [
    "Finally, you can also visually compare two arrays or sessions using the `compare` function:"
   ]
  },
  {
   "cell_type": "markdown",
   "metadata": {},
   "source": [
    "```python\n",
    "    arr0 = ndtest((3, 3))\n",
    "    arr1 = ndtest((3, 3))\n",
    "    arr1[['a1', 'a2']] = -arr1[['a1', 'a2']]\n",
    "    compare(arr0, arr1)\n",
    "```"
   ]
  },
  {
   "cell_type": "markdown",
   "metadata": {},
   "source": [
    "![compare](../_static/compare.png)"
   ]
  },
  {
   "cell_type": "markdown",
   "metadata": {},
   "source": [
    "### For Windows Users"
   ]
  },
  {
   "cell_type": "markdown",
   "metadata": {},
   "source": [
    "Installing the ``larray-editor`` package on Windows will create a ``LArray`` menu in the\n",
    "Windows Start Menu. This menu contains:\n",
    "\n",
    "  * a shortcut to open the documentation of the last stable version of the library\n",
    "  * a shortcut to open the graphical interface in edit mode.\n",
    "  * a shortcut to update `larrayenv`.\n",
    "\n",
    "![menu_windows](../_static/menu_windows.png)\n",
    "\n",
    "![editor_new](../_static/editor_new.png)\n",
    "\n",
    "Once the graphical interface is open, all LArray objects and functions are directly accessible.\n",
    "No need to start by `from larray import *`."
   ]
  }
 ],
 "metadata": {
  "celltoolbar": "Edit Metadata",
  "kernelspec": {
   "display_name": "Python 3",
   "language": "python",
   "name": "python3"
  },
  "language_info": {
   "codemirror_mode": {
    "name": "ipython",
    "version": 3
   },
   "file_extension": ".py",
   "mimetype": "text/x-python",
   "name": "python",
   "nbconvert_exporter": "python",
   "pygments_lexer": "ipython3",
   "version": "3.7.3"
  }
 },
 "nbformat": 4,
 "nbformat_minor": 2
}
