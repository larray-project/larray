{
 "cells": [
  {
   "cell_type": "markdown",
   "metadata": {},
   "source": [
    "# Plotting\n"
   ]
  },
  {
   "cell_type": "markdown",
   "metadata": {},
   "source": [
    "Import the LArray library:\n"
   ]
  },
  {
   "cell_type": "code",
   "execution_count": null,
   "metadata": {},
   "outputs": [],
   "source": [
    "from larray import *"
   ]
  },
  {
   "cell_type": "markdown",
   "metadata": {},
   "source": [
    "Import the test array `population` from the `demography_eurostat` dataset:"
   ]
  },
  {
   "cell_type": "code",
   "execution_count": null,
   "metadata": {},
   "outputs": [],
   "source": [
    "demography_eurostat = load_example_data('demography_eurostat')\n",
    "population = demography_eurostat.population / 1_000_000\n",
    "\n",
    "# show the 'population' array\n",
    "population"
   ]
  },
  {
   "cell_type": "markdown",
   "metadata": {},
   "source": [
    "Inline matplotlib (required in notebooks):\n"
   ]
  },
  {
   "cell_type": "code",
   "execution_count": null,
   "metadata": {},
   "outputs": [],
   "source": [
    "%matplotlib inline"
   ]
  },
  {
   "cell_type": "markdown",
   "metadata": {},
   "source": [
    "In a Python script, add the following import on top of the script:"
   ]
  },
  {
   "cell_type": "code",
   "execution_count": null,
   "metadata": {},
   "outputs": [],
   "source": [
    "import matplotlib.pyplot as plt"
   ]
  },
  {
   "cell_type": "markdown",
   "metadata": {},
   "source": [
    "Create and show a simple plot (last axis define the different curves to draw):\n"
   ]
  },
  {
   "cell_type": "code",
   "execution_count": null,
   "metadata": {},
   "outputs": [],
   "source": [
    "population['Belgium'].plot()\n",
    "# shows the figure\n",
    "plt.show()"
   ]
  },
  {
   "cell_type": "markdown",
   "metadata": {},
   "source": [
    "- Create a Line plot with grid, title, label on y axis and user-defined xticks. \n",
    "- Save the plot as a png file (using `plt.savefig()`).\n",
    "- Show the plot:"
   ]
  },
  {
   "cell_type": "code",
   "execution_count": null,
   "metadata": {},
   "outputs": [],
   "source": [
    "population['Belgium'].plot(grid=True, xticks=population.time, title='Belgium')\n",
    "# add a label aling the y axis\n",
    "plt.ylabel('population (millions)')\n",
    "# saves figure in a file (see matplotlib.pyplot.savefig documentation for more details)\n",
    "plt.savefig('Belgium_population.png')\n",
    "# WARNING: show() reset the current figure after showing it! Do not call it before savefig\n",
    "plt.show()"
   ]
  },
  {
   "cell_type": "markdown",
   "metadata": {},
   "source": [
    "Specify line styles and width:"
   ]
  },
  {
   "cell_type": "code",
   "execution_count": null,
   "metadata": {},
   "outputs": [],
   "source": [
    "# line styles: '-' for solid line, '--' for dashed line, '-.' for dash-dotted line and ':' for dotted line\n",
    "population['Male'].plot(style=['-', '--', '-.'], linewidth=2, xticks=population.time, title='Male')\n",
    "plt.ylabel('population (millions)')\n",
    "plt.show()"
   ]
  },
  {
   "cell_type": "markdown",
   "metadata": {},
   "source": [
    "Move the legend inside the graph (using `plt.legend(loc='position')`):"
   ]
  },
  {
   "cell_type": "code",
   "execution_count": null,
   "metadata": {},
   "outputs": [],
   "source": [
    "population['Belgium'].plot(xticks=population.time, title='Male')\n",
    "plt.ylabel('population (millions)')\n",
    "# available values for loc are: \n",
    "# 'best' (default), 'upper right', 'upper left', 'lower left', 'lower right', 'right',\n",
    "# center left', 'center right', 'lower center', 'upper center', 'center'\n",
    "plt.legend(loc='lower right')\n",
    "plt.show()"
   ]
  },
  {
   "cell_type": "markdown",
   "metadata": {},
   "source": [
    "Put the legend outside the graph (using `plt.legend(bbox_to_anchor=(x, y))`):"
   ]
  },
  {
   "cell_type": "code",
   "execution_count": null,
   "metadata": {},
   "outputs": [],
   "source": [
    "population['Belgium'].plot(xticks=population.time, title='Male')\n",
    "plt.ylabel('population (millions)')\n",
    "plt.legend(bbox_to_anchor=(1.25, 0.6))\n",
    "plt.show()"
   ]
  },
  {
   "cell_type": "markdown",
   "metadata": {},
   "source": [
    "Create a Bar plot:"
   ]
  },
  {
   "cell_type": "code",
   "execution_count": null,
   "metadata": {},
   "outputs": [],
   "source": [
    "population['Belgium'].plot.bar(title='Belgium')\n",
    "plt.ylabel('population (millions)')\n",
    "plt.legend(bbox_to_anchor=(1.25, 0.6))\n",
    "plt.show()"
   ]
  },
  {
   "cell_type": "markdown",
   "metadata": {},
   "source": [
    "Create a _stacked_ Bar plot:"
   ]
  },
  {
   "cell_type": "code",
   "execution_count": null,
   "metadata": {},
   "outputs": [],
   "source": [
    "population['Belgium'].plot.bar(title='Belgium', stacked=True)\n",
    "plt.ylabel('population (millions)')\n",
    "plt.legend(bbox_to_anchor=(1.25, 0.6))\n",
    "plt.show()"
   ]
  },
  {
   "cell_type": "markdown",
   "metadata": {},
   "source": [
    "Create a multiplot figure (using `plt.subplot(nrows,ncols,index)`):"
   ]
  },
  {
   "cell_type": "code",
   "execution_count": null,
   "metadata": {},
   "outputs": [],
   "source": [
    "figure, axes = plt.subplots(nrows=len(population.country), ncols=1, sharex=True, figsize=(5, 15))\n",
    "\n",
    "for row, c in enumerate(population.country):  \n",
    "    population[c].plot(ax=axes[row], title=str(c))\n",
    "    plt.ylabel('population (millions)')\n",
    "    \n",
    "plt.xticks(population.time)\n",
    "plt.show()"
   ]
  },
  {
   "cell_type": "markdown",
   "metadata": {},
   "source": [
    "See [plot](../_generated/larray.Array.plot.rst#larray.Array.plot) for more details and examples.\n",
    "\n",
    "See [pyplot tutorial](https://matplotlib.org/tutorials/introductory/pyplot.html) for a short introduction to `matplotlib.pyplot`."
   ]
  }
 ],
 "metadata": {
  "celltoolbar": "Edit Metadata",
  "kernelspec": {
   "display_name": "Python 3",
   "language": "python",
   "name": "python3"
  },
  "language_info": {
   "codemirror_mode": {
    "name": "ipython",
    "version": 3
   },
   "file_extension": ".py",
   "mimetype": "text/x-python",
   "name": "python",
   "nbconvert_exporter": "python",
   "pygments_lexer": "ipython3",
   "version": "3.7.3"
  },
  "livereveal": {
   "autolaunch": false,
   "scroll": true
  }
 },
 "nbformat": 4,
 "nbformat_minor": 2
}
