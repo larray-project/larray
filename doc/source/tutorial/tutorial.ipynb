{
 "cells": [
  {
   "cell_type": "code",
   "execution_count": null,
   "metadata": {
    "nbsphinx": "hidden"
   },
   "outputs": [],
   "source": [
    "# @tutorial writers: You can remove cells from the HTML/LaTeX output by adding this to the cell metadata:\n",
    "# \"nbsphinx\": \"hidden\"\n",
    "\n",
    "# ignore warnings\n",
    "import warnings\n",
    "warnings.filterwarnings('ignore')\n",
    "\n",
    "# simplify exception output\n",
    "%xmode Plain"
   ]
  },
  {
   "cell_type": "markdown",
   "metadata": {},
   "source": [
    "To import the LArray library, run:"
   ]
  },
  {
   "cell_type": "code",
   "execution_count": null,
   "metadata": {},
   "outputs": [],
   "source": [
    "from larray import *"
   ]
  },
  {
   "cell_type": "markdown",
   "metadata": {},
   "source": [
    "## Axis creation\n",
    "\n",
    "An [Axis](api.rst#Axis) represents a dimension of an LArray object.\n",
    "It consists of a name and a list of labels. They are several ways to create an axis:"
   ]
  },
  {
   "cell_type": "code",
   "execution_count": null,
   "metadata": {},
   "outputs": [],
   "source": [
    "# create a wildcard axis \n",
    "age = Axis(3, 'age')\n",
    "# labels given as a list \n",
    "time = Axis([2007, 2008, 2009], 'time')\n",
    "# create an axis using one string\n",
    "sex = Axis('sex=M,F')\n",
    "# labels generated using a special syntax  \n",
    "other = Axis('other=A01..C03')\n",
    "\n",
    "age, sex, time, other"
   ]
  },
  {
   "cell_type": "markdown",
   "metadata": {},
   "source": [
    "## Array creation\n",
    "\n",
    "A [LArray](api.rst#LArray) object represents a multidimensional array with labeled axes.\n",
    "\n",
    "### From scratch\n",
    "\n",
    "To create an array from scratch, you need to provide the data and a list\n",
    "of axes. Optionally, a title can be defined."
   ]
  },
  {
   "cell_type": "code",
   "execution_count": null,
   "metadata": {},
   "outputs": [],
   "source": [
    "import numpy as np\n",
    "\n",
    "# list of the axes\n",
    "axes = [age, sex, time, other]\n",
    "# data (the shape of data array must match axes lengths)\n",
    "data = np.random.randint(100, size=[len(axis) for axis in axes])\n",
    "# title (optional)\n",
    "title = 'random data'\n",
    "\n",
    "arr = LArray(data, axes, title)\n",
    "arr"
   ]
  },
  {
   "cell_type": "markdown",
   "metadata": {},
   "source": [
    "### Array creation functions\n",
    "\n",
    "Arrays can also be generated in an easier way through [creation functions](api.rst#array-creation-functions):\n",
    "\n",
    "-  `ndtest` : creates a test array with increasing numbers as data\n",
    "-  `empty` : creates an array but leaves its allocated memory\n",
    "   unchanged (i.e., it contains \"garbage\". Be careful !)\n",
    "-  `zeros`: fills an array with 0\n",
    "-  `ones` : fills an array with 1\n",
    "-  `full` : fills an array with a given value\n",
    "-  `sequence` : creates an array from an axis by iteratively applying a function to a given initial value.\n",
    "\n",
    "Except for ndtest, a list of axes must be provided.\n",
    "Axes can be passed in different ways:\n",
    "\n",
    "-  as Axis objects\n",
    "-  as integers defining the lengths of auto-generated wildcard axes\n",
    "-  as a string : 'sex=M,F;time=2007,2008,2009' (name is optional)\n",
    "-  as pairs (name, labels)\n",
    "\n",
    "Optionally, the type of data stored by the array can be specified using argument dtype."
   ]
  },
  {
   "cell_type": "code",
   "execution_count": null,
   "metadata": {},
   "outputs": [],
   "source": [
    "# start defines the starting value of data\n",
    "ndtest(['age=0..2', 'sex=M,F', 'time=2007..2009'], start=-1)"
   ]
  },
  {
   "cell_type": "code",
   "execution_count": null,
   "metadata": {},
   "outputs": [],
   "source": [
    "# start defines the starting value of data\n",
    "# label_start defines the starting index of labels\n",
    "ndtest((3, 3), start=-1, label_start=2)"
   ]
  },
  {
   "cell_type": "code",
   "execution_count": null,
   "metadata": {},
   "outputs": [],
   "source": [
    "# empty generates uninitialised array with correct axes \n",
    "# (much faster but use with care!).\n",
    "# This not really random either, it just reuses a portion \n",
    "# of memory that is available, with whatever content is there. \n",
    "# Use it only if performance matters and make sure all data \n",
    "# will be overridden. \n",
    "empty(['age=0..2', 'sex=M,F', 'time=2007..2009'])"
   ]
  },
  {
   "cell_type": "code",
   "execution_count": null,
   "metadata": {},
   "outputs": [],
   "source": [
    "# example with anonymous axes\n",
    "zeros(['0..2', 'M,F', '2007..2009'])"
   ]
  },
  {
   "cell_type": "code",
   "execution_count": null,
   "metadata": {},
   "outputs": [],
   "source": [
    "# dtype=int forces to store int data instead of default float\n",
    "ones(['age=0..2', 'sex=M,F', 'time=2007..2009'], dtype=int)"
   ]
  },
  {
   "cell_type": "code",
   "execution_count": null,
   "metadata": {},
   "outputs": [],
   "source": [
    "full(['age=0..2', 'sex=M,F', 'time=2007..2009'], 1.23)"
   ]
  },
  {
   "cell_type": "markdown",
   "metadata": {},
   "source": [
    "All the above functions exist in *(func)_like* variants which take axes from another array"
   ]
  },
  {
   "cell_type": "code",
   "execution_count": null,
   "metadata": {},
   "outputs": [],
   "source": [
    "ones_like(arr)"
   ]
  },
  {
   "cell_type": "markdown",
   "metadata": {},
   "source": [
    "### Sequence"
   ]
  },
  {
   "cell_type": "code",
   "execution_count": null,
   "metadata": {},
   "outputs": [],
   "source": [
    "# With initial=1.0 and inc=0.5, we generate the sequence 1.0, 1.5, 2.0, 2.5, 3.0, ... \n",
    "sequence('sex=M,F', initial=1.0, inc=0.5)"
   ]
  },
  {
   "cell_type": "code",
   "execution_count": null,
   "metadata": {},
   "outputs": [],
   "source": [
    "# With initial=1.0 and mult=2.0, we generate the sequence 1.0, 2.0, 4.0, 8.0, ... \n",
    "sequence('age=0..2', initial=1.0, mult=2.0) "
   ]
  },
  {
   "cell_type": "code",
   "execution_count": null,
   "metadata": {},
   "outputs": [],
   "source": [
    "# Using your own function\n",
    "sequence('time=2007..2009', initial=2.0, func=lambda value: value**2)"
   ]
  },
  {
   "cell_type": "markdown",
   "metadata": {},
   "source": [
    "You can also create N-dimensional array by passing (N-1)-dimensional\n",
    "array to initial, inc or mult argument"
   ]
  },
  {
   "cell_type": "code",
   "execution_count": null,
   "metadata": {},
   "outputs": [],
   "source": [
    "birth = LArray([1.05, 1.15], 'sex=M,F')\n",
    "cumulate_newborns = sequence('time=2007..2009', initial=0.0, inc=birth)\n",
    "cumulate_newborns"
   ]
  },
  {
   "cell_type": "code",
   "execution_count": null,
   "metadata": {},
   "outputs": [],
   "source": [
    "initial = LArray([90, 100], 'sex=M,F') \n",
    "survival = LArray([0.96, 0.98], 'sex=M,F')\n",
    "pop = sequence('age=80..83', initial=initial, mult=survival)\n",
    "pop"
   ]
  },
  {
   "cell_type": "markdown",
   "metadata": {},
   "source": [
    "## Load/Dump from files"
   ]
  },
  {
   "cell_type": "code",
   "execution_count": null,
   "metadata": {
    "nbsphinx": "hidden"
   },
   "outputs": [],
   "source": [
    "demography = load_example_data('demography')\n",
    "household = demography.hh\n",
    "pop = demography.pop\n",
    "mortality = demography.qx"
   ]
  },
  {
   "cell_type": "markdown",
   "metadata": {},
   "source": [
    "### Load from files\n",
    "\n",
    "Arrays can be loaded from CSV files\n",
    "\n",
    "```python\n",
    "# read_tsv is a shortcut when data are separated by tabs instead of commas (default separator of read_csv)\n",
    "# read_eurostat is a shortcut to read EUROSTAT TSV files  \n",
    "household = read_csv('hh.csv')\n",
    "```"
   ]
  },
  {
   "cell_type": "markdown",
   "metadata": {},
   "source": [
    "or Excel sheets\n",
    "\n",
    "```python\n",
    "# loads array from the first sheet if no sheet is given\n",
    "pop = read_excel('demography.xlsx', 'pop')\n",
    "```"
   ]
  },
  {
   "cell_type": "markdown",
   "metadata": {},
   "source": [
    "or HDF5 files (HDF5 is file format designed to store and organize large amounts of data. \n",
    "An HDF5 file can contain multiple arrays. \n",
    "\n",
    "```python\n",
    "mortality = read_hdf('demography.h5','qx')\n",
    "```"
   ]
  },
  {
   "cell_type": "markdown",
   "metadata": {},
   "source": [
    "See documentation of [reading functions](api.rst#read) for more details"
   ]
  },
  {
   "cell_type": "markdown",
   "metadata": {},
   "source": [
    "### Dump in files\n",
    "\n",
    "Arrays can be dumped in CSV files  \n",
    "\n",
    "```python\n",
    "household.to_csv('hh2.csv')\n",
    "```"
   ]
  },
  {
   "cell_type": "markdown",
   "metadata": {},
   "source": [
    "or in Excel files\n",
    "\n",
    "```python\n",
    "# if the file does not already exist, it is created with a single sheet, \n",
    "# otherwise a new sheet is added to it\n",
    "household.to_excel('demography_2.xlsx', overwrite_file=True)\n",
    "# it is usually better to specify the sheet explicitly (by name or position) though\n",
    "household.to_excel('demography_2.xlsx', 'hh')\n",
    "```"
   ]
  },
  {
   "cell_type": "markdown",
   "metadata": {},
   "source": [
    "or in HDF5 files\n",
    "\n",
    "```python\n",
    "household.to_hdf('demography_2.h5', 'hh')\n",
    "```"
   ]
  },
  {
   "cell_type": "markdown",
   "metadata": {},
   "source": [
    "See documentation of [writing methods](api.rst#write) for more details"
   ]
  },
  {
   "cell_type": "markdown",
   "metadata": {},
   "source": [
    "### more Excel IO"
   ]
  },
  {
   "cell_type": "markdown",
   "metadata": {},
   "source": [
    "#### Write Arrays\n",
    "\n",
    "Open an Excel file\n",
    "\n",
    "```python\n",
    "wb = open_excel('test.xlsx', overwrite_file=True)\n",
    "```"
   ]
  },
  {
   "cell_type": "markdown",
   "metadata": {},
   "source": [
    "Put an array in an Excel Sheet, **excluding** headers (labels)\n",
    "\n",
    "```python\n",
    "# put arr at A1 in Sheet1, excluding headers (labels)\n",
    "wb['Sheet1'] = arr\n",
    "# same but starting at A9\n",
    "# note that Sheet1 must exist\n",
    "wb['Sheet1']['A9'] = arr\n",
    "```"
   ]
  },
  {
   "cell_type": "markdown",
   "metadata": {},
   "source": [
    "Put an array in an Excel Sheet, **including** headers (labels)\n",
    "\n",
    "```python\n",
    "# dump arr at A1 in Sheet2, including headers (labels)\n",
    "wb['Sheet2'] = arr.dump()\n",
    "# same but starting at A10\n",
    "wb['Sheet2']['A10'] = arr.dump()\n",
    "```"
   ]
  },
  {
   "cell_type": "markdown",
   "metadata": {},
   "source": [
    "Save file to disk   \n",
    "\n",
    "```python\n",
    "wb.save()\n",
    "```"
   ]
  },
  {
   "cell_type": "markdown",
   "metadata": {},
   "source": [
    "Close file    \n",
    "\n",
    "```python\n",
    "wb.close()\n",
    "```"
   ]
  },
  {
   "cell_type": "markdown",
   "metadata": {},
   "source": [
    "#### Read Arrays\n",
    "\n",
    "Open an Excel file   \n",
    "\n",
    "```python\n",
    "wb = open_excel('test.xlsx')\n",
    "```"
   ]
  },
  {
   "cell_type": "markdown",
   "metadata": {},
   "source": [
    "Load an array from a sheet (assuming the presence of (correctly formatted) headers and only one array in sheet)\n",
    "\n",
    "```python\n",
    "# save one array in Sheet3 (including headers)\n",
    "wb['Sheet3'] = arr.dump()\n",
    "\n",
    "# load array from the data starting at A1 in Sheet3\n",
    "arr = wb['Sheet3'].load()\n",
    "```"
   ]
  },
  {
   "cell_type": "markdown",
   "metadata": {},
   "source": [
    "Load an array with its axes information from a range\n",
    "\n",
    "```python\n",
    "# if you need to use the same sheet several times,\n",
    "# you can create a sheet variable\n",
    "sheet2 = wb['Sheet2']\n",
    "\n",
    "# load array contained in the 4 x 4 table defined by cells A10 and D14\n",
    "arr2 = sheet2['A10:D14'].load()\n",
    "```"
   ]
  },
  {
   "cell_type": "markdown",
   "metadata": {},
   "source": [
    "#### Read Ranges (experimental)\n",
    "\n",
    "Load an array (raw data) with no axis information from a range\n",
    "\n",
    "```python\n",
    "arr3 = wb['Sheet1']['A1:B4']\n",
    "```"
   ]
  },
  {
   "cell_type": "markdown",
   "metadata": {},
   "source": [
    "in fact, this is not really an LArray ...\n",
    "\n",
    "```python\n",
    "type(arr3)\n",
    "\n",
    "larray.io.excel.Range\n",
    "```"
   ]
  },
  {
   "cell_type": "markdown",
   "metadata": {},
   "source": [
    "... but it can be used as such  \n",
    "\n",
    "```python\n",
    "arr3.sum(axis=0)\n",
    "```"
   ]
  },
  {
   "cell_type": "markdown",
   "metadata": {},
   "source": [
    "... and it can be used for other stuff, like setting the formula instead of the value:   \n",
    "\n",
    "```python\n",
    "arr3.formula = '=D10+1'\n",
    "```"
   ]
  },
  {
   "cell_type": "markdown",
   "metadata": {},
   "source": [
    "In the future, we should also be able to set font name, size, style, etc.   "
   ]
  },
  {
   "cell_type": "markdown",
   "metadata": {},
   "source": [
    "## Inspecting"
   ]
  },
  {
   "cell_type": "code",
   "execution_count": null,
   "metadata": {},
   "outputs": [],
   "source": [
    "# load population array\n",
    "pop = load_example_data('demography').pop"
   ]
  },
  {
   "cell_type": "markdown",
   "metadata": {},
   "source": [
    "Get array summary : dimensions + description of axes"
   ]
  },
  {
   "cell_type": "code",
   "execution_count": null,
   "metadata": {},
   "outputs": [],
   "source": [
    "pop.info"
   ]
  },
  {
   "cell_type": "markdown",
   "metadata": {},
   "source": [
    "Get axes  "
   ]
  },
  {
   "cell_type": "code",
   "execution_count": null,
   "metadata": {},
   "outputs": [],
   "source": [
    "time, geo, age, sex, nat = pop.axes"
   ]
  },
  {
   "cell_type": "markdown",
   "metadata": {},
   "source": [
    "Get array dimensions "
   ]
  },
  {
   "cell_type": "code",
   "execution_count": null,
   "metadata": {},
   "outputs": [],
   "source": [
    "pop.shape"
   ]
  },
  {
   "cell_type": "markdown",
   "metadata": {},
   "source": [
    "Get number of elements  "
   ]
  },
  {
   "cell_type": "code",
   "execution_count": null,
   "metadata": {},
   "outputs": [],
   "source": [
    "pop.size"
   ]
  },
  {
   "cell_type": "markdown",
   "metadata": {},
   "source": [
    "Get size in memory"
   ]
  },
  {
   "cell_type": "code",
   "execution_count": null,
   "metadata": {},
   "outputs": [],
   "source": [
    "pop.memory_used"
   ]
  },
  {
   "cell_type": "markdown",
   "metadata": {},
   "source": [
    "Start viewer (graphical user interface) in read-only mode.\n",
    "This will open a new window and block execution of the rest of code until the windows is closed! Required PyQt installed.\n",
    "\n",
    "```python\n",
    "view(pop)\n",
    "```"
   ]
  },
  {
   "cell_type": "markdown",
   "metadata": {},
   "source": [
    "Load array in an Excel sheet\n",
    "\n",
    "```python\n",
    "pop.to_excel()\n",
    "```"
   ]
  },
  {
   "cell_type": "markdown",
   "metadata": {},
   "source": [
    "## Selection (Subsets)\n",
    "\n",
    "LArray allows to select a subset of an array either by labels or positions"
   ]
  },
  {
   "cell_type": "markdown",
   "metadata": {},
   "source": [
    "### Selection by Labels\n",
    "\n",
    "To take a subset of an array using labels, use brackets [ ].\n",
    "\n",
    "Let's start by selecting a single element:"
   ]
  },
  {
   "cell_type": "code",
   "execution_count": null,
   "metadata": {},
   "outputs": [],
   "source": [
    "# here we select the value associated with Belgian women \n",
    "# of age 50 from Brussels region for the year 2015\n",
    "pop[2015, 'BruCap', 50, 'F', 'BE']"
   ]
  },
  {
   "cell_type": "markdown",
   "metadata": {},
   "source": [
    "Continue with selecting a subset using slices and lists of labels"
   ]
  },
  {
   "cell_type": "code",
   "execution_count": null,
   "metadata": {},
   "outputs": [],
   "source": [
    "# here we select the subset associated with Belgian women of age 50, 51 and 52 \n",
    "# from Brussels region for the years 2010 to 2016\n",
    "pop[2010:2016, 'BruCap', 50:52, 'F', 'BE']"
   ]
  },
  {
   "cell_type": "code",
   "execution_count": null,
   "metadata": {},
   "outputs": [],
   "source": [
    "# slices bounds are optional: \n",
    "# if not given start is assumed to be the first label and stop is the last one.\n",
    "# Here we select all years starting from 2010\n",
    "pop[2010:, 'BruCap', 50:52, 'F', 'BE']"
   ]
  },
  {
   "cell_type": "code",
   "execution_count": null,
   "metadata": {},
   "outputs": [],
   "source": [
    "# Slices can also have a step (defaults to 1), to take every Nth labels\n",
    "# Here we select all even years starting from 2010\n",
    "pop[2010::2, 'BruCap', 50:52, 'F', 'BE']"
   ]
  },
  {
   "cell_type": "code",
   "execution_count": null,
   "metadata": {},
   "outputs": [],
   "source": [
    "# one can also use list of labels to take non-contiguous labels.\n",
    "# Here we select years 2008, 2010, 2013 and 2015\n",
    "pop[[2008, 2010, 2013, 2015], 'BruCap', 50:52, 'F', 'BE']"
   ]
  },
  {
   "cell_type": "markdown",
   "metadata": {},
   "source": [
    "The order of indexing does not matter either, so you usually do not care/have to remember about axes positions during computation. It only matters for output."
   ]
  },
  {
   "cell_type": "code",
   "execution_count": null,
   "metadata": {},
   "outputs": [],
   "source": [
    "# order of index doesn't matter\n",
    "pop['F', 'BE', 'BruCap', [2008, 2010, 2013, 2015], 50:52]"
   ]
  },
  {
   "cell_type": "markdown",
   "metadata": {},
   "source": [
    "<div class=\"alert alert-warning\">\n",
    "**Warning:** Selecting by labels as above works well as long as there is no ambiguity.\n",
    "   When two or more axes have common labels, it may lead to a crash.\n",
    "   The solution is then to precise to which axis belong the labels.\n",
    "</div>"
   ]
  },
  {
   "cell_type": "code",
   "execution_count": null,
   "metadata": {},
   "outputs": [],
   "source": [
    "# let us now create an array with the same labels on several axes\n",
    "age, weight, size = Axis('age=0..80'), Axis('weight=0..120'), Axis('size=0..200')\n",
    "\n",
    "arr_ws = ndtest([age, weight, size])"
   ]
  },
  {
   "cell_type": "code",
   "execution_count": null,
   "metadata": {},
   "outputs": [],
   "source": [
    "# let's try to select teenagers with size between 1 m 60 and 1 m 65 and weight > 80 kg.\n",
    "# In this case the subset is ambiguous and this results in an error:\n",
    "arr_ws[10:18, :80, 160:165]"
   ]
  },
  {
   "cell_type": "code",
   "execution_count": null,
   "metadata": {},
   "outputs": [],
   "source": [
    "# the solution is simple. You need to precise the axes on which you make a selection\n",
    "arr_ws[age[10:18], weight[:80], size[160:165]]"
   ]
  },
  {
   "cell_type": "markdown",
   "metadata": {},
   "source": [
    "### Special variable X\n",
    "\n",
    "When selecting, assiging or using aggregate functions, an axis can be\n",
    "refered via the special variable ``X``:\n",
    "\n",
    "-  pop[X.age[:20]]\n",
    "-  pop.sum(X.age)\n",
    "\n",
    "This gives you acces to axes of the array you are manipulating. The main\n",
    "drawback of using **X** is that you lose the autocompletion available from\n",
    "many editors. It only works with non-wildcard axes."
   ]
  },
  {
   "cell_type": "code",
   "execution_count": null,
   "metadata": {},
   "outputs": [],
   "source": [
    "# the previous example could have been also written as  \n",
    "arr_ws[X.age[10:18], X.weight[:80], X.size[160:165]]"
   ]
  },
  {
   "cell_type": "markdown",
   "metadata": {},
   "source": [
    "### Selection by Positions\n",
    "\n",
    "Sometimes it is more practical to use positions along the axis, instead of labels. \n",
    "You need to add the character ``i`` before the brackets: ``.i[positions]``. \n",
    "As for selection with labels, you can use single position or slice or list of positions. \n",
    "Positions can be also negative (-1 represent the last element of an axis)."
   ]
  },
  {
   "cell_type": "markdown",
   "metadata": {},
   "source": [
    "<div class=\"alert alert-info\">\n",
    "**Note:** Remember that positions (indices) are always **0-based** in Python.\n",
    "So the first element is at position 0, the second is at position 1, etc.\n",
    "</div>"
   ]
  },
  {
   "cell_type": "code",
   "execution_count": null,
   "metadata": {},
   "outputs": [],
   "source": [
    "# here we select the subset associated with Belgian women of age 50, 51 and 52 \n",
    "# from Brussels region for the first 3 years\n",
    "pop[X.time.i[:3], 'BruCap', 50:52, 'F', 'BE']"
   ]
  },
  {
   "cell_type": "code",
   "execution_count": null,
   "metadata": {},
   "outputs": [],
   "source": [
    "# same but for the last 3 years\n",
    "pop[X.time.i[-3:], 'BruCap', 50:52, 'F', 'BE']"
   ]
  },
  {
   "cell_type": "code",
   "execution_count": null,
   "metadata": {},
   "outputs": [],
   "source": [
    "# using list of positions\n",
    "pop[X.time.i[-9,-7,-4,-2], 'BruCap', 50:52, 'F', 'BE']"
   ]
  },
  {
   "cell_type": "markdown",
   "metadata": {},
   "source": [
    "<div class=\"alert alert-warning\">\n",
    "**Warning:** The end *indice* (position) is EXCLUSIVE while the end label is INCLUSIVE.\n",
    "</div>"
   ]
  },
  {
   "cell_type": "code",
   "execution_count": null,
   "metadata": {},
   "outputs": [],
   "source": [
    "# with labels (3 is included)\n",
    "pop[2015, 'BruCap', X.age[:3], 'F', 'BE']"
   ]
  },
  {
   "cell_type": "code",
   "execution_count": null,
   "metadata": {},
   "outputs": [],
   "source": [
    "# with position (3 is out)\n",
    "pop[2015, 'BruCap', X.age.i[:3], 'F', 'BE']"
   ]
  },
  {
   "cell_type": "markdown",
   "metadata": {},
   "source": [
    "You can use ``.i[]`` selection directly on array instead of axes. \n",
    "In this context, if you want to select a subset of the first and third axes for example, you must use a full slice ``:`` for the second one."
   ]
  },
  {
   "cell_type": "code",
   "execution_count": null,
   "metadata": {},
   "outputs": [],
   "source": [
    "# here we select the last year and first 3 ages\n",
    "# equivalent to: pop.i[-1, :, :3, :, :]\n",
    "pop.i[-1, :, :3]"
   ]
  },
  {
   "cell_type": "markdown",
   "metadata": {},
   "source": [
    "### Assigning subsets\n",
    "\n",
    "#### Assigning value\n",
    "\n",
    "Assign a value to a subset"
   ]
  },
  {
   "cell_type": "code",
   "execution_count": null,
   "metadata": {},
   "outputs": [],
   "source": [
    "# let's take a smaller array\n",
    "pop = load_example_data('demography').pop[2016, 'BruCap', 100:105]\n",
    "pop2 = pop\n",
    "pop2"
   ]
  },
  {
   "cell_type": "code",
   "execution_count": null,
   "metadata": {},
   "outputs": [],
   "source": [
    "# set all data corresponding to age >= 102 to 0\n",
    "pop2[102:] = 0\n",
    "pop2"
   ]
  },
  {
   "cell_type": "markdown",
   "metadata": {},
   "source": [
    "One very important gotcha though...\n",
    "\n",
    "<div class=\"alert alert-warning\">\n",
    "**Warning:** Modifying a slice of an array in-place like we did above should be done with care otherwise you could have **unexpected effects**. The reason is that taking a **slice** subset of an array does not return a copy of that array, but rather a view on that array. To avoid such behavior, use ``.copy()`` method.\n",
    "</div>\n",
    "   \n",
    "Remember:\n",
    "\n",
    "-  taking a slice subset of an array is extremely fast (no data is\n",
    "   copied)\n",
    "-  if one modifies that subset in-place, one also **modifies the\n",
    "   original array**\n",
    "-  **.copy()** returns a copy of the subset (takes speed and memory) but\n",
    "   allows you to change the subset without modifying the original array\n",
    "   in the same time"
   ]
  },
  {
   "cell_type": "code",
   "execution_count": null,
   "metadata": {},
   "outputs": [],
   "source": [
    "# indeed, data from the original array have also changed\n",
    "pop"
   ]
  },
  {
   "cell_type": "code",
   "execution_count": null,
   "metadata": {},
   "outputs": [],
   "source": [
    "# the right way\n",
    "pop = load_example_data('demography').pop[2016, 'BruCap', 100:105]\n",
    "\n",
    "pop2 = pop.copy()\n",
    "pop2[102:] = 0\n",
    "pop2"
   ]
  },
  {
   "cell_type": "code",
   "execution_count": null,
   "metadata": {},
   "outputs": [],
   "source": [
    "# now, data from the original array have not changed this time\n",
    "pop"
   ]
  },
  {
   "cell_type": "markdown",
   "metadata": {},
   "source": [
    "#### Assigning Arrays & Broadcasting\n",
    "\n",
    "Instead of a value, we can also assign an array to a subset. In that\n",
    "case, that array can have less axes than the target but those which are\n",
    "present must be compatible with the subset being targeted."
   ]
  },
  {
   "cell_type": "code",
   "execution_count": null,
   "metadata": {},
   "outputs": [],
   "source": [
    "sex, nat = Axis('sex=M,F'), Axis('nat=BE,FO')\n",
    "new_value = LArray([[1, -1], [2, -2]],[sex, nat])\n",
    "new_value"
   ]
  },
  {
   "cell_type": "code",
   "execution_count": null,
   "metadata": {},
   "outputs": [],
   "source": [
    "# this assigns 1, -1 to Belgian, Foreigner men \n",
    "# and 2, -2 to Belgian, Foreigner women for all \n",
    "# people older than 100\n",
    "pop[102:] = new_value\n",
    "pop"
   ]
  },
  {
   "cell_type": "markdown",
   "metadata": {},
   "source": [
    "<div class=\"alert alert-warning\">\n",
    "**Warning:** The array being assigned must have compatible axes with the target subset.\n",
    "</div>"
   ]
  },
  {
   "cell_type": "code",
   "execution_count": null,
   "metadata": {},
   "outputs": [],
   "source": [
    "# assume we define the following array with shape 3 x 2 x 2\n",
    "new_value = zeros(['age=0..2', sex, nat]) \n",
    "new_value"
   ]
  },
  {
   "cell_type": "code",
   "execution_count": null,
   "metadata": {},
   "outputs": [],
   "source": [
    "# now let's try to assign the previous array in a subset with shape 7 x 2 x 2\n",
    "pop[102:] = new_value"
   ]
  },
  {
   "cell_type": "code",
   "execution_count": null,
   "metadata": {},
   "outputs": [],
   "source": [
    "# but this works\n",
    "pop[102:104] = new_value\n",
    "pop"
   ]
  },
  {
   "cell_type": "markdown",
   "metadata": {},
   "source": [
    "### Boolean filtering\n",
    "\n",
    "Boolean filtering can be use to extract subsets."
   ]
  },
  {
   "cell_type": "code",
   "execution_count": null,
   "metadata": {},
   "outputs": [],
   "source": [
    "#Let's focus on population living in Brussels during the year 2016\n",
    "pop = load_example_data('demography').pop[2016, 'BruCap']\n",
    "\n",
    "# here we select all males and females with age less than 5 and 10 respectively\n",
    "subset = pop[((X.sex == 'H') & (X.age <= 5)) | ((X.sex == 'F') & (X.age <= 10))]\n",
    "subset"
   ]
  },
  {
   "cell_type": "markdown",
   "metadata": {},
   "source": [
    "<div class=\"alert alert-info\">\n",
    "**Note:** Be aware that after boolean filtering, several axes may have merged.\n",
    "</div>"
   ]
  },
  {
   "cell_type": "code",
   "execution_count": null,
   "metadata": {},
   "outputs": [],
   "source": [
    "# 'age' and 'sex' axes have been merged together\n",
    "subset.info"
   ]
  },
  {
   "cell_type": "markdown",
   "metadata": {},
   "source": [
    "This may be not what you because previous selections on merged axes are no longer valid"
   ]
  },
  {
   "cell_type": "code",
   "execution_count": null,
   "metadata": {},
   "outputs": [],
   "source": [
    "# now let's try to calculate the proportion of females with age less than 10\n",
    "subset['F'].sum() / pop['F'].sum()"
   ]
  },
  {
   "cell_type": "markdown",
   "metadata": {},
   "source": [
    "Therefore, it is sometimes more useful to not select, but rather set to 0 (or another value) non matching elements"
   ]
  },
  {
   "cell_type": "code",
   "execution_count": null,
   "metadata": {},
   "outputs": [],
   "source": [
    "subset = pop.copy()\n",
    "subset[((X.sex == 'F') & (X.age > 10))] = 0\n",
    "subset['F', :20]"
   ]
  },
  {
   "cell_type": "code",
   "execution_count": null,
   "metadata": {},
   "outputs": [],
   "source": [
    "# now we can calculate the proportion of females with age less than 10\n",
    "subset['F'].sum() / pop['F'].sum()"
   ]
  },
  {
   "cell_type": "markdown",
   "metadata": {},
   "source": [
    "Boolean filtering can also mix axes and arrays. Example above could also have been written as"
   ]
  },
  {
   "cell_type": "code",
   "execution_count": null,
   "metadata": {},
   "outputs": [],
   "source": [
    "age_limit = sequence('sex=M,F', initial=5, inc=5)\n",
    "age_limit"
   ]
  },
  {
   "cell_type": "code",
   "execution_count": null,
   "metadata": {},
   "outputs": [],
   "source": [
    "age = pop.axes['age']\n",
    "(age <= age_limit)[:20]"
   ]
  },
  {
   "cell_type": "code",
   "execution_count": null,
   "metadata": {},
   "outputs": [],
   "source": [
    "subset = pop.copy()\n",
    "subset[X.age > age_limit] = 0\n",
    "subset['F'].sum() / pop['F'].sum()"
   ]
  },
  {
   "cell_type": "markdown",
   "metadata": {},
   "source": [
    "Finally, you can choose to filter on data instead of axes"
   ]
  },
  {
   "cell_type": "code",
   "execution_count": null,
   "metadata": {},
   "outputs": [],
   "source": [
    "# let's focus on females older than 90\n",
    "subset = pop['F', 90:110].copy()\n",
    "subset"
   ]
  },
  {
   "cell_type": "code",
   "execution_count": null,
   "metadata": {},
   "outputs": [],
   "source": [
    "# here we set to 0 all data < 10\n",
    "subset[subset < 10] = 0\n",
    "subset"
   ]
  },
  {
   "cell_type": "markdown",
   "metadata": {},
   "source": [
    "## Manipulates axes from arrays"
   ]
  },
  {
   "cell_type": "code",
   "execution_count": null,
   "metadata": {},
   "outputs": [],
   "source": [
    "# let's start with\n",
    "pop = load_example_data('demography').pop[2016, 'BruCap', 90:95]\n",
    "pop"
   ]
  },
  {
   "cell_type": "markdown",
   "metadata": {},
   "source": [
    "### Relabeling\n",
    "\n",
    "Replace all labels of one axis"
   ]
  },
  {
   "cell_type": "code",
   "execution_count": null,
   "metadata": {},
   "outputs": [],
   "source": [
    "# returns a copy by default\n",
    "pop_new_labels = pop.set_labels('sex', ['Men', 'Women'])\n",
    "pop_new_labels"
   ]
  },
  {
   "cell_type": "code",
   "execution_count": null,
   "metadata": {},
   "outputs": [],
   "source": [
    "# inplace flag avoids to create a copy\n",
    "pop.set_labels('sex', ['M', 'F'], inplace=True)"
   ]
  },
  {
   "cell_type": "markdown",
   "metadata": {},
   "source": [
    "### Renaming axes\n",
    "\n",
    "Rename one axis"
   ]
  },
  {
   "cell_type": "code",
   "execution_count": null,
   "metadata": {},
   "outputs": [],
   "source": [
    "pop.info"
   ]
  },
  {
   "cell_type": "code",
   "execution_count": null,
   "metadata": {},
   "outputs": [],
   "source": [
    "# 'rename' returns a copy of the array\n",
    "pop2 = pop.rename('sex', 'gender')\n",
    "pop2"
   ]
  },
  {
   "cell_type": "markdown",
   "metadata": {},
   "source": [
    "Rename several axes at once"
   ]
  },
  {
   "cell_type": "code",
   "execution_count": null,
   "metadata": {},
   "outputs": [],
   "source": [
    "# No x. here because sex and nat are keywords and not actual axes\n",
    "pop2 = pop.rename(sex='gender', nat='nationality')\n",
    "pop2"
   ]
  },
  {
   "cell_type": "markdown",
   "metadata": {},
   "source": [
    "### Reordering axes\n",
    "\n",
    "Axes can be reordered using ``transpose`` method. \n",
    "By default, *transpose* reverse axes, otherwise it permutes the axes according to the list given as argument.\n",
    "Axes not mentioned come after those which are mentioned(and keep their relative order).\n",
    "Finally, *transpose* returns a copy of the array."
   ]
  },
  {
   "cell_type": "code",
   "execution_count": null,
   "metadata": {},
   "outputs": [],
   "source": [
    "# starting order : age, sex, nat\n",
    "pop"
   ]
  },
  {
   "cell_type": "code",
   "execution_count": null,
   "metadata": {},
   "outputs": [],
   "source": [
    "# no argument --> reverse axes\n",
    "pop.transpose()\n",
    "\n",
    "# .T is a shortcut for .transpose()\n",
    "pop.T"
   ]
  },
  {
   "cell_type": "code",
   "execution_count": null,
   "metadata": {},
   "outputs": [],
   "source": [
    "# reorder according to list\n",
    "pop.transpose('age', 'nat', 'sex')"
   ]
  },
  {
   "cell_type": "code",
   "execution_count": null,
   "metadata": {},
   "outputs": [],
   "source": [
    "# axes not mentioned come after those which are mentioned (and keep their relative order)\n",
    "pop.transpose('sex')"
   ]
  },
  {
   "cell_type": "markdown",
   "metadata": {},
   "source": [
    "## Aggregates\n",
    "\n",
    "Calculate the sum along an axis"
   ]
  },
  {
   "cell_type": "code",
   "execution_count": null,
   "metadata": {},
   "outputs": [],
   "source": [
    "pop = load_example_data('demography').pop[2016, 'BruCap']\n",
    "pop.sum('age')"
   ]
  },
  {
   "cell_type": "markdown",
   "metadata": {},
   "source": [
    "or along all axes except one by appending `_by` to the aggregation function"
   ]
  },
  {
   "cell_type": "code",
   "execution_count": null,
   "metadata": {},
   "outputs": [],
   "source": [
    "pop[90:95].sum_by('age')\n",
    "# is equivalent to \n",
    "pop[90:95].sum('sex', 'nat')"
   ]
  },
  {
   "cell_type": "markdown",
   "metadata": {},
   "source": [
    "There are many other [aggregation functions](api.rst#aggregation-functions):\n",
    "\n",
    "-  mean, min, max, median, percentile, var (variance), std (standard\n",
    "   deviation)\n",
    "-  labelofmin, labelofmax (label indirect minimum/maxium -- labels where the\n",
    "   value is minimum/maximum)\n",
    "-  indexofmin, indexofmax (positional indirect minimum/maxium -- position\n",
    "   along axis where the value is minimum/maximum)\n",
    "-  cumsum, cumprod (cumulative sum, cumulative product)"
   ]
  },
  {
   "cell_type": "markdown",
   "metadata": {},
   "source": [
    "## Groups\n",
    "\n",
    "One can define groups of labels (or indices)"
   ]
  },
  {
   "cell_type": "code",
   "execution_count": null,
   "metadata": {},
   "outputs": [],
   "source": [
    "age = pop.axes['age']\n",
    "\n",
    "# using indices (remember: 20 will not be included)\n",
    "teens = age.i[10:20]\n",
    "# using labels\n",
    "pensioners = age[67:]\n",
    "strange = age[[30, 55, 52, 25, 99]]\n",
    "\n",
    "strange"
   ]
  },
  {
   "cell_type": "markdown",
   "metadata": {},
   "source": [
    "or rename them"
   ]
  },
  {
   "cell_type": "code",
   "execution_count": null,
   "metadata": {},
   "outputs": [],
   "source": [
    "# method 'named' returns a new group with the given name\n",
    "teens = teens.named('children')\n",
    "\n",
    "# operator >> is a shortcut for 'named'\n",
    "pensioners = pensioners >> 'pensioners'\n",
    "\n",
    "pensioners "
   ]
  },
  {
   "cell_type": "markdown",
   "metadata": {},
   "source": [
    "Then, use them in selections"
   ]
  },
  {
   "cell_type": "code",
   "execution_count": null,
   "metadata": {},
   "outputs": [],
   "source": [
    "pop[strange]"
   ]
  },
  {
   "cell_type": "markdown",
   "metadata": {},
   "source": [
    "or aggregations"
   ]
  },
  {
   "cell_type": "code",
   "execution_count": null,
   "metadata": {},
   "outputs": [],
   "source": [
    "pop.sum(pensioners)"
   ]
  },
  {
   "cell_type": "code",
   "execution_count": null,
   "metadata": {},
   "outputs": [],
   "source": [
    "# several groups (here you see the interest of groups renaming)\n",
    "pop.sum((teens, pensioners, strange))"
   ]
  },
  {
   "cell_type": "code",
   "execution_count": null,
   "metadata": {},
   "outputs": [],
   "source": [
    "# combined with other axes\n",
    "pop.sum((teens, pensioners, strange), 'nat')"
   ]
  },
  {
   "cell_type": "markdown",
   "metadata": {},
   "source": [
    "## Arithmetic operations"
   ]
  },
  {
   "cell_type": "code",
   "execution_count": null,
   "metadata": {},
   "outputs": [],
   "source": [
    "# go back to our 6 x 2 x 2 example array\n",
    "pop = load_example_data('demography').pop[2016, 'BruCap', 90:95]\n",
    "pop"
   ]
  },
  {
   "cell_type": "markdown",
   "metadata": {},
   "source": [
    "One can do all usual arithmetic operations on an array, it will apply the operation to all elements individually"
   ]
  },
  {
   "cell_type": "code",
   "execution_count": null,
   "metadata": {},
   "outputs": [],
   "source": [
    "# addition\n",
    "pop + 200"
   ]
  },
  {
   "cell_type": "code",
   "execution_count": null,
   "metadata": {},
   "outputs": [],
   "source": [
    "# multiplication\n",
    "pop * 2"
   ]
  },
  {
   "cell_type": "code",
   "execution_count": null,
   "metadata": {},
   "outputs": [],
   "source": [
    "# ** means raising to the power (squaring in this case)\n",
    "pop ** 2"
   ]
  },
  {
   "cell_type": "code",
   "execution_count": null,
   "metadata": {},
   "outputs": [],
   "source": [
    "# % means modulo (aka remainder of division)\n",
    "pop % 10"
   ]
  },
  {
   "cell_type": "markdown",
   "metadata": {},
   "source": [
    "More interestingly, it also works between two arrays"
   ]
  },
  {
   "cell_type": "code",
   "execution_count": null,
   "metadata": {},
   "outputs": [],
   "source": [
    "# load mortality equivalent array\n",
    "mortality = load_example_data('demography').qx[2016, 'BruCap', 90:95] \n",
    "\n",
    "# compute number of deaths\n",
    "death = pop * mortality\n",
    "death"
   ]
  },
  {
   "cell_type": "markdown",
   "metadata": {},
   "source": [
    "<div class=\"alert alert-info\">\n",
    "**Note:** Be careful when mixing different data types.\n",
    "You can use the method ``astype`` to change the data type of an array.\n",
    "</div>"
   ]
  },
  {
   "cell_type": "code",
   "execution_count": null,
   "metadata": {},
   "outputs": [],
   "source": [
    "# to be sure to get number of deaths as integers\n",
    "# one can use .astype() method\n",
    "death = (pop * mortality).astype(int)\n",
    "death"
   ]
  },
  {
   "cell_type": "markdown",
   "metadata": {},
   "source": [
    "But operations between two arrays only works when they have compatible axes (i.e. same labels)"
   ]
  },
  {
   "cell_type": "code",
   "execution_count": null,
   "metadata": {},
   "outputs": [],
   "source": [
    "pop[90:92] * mortality[93:95]"
   ]
  },
  {
   "cell_type": "markdown",
   "metadata": {},
   "source": [
    "You can override that but at your own risk. \n",
    "In that case only the position on the axis is used and not the labels."
   ]
  },
  {
   "cell_type": "code",
   "execution_count": null,
   "metadata": {},
   "outputs": [],
   "source": [
    "pop[90:92] * mortality[93:95].drop_labels('age')"
   ]
  },
  {
   "cell_type": "markdown",
   "metadata": {},
   "source": [
    "### Boolean Operations"
   ]
  },
  {
   "cell_type": "code",
   "execution_count": null,
   "metadata": {},
   "outputs": [],
   "source": [
    "pop2 = pop.copy()\n",
    "pop2['F'] = -pop2['F']\n",
    "pop2"
   ]
  },
  {
   "cell_type": "code",
   "execution_count": null,
   "metadata": {},
   "outputs": [],
   "source": [
    "# testing for equality is done using == (a single = assigns the value)\n",
    "pop == pop2"
   ]
  },
  {
   "cell_type": "code",
   "execution_count": null,
   "metadata": {},
   "outputs": [],
   "source": [
    "# testing for inequality\n",
    "pop != pop2"
   ]
  },
  {
   "cell_type": "code",
   "execution_count": null,
   "metadata": {},
   "outputs": [],
   "source": [
    "# what was our original array like again?\n",
    "pop"
   ]
  },
  {
   "cell_type": "code",
   "execution_count": null,
   "metadata": {},
   "outputs": [],
   "source": [
    "# & means (boolean array) and\n",
    "(pop >= 500) & (pop <= 1000)"
   ]
  },
  {
   "cell_type": "code",
   "execution_count": null,
   "metadata": {},
   "outputs": [],
   "source": [
    "# | means (boolean array) or\n",
    "(pop < 500) | (pop > 1000)"
   ]
  },
  {
   "cell_type": "markdown",
   "metadata": {},
   "source": [
    "### Arithmetic operations with missing axes"
   ]
  },
  {
   "cell_type": "code",
   "execution_count": null,
   "metadata": {},
   "outputs": [],
   "source": [
    "pop.sum('age')"
   ]
  },
  {
   "cell_type": "code",
   "execution_count": null,
   "metadata": {},
   "outputs": [],
   "source": [
    "# arr has 3 dimensions\n",
    "pop.info"
   ]
  },
  {
   "cell_type": "code",
   "execution_count": null,
   "metadata": {},
   "outputs": [],
   "source": [
    "# and arr.sum(age) has two\n",
    "pop.sum('age').info"
   ]
  },
  {
   "cell_type": "code",
   "execution_count": null,
   "metadata": {},
   "outputs": [],
   "source": [
    "# you can do operation with missing axes so this works\n",
    "pop / pop.sum('age')"
   ]
  },
  {
   "cell_type": "markdown",
   "metadata": {},
   "source": [
    "### Axis order does not matter much (except for output)\n",
    "\n",
    "You can do operations between arrays having different axes order.\n",
    "The axis order of the result is the same as the left array"
   ]
  },
  {
   "cell_type": "code",
   "execution_count": null,
   "metadata": {},
   "outputs": [],
   "source": [
    "pop"
   ]
  },
  {
   "cell_type": "code",
   "execution_count": null,
   "metadata": {},
   "outputs": [],
   "source": [
    "# let us change the order of axes\n",
    "pop_transposed = pop.T\n",
    "pop_transposed"
   ]
  },
  {
   "cell_type": "code",
   "execution_count": null,
   "metadata": {},
   "outputs": [],
   "source": [
    "# mind blowing\n",
    "pop_transposed + pop"
   ]
  },
  {
   "cell_type": "markdown",
   "metadata": {},
   "source": [
    "## Combining arrays\n",
    "\n",
    "### Append/Prepend\n",
    "\n",
    "Append/prepend one element to an axis of an array"
   ]
  },
  {
   "cell_type": "code",
   "execution_count": null,
   "metadata": {},
   "outputs": [],
   "source": [
    "pop = load_example_data('demography').pop[2016, 'BruCap', 90:95] \n",
    "\n",
    "# imagine that you have now acces to the number of non-EU foreigners\n",
    "data = [[25, 54], [15, 33], [12, 28], [11, 37], [5, 21], [7, 19]]\n",
    "pop_non_eu = LArray(data, pop['FO'].axes)\n",
    "\n",
    "# you can do something like this\n",
    "pop = pop.append(nat, pop_non_eu, 'NEU')\n",
    "pop"
   ]
  },
  {
   "cell_type": "code",
   "execution_count": null,
   "metadata": {},
   "outputs": [],
   "source": [
    "# you can also add something at the start of an axis\n",
    "pop = pop.prepend('sex', pop.sum('sex'), 'B')\n",
    "pop"
   ]
  },
  {
   "cell_type": "markdown",
   "metadata": {},
   "source": [
    "The value being appended/prepended can have missing (or even extra) axes as long as common axes are compatible"
   ]
  },
  {
   "cell_type": "code",
   "execution_count": null,
   "metadata": {},
   "outputs": [],
   "source": [
    "aliens = zeros(pop.axes['sex'])\n",
    "aliens"
   ]
  },
  {
   "cell_type": "code",
   "execution_count": null,
   "metadata": {},
   "outputs": [],
   "source": [
    "pop = pop.append('nat', aliens, 'AL')\n",
    "pop"
   ]
  },
  {
   "cell_type": "markdown",
   "metadata": {},
   "source": [
    "### Extend\n",
    "\n",
    "Extend an array along an axis with another array *with* that axis (but other labels)"
   ]
  },
  {
   "cell_type": "code",
   "execution_count": null,
   "metadata": {},
   "outputs": [],
   "source": [
    "_pop = load_example_data('demography').pop\n",
    "pop = _pop[2016, 'BruCap', 90:95] \n",
    "pop_next = _pop[2016, 'BruCap', 96:100]\n",
    "\n",
    "# concatenate along age axis\n",
    "pop.extend('age', pop_next)"
   ]
  },
  {
   "cell_type": "markdown",
   "metadata": {},
   "source": [
    "### Stack\n",
    "\n",
    "Stack several arrays together to create an entirely new dimension"
   ]
  },
  {
   "cell_type": "code",
   "execution_count": null,
   "metadata": {},
   "outputs": [],
   "source": [
    "# imagine you have loaded data for each nationality in different arrays (e.g. loaded from different Excel sheets)\n",
    "pop_be, pop_fo = pop['BE'], pop['FO']\n",
    "\n",
    "# first way to stack them\n",
    "nat = Axis('nat=BE,FO,NEU')\n",
    "pop = stack([pop_be, pop_fo, pop_non_eu], nat)\n",
    "\n",
    "# second way\n",
    "pop = stack([('BE', pop_be), ('FO', pop_fo), ('NEU', pop_non_eu)], 'nat')\n",
    "\n",
    "pop"
   ]
  },
  {
   "cell_type": "markdown",
   "metadata": {},
   "source": [
    "## Sorting\n",
    "\n",
    "Sort an axis (alphabetically if labels are strings)"
   ]
  },
  {
   "cell_type": "code",
   "execution_count": null,
   "metadata": {},
   "outputs": [],
   "source": [
    "pop_sorted = pop.sort_axes('nat')\n",
    "pop_sorted"
   ]
  },
  {
   "cell_type": "markdown",
   "metadata": {},
   "source": [
    "Give labels which would sort the axis   "
   ]
  },
  {
   "cell_type": "code",
   "execution_count": null,
   "metadata": {},
   "outputs": [],
   "source": [
    "pop_sorted.labelsofsorted('sex')"
   ]
  },
  {
   "cell_type": "markdown",
   "metadata": {},
   "source": [
    "Sort according to values   "
   ]
  },
  {
   "cell_type": "code",
   "execution_count": null,
   "metadata": {},
   "outputs": [],
   "source": [
    "pop_sorted.sort_values((90, 'F'))"
   ]
  },
  {
   "cell_type": "markdown",
   "metadata": {},
   "source": [
    "## Plotting\n",
    "\n",
    "Create a plot (last axis define the different curves to draw)"
   ]
  },
  {
   "cell_type": "code",
   "execution_count": null,
   "metadata": {},
   "outputs": [],
   "source": [
    "pop.plot()"
   ]
  },
  {
   "cell_type": "code",
   "execution_count": null,
   "metadata": {},
   "outputs": [],
   "source": [
    "# plot total of both sex\n",
    "pop.sum('sex').plot()"
   ]
  },
  {
   "cell_type": "markdown",
   "metadata": {},
   "source": [
    "## Interesting methods"
   ]
  },
  {
   "cell_type": "code",
   "execution_count": null,
   "metadata": {},
   "outputs": [],
   "source": [
    "# starting array\n",
    "pop = load_example_data('demography').pop[2016, 'BruCap', 100:105]\n",
    "pop"
   ]
  },
  {
   "cell_type": "markdown",
   "metadata": {},
   "source": [
    "### with total\n",
    "\n",
    "Add totals to one axis"
   ]
  },
  {
   "cell_type": "code",
   "execution_count": null,
   "metadata": {},
   "outputs": [],
   "source": [
    "pop.with_total('sex', label='B')"
   ]
  },
  {
   "cell_type": "markdown",
   "metadata": {},
   "source": [
    "Add totals to all axes at once"
   ]
  },
  {
   "cell_type": "code",
   "execution_count": null,
   "metadata": {},
   "outputs": [],
   "source": [
    "# by default label is 'total'\n",
    "pop.with_total()"
   ]
  },
  {
   "cell_type": "markdown",
   "metadata": {},
   "source": [
    "### where\n",
    "\n",
    "where can be used to apply some computation depending on a condition"
   ]
  },
  {
   "cell_type": "code",
   "execution_count": null,
   "metadata": {},
   "outputs": [],
   "source": [
    "# where(condition, value if true, value if false)\n",
    "where(pop < 10, 0, -pop)"
   ]
  },
  {
   "cell_type": "markdown",
   "metadata": {},
   "source": [
    "### clip\n",
    "\n",
    "Set all data between a certain range"
   ]
  },
  {
   "cell_type": "code",
   "execution_count": null,
   "metadata": {},
   "outputs": [],
   "source": [
    "# clip(min, max)\n",
    "# values below 10 are set to 10 and values above 50 are set to 50\n",
    "pop.clip(10, 50)"
   ]
  },
  {
   "cell_type": "markdown",
   "metadata": {},
   "source": [
    "### divnot0\n",
    "\n",
    "Replace division by 0 to 0"
   ]
  },
  {
   "cell_type": "code",
   "execution_count": null,
   "metadata": {},
   "outputs": [],
   "source": [
    "pop['BE'] / pop['FO']"
   ]
  },
  {
   "cell_type": "code",
   "execution_count": null,
   "metadata": {},
   "outputs": [],
   "source": [
    "# divnot0 replaces results of division by 0 by 0. \n",
    "# Using it should be done with care though\n",
    "# because it can hide a real error in your data.\n",
    "pop['BE'].divnot0(pop['FO'])"
   ]
  },
  {
   "cell_type": "markdown",
   "metadata": {},
   "source": [
    "### diff\n",
    "\n",
    "The ``diff`` method calculates the n-th order discrete difference along a given axis.\n",
    "The first order difference is given by out[n+1] = in[n + 1] - in[n] along the given axis."
   ]
  },
  {
   "cell_type": "code",
   "execution_count": null,
   "metadata": {},
   "outputs": [],
   "source": [
    "pop = load_example_data('demography').pop[2005:2015, 'BruCap', 50]\n",
    "pop"
   ]
  },
  {
   "cell_type": "code",
   "execution_count": null,
   "metadata": {},
   "outputs": [],
   "source": [
    "# calculates 'pop[year+1] - pop[year]'\n",
    "pop.diff('time')"
   ]
  },
  {
   "cell_type": "code",
   "execution_count": null,
   "metadata": {},
   "outputs": [],
   "source": [
    "# calculates 'pop[year+2] - pop[year]'\n",
    "pop.diff('time', d=2)"
   ]
  },
  {
   "cell_type": "markdown",
   "metadata": {},
   "source": [
    "### ratio"
   ]
  },
  {
   "cell_type": "code",
   "execution_count": null,
   "metadata": {},
   "outputs": [],
   "source": [
    "pop.ratio('nat')\n",
    "\n",
    "# which is equivalent to\n",
    "pop / pop.sum('nat')"
   ]
  },
  {
   "cell_type": "markdown",
   "metadata": {},
   "source": [
    "### percents"
   ]
  },
  {
   "cell_type": "code",
   "execution_count": null,
   "metadata": {},
   "outputs": [],
   "source": [
    "# or, if you want the previous ratios in percents\n",
    "pop.percent('nat')"
   ]
  },
  {
   "cell_type": "markdown",
   "metadata": {},
   "source": [
    "### growth\\_rate\n",
    "\n",
    "using the same principle than `diff`   "
   ]
  },
  {
   "cell_type": "code",
   "execution_count": null,
   "metadata": {},
   "outputs": [],
   "source": [
    "pop.growth_rate('time')"
   ]
  },
  {
   "cell_type": "markdown",
   "metadata": {},
   "source": [
    "### shift\n",
    "\n",
    "The ``shift`` method drops first label of an axis and shifts all subsequent labels"
   ]
  },
  {
   "cell_type": "code",
   "execution_count": null,
   "metadata": {},
   "outputs": [],
   "source": [
    "pop.shift('time')"
   ]
  },
  {
   "cell_type": "code",
   "execution_count": null,
   "metadata": {},
   "outputs": [],
   "source": [
    "# when shift is applied on an (increasing) time axis, \n",
    "# it effectively brings \"past\" data into the future\n",
    "pop.shift('time').drop_labels('time') == pop[2005:2014].drop_labels('time')"
   ]
  },
  {
   "cell_type": "code",
   "execution_count": null,
   "metadata": {},
   "outputs": [],
   "source": [
    "# this is mostly useful when you want to do operations between the past and now\n",
    "# as an example, here is an alternative implementation of the .diff method seen above:\n",
    "pop.i[1:] - pop.shift('time')"
   ]
  },
  {
   "cell_type": "markdown",
   "metadata": {},
   "source": [
    "### Misc other interesting functions\n",
    "\n",
    "There are a lot more [interesting functions](api.rst#miscellaneous) available:\n",
    "\n",
    "- round, floor, ceil, trunc,\n",
    "- exp, log, log10,\n",
    "- sqrt, absolute, nan_to_num, isnan, isinf, inverse,\n",
    "- sin, cos, tan, arcsin, arccos, arctan\n",
    "- and many many more..."
   ]
  },
  {
   "cell_type": "markdown",
   "metadata": {},
   "source": [
    "## Sessions\n",
    "\n",
    "You can group several arrays in a [Session](api.rst#session)"
   ]
  },
  {
   "cell_type": "code",
   "execution_count": null,
   "metadata": {},
   "outputs": [],
   "source": [
    "# load several arrays\n",
    "arr1, arr2, arr3 = ndtest((3, 3)), ndtest((4, 2)), ndtest((2, 4))\n",
    "\n",
    "# create and populate a 'session'\n",
    "s1 = Session()\n",
    "s1.arr1 = arr1\n",
    "s1.arr2 = arr2\n",
    "s1.arr3 = arr3\n",
    "\n",
    "s1"
   ]
  },
  {
   "cell_type": "code",
   "execution_count": null,
   "metadata": {
    "nbsphinx": "hidden"
   },
   "outputs": [],
   "source": [
    "s2 = s1.copy()\n",
    "s3 = s1.copy()"
   ]
  },
  {
   "cell_type": "markdown",
   "metadata": {},
   "source": [
    "The advantage of sessions is that you can manipulate all of the arrays in them in one shot\n",
    "\n",
    "```python\n",
    "# this saves all the arrays in a single excel file (each array on a different sheet)\n",
    "s1.save('test.xlsx')\n",
    "\n",
    "# this saves all the arrays in a single HDF5 file (which is a very fast format)\n",
    "s1.save('test.h5')\n",
    "\n",
    "# this creates a session out of all arrays in the .h5 file\n",
    "s2 = Session('test.h5')\n",
    "```"
   ]
  },
  {
   "cell_type": "markdown",
   "metadata": {},
   "source": [
    "```python\n",
    "# this creates a session out of all arrays in the .xlsx file\n",
    "s3 = Session('test.xlsx')\n",
    "```"
   ]
  },
  {
   "cell_type": "markdown",
   "metadata": {},
   "source": [
    "You can compare two sessions"
   ]
  },
  {
   "cell_type": "code",
   "execution_count": null,
   "metadata": {},
   "outputs": [],
   "source": [
    "s1.equals(s2)"
   ]
  },
  {
   "cell_type": "code",
   "execution_count": null,
   "metadata": {},
   "outputs": [],
   "source": [
    "# let us introduce a difference (a variant, or a mistake perhaps)\n",
    "s2.arr1['a0', 'b1':] = 0"
   ]
  },
  {
   "cell_type": "code",
   "execution_count": null,
   "metadata": {},
   "outputs": [],
   "source": [
    "s1.equals(s2)"
   ]
  },
  {
   "cell_type": "code",
   "execution_count": null,
   "metadata": {},
   "outputs": [],
   "source": [
    "s_diff = s1 != s2\n",
    "s_diff"
   ]
  },
  {
   "cell_type": "markdown",
   "metadata": {},
   "source": [
    "This a bit experimental but can be useful nonetheless (open a graphical interface)\n",
    "\n",
    "```python\n",
    "compare(s1_diff.arr1, s2_diff.arr1)\n",
    "```"
   ]
  }
 ],
 "metadata": {
  "celltoolbar": "Edit Metadata",
  "kernelspec": {
   "display_name": "Python 3",
   "language": "python",
   "name": "python3"
  },
  "language_info": {
   "codemirror_mode": {
    "name": "ipython",
    "version": 3
   },
   "file_extension": ".py",
   "mimetype": "text/x-python",
   "name": "python",
   "nbconvert_exporter": "python",
   "pygments_lexer": "ipython3",
   "version": "3.6.3"
  },
  "livereveal": {
   "autolaunch": true,
   "scroll": true
  }
 },
 "nbformat": 4,
 "nbformat_minor": 2
}
