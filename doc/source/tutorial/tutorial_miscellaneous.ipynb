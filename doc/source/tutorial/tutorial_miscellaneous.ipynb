{
 "cells": [
  {
   "cell_type": "markdown",
   "metadata": {},
   "source": [
    "# Miscellaneous (other interesting array functions)\n"
   ]
  },
  {
   "cell_type": "markdown",
   "metadata": {},
   "source": [
    "Import the LArray library:\n"
   ]
  },
  {
   "cell_type": "code",
   "execution_count": null,
   "metadata": {},
   "outputs": [],
   "source": [
    "from larray import *"
   ]
  },
  {
   "cell_type": "markdown",
   "metadata": {},
   "source": [
    "Import a subset of the test array ``pop``:\n"
   ]
  },
  {
   "cell_type": "code",
   "execution_count": null,
   "metadata": {},
   "outputs": [],
   "source": [
    "# import a 6 x 2 x 2 subset of the 'pop' example array\n",
    "pop = load_example_data('demography').pop[2016, 'BruCap', 100:105]\n",
    "pop"
   ]
  },
  {
   "cell_type": "markdown",
   "metadata": {},
   "source": [
    "### with total\n",
    "\n",
    "Add totals to one axis\n"
   ]
  },
  {
   "cell_type": "code",
   "execution_count": null,
   "metadata": {},
   "outputs": [],
   "source": [
    "pop.with_total('sex', label='B')"
   ]
  },
  {
   "cell_type": "markdown",
   "metadata": {},
   "source": [
    "Add totals to all axes at once\n"
   ]
  },
  {
   "cell_type": "code",
   "execution_count": null,
   "metadata": {},
   "outputs": [],
   "source": [
    "# by default label is 'total'\n",
    "pop.with_total()"
   ]
  },
  {
   "cell_type": "markdown",
   "metadata": {},
   "source": [
    "### where\n",
    "\n",
    "where can be used to apply some computation depending on a condition\n"
   ]
  },
  {
   "cell_type": "code",
   "execution_count": null,
   "metadata": {},
   "outputs": [],
   "source": [
    "# where(condition, value if true, value if false)\n",
    "where(pop < 10, 0, -pop)"
   ]
  },
  {
   "cell_type": "markdown",
   "metadata": {},
   "source": [
    "### clip\n",
    "\n",
    "Set all data between a certain range\n"
   ]
  },
  {
   "cell_type": "code",
   "execution_count": null,
   "metadata": {},
   "outputs": [],
   "source": [
    "# clip(min, max)\n",
    "# values below 10 are set to 10 and values above 50 are set to 50\n",
    "pop.clip(10, 50)"
   ]
  },
  {
   "cell_type": "markdown",
   "metadata": {},
   "source": [
    "### divnot0\n",
    "\n",
    "Replace division by 0 to 0\n"
   ]
  },
  {
   "cell_type": "code",
   "execution_count": null,
   "metadata": {},
   "outputs": [],
   "source": [
    "pop['BE'] / pop['FO']"
   ]
  },
  {
   "cell_type": "code",
   "execution_count": null,
   "metadata": {},
   "outputs": [],
   "source": [
    "# divnot0 replaces results of division by 0 by 0.\n",
    "# Using it should be done with care though\n",
    "# because it can hide a real error in your data.\n",
    "pop['BE'].divnot0(pop['FO'])"
   ]
  },
  {
   "cell_type": "markdown",
   "metadata": {},
   "source": [
    "### diff\n",
    "\n",
    "The ``diff`` method calculates the n-th order discrete difference along a given axis.\n",
    "The first order difference is given by out[n+1] = in[n + 1] - in[n] along the given axis.\n"
   ]
  },
  {
   "cell_type": "code",
   "execution_count": null,
   "metadata": {},
   "outputs": [],
   "source": [
    "pop = load_example_data('demography').pop[2005:2015, 'BruCap', 50]\n",
    "pop"
   ]
  },
  {
   "cell_type": "code",
   "execution_count": null,
   "metadata": {},
   "outputs": [],
   "source": [
    "# calculates 'pop[year+1] - pop[year]'\n",
    "pop.diff('time')"
   ]
  },
  {
   "cell_type": "code",
   "execution_count": null,
   "metadata": {},
   "outputs": [],
   "source": [
    "# calculates 'pop[year+2] - pop[year]'\n",
    "pop.diff('time', d=2)"
   ]
  },
  {
   "cell_type": "markdown",
   "metadata": {},
   "source": [
    "### ratio\n"
   ]
  },
  {
   "cell_type": "code",
   "execution_count": null,
   "metadata": {},
   "outputs": [],
   "source": [
    "pop.ratio('nat')\n",
    "\n",
    "# which is equivalent to\n",
    "pop / pop.sum('nat')"
   ]
  },
  {
   "cell_type": "markdown",
   "metadata": {},
   "source": [
    "### percents\n"
   ]
  },
  {
   "cell_type": "code",
   "execution_count": null,
   "metadata": {},
   "outputs": [],
   "source": [
    "# or, if you want the previous ratios in percents\n",
    "pop.percent('nat')"
   ]
  },
  {
   "cell_type": "markdown",
   "metadata": {},
   "source": [
    "### growth\\_rate\n",
    "\n",
    "using the same principle than `diff`\n"
   ]
  },
  {
   "cell_type": "code",
   "execution_count": null,
   "metadata": {},
   "outputs": [],
   "source": [
    "pop.growth_rate('time')"
   ]
  },
  {
   "cell_type": "markdown",
   "metadata": {},
   "source": [
    "### shift\n",
    "\n",
    "The ``shift`` method drops first label of an axis and shifts all subsequent labels\n"
   ]
  },
  {
   "cell_type": "code",
   "execution_count": null,
   "metadata": {},
   "outputs": [],
   "source": [
    "pop.shift('time')"
   ]
  },
  {
   "cell_type": "code",
   "execution_count": null,
   "metadata": {},
   "outputs": [],
   "source": [
    "# when shift is applied on an (increasing) time axis,\n",
    "# it effectively brings \"past\" data into the future\n",
    "pop.shift('time').drop_labels('time') == pop[2005:2014].drop_labels('time')"
   ]
  },
  {
   "cell_type": "code",
   "execution_count": null,
   "metadata": {},
   "outputs": [],
   "source": [
    "# this is mostly useful when you want to do operations between the past and now\n",
    "# as an example, here is an alternative implementation of the .diff method seen above:\n",
    "pop.i[1:] - pop.shift('time')"
   ]
  },
  {
   "cell_type": "markdown",
   "metadata": {},
   "source": [
    "### Misc other interesting functions\n",
    "\n",
    "There are a lot more interesting functions available:\n",
    "\n",
    "- round, floor, ceil, trunc,\n",
    "- exp, log, log10,\n",
    "- sqrt, absolute, nan_to_num, isnan, isinf, inverse,\n",
    "- sin, cos, tan, arcsin, arccos, arctan\n",
    "- and many many more...\n"
   ]
  }
 ],
 "metadata": {
  "celltoolbar": "Edit Metadata",
  "kernelspec": {
   "display_name": "Python 3",
   "language": "python",
   "name": "python3"
  },
  "language_info": {
   "codemirror_mode": {
    "name": "ipython",
    "version": 3
   },
   "file_extension": ".py",
   "mimetype": "text/x-python",
   "name": "python",
   "nbconvert_exporter": "python",
   "pygments_lexer": "ipython3",
   "version": "3.6.4"
  },
  "livereveal": {
   "autolaunch": false,
   "scroll": true
  }
 },
 "nbformat": 4,
 "nbformat_minor": 2
}
