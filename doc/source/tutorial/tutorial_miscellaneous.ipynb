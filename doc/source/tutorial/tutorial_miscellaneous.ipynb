{
 "cells": [
  {
   "cell_type": "markdown",
   "metadata": {},
   "source": [
    "# Some Useful Functions\n"
   ]
  },
  {
   "cell_type": "code",
   "execution_count": null,
   "metadata": {
    "nbsphinx": "hidden"
   },
   "outputs": [],
   "source": [
    "# run this cell to avoid annoying warnings\n",
    "import warnings\n",
    "warnings.filterwarnings(\"ignore\", message=r'.*numpy.dtype size changed*')"
   ]
  },
  {
   "cell_type": "markdown",
   "metadata": {},
   "source": [
    "Import the LArray library:\n"
   ]
  },
  {
   "cell_type": "code",
   "execution_count": null,
   "metadata": {},
   "outputs": [],
   "source": [
    "from larray import *"
   ]
  },
  {
   "cell_type": "code",
   "execution_count": null,
   "metadata": {},
   "outputs": [],
   "source": [
    "# load 'demography_eurostat' dataset\n",
    "demo_eurostat = load_example_data('demography_eurostat')\n",
    "\n",
    "# extract the 'pop' array from the dataset \n",
    "pop = demo_eurostat.pop\n",
    "pop"
   ]
  },
  {
   "cell_type": "markdown",
   "metadata": {},
   "source": [
    "### with total\n",
    "\n",
    "Add totals to one or several axes:\n"
   ]
  },
  {
   "cell_type": "code",
   "execution_count": null,
   "metadata": {},
   "outputs": [],
   "source": [
    "pop.with_total('gender', label='Total')"
   ]
  },
  {
   "cell_type": "markdown",
   "metadata": {},
   "source": [
    "See [with_total](../_generated/larray.Array.with_total.rst#larray.Array.with_total) for more details and examples.\n"
   ]
  },
  {
   "cell_type": "markdown",
   "metadata": {},
   "source": [
    "### where\n",
    "\n",
    "The ``where`` function can be used to apply some computation depending on a condition:\n"
   ]
  },
  {
   "cell_type": "code",
   "execution_count": null,
   "metadata": {},
   "outputs": [],
   "source": [
    "# where(condition, value if true, value if false)\n",
    "where(pop < pop.mean('time'), -pop, pop)"
   ]
  },
  {
   "cell_type": "markdown",
   "metadata": {},
   "source": [
    "See [where](../_generated/larray.where.rst#larray.where) for more details and examples.\n"
   ]
  },
  {
   "cell_type": "markdown",
   "metadata": {},
   "source": [
    "### clip\n",
    "\n",
    "Set all data between a certain range:\n"
   ]
  },
  {
   "cell_type": "code",
   "execution_count": null,
   "metadata": {},
   "outputs": [],
   "source": [
    "# values below 10 millions are set to 10 millions\n",
    "pop.clip(minval=10**7)"
   ]
  },
  {
   "cell_type": "code",
   "execution_count": null,
   "metadata": {},
   "outputs": [],
   "source": [
    "# values above 40 millions are set to 40 millions\n",
    "pop.clip(maxval=4*10**7)"
   ]
  },
  {
   "cell_type": "code",
   "execution_count": null,
   "metadata": {},
   "outputs": [],
   "source": [
    "# values below 10 millions are set to 10 millions and \n",
    "# values above 40 millions are set to 40 millions\n",
    "pop.clip(10**7, 4*10**7)"
   ]
  },
  {
   "cell_type": "markdown",
   "metadata": {},
   "source": [
    "See [clip](../_generated/larray.Array.clip.rst#larray.Array.clip) for more details and examples.\n"
   ]
  },
  {
   "cell_type": "markdown",
   "metadata": {},
   "source": [
    "### divnot0\n",
    "\n",
    "Replace division by 0 by 0:\n"
   ]
  },
  {
   "cell_type": "code",
   "execution_count": null,
   "metadata": {},
   "outputs": [],
   "source": [
    "divisor = ones(pop.axes, dtype=int)\n",
    "divisor['Male'] = 0\n",
    "divisor"
   ]
  },
  {
   "cell_type": "code",
   "execution_count": null,
   "metadata": {},
   "outputs": [],
   "source": [
    "pop / divisor"
   ]
  },
  {
   "cell_type": "code",
   "execution_count": null,
   "metadata": {},
   "outputs": [],
   "source": [
    "# we use astype(int) since the divnot0 method \n",
    "# returns a float array in this case while \n",
    "# we want an integer array\n",
    "pop.divnot0(divisor).astype(int)"
   ]
  },
  {
   "cell_type": "markdown",
   "metadata": {},
   "source": [
    "See [divnot0](../_generated/larray.Array.divnot0.rst#larray.Array.divnot0) for more details and examples.\n"
   ]
  },
  {
   "cell_type": "markdown",
   "metadata": {},
   "source": [
    "### ratio\n",
    "\n",
    "The ``ratio`` (``rationot0``) method returns an array with all values divided by the sum of values along given axes:"
   ]
  },
  {
   "cell_type": "code",
   "execution_count": null,
   "metadata": {},
   "outputs": [],
   "source": [
    "pop.ratio('gender')\n",
    "\n",
    "# which is equivalent to\n",
    "pop / pop.sum('gender')"
   ]
  },
  {
   "cell_type": "markdown",
   "metadata": {},
   "source": [
    "See [ratio](../_generated/larray.Array.ratio.rst#larray.Array.ratio) and [rationot0](../_generated/larray.Array.rationot0.rst#larray.Array.rationot0) for more details and examples.\n"
   ]
  },
  {
   "cell_type": "markdown",
   "metadata": {},
   "source": [
    "### percents\n"
   ]
  },
  {
   "cell_type": "code",
   "execution_count": null,
   "metadata": {},
   "outputs": [],
   "source": [
    "# or, if you want the previous ratios in percents\n",
    "pop.percent('gender')"
   ]
  },
  {
   "cell_type": "markdown",
   "metadata": {},
   "source": [
    "See [percent](../_generated/larray.Array.percent.rst#larray.Array.percent) for more details and examples.\n"
   ]
  },
  {
   "cell_type": "markdown",
   "metadata": {},
   "source": [
    "### diff\n",
    "\n",
    "The ``diff`` method calculates the n-th order discrete difference along a given axis.\n",
    "\n",
    "The first order difference is given by ``out[n+1] = in[n+1] - in[n]`` along the given axis.\n"
   ]
  },
  {
   "cell_type": "code",
   "execution_count": null,
   "metadata": {},
   "outputs": [],
   "source": [
    "# calculates 'diff[year+1] = pop[year+1] - pop[year]'\n",
    "pop.diff('time')"
   ]
  },
  {
   "cell_type": "code",
   "execution_count": null,
   "metadata": {},
   "outputs": [],
   "source": [
    "# calculates 'diff[year+2] = pop[year+2] - pop[year]'\n",
    "pop.diff('time', d=2)"
   ]
  },
  {
   "cell_type": "code",
   "execution_count": null,
   "metadata": {},
   "outputs": [],
   "source": [
    "# calculates 'diff[year] = pop[year+1] - pop[year]'\n",
    "pop.diff('time', label='lower')"
   ]
  },
  {
   "cell_type": "markdown",
   "metadata": {},
   "source": [
    "See [diff](../_generated/larray.Array.diff.rst#larray.Array.diff) for more details and examples.\n"
   ]
  },
  {
   "cell_type": "markdown",
   "metadata": {},
   "source": [
    "### growth\\_rate\n",
    "\n",
    "The ``growth_rate`` method calculates the growth along a given axis.\n",
    "    \n",
    "It is roughly equivalent to ``a.diff(axis, d, label) / a[axis.i[:-d]]``:\n"
   ]
  },
  {
   "cell_type": "code",
   "execution_count": null,
   "metadata": {},
   "outputs": [],
   "source": [
    "pop.growth_rate('time')"
   ]
  },
  {
   "cell_type": "markdown",
   "metadata": {},
   "source": [
    "See [growth_rate](../_generated/larray.Array.growth_rate.rst#larray.Array.growth_rate) for more details and examples.\n"
   ]
  },
  {
   "cell_type": "markdown",
   "metadata": {},
   "source": [
    "### shift\n",
    "\n",
    "The ``shift`` method drops first label of an axis and shifts all subsequent labels\n"
   ]
  },
  {
   "cell_type": "code",
   "execution_count": null,
   "metadata": {},
   "outputs": [],
   "source": [
    "pop.shift('time')"
   ]
  },
  {
   "cell_type": "code",
   "execution_count": null,
   "metadata": {},
   "outputs": [],
   "source": [
    "# when shift is applied on an (increasing) time axis,\n",
    "# it effectively brings \"past\" data into the future\n",
    "pop_shifted = pop.shift('time')\n",
    "stack({'pop_shifted_2014': pop_shifted[2014], 'pop_2013': pop[2013]}, 'array')"
   ]
  },
  {
   "cell_type": "markdown",
   "metadata": {},
   "source": [
    "See [shift](../_generated/larray.Array.shift.rst#larray.Array.shift) for more details and examples.\n"
   ]
  },
  {
   "cell_type": "markdown",
   "metadata": {},
   "source": [
    "### Other interesting functions\n",
    "\n",
    "There are a lot more interesting functions that you can find in the API reference in sections [Aggregation Functions](../api.rst#aggregation-functions), [Miscellaneous](../api.rst#miscellaneous) and [Utility Functions](../api.rst#utility-functions).\n"
   ]
  }
 ],
 "metadata": {
  "celltoolbar": "Edit Metadata",
  "kernelspec": {
   "display_name": "Python 3",
   "language": "python",
   "name": "python3"
  },
  "language_info": {
   "codemirror_mode": {
    "name": "ipython",
    "version": 3
   },
   "file_extension": ".py",
   "mimetype": "text/x-python",
   "name": "python",
   "nbconvert_exporter": "python",
   "pygments_lexer": "ipython3",
   "version": "3.7.3"
  },
  "livereveal": {
   "autolaunch": false,
   "scroll": true
  }
 },
 "nbformat": 4,
 "nbformat_minor": 2
}
