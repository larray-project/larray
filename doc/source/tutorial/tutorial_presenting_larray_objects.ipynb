{
 "cells": [
  {
   "cell_type": "markdown",
   "metadata": {},
   "source": [
    "# Presenting LArray objects (Axis, Groups, LArray, Session)\n"
   ]
  },
  {
   "cell_type": "markdown",
   "metadata": {},
   "source": [
    "Import the LArray library:\n"
   ]
  },
  {
   "cell_type": "code",
   "execution_count": null,
   "metadata": {},
   "outputs": [],
   "source": [
    "from larray import *"
   ]
  },
  {
   "cell_type": "markdown",
   "metadata": {},
   "source": [
    "## Axis\n",
    "\n",
    "An ``Axis`` represents a dimension of an LArray object.\n",
    "It consists of a name and a list of labels. \n",
    "\n",
    "They are several ways to create an axis:\n"
   ]
  },
  {
   "cell_type": "code",
   "execution_count": null,
   "metadata": {},
   "outputs": [],
   "source": [
    "# create a wildcard axis\n",
    "age = Axis(3, 'age')\n",
    "# labels given as a list\n",
    "time = Axis([2007, 2008, 2009], 'time')\n",
    "# create an axis using one string\n",
    "sex = Axis('sex=M,F')\n",
    "# labels generated using a special syntax\n",
    "other = Axis('other=A01..C03')\n",
    "\n",
    "age, sex, time, other"
   ]
  },
  {
   "cell_type": "markdown",
   "metadata": {},
   "source": [
    "## Groups\n",
    "\n",
    "A ``Group`` represents a selection of labels from an Axis. It can optionally have a name (using operator ``>>``). \n",
    "Groups can be used when selecting a subset (#ref needed) of an array and in aggregations (#ref needed). \n",
    "\n",
    "Group objects are created as follow:\n"
   ]
  },
  {
   "cell_type": "code",
   "execution_count": null,
   "metadata": {},
   "outputs": [],
   "source": [
    "# define an Axis object 'age'\n",
    "age = Axis('age=0..100')\n",
    "\n",
    "# create an anonymous Group object 'teens'\n",
    "teens = age[10:20]\n",
    "# create a Group object 'pensioners' with a name \n",
    "pensioners = age[67:] >> 'pensioners'\n",
    "\n",
    "teens"
   ]
  },
  {
   "cell_type": "markdown",
   "metadata": {},
   "source": [
    "It is possible to set a name or to rename a group after its declaration: \n"
   ]
  },
  {
   "cell_type": "code",
   "execution_count": null,
   "metadata": {},
   "outputs": [],
   "source": [
    "# method 'named' returns a new group with the given name\n",
    "teens = teens.named('teens')\n",
    "\n",
    "# operator >> is just a shortcut for the call of the method named\n",
    "teens = teens >> 'teens'\n",
    "\n",
    "teens"
   ]
  },
  {
   "cell_type": "markdown",
   "metadata": {},
   "source": [
    "## LArray\n",
    "\n",
    "A ``LArray`` object represents a multidimensional array with labeled axes (#ref needed).\n",
    "\n",
    "### Create an array from scratch\n",
    "\n",
    "To create an array from scratch, you need to provide the data and a list\n",
    "of axes. Optionally, a title can be defined:\n"
   ]
  },
  {
   "cell_type": "code",
   "execution_count": null,
   "metadata": {},
   "outputs": [],
   "source": [
    "import numpy as np\n",
    "\n",
    "# list of the axes\n",
    "axes = [age, sex, time, other]\n",
    "# data (the shape of data array must match axes lengths)\n",
    "data = np.random.randint(100, size=[len(axis) for axis in axes])\n",
    "# title (optional)\n",
    "title = 'random data'\n",
    "\n",
    "arr = LArray(data, axes, title)\n",
    "arr"
   ]
  },
  {
   "cell_type": "markdown",
   "metadata": {},
   "source": [
    "### Array creation functions\n",
    "\n",
    "Arrays can also be generated in an easier way through creation functions (#ref needed):\n",
    "\n",
    "-  `ndtest` : creates a test array with increasing numbers as data\n",
    "-  `empty` : creates an array but leaves its allocated memory\n",
    "   unchanged (i.e., it contains \"garbage\". Be careful !)\n",
    "-  `zeros`: fills an array with 0\n",
    "-  `ones` : fills an array with 1\n",
    "-  `full` : fills an array with a given value\n",
    "-  `sequence` : creates an array from an axis by iteratively applying a function to a given initial value.\n",
    "\n",
    "Except for ndtest, a list of axes must be provided.\n",
    "Axes can be passed in different ways:\n",
    "\n",
    "-  as Axis objects\n",
    "-  as integers defining the lengths of auto-generated wildcard axes\n",
    "-  as a string : 'sex=M,F;time=2007,2008,2009' (name is optional)\n",
    "-  as pairs (name, labels)\n",
    "\n",
    "Optionally, the type of data stored by the array can be specified using argument dtype.\n"
   ]
  },
  {
   "cell_type": "code",
   "execution_count": null,
   "metadata": {},
   "outputs": [],
   "source": [
    "# start defines the starting value of data\n",
    "ndtest(['age=0..2', 'sex=M,F', 'time=2007..2009'], start=-1)"
   ]
  },
  {
   "cell_type": "code",
   "execution_count": null,
   "metadata": {},
   "outputs": [],
   "source": [
    "# start defines the starting value of data\n",
    "# label_start defines the starting index of labels\n",
    "ndtest((3, 3), start=-1, label_start=2)"
   ]
  },
  {
   "cell_type": "code",
   "execution_count": null,
   "metadata": {},
   "outputs": [],
   "source": [
    "# empty generates uninitialised array with correct axes\n",
    "# (much faster but use with care!).\n",
    "# This not really random either, it just reuses a portion\n",
    "# of memory that is available, with whatever content is there.\n",
    "# Use it only if performance matters and make sure all data\n",
    "# will be overridden.\n",
    "empty(['age=0..2', 'sex=M,F', 'time=2007..2009'])"
   ]
  },
  {
   "cell_type": "code",
   "execution_count": null,
   "metadata": {},
   "outputs": [],
   "source": [
    "# example with anonymous axes\n",
    "zeros(['0..2', 'M,F', '2007..2009'])"
   ]
  },
  {
   "cell_type": "code",
   "execution_count": null,
   "metadata": {},
   "outputs": [],
   "source": [
    "# dtype=int forces to store int data instead of default float\n",
    "ones(['age=0..2', 'sex=M,F', 'time=2007..2009'], dtype=int)"
   ]
  },
  {
   "cell_type": "code",
   "execution_count": null,
   "metadata": {},
   "outputs": [],
   "source": [
    "full(['age=0..2', 'sex=M,F', 'time=2007..2009'], 1.23)"
   ]
  },
  {
   "cell_type": "markdown",
   "metadata": {},
   "source": [
    "All the above functions exist in *(func)_like* variants which take axes from another array\n"
   ]
  },
  {
   "cell_type": "code",
   "execution_count": null,
   "metadata": {},
   "outputs": [],
   "source": [
    "ones_like(arr)"
   ]
  },
  {
   "cell_type": "markdown",
   "metadata": {},
   "source": [
    "Create an array using the special ``sequence`` function (see link to documention of ``sequence`` in API reference for more examples):\n"
   ]
  },
  {
   "cell_type": "code",
   "execution_count": null,
   "metadata": {},
   "outputs": [],
   "source": [
    "# With initial=1.0 and inc=0.5, we generate the sequence 1.0, 1.5, 2.0, 2.5, 3.0, ...\n",
    "sequence('sex=M,F', initial=1.0, inc=0.5)"
   ]
  },
  {
   "cell_type": "markdown",
   "metadata": {},
   "source": [
    "### Inspecting LArray objects\n"
   ]
  },
  {
   "cell_type": "code",
   "execution_count": null,
   "metadata": {},
   "outputs": [],
   "source": [
    "# create a test array\n",
    "arr = ndtest([age, sex, time, other])"
   ]
  },
  {
   "cell_type": "markdown",
   "metadata": {},
   "source": [
    "Get array summary : dimensions + description of axes\n"
   ]
  },
  {
   "cell_type": "code",
   "execution_count": null,
   "metadata": {},
   "outputs": [],
   "source": [
    "arr.info"
   ]
  },
  {
   "cell_type": "markdown",
   "metadata": {},
   "source": [
    "Get axes\n"
   ]
  },
  {
   "cell_type": "code",
   "execution_count": null,
   "metadata": {},
   "outputs": [],
   "source": [
    "arr.axes"
   ]
  },
  {
   "cell_type": "markdown",
   "metadata": {},
   "source": [
    "Get array dimensions\n"
   ]
  },
  {
   "cell_type": "code",
   "execution_count": null,
   "metadata": {},
   "outputs": [],
   "source": [
    "arr.shape"
   ]
  },
  {
   "cell_type": "markdown",
   "metadata": {},
   "source": [
    "Get number of elements\n"
   ]
  },
  {
   "cell_type": "code",
   "execution_count": null,
   "metadata": {},
   "outputs": [],
   "source": [
    "arr.size"
   ]
  },
  {
   "cell_type": "markdown",
   "metadata": {},
   "source": [
    "Get size in memory\n"
   ]
  },
  {
   "cell_type": "code",
   "execution_count": null,
   "metadata": {},
   "outputs": [],
   "source": [
    "arr.memory_used"
   ]
  },
  {
   "cell_type": "markdown",
   "metadata": {},
   "source": [
    "Display the array in the viewer (graphical user interface) in read-only mode.\n",
    "This will open a new window and block execution of the rest of code until the windows is closed! Required PyQt installed.\n",
    "\n",
    "```python\n",
    "view(arr)\n",
    "```\n"
   ]
  },
  {
   "cell_type": "markdown",
   "metadata": {},
   "source": [
    "Or load it in Excel:\n",
    "\n",
    "```python\n",
    "arr.to_excel()\n",
    "```\n"
   ]
  },
  {
   "cell_type": "markdown",
   "metadata": {},
   "source": [
    "## Session\n",
    "\n",
    "A ``Session`` object is a dictionary-like object used to group several arrays (#ref needed). \n",
    "A session is particularly adapted to group all input arrays of a model or to group the output arrays from different scenarios.  \n",
    "\n",
    "In addition to simple dictionaries, sessions offer several specific methods, like: \n",
    "- ``save`` and ``load`` to save and load all arrays of a session at once in/from CSV or Excel or HDF5 file(s),\n",
    "- ``equals`` and ``array_equals`` to compare arrays between two sessions (scenarios) one by one,\n",
    "- ``apply`` to apply a function to all arrays of a session.\n",
    "\n",
    "See API Reference to explore the all methods of Session objects (#ref needed).\n"
   ]
  },
  {
   "cell_type": "markdown",
   "metadata": {},
   "source": [
    "### Create a Session\n",
    "\n",
    "Create an empty and populate it:\n"
   ]
  },
  {
   "cell_type": "code",
   "execution_count": null,
   "metadata": {},
   "outputs": [],
   "source": [
    "# create an empty session\n",
    "s = Session()\n",
    "\n",
    "# populate the session using 2 ways:\n",
    "# 1) with syntax: session.array_name = array\n",
    "s.arr1 = ndtest((3, 3))\n",
    "s.arr2 = ndtest((4, 2))\n",
    "# 2) like a dictionary: session['array_name'] = array\n",
    "s['arr3'] = ndtest((2, 4))\n",
    "\n",
    "s"
   ]
  },
  {
   "cell_type": "markdown",
   "metadata": {},
   "source": [
    "Load a session from a file:\n"
   ]
  },
  {
   "cell_type": "code",
   "execution_count": null,
   "metadata": {},
   "outputs": [],
   "source": [
    "from larray import EXAMPLE_FILES_DIR\n",
    "\n",
    "# path of the file to be read\n",
    "filepath = EXAMPLE_FILES_DIR + 'demography.h5'\n",
    "\n",
    "# load session\n",
    "s2 = Session(filepath)\n",
    "\n",
    "s2"
   ]
  }
 ],
 "metadata": {
  "celltoolbar": "Edit Metadata",
  "kernelspec": {
   "display_name": "Python 3",
   "language": "python",
   "name": "python3"
  },
  "language_info": {
   "codemirror_mode": {
    "name": "ipython",
    "version": 3
   },
   "file_extension": ".py",
   "mimetype": "text/x-python",
   "name": "python",
   "nbconvert_exporter": "python",
   "pygments_lexer": "ipython3",
   "version": "3.6.4"
  },
  "livereveal": {
   "autolaunch": false,
   "scroll": true
  }
 },
 "nbformat": 4,
 "nbformat_minor": 2
}
