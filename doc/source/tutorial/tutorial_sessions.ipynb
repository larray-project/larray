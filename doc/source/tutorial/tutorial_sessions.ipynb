{
 "cells": [
  {
   "cell_type": "markdown",
   "metadata": {},
   "source": [
    "## Working With Sessions\n"
   ]
  },
  {
   "cell_type": "markdown",
   "metadata": {},
   "source": [
    "Import the LArray library:\n"
   ]
  },
  {
   "cell_type": "code",
   "execution_count": null,
   "metadata": {},
   "outputs": [],
   "source": [
    "from larray import *"
   ]
  },
  {
   "cell_type": "markdown",
   "metadata": {},
   "source": [
    "Create test sessions:\n"
   ]
  },
  {
   "cell_type": "code",
   "execution_count": null,
   "metadata": {},
   "outputs": [],
   "source": [
    "s1 = Session([('arr1', ndtest((3, 3))), ('arr2', ndtest((4, 2))), ('arr3', ndtest((2, 4)))])\n",
    "\n",
    "# same as s1\n",
    "s2 = Session([('arr1', ndtest((3, 3))), ('arr2', ndtest((4, 2))), ('arr3', ndtest((2, 4)))])\n",
    "\n",
    "# modify elements of the first array\n",
    "s3 = Session([('arr1', ndtest((3, 3))), ('arr2', ndtest((4, 2))), ('arr3', ndtest((2, 4)))])\n",
    "s3.arr1['a0', 'b1':] = 0\n",
    "\n",
    "# add a new array\n",
    "s4 = Session([('arr1', ndtest((3, 3))), ('arr2', ndtest((4, 2))),\n",
    "              ('arr3', ndtest((2, 4))), ('arr4', ndtest((3, 3)))])"
   ]
  },
  {
   "cell_type": "markdown",
   "metadata": {},
   "source": [
    "Use ``equals`` and ``array_equals`` to compare arrays between two sessions:\n"
   ]
  },
  {
   "cell_type": "code",
   "execution_count": null,
   "metadata": {},
   "outputs": [],
   "source": [
    "# 'equals' returns True if all arrays of two sessions have exactly the same arrays\n",
    "s1.equals(s2)"
   ]
  },
  {
   "cell_type": "code",
   "execution_count": null,
   "metadata": {},
   "outputs": [],
   "source": [
    "s1.equals(s3)"
   ]
  },
  {
   "cell_type": "code",
   "execution_count": null,
   "metadata": {},
   "outputs": [],
   "source": [
    "s1.equals(s4)"
   ]
  },
  {
   "cell_type": "code",
   "execution_count": null,
   "metadata": {},
   "outputs": [],
   "source": [
    "# 'array_equals' compare arrays one by one\n",
    "s1.array_equals(s2)"
   ]
  },
  {
   "cell_type": "code",
   "execution_count": null,
   "metadata": {},
   "outputs": [],
   "source": [
    "s1.array_equals(s3)"
   ]
  },
  {
   "cell_type": "code",
   "execution_count": null,
   "metadata": {},
   "outputs": [],
   "source": [
    "s1.array_equals(s4)"
   ]
  },
  {
   "cell_type": "markdown",
   "metadata": {},
   "source": [
    "The ``==`` and ``!=`` operators return a new session with boolean arrays: \n"
   ]
  },
  {
   "cell_type": "code",
   "execution_count": null,
   "metadata": {},
   "outputs": [],
   "source": [
    "diff = s1 != s2\n",
    "\n",
    "diff.arr1"
   ]
  },
  {
   "cell_type": "code",
   "execution_count": null,
   "metadata": {},
   "outputs": [],
   "source": [
    "diff = s1 != s3\n",
    "\n",
    "diff.arr1"
   ]
  },
  {
   "cell_type": "code",
   "execution_count": null,
   "metadata": {},
   "outputs": [],
   "source": [
    "diff = s1 != s4\n",
    "\n",
    "diff.arr4"
   ]
  },
  {
   "cell_type": "markdown",
   "metadata": {},
   "source": [
    "Use the function ``compare`` to compare sessions (this a bit experimental but can be useful nonetheless (open a graphical interface)). Session must have the same list of arrays:\n",
    "\n",
    "```python\n",
    "compare(s1, s2, s3)\n",
    "```\n"
   ]
  }
 ],
 "metadata": {
  "celltoolbar": "Edit Metadata",
  "kernelspec": {
   "display_name": "Python 3",
   "language": "python",
   "name": "python3"
  },
  "language_info": {
   "codemirror_mode": {
    "name": "ipython",
    "version": 3
   },
   "file_extension": ".py",
   "mimetype": "text/x-python",
   "name": "python",
   "nbconvert_exporter": "python",
   "pygments_lexer": "ipython3",
   "version": "3.6.4"
  },
  "livereveal": {
   "autolaunch": false,
   "scroll": true
  }
 },
 "nbformat": 4,
 "nbformat_minor": 2
}
