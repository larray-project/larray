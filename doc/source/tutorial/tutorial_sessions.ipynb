{
 "cells": [
  {
   "cell_type": "markdown",
   "metadata": {},
   "source": [
    "## Working With Sessions\n"
   ]
  },
  {
   "cell_type": "code",
   "execution_count": null,
   "metadata": {
    "nbsphinx": "hidden"
   },
   "outputs": [],
   "source": [
    "# run this cell to avoid annoying warnings\n",
    "import warnings\n",
    "warnings.filterwarnings(\"ignore\", message=r'.*numpy.dtype size changed*')"
   ]
  },
  {
   "cell_type": "markdown",
   "metadata": {},
   "source": [
    "Import the LArray library:\n"
   ]
  },
  {
   "cell_type": "code",
   "execution_count": null,
   "metadata": {},
   "outputs": [],
   "source": [
    "from larray import *"
   ]
  },
  {
   "cell_type": "markdown",
   "metadata": {},
   "source": [
    "### Before To Continue\n",
    "\n",
    "If you not yet comfortable with creating, saving and loading sessions, please read first the [Creating Sessions](tutorial_presenting_larray_objects.ipynb#Creating-Sessions) and [Loading and Dumping Sessions](tutorial_IO.ipynb#Loading-and-Dumping-Sessions) sections of the tutorial before going further.  "
   ]
  },
  {
   "cell_type": "markdown",
   "metadata": {},
   "source": [
    "### Exploring Content\n",
    "\n",
    "To get the list of items names of a session, use the [names](../_generated/larray.Session.names.rst#larray.Session.names) shortcut (be careful that the list is sorted alphabetically and does not follow the internal order!):"
   ]
  },
  {
   "cell_type": "code",
   "execution_count": null,
   "metadata": {},
   "outputs": [],
   "source": [
    "# load a session representing the results of a demographic model\n",
    "filepath_hdf = get_example_filepath('demography_eurostat.h5')\n",
    "s_pop = Session(filepath_hdf)\n",
    "\n",
    "# print the content of the session\n",
    "print(s_pop.names)"
   ]
  },
  {
   "cell_type": "markdown",
   "metadata": {},
   "source": [
    "To get more information of items of a session, the [summary](../_generated/larray.Session.summary.rst#larray.Session.summary)  will provide not only the names of items but also the list of labels in the case of axes or groups and the list of axes, the shape and the dtype in the case of arrays:"
   ]
  },
  {
   "cell_type": "code",
   "execution_count": null,
   "metadata": {},
   "outputs": [],
   "source": [
    "# print the content of the session\n",
    "print(s_pop.summary())"
   ]
  },
  {
   "cell_type": "markdown",
   "metadata": {},
   "source": [
    "### Selecting And Filtering Items\n",
    "\n",
    "Session objects work like ordinary ``dict`` Python objects. To select an item, use the usual syntax ``<session_var>['<item_name>']``: "
   ]
  },
  {
   "cell_type": "code",
   "execution_count": null,
   "metadata": {},
   "outputs": [],
   "source": [
    "s_pop['pop']"
   ]
  },
  {
   "cell_type": "markdown",
   "metadata": {},
   "source": [
    "A simpler way consists in the use the syntax ``<session_var>.<item_name>``:"
   ]
  },
  {
   "cell_type": "code",
   "execution_count": null,
   "metadata": {},
   "outputs": [],
   "source": [
    "s_pop.pop"
   ]
  },
  {
   "cell_type": "markdown",
   "metadata": {},
   "source": [
    "<div class=\"alert alert-warning\">\n",
    "    **Warning:** The syntax ``session_var.item_name`` will work as long as you don't use any special character like ``, ; :`` in the item's name.\n",
    "</div>"
   ]
  },
  {
   "cell_type": "markdown",
   "metadata": {},
   "source": [
    "To return a new session with selected items, use the syntax ``<session_var>[list, of, item, names]``:"
   ]
  },
  {
   "cell_type": "code",
   "execution_count": null,
   "metadata": {},
   "outputs": [],
   "source": [
    "s_pop_new = s_pop['pop', 'births', 'deaths']\n",
    "\n",
    "s_pop_new.names"
   ]
  },
  {
   "cell_type": "markdown",
   "metadata": {},
   "source": [
    "The [filter](../_generated/larray.Session.filter.rst#larray.Session.filter) method allows you to select all items of the same kind (i.e. all axes, or groups or arrays) or all items with names satisfying a given pattern:"
   ]
  },
  {
   "cell_type": "code",
   "execution_count": null,
   "metadata": {},
   "outputs": [],
   "source": [
    "# select only arrays of a session\n",
    "s_pop.filter(kind=Array)"
   ]
  },
  {
   "cell_type": "code",
   "execution_count": null,
   "metadata": {},
   "outputs": [],
   "source": [
    "# selection all items with a name starting with a letter between a and k\n",
    "s_pop.filter(pattern='[a-k]*')"
   ]
  },
  {
   "cell_type": "markdown",
   "metadata": {},
   "source": [
    "### Iterating over Items\n",
    "\n",
    "Like the built-in Python ``dict`` objects, Session objects provide methods to iterate over items:  "
   ]
  },
  {
   "cell_type": "code",
   "execution_count": null,
   "metadata": {},
   "outputs": [],
   "source": [
    "# iterate over item names\n",
    "for key in s_pop.keys():\n",
    "    print(key)"
   ]
  },
  {
   "cell_type": "code",
   "execution_count": null,
   "metadata": {},
   "outputs": [],
   "source": [
    "# iterate over items\n",
    "for value in s_pop.values():\n",
    "    if isinstance(value, Array):\n",
    "        print(value.info)\n",
    "    else:\n",
    "        print(repr(value))\n",
    "    print()"
   ]
  },
  {
   "cell_type": "code",
   "execution_count": null,
   "metadata": {},
   "outputs": [],
   "source": [
    "# iterate over names and items\n",
    "for key, value in s_pop.items():\n",
    "    if isinstance(value, Array):\n",
    "        print(key, ':')\n",
    "        print(value.info)\n",
    "    else:\n",
    "        print(key, ':', repr(value))\n",
    "    print()"
   ]
  },
  {
   "cell_type": "markdown",
   "metadata": {},
   "source": [
    "### Arithmetic Operations On Sessions\n",
    "\n",
    "Session objects accept binary operations with a scalar:"
   ]
  },
  {
   "cell_type": "code",
   "execution_count": null,
   "metadata": {},
   "outputs": [],
   "source": [
    "# get population, births and deaths in millions\n",
    "s_pop_div = s_pop / 1e6\n",
    "\n",
    "s_pop_div.pop"
   ]
  },
  {
   "cell_type": "markdown",
   "metadata": {},
   "source": [
    "with an array (please read the documentation of the [random.choice](../_generated/larray.random.choice.rst#larray.random.choice) function first if you don't know it):"
   ]
  },
  {
   "cell_type": "code",
   "execution_count": null,
   "metadata": {},
   "outputs": [],
   "source": [
    "from larray import random\n",
    "random_increment = random.choice([-1, 0, 1], p=[0.3, 0.4, 0.3], axes=s_pop.pop.axes) * 1000\n",
    "random_increment"
   ]
  },
  {
   "cell_type": "code",
   "execution_count": null,
   "metadata": {},
   "outputs": [],
   "source": [
    "# add some variables of a session by a common array\n",
    "s_pop_rand = s_pop['pop', 'births', 'deaths'] + random_increment\n",
    "\n",
    "s_pop_rand.pop"
   ]
  },
  {
   "cell_type": "markdown",
   "metadata": {},
   "source": [
    "with another session:"
   ]
  },
  {
   "cell_type": "code",
   "execution_count": null,
   "metadata": {},
   "outputs": [],
   "source": [
    "# compute the difference between each array of the two sessions\n",
    "s_diff = s_pop - s_pop_rand\n",
    "\n",
    "s_diff.births"
   ]
  },
  {
   "cell_type": "markdown",
   "metadata": {},
   "source": [
    "### Applying Functions On All Arrays\n",
    "\n",
    "In addition to the classical arithmetic operations, the [apply](../_generated/larray.Session.apply.rst#larray.Session.apply) method can be used to apply the same function on all arrays. This function should take a single element argument and return a single value:"
   ]
  },
  {
   "cell_type": "code",
   "execution_count": null,
   "metadata": {},
   "outputs": [],
   "source": [
    "# add the next year to all arrays\n",
    "def add_next_year(array):\n",
    "    if 'time' in array.axes.names:\n",
    "        last_year = array.time.i[-1] \n",
    "        return array.append('time', 0, last_year + 1)\n",
    "    else:\n",
    "        return array\n",
    "\n",
    "s_pop_with_next_year = s_pop.apply(add_next_year)\n",
    "\n",
    "print('pop array before calling apply:')\n",
    "print(s_pop.pop)\n",
    "print()\n",
    "print('pop array after calling apply:')\n",
    "print(s_pop_with_next_year.pop)"
   ]
  },
  {
   "cell_type": "markdown",
   "metadata": {},
   "source": [
    "It is possible to pass a function with additional arguments:"
   ]
  },
  {
   "cell_type": "code",
   "execution_count": null,
   "metadata": {},
   "outputs": [],
   "source": [
    "# add the next year to all arrays.\n",
    "# Use the 'copy_values_from_last_year flag' to indicate \n",
    "# whether or not to copy values from the last year\n",
    "def add_next_year(array, copy_values_from_last_year):\n",
    "    if 'time' in array.axes.names:\n",
    "        last_year = array.time.i[-1]\n",
    "        value = array[last_year] if copy_values_from_last_year else 0\n",
    "        return array.append('time', value, last_year + 1)\n",
    "    else:\n",
    "        return array\n",
    "\n",
    "s_pop_with_next_year = s_pop.apply(add_next_year, True)\n",
    "\n",
    "print('pop array before calling apply:')\n",
    "print(s_pop.pop)\n",
    "print()\n",
    "print('pop array after calling apply:')\n",
    "print(s_pop_with_next_year.pop)"
   ]
  },
  {
   "cell_type": "markdown",
   "metadata": {},
   "source": [
    "It is also possible to apply a function on non-Array objects of a session. Please refer the documentation of the [apply](../_generated/larray.Session.apply.rst#larray.Session.apply) method."
   ]
  },
  {
   "cell_type": "markdown",
   "metadata": {},
   "source": [
    "### Comparing Sessions\n",
    "\n",
    "Being able to compare two sessions may be useful when you want to compare two different models expected to give the same results or when you have updated your model and want to see what are the consequences of the recent changes."
   ]
  },
  {
   "cell_type": "markdown",
   "metadata": {},
   "source": [
    "[Session objects](../api.rst#session) provide the two methods to compare two sessions: [equals](../_generated/larray.Session.equals.rst#larray.Session.equals) and [element_equals](../_generated/larray.Session.element_equals.rst#larray.Session.element_equals):\n",
    "\n",
    "-  The ``equals`` method will return True if **all items** from both sessions are identical, False otherwise.\n",
    "-  The ``element_equals`` method will compare items of two sessions one by one and return an array of boolean values."
   ]
  },
  {
   "cell_type": "code",
   "execution_count": null,
   "metadata": {},
   "outputs": [],
   "source": [
    "# load a session representing the results of a demographic model\n",
    "filepath_hdf = get_example_filepath('demography_eurostat.h5')\n",
    "s_pop = Session(filepath_hdf)\n",
    "\n",
    "# create a copy of the original session\n",
    "s_pop_copy = s_pop.copy()"
   ]
  },
  {
   "cell_type": "code",
   "execution_count": null,
   "metadata": {},
   "outputs": [],
   "source": [
    "# 'element_equals' compare arrays one by one\n",
    "s_pop.element_equals(s_pop_copy)"
   ]
  },
  {
   "cell_type": "code",
   "execution_count": null,
   "metadata": {},
   "outputs": [],
   "source": [
    "# 'equals' returns True if all items of the two sessions have exactly the same items\n",
    "s_pop.equals(s_pop_copy)"
   ]
  },
  {
   "cell_type": "code",
   "execution_count": null,
   "metadata": {},
   "outputs": [],
   "source": [
    "# slightly modify the 'pop' array for some labels combination\n",
    "s_pop_copy.pop += random_increment "
   ]
  },
  {
   "cell_type": "code",
   "execution_count": null,
   "metadata": {},
   "outputs": [],
   "source": [
    "# the 'pop' array is different between the two sessions\n",
    "s_pop.element_equals(s_pop_copy)"
   ]
  },
  {
   "cell_type": "code",
   "execution_count": null,
   "metadata": {},
   "outputs": [],
   "source": [
    "# 'equals' returns False if at least one item of the two sessions are different in values or axes\n",
    "s_pop.equals(s_pop_copy)"
   ]
  },
  {
   "cell_type": "code",
   "execution_count": null,
   "metadata": {},
   "outputs": [],
   "source": [
    "# reset the 'copy' session as a copy of the original session\n",
    "s_pop_copy = s_pop.copy()\n",
    "\n",
    "# add an array to the 'copy' session\n",
    "s_pop_copy.gender_ratio = s_pop_copy.pop.ratio('gender')"
   ]
  },
  {
   "cell_type": "code",
   "execution_count": null,
   "metadata": {},
   "outputs": [],
   "source": [
    "# the 'gender_ratio' array is not present in the original session\n",
    "s_pop.element_equals(s_pop_copy)"
   ]
  },
  {
   "cell_type": "code",
   "execution_count": null,
   "metadata": {},
   "outputs": [],
   "source": [
    "# 'equals' returns False if at least one item is not present in the two sessions\n",
    "s_pop.equals(s_pop_copy)"
   ]
  },
  {
   "cell_type": "markdown",
   "metadata": {},
   "source": [
    "The ``==`` operator return a new session with boolean arrays with elements compared element-wise: \n"
   ]
  },
  {
   "cell_type": "code",
   "execution_count": null,
   "metadata": {},
   "outputs": [],
   "source": [
    "# reset the 'copy' session as a copy of the original session\n",
    "s_pop_copy = s_pop.copy()\n",
    "\n",
    "# slightly modify the 'pop' array for some labels combination\n",
    "s_pop_copy.pop += random_increment"
   ]
  },
  {
   "cell_type": "code",
   "execution_count": null,
   "metadata": {},
   "outputs": [],
   "source": [
    "s_check_same_values = s_pop == s_pop_copy\n",
    "\n",
    "s_check_same_values.pop"
   ]
  },
  {
   "cell_type": "markdown",
   "metadata": {},
   "source": [
    "This also works for axes and groups:"
   ]
  },
  {
   "cell_type": "code",
   "execution_count": null,
   "metadata": {},
   "outputs": [],
   "source": [
    "s_check_same_values.time"
   ]
  },
  {
   "cell_type": "markdown",
   "metadata": {},
   "source": [
    "The ``!=`` operator does the opposite of ``==`` operator: "
   ]
  },
  {
   "cell_type": "code",
   "execution_count": null,
   "metadata": {},
   "outputs": [],
   "source": [
    "s_check_different_values = s_pop != s_pop_copy\n",
    "\n",
    "s_check_different_values.pop"
   ]
  },
  {
   "cell_type": "markdown",
   "metadata": {},
   "source": [
    "A more visual way is to use the [compare](../_generated/larray.compare.rst#larray.compare) function which will open the ``Editor``.\n",
    "\n",
    "```python\n",
    "compare(s_pop, s_pop_alternative, names=['baseline', 'lower_birth_rate'])\n",
    "```\n",
    "\n",
    "![compare two sessions](../_static/compare_tutorial.png)"
   ]
  },
  {
   "cell_type": "markdown",
   "metadata": {},
   "source": [
    "### Session API\n",
    "\n",
    "Please go to the [Session](../api.rst#session) section of the API Reference to get the list of all methods of Session objects."
   ]
  }
 ],
 "metadata": {
  "celltoolbar": "Edit Metadata",
  "kernelspec": {
   "display_name": "Python 3",
   "language": "python",
   "name": "python3"
  },
  "language_info": {
   "codemirror_mode": {
    "name": "ipython",
    "version": 3
   },
   "file_extension": ".py",
   "mimetype": "text/x-python",
   "name": "python",
   "nbconvert_exporter": "python",
   "pygments_lexer": "ipython3",
   "version": "3.7.3"
  },
  "livereveal": {
   "autolaunch": false,
   "scroll": true
  }
 },
 "nbformat": 4,
 "nbformat_minor": 2
}
