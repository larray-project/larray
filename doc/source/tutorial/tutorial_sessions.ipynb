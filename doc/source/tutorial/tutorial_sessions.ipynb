{
 "cells": [
  {
   "cell_type": "markdown",
   "metadata": {},
   "source": [
    "# Working With Sessions\n"
   ]
  },
  {
   "cell_type": "markdown",
   "metadata": {},
   "source": [
    "Import the LArray library:\n"
   ]
  },
  {
   "cell_type": "code",
   "execution_count": null,
   "metadata": {},
   "outputs": [],
   "source": [
    "from larray import *"
   ]
  },
  {
   "cell_type": "markdown",
   "metadata": {},
   "source": [
    "## Before To Continue\n",
    "\n",
    "If you are not yet comfortable with creating, saving and loading sessions, please read first the [Creating Sessions](tutorial_presenting_larray_objects.ipynb#Creating-Sessions) section of the tutorial before going further.  "
   ]
  },
  {
   "cell_type": "markdown",
   "metadata": {},
   "source": [
    "## Loading and Dumping Sessions\n",
    "\n",
    "One of the main advantages of grouping arrays, axes and groups in session objects is that you can load and save all of them in one shot. Like arrays, it is possible to associate metadata to a session. These can be saved and loaded in all file formats. "
   ]
  },
  {
   "cell_type": "markdown",
   "metadata": {},
   "source": [
    "### Loading Sessions (CSV, Excel, HDF5)\n",
    "\n",
    "To load the items of a session, you have two options:\n",
    "\n",
    "1) Instantiate a new session and pass the path to the Excel/HDF5 file or to the directory containing CSV files to the Session constructor:"
   ]
  },
  {
   "cell_type": "code",
   "execution_count": null,
   "metadata": {},
   "outputs": [],
   "source": [
    "# create a new Session object and load all arrays, axes, groups and metadata \n",
    "# from all CSV files located in the passed directory\n",
    "csv_dir = get_example_filepath('demography_eurostat')\n",
    "demography_session = Session(csv_dir)\n",
    "\n",
    "# create a new Session object and load all arrays, axes, groups and metadata\n",
    "# stored in the passed Excel file\n",
    "filepath_excel = get_example_filepath('demography_eurostat.xlsx')\n",
    "demography_session = Session(filepath_excel)\n",
    "\n",
    "# create a new Session object and load all arrays, axes, groups and metadata\n",
    "# stored in the passed HDF5 file\n",
    "filepath_hdf = get_example_filepath('demography_eurostat.h5')\n",
    "demography_session = Session(filepath_hdf)\n",
    "\n",
    "print(demography_session.summary())"
   ]
  },
  {
   "cell_type": "markdown",
   "metadata": {},
   "source": [
    "2) Call the ``load`` method on an existing session and pass the path to the Excel/HDF5 file or to the directory containing CSV files as first argument:"
   ]
  },
  {
   "cell_type": "code",
   "execution_count": null,
   "metadata": {},
   "outputs": [],
   "source": [
    "# create a session containing 3 axes, 2 groups and one array 'population'\n",
    "filepath = get_example_filepath('population_only.xlsx')\n",
    "demography_session = Session(filepath)\n",
    "\n",
    "print(demography_session.summary())"
   ]
  },
  {
   "cell_type": "code",
   "execution_count": null,
   "metadata": {},
   "outputs": [],
   "source": [
    "# call the load method on the previous session and add the 'births' and 'deaths' arrays to it\n",
    "filepath = get_example_filepath('births_and_deaths.xlsx')\n",
    "demography_session.load(filepath)\n",
    "\n",
    "print(demography_session.summary())"
   ]
  },
  {
   "cell_type": "markdown",
   "metadata": {},
   "source": [
    "The ``load`` method offers some options:\n",
    "\n",
    "1) Using the ``names`` argument, you can specify which items to load:"
   ]
  },
  {
   "cell_type": "code",
   "execution_count": null,
   "metadata": {},
   "outputs": [],
   "source": [
    "births_and_deaths_session = Session()\n",
    "\n",
    "# use the names argument to only load births and deaths arrays\n",
    "births_and_deaths_session.load(filepath_hdf, names=['births', 'deaths'])\n",
    "\n",
    "print(births_and_deaths_session.summary())"
   ]
  },
  {
   "cell_type": "markdown",
   "metadata": {},
   "source": [
    "2) Setting the ``display`` argument to True, the ``load`` method will print a message each time a new item is loaded:  "
   ]
  },
  {
   "cell_type": "code",
   "execution_count": null,
   "metadata": {},
   "outputs": [],
   "source": [
    "demography_session = Session()\n",
    "\n",
    "# with display=True, the load method will print a message\n",
    "# each time a new item is loaded\n",
    "demography_session.load(filepath_hdf, display=True)"
   ]
  },
  {
   "cell_type": "markdown",
   "metadata": {},
   "source": [
    "### Dumping Sessions (CSV, Excel, HDF5)\n",
    "\n",
    "To save a session, you need to call the ``save`` method. The first argument is the path to a Excel/HDF5 file or to a directory if items are saved to CSV files:"
   ]
  },
  {
   "cell_type": "code",
   "execution_count": null,
   "metadata": {},
   "outputs": [],
   "source": [
    "# save items of a session in CSV files.\n",
    "# Here, the save method will create a 'demography' directory in which CSV files will be written \n",
    "demography_session.save('demography')\n",
    "\n",
    "# save the session to an HDF5 file\n",
    "demography_session.save('demography.h5')\n",
    "\n",
    "# save the session to an Excel file\n",
    "demography_session.save('demography.xlsx')\n",
    "\n",
    "# load session saved in 'demography.h5' to see its content\n",
    "Session('demography.h5')"
   ]
  },
  {
   "cell_type": "markdown",
   "metadata": {},
   "source": [
    "<div class=\"alert alert-info\">\n",
    "  Note: Concerning the CSV and Excel formats, the metadata is saved in one Excel sheet (CSV file) named `__metadata__(.csv)`. This sheet (CSV file) name cannot be changed. \n",
    "</div>"
   ]
  },
  {
   "cell_type": "markdown",
   "metadata": {},
   "source": [
    "The ``save`` method has several arguments:\n",
    "\n",
    "1) Using the ``names`` argument, you can specify which items to save:"
   ]
  },
  {
   "cell_type": "code",
   "execution_count": null,
   "metadata": {},
   "outputs": [],
   "source": [
    "# use the names argument to only save births and deaths arrays\n",
    "demography_session.save('demography.h5', names=['births', 'deaths'])\n",
    "\n",
    "# load session saved in 'demography.h5' to see its content\n",
    "Session('demography.h5')"
   ]
  },
  {
   "cell_type": "markdown",
   "metadata": {},
   "source": [
    "2) By default, dumping a session to an Excel or HDF5 file will overwrite it. By setting the ``overwrite`` argument to False, you can choose to update the existing Excel or HDF5 file: "
   ]
  },
  {
   "cell_type": "code",
   "execution_count": null,
   "metadata": {},
   "outputs": [],
   "source": [
    "population = read_csv('./demography/population.csv')\n",
    "population_session = Session([('population', population)])\n",
    "\n",
    "# by setting overwrite to False, the destination file is updated instead of overwritten.\n",
    "# The items already stored in the file but not present in the session are left intact. \n",
    "# On the contrary, the items that exist in both the file and the session are completely overwritten.\n",
    "population_session.save('demography.h5', overwrite=False)\n",
    "\n",
    "# load session saved in 'demography.h5' to see its content\n",
    "Session('demography.h5')"
   ]
  },
  {
   "cell_type": "markdown",
   "metadata": {},
   "source": [
    "3) Setting the ``display`` argument to True, the ``save`` method will print a message each time an item is dumped:  "
   ]
  },
  {
   "cell_type": "code",
   "execution_count": null,
   "metadata": {},
   "outputs": [],
   "source": [
    "# with display=True, the save method will print a message\n",
    "# each time an item is dumped\n",
    "demography_session.save('demography.h5', display=True)"
   ]
  },
  {
   "cell_type": "markdown",
   "metadata": {},
   "source": [
    "## Exploring Content\n",
    "\n",
    "To get the list of items names of a session, use the [names](../_generated/larray.Session.names.rst#larray.Session.names) shortcut (be careful that the list is sorted alphabetically and does not follow the internal order!):"
   ]
  },
  {
   "cell_type": "code",
   "execution_count": null,
   "metadata": {},
   "outputs": [],
   "source": [
    "# load a session representing the results of a demographic model\n",
    "filepath_hdf = get_example_filepath('demography_eurostat.h5')\n",
    "demography_session = Session(filepath_hdf)\n",
    "\n",
    "# print the content of the session\n",
    "print(demography_session.names)"
   ]
  },
  {
   "cell_type": "markdown",
   "metadata": {},
   "source": [
    "To get more information of items of a session, the [summary](../_generated/larray.Session.summary.rst#larray.Session.summary)  will provide not only the names of items but also the list of labels in the case of axes or groups and the list of axes, the shape and the dtype in the case of arrays:"
   ]
  },
  {
   "cell_type": "code",
   "execution_count": null,
   "metadata": {},
   "outputs": [],
   "source": [
    "# print the content of the session\n",
    "print(demography_session.summary())"
   ]
  },
  {
   "cell_type": "markdown",
   "metadata": {},
   "source": [
    "## Selecting And Filtering Items\n",
    "\n",
    "Session objects work like ordinary ``dict`` Python objects. To select an item, use the usual syntax ``<session_var>['<item_name>']``: "
   ]
  },
  {
   "cell_type": "code",
   "execution_count": null,
   "metadata": {},
   "outputs": [],
   "source": [
    "demography_session['population']"
   ]
  },
  {
   "cell_type": "markdown",
   "metadata": {},
   "source": [
    "A simpler way consists in the use the syntax ``<session_var>.<item_name>``:"
   ]
  },
  {
   "cell_type": "code",
   "execution_count": null,
   "metadata": {},
   "outputs": [],
   "source": [
    "demography_session.population"
   ]
  },
  {
   "cell_type": "markdown",
   "metadata": {},
   "source": [
    "<div class=\"alert alert-warning\">\n",
    "    **Warning:** The syntax ``session_var.item_name`` will work as long as you don't use any special character like ``, ; :`` in the item's name.\n",
    "</div>"
   ]
  },
  {
   "cell_type": "markdown",
   "metadata": {},
   "source": [
    "To return a new session with selected items, use the syntax ``<session_var>[list, of, item, names]``:"
   ]
  },
  {
   "cell_type": "code",
   "execution_count": null,
   "metadata": {},
   "outputs": [],
   "source": [
    "demography_session_new = demography_session['population', 'births', 'deaths']\n",
    "\n",
    "demography_session_new.names"
   ]
  },
  {
   "cell_type": "markdown",
   "metadata": {},
   "source": [
    "The [filter](../_generated/larray.Session.filter.rst#larray.Session.filter) method allows you to select all items of the same kind (i.e. all axes, or groups or arrays) or all items with names satisfying a given pattern:"
   ]
  },
  {
   "cell_type": "code",
   "execution_count": null,
   "metadata": {},
   "outputs": [],
   "source": [
    "# select only arrays of a session\n",
    "demography_session.filter(kind=Array)"
   ]
  },
  {
   "cell_type": "code",
   "execution_count": null,
   "metadata": {},
   "outputs": [],
   "source": [
    "# selection all items with a name starting with a letter between a and k\n",
    "demography_session.filter(pattern='[a-k]*')"
   ]
  },
  {
   "cell_type": "markdown",
   "metadata": {},
   "source": [
    "## Iterating over Items\n",
    "\n",
    "Like the built-in Python ``dict`` objects, Session objects provide methods to iterate over items:  "
   ]
  },
  {
   "cell_type": "code",
   "execution_count": null,
   "metadata": {},
   "outputs": [],
   "source": [
    "# iterate over item names\n",
    "for key in demography_session.keys():\n",
    "    print(key)"
   ]
  },
  {
   "cell_type": "code",
   "execution_count": null,
   "metadata": {},
   "outputs": [],
   "source": [
    "# iterate over items\n",
    "for value in demography_session.values():\n",
    "    if isinstance(value, Array):\n",
    "        print(value.info)\n",
    "    else:\n",
    "        print(repr(value))\n",
    "    print()"
   ]
  },
  {
   "cell_type": "code",
   "execution_count": null,
   "metadata": {},
   "outputs": [],
   "source": [
    "# iterate over names and items\n",
    "for key, value in demography_session.items():\n",
    "    if isinstance(value, Array):\n",
    "        print(key, ':')\n",
    "        print(value.info)\n",
    "    else:\n",
    "        print(key, ':', repr(value))\n",
    "    print()"
   ]
  },
  {
   "cell_type": "markdown",
   "metadata": {},
   "source": [
    "## Arithmetic Operations On Sessions\n",
    "\n",
    "Session objects accept binary operations with a scalar:"
   ]
  },
  {
   "cell_type": "code",
   "execution_count": null,
   "metadata": {},
   "outputs": [],
   "source": [
    "# get population, births and deaths in millions\n",
    "demography_session_div = demography_session / 1e6\n",
    "\n",
    "demography_session_div.population"
   ]
  },
  {
   "cell_type": "markdown",
   "metadata": {},
   "source": [
    "with an array (please read the documentation of the [random.choice](../_generated/larray.random.choice.rst#larray.random.choice) function first if you don't know it):"
   ]
  },
  {
   "cell_type": "code",
   "execution_count": null,
   "metadata": {},
   "outputs": [],
   "source": [
    "from larray import random\n",
    "random_increment = random.choice([-1, 0, 1], p=[0.3, 0.4, 0.3], axes=demography_session.population.axes) * 1000\n",
    "random_increment"
   ]
  },
  {
   "cell_type": "code",
   "execution_count": null,
   "metadata": {},
   "outputs": [],
   "source": [
    "# add some variables of a session by a common array\n",
    "demography_session_rand = demography_session['population', 'births', 'deaths'] + random_increment\n",
    "\n",
    "demography_session_rand.population"
   ]
  },
  {
   "cell_type": "markdown",
   "metadata": {},
   "source": [
    "with another session:"
   ]
  },
  {
   "cell_type": "code",
   "execution_count": null,
   "metadata": {},
   "outputs": [],
   "source": [
    "# compute the difference between each array of the two sessions\n",
    "s_diff = demography_session - demography_session_rand\n",
    "\n",
    "s_diff.births"
   ]
  },
  {
   "cell_type": "markdown",
   "metadata": {},
   "source": [
    "## Applying Functions On All Arrays\n",
    "\n",
    "In addition to the classical arithmetic operations, the [apply](../_generated/larray.Session.apply.rst#larray.Session.apply) method can be used to apply the same function on all arrays. This function should take a single element argument and return a single value:"
   ]
  },
  {
   "cell_type": "code",
   "execution_count": null,
   "metadata": {},
   "outputs": [],
   "source": [
    "# add the next year to all arrays\n",
    "def add_next_year(array):\n",
    "    if 'time' in array.axes.names:\n",
    "        last_year = array.time.i[-1] \n",
    "        return array.append('time', 0, last_year + 1)\n",
    "    else:\n",
    "        return array\n",
    "\n",
    "demography_session_with_next_year = demography_session.apply(add_next_year)\n",
    "\n",
    "print('population array before calling apply:')\n",
    "print(demography_session.population)\n",
    "print()\n",
    "print('population array after calling apply:')\n",
    "print(demography_session_with_next_year.population)"
   ]
  },
  {
   "cell_type": "markdown",
   "metadata": {},
   "source": [
    "It is possible to pass a function with additional arguments:"
   ]
  },
  {
   "cell_type": "code",
   "execution_count": null,
   "metadata": {},
   "outputs": [],
   "source": [
    "# add the next year to all arrays.\n",
    "# Use the 'copy_values_from_last_year flag' to indicate \n",
    "# whether or not to copy values from the last year\n",
    "def add_next_year(array, copy_values_from_last_year):\n",
    "    if 'time' in array.axes.names:\n",
    "        last_year = array.time.i[-1]\n",
    "        value = array[last_year] if copy_values_from_last_year else 0\n",
    "        return array.append('time', value, last_year + 1)\n",
    "    else:\n",
    "        return array\n",
    "\n",
    "demography_session_with_next_year = demography_session.apply(add_next_year, True)\n",
    "\n",
    "print('population array before calling apply:')\n",
    "print(demography_session.population)\n",
    "print()\n",
    "print('population array after calling apply:')\n",
    "print(demography_session_with_next_year.population)"
   ]
  },
  {
   "cell_type": "markdown",
   "metadata": {},
   "source": [
    "It is also possible to apply a function on non-Array objects of a session. Please refer the documentation of the [apply](../_generated/larray.Session.apply.rst#larray.Session.apply) method."
   ]
  },
  {
   "cell_type": "markdown",
   "metadata": {},
   "source": [
    "## Comparing Sessions\n",
    "\n",
    "Being able to compare two sessions may be useful when you want to compare two different models expected to give the same results or when you have updated your model and want to see what are the consequences of the recent changes."
   ]
  },
  {
   "cell_type": "markdown",
   "metadata": {},
   "source": [
    "[Session objects](../api.rst#session) provide the two methods to compare two sessions: [equals](../_generated/larray.Session.equals.rst#larray.Session.equals) and [element_equals](../_generated/larray.Session.element_equals.rst#larray.Session.element_equals):\n",
    "\n",
    "-  The ``equals`` method will return True if **all items** from both sessions are identical, False otherwise.\n",
    "-  The ``element_equals`` method will compare items of two sessions one by one and return an array of boolean values."
   ]
  },
  {
   "cell_type": "code",
   "execution_count": null,
   "metadata": {},
   "outputs": [],
   "source": [
    "# load a session representing the results of a demographic model\n",
    "filepath_hdf = get_example_filepath('demography_eurostat.h5')\n",
    "demography_session = Session(filepath_hdf)\n",
    "\n",
    "# create a copy of the original session\n",
    "demography_session_copy = demography_session.copy()"
   ]
  },
  {
   "cell_type": "code",
   "execution_count": null,
   "metadata": {},
   "outputs": [],
   "source": [
    "# 'element_equals' compare arrays one by one\n",
    "demography_session.element_equals(demography_session_copy)"
   ]
  },
  {
   "cell_type": "code",
   "execution_count": null,
   "metadata": {},
   "outputs": [],
   "source": [
    "# 'equals' returns True if all items of the two sessions have exactly the same items\n",
    "demography_session.equals(demography_session_copy)"
   ]
  },
  {
   "cell_type": "code",
   "execution_count": null,
   "metadata": {},
   "outputs": [],
   "source": [
    "# slightly modify the 'population' array for some labels combination\n",
    "demography_session_copy.population += random_increment "
   ]
  },
  {
   "cell_type": "code",
   "execution_count": null,
   "metadata": {},
   "outputs": [],
   "source": [
    "# the 'population' array is different between the two sessions\n",
    "demography_session.element_equals(demography_session_copy)"
   ]
  },
  {
   "cell_type": "code",
   "execution_count": null,
   "metadata": {},
   "outputs": [],
   "source": [
    "# 'equals' returns False if at least one item of the two sessions are different in values or axes\n",
    "demography_session.equals(demography_session_copy)"
   ]
  },
  {
   "cell_type": "code",
   "execution_count": null,
   "metadata": {},
   "outputs": [],
   "source": [
    "# reset the 'copy' session as a copy of the original session\n",
    "demography_session_copy = demography_session.copy()\n",
    "\n",
    "# add an array to the 'copy' session\n",
    "demography_session_copy.gender_ratio = demography_session_copy.population.ratio('gender')"
   ]
  },
  {
   "cell_type": "code",
   "execution_count": null,
   "metadata": {},
   "outputs": [],
   "source": [
    "# the 'gender_ratio' array is not present in the original session\n",
    "demography_session.element_equals(demography_session_copy)"
   ]
  },
  {
   "cell_type": "code",
   "execution_count": null,
   "metadata": {},
   "outputs": [],
   "source": [
    "# 'equals' returns False if at least one item is not present in the two sessions\n",
    "demography_session.equals(demography_session_copy)"
   ]
  },
  {
   "cell_type": "markdown",
   "metadata": {},
   "source": [
    "The ``==`` operator return a new session with boolean arrays with elements compared element-wise: \n"
   ]
  },
  {
   "cell_type": "code",
   "execution_count": null,
   "metadata": {},
   "outputs": [],
   "source": [
    "# reset the 'copy' session as a copy of the original session\n",
    "demography_session_copy = demography_session.copy()\n",
    "\n",
    "# slightly modify the 'population' array for some labels combination\n",
    "demography_session_copy.population += random_increment"
   ]
  },
  {
   "cell_type": "code",
   "execution_count": null,
   "metadata": {},
   "outputs": [],
   "source": [
    "s_check_same_values = demography_session == demography_session_copy\n",
    "\n",
    "s_check_same_values.population"
   ]
  },
  {
   "cell_type": "markdown",
   "metadata": {},
   "source": [
    "This also works for axes and groups:"
   ]
  },
  {
   "cell_type": "code",
   "execution_count": null,
   "metadata": {},
   "outputs": [],
   "source": [
    "s_check_same_values.time"
   ]
  },
  {
   "cell_type": "markdown",
   "metadata": {},
   "source": [
    "The ``!=`` operator does the opposite of ``==`` operator: "
   ]
  },
  {
   "cell_type": "code",
   "execution_count": null,
   "metadata": {},
   "outputs": [],
   "source": [
    "s_check_different_values = demography_session != demography_session_copy\n",
    "\n",
    "s_check_different_values.population"
   ]
  },
  {
   "cell_type": "markdown",
   "metadata": {},
   "source": [
    "A more visual way is to use the [compare](../_generated/larray.compare.rst#larray.compare) function which will open the ``Editor``.\n",
    "\n",
    "```python\n",
    "compare(demography_session, demography_session_alternative, names=['baseline', 'lower_birth_rate'])\n",
    "```\n",
    "\n",
    "![compare two sessions](../_static/compare_tutorial.png)"
   ]
  },
  {
   "cell_type": "markdown",
   "metadata": {},
   "source": [
    "## Session API\n",
    "\n",
    "Please go to the [Session](../api.rst#session) section of the API Reference to get the list of all methods of Session objects."
   ]
  }
 ],
 "metadata": {
  "celltoolbar": "Edit Metadata",
  "kernelspec": {
   "display_name": "Python 3",
   "language": "python",
   "name": "python3"
  },
  "language_info": {
   "codemirror_mode": {
    "name": "ipython",
    "version": 3
   },
   "file_extension": ".py",
   "mimetype": "text/x-python",
   "name": "python",
   "nbconvert_exporter": "python",
   "pygments_lexer": "ipython3",
   "version": "3.7.3"
  },
  "livereveal": {
   "autolaunch": false,
   "scroll": true
  }
 },
 "nbformat": 4,
 "nbformat_minor": 2
}
