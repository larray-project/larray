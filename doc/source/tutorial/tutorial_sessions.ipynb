{
 "cells": [
  {
   "cell_type": "markdown",
   "metadata": {},
   "source": [
    "## Working With Sessions\n"
   ]
  },
  {
   "cell_type": "code",
   "execution_count": null,
   "metadata": {
    "nbsphinx": "hidden"
   },
   "outputs": [],
   "source": [
    "# run this cell to avoid annoying warnings\n",
    "import warnings\n",
    "warnings.filterwarnings(\"ignore\", message=r'.*numpy.dtype size changed*')"
   ]
  },
  {
   "cell_type": "markdown",
   "metadata": {},
   "source": [
    "Import the LArray library:\n"
   ]
  },
  {
   "cell_type": "code",
   "execution_count": null,
   "metadata": {},
   "outputs": [],
   "source": [
    "from larray import *"
   ]
  },
  {
   "cell_type": "markdown",
   "metadata": {},
   "source": [
    "Check the version of LArray:"
   ]
  },
  {
   "cell_type": "code",
   "execution_count": null,
   "metadata": {},
   "outputs": [],
   "source": [
    "from larray import __version__\n",
    "__version__"
   ]
  },
  {
   "cell_type": "markdown",
   "metadata": {},
   "source": [
    "### Before To Continue\n",
    "\n",
    "If you not yet comfortable with creating, saving and loading sessions, please read first the [Creating Sessions](tutorial_presenting_larray_objects.ipynb#Creating-Sessions) and [Loading and Dumping Sessions](tutorial_IO.ipynb#Loading-and-Dumping-Sessions) sections of the tutorial before going further.  "
   ]
  },
  {
   "cell_type": "markdown",
   "metadata": {},
   "source": [
    "### Exploring Content\n",
    "\n",
    "To get the list of items names of a session, use the [names](../_generated/larray.Session.names.rst#larray.Session.names) shortcut (be careful that the list is sorted alphabetically and does not follow the internal order!):"
   ]
  },
  {
   "cell_type": "code",
   "execution_count": null,
   "metadata": {},
   "outputs": [],
   "source": [
    "# load a session representing the results of a demographic model\n",
    "filepath_hdf = get_example_filepath('population_session.h5')\n",
    "s_pop = Session(filepath_hdf)\n",
    "\n",
    "# print the content of the session\n",
    "print(s_pop.names)"
   ]
  },
  {
   "cell_type": "markdown",
   "metadata": {},
   "source": [
    "To get more information of items of a session, the [summary](../_generated/larray.Session.summary.rst#larray.Session.summary)  will provide not only the names of items but also the list of labels in the case of axes or groups and the list of axes, the shape and the dtype in the case of arrays:"
   ]
  },
  {
   "cell_type": "code",
   "execution_count": null,
   "metadata": {},
   "outputs": [],
   "source": [
    "# print the content of the session\n",
    "print(s_pop.summary())"
   ]
  },
  {
   "cell_type": "markdown",
   "metadata": {},
   "source": [
    "### Selecting And Filtering Items\n",
    "\n",
    "To select an item, simply use the syntax ``<session_var>.<item_name>``:"
   ]
  },
  {
   "cell_type": "code",
   "execution_count": null,
   "metadata": {},
   "outputs": [],
   "source": [
    "s_pop.pop"
   ]
  },
  {
   "cell_type": "markdown",
   "metadata": {},
   "source": [
    "To return a new session with selected items, use the syntax ``<session_var>[list, of, item, names]``:"
   ]
  },
  {
   "cell_type": "code",
   "execution_count": null,
   "metadata": {},
   "outputs": [],
   "source": [
    "s_pop_new = s_pop['pop', 'births', 'deaths']\n",
    "\n",
    "s_pop_new.names"
   ]
  },
  {
   "cell_type": "markdown",
   "metadata": {},
   "source": [
    "The [filter](../_generated/larray.Session.filter.rst#larray.Session.filter) method allows you to select all items of the same kind (i.e. all axes, or groups or arrays) or all items with names satisfying a given pattern:"
   ]
  },
  {
   "cell_type": "code",
   "execution_count": null,
   "metadata": {},
   "outputs": [],
   "source": [
    "# select only arrays of a session\n",
    "s_pop.filter(kind=LArray)"
   ]
  },
  {
   "cell_type": "code",
   "execution_count": null,
   "metadata": {},
   "outputs": [],
   "source": [
    "# selection all items with a name starting with a letter between a and k\n",
    "s_pop.filter(pattern='[a-k]*')"
   ]
  },
  {
   "cell_type": "markdown",
   "metadata": {},
   "source": [
    "### Arithmetic Operations On Sessions\n",
    "\n",
    "Session objects accept binary operations with a scalar:"
   ]
  },
  {
   "cell_type": "code",
   "execution_count": null,
   "metadata": {},
   "outputs": [],
   "source": [
    "# get population, births and deaths in millions\n",
    "s_pop_div = s_pop / 1e6\n",
    "\n",
    "s_pop_div.pop"
   ]
  },
  {
   "cell_type": "markdown",
   "metadata": {},
   "source": [
    "with an array (please read the documentation of the [random.choice](../_generated/larray.random.choice.rst#larray.random.choice) function first if you don't know it):"
   ]
  },
  {
   "cell_type": "code",
   "execution_count": null,
   "metadata": {},
   "outputs": [],
   "source": [
    "from larray import random\n",
    "random_multiplicator = random.choice([0.98, 1.0, 1.02], p=[0.15, 0.7, 0.15], axes=s_pop.pop.axes)\n",
    "random_multiplicator"
   ]
  },
  {
   "cell_type": "code",
   "execution_count": null,
   "metadata": {},
   "outputs": [],
   "source": [
    "# multiply all variables of a session by a common array\n",
    "s_pop_rand = s_pop * random_multiplicator\n",
    "\n",
    "s_pop_rand.pop"
   ]
  },
  {
   "cell_type": "markdown",
   "metadata": {},
   "source": [
    "with another session:"
   ]
  },
  {
   "cell_type": "code",
   "execution_count": null,
   "metadata": {},
   "outputs": [],
   "source": [
    "# compute the difference between each array of the two sessions\n",
    "s_diff = s_pop - s_pop_rand\n",
    "\n",
    "s_diff.births"
   ]
  },
  {
   "cell_type": "markdown",
   "metadata": {},
   "source": [
    "### Applying Functions On All Arrays\n",
    "\n",
    "In addition to the classical arithmetic operations, the [apply](../_generated/larray.Session.apply.rst#larray.Session.apply) method can be used to apply the same function on all arrays. This function should take a single element argument and return a single value:"
   ]
  },
  {
   "cell_type": "code",
   "execution_count": null,
   "metadata": {},
   "outputs": [],
   "source": [
    "# force conversion to type int\n",
    "def as_type_int(array):\n",
    "    return array.astype(int)\n",
    "\n",
    "s_pop_rand_int = s_pop_rand.apply(as_type_int)\n",
    "\n",
    "print('pop array before calling apply:')\n",
    "print(s_pop_rand.pop)\n",
    "print()\n",
    "print('pop array after calling apply:')\n",
    "print(s_pop_rand_int.pop)"
   ]
  },
  {
   "cell_type": "markdown",
   "metadata": {},
   "source": [
    "It is possible to pass a function with additional arguments:"
   ]
  },
  {
   "cell_type": "code",
   "execution_count": null,
   "metadata": {},
   "outputs": [],
   "source": [
    "# passing the LArray.astype method directly with argument \n",
    "# dtype defined as int\n",
    "s_pop_rand_int = s_pop_rand.apply(LArray.astype, dtype=int)\n",
    "\n",
    "print('pop array before calling apply:')\n",
    "print(s_pop_rand.pop)\n",
    "print()\n",
    "print('pop array after calling apply:')\n",
    "print(s_pop_rand_int.pop)"
   ]
  },
  {
   "cell_type": "markdown",
   "metadata": {},
   "source": [
    "It is also possible to apply a function on non-LArray objects of a session. Please refer the documentation of the [apply](../_generated/larray.Session.apply.rst#larray.Session.apply) method."
   ]
  },
  {
   "cell_type": "markdown",
   "metadata": {},
   "source": [
    "### Comparing Sessions\n",
    "\n",
    "Being able to compare two sessions may be useful when you want to compare two different models expected to give the same results or when you have updated your model and want to see what are the consequences of the recent changes."
   ]
  },
  {
   "cell_type": "markdown",
   "metadata": {},
   "source": [
    "[Session objects](../api.rst#session) provide the two methods to compare two sessions: [equals](../_generated/larray.Session.equals.rst#larray.Session.equals) and [element_equals](../_generated/larray.Session.element_equals.rst#larray.Session.element_equals).\n",
    "\n",
    "The ``equals`` method will return True if **all items** from both sessions are identical, False otherwise:"
   ]
  },
  {
   "cell_type": "code",
   "execution_count": null,
   "metadata": {},
   "outputs": [],
   "source": [
    "# load a session representing the results of a demographic model\n",
    "filepath_hdf = get_example_filepath('population_session.h5')\n",
    "s_pop = Session(filepath_hdf)\n",
    "\n",
    "# create a copy of the original session\n",
    "s_pop_copy = Session(filepath_hdf)\n",
    "\n",
    "# 'equals' returns True if all items of the two sessions have exactly the same items\n",
    "s_pop.equals(s_pop_copy)"
   ]
  },
  {
   "cell_type": "code",
   "execution_count": null,
   "metadata": {},
   "outputs": [],
   "source": [
    "# create a copy of the original session but with the array\n",
    "# 'births' slightly modified for some labels combination\n",
    "s_pop_alternative = Session(filepath_hdf)\n",
    "s_pop_alternative.births *= random_multiplicator\n",
    "\n",
    "# 'equals' returns False if at least on item of the two sessions are different in values or axes\n",
    "s_pop.equals(s_pop_alternative)"
   ]
  },
  {
   "cell_type": "code",
   "execution_count": null,
   "metadata": {},
   "outputs": [],
   "source": [
    "# add an array to the session\n",
    "s_pop_new_output = Session(filepath_hdf)\n",
    "s_pop_new_output.gender_ratio = s_pop_new_output.pop.ratio('gender')\n",
    "\n",
    "# 'equals' returns False if at least on item is not present in the two sessions\n",
    "s_pop.equals(s_pop_new_output)"
   ]
  },
  {
   "cell_type": "markdown",
   "metadata": {},
   "source": [
    "The ``element_equals`` method will compare items of two sessions one by one and return an array of boolean values:"
   ]
  },
  {
   "cell_type": "code",
   "execution_count": null,
   "metadata": {},
   "outputs": [],
   "source": [
    "# 'element_equals' compare arrays one by one\n",
    "s_pop.element_equals(s_pop_copy)"
   ]
  },
  {
   "cell_type": "code",
   "execution_count": null,
   "metadata": {},
   "outputs": [],
   "source": [
    "# array 'births' is different between the two sessions\n",
    "s_pop.element_equals(s_pop_alternative)"
   ]
  },
  {
   "cell_type": "markdown",
   "metadata": {},
   "source": [
    "The ``==`` operator return a new session with boolean arrays with elements compared element-wise: \n"
   ]
  },
  {
   "cell_type": "code",
   "execution_count": null,
   "metadata": {},
   "outputs": [],
   "source": [
    "s_same_values = s_pop == s_pop_alternative\n",
    "\n",
    "s_same_values.births"
   ]
  },
  {
   "cell_type": "markdown",
   "metadata": {},
   "source": [
    "This also works for axes and groups:"
   ]
  },
  {
   "cell_type": "code",
   "execution_count": null,
   "metadata": {},
   "outputs": [],
   "source": [
    "s_same_values.country"
   ]
  },
  {
   "cell_type": "markdown",
   "metadata": {},
   "source": [
    "The ``!=`` operator does the opposite of ``==`` operator: "
   ]
  },
  {
   "cell_type": "code",
   "execution_count": null,
   "metadata": {},
   "outputs": [],
   "source": [
    "s_different_values = s_pop != s_pop_alternative\n",
    "\n",
    "s_different_values.births "
   ]
  },
  {
   "cell_type": "markdown",
   "metadata": {},
   "source": [
    "A more visual way is to use the [compare](../_generated/larray.compare.rst#larray.compare) function which will open the ``Editor``.\n",
    "\n",
    "```python\n",
    "compare(s_pop, s_pop_alternative, names=['baseline', 'lower_birth_rate'])\n",
    "```\n",
    "\n",
    "![compare two sessions](../_static/compare_tutorial.png)"
   ]
  },
  {
   "cell_type": "markdown",
   "metadata": {},
   "source": [
    "### Session API\n",
    "\n",
    "Please go to the [Session](../api.rst#session) section of the API Reference to get the list of all methods of Session objects."
   ]
  }
 ],
 "metadata": {
  "celltoolbar": "Edit Metadata",
  "kernelspec": {
   "display_name": "Python 3",
   "language": "python",
   "name": "python3"
  },
  "language_info": {
   "codemirror_mode": {
    "name": "ipython",
    "version": 3
   },
   "file_extension": ".py",
   "mimetype": "text/x-python",
   "name": "python",
   "nbconvert_exporter": "python",
   "pygments_lexer": "ipython3",
   "version": "3.6.4"
  },
  "livereveal": {
   "autolaunch": false,
   "scroll": true
  }
 },
 "nbformat": 4,
 "nbformat_minor": 2
}
