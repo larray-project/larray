{
 "cells": [
  {
   "cell_type": "markdown",
   "metadata": {},
   "source": [
    "# Transforming Arrays (Relabeling, Renaming, Reordering, Combining, Extending, Sorting, ...)\n"
   ]
  },
  {
   "cell_type": "code",
   "execution_count": null,
   "metadata": {
    "nbsphinx": "hidden"
   },
   "outputs": [],
   "source": [
    "# run this cell to avoid annoying warnings\n",
    "import warnings\n",
    "warnings.filterwarnings(\"ignore\", message=r'.*numpy.dtype size changed*')"
   ]
  },
  {
   "cell_type": "markdown",
   "metadata": {},
   "source": [
    "Import the LArray library:\n"
   ]
  },
  {
   "cell_type": "code",
   "execution_count": null,
   "metadata": {},
   "outputs": [],
   "source": [
    "from larray import *"
   ]
  },
  {
   "cell_type": "markdown",
   "metadata": {},
   "source": [
    "Check the version of LArray:"
   ]
  },
  {
   "cell_type": "code",
   "execution_count": null,
   "metadata": {},
   "outputs": [],
   "source": [
    "from larray import __version__\n",
    "__version__"
   ]
  },
  {
   "cell_type": "code",
   "execution_count": null,
   "metadata": {},
   "outputs": [],
   "source": [
    "# load the 'demography_eurostat' dataset\n",
    "demo_eurostat = load_example_data('demography_eurostat')"
   ]
  },
  {
   "cell_type": "code",
   "execution_count": null,
   "metadata": {},
   "outputs": [],
   "source": [
    "# get a copy of the 'pop' array from the 'demography_eurostat' dataset\n",
    "pop = demo_eurostat.pop.copy()\n",
    "pop"
   ]
  },
  {
   "cell_type": "markdown",
   "metadata": {},
   "source": [
    "## Manipulating axes\n",
    "\n",
    "\n",
    "The ``Array`` class offers several methods to manipulate the axes and labels of an array:\n",
    "\n",
    "- [set_labels](../_generated/larray.Array.set_labels.rst#larray.Array.set_labels): to replace all or some labels of one or several axes.\n",
    "- [rename](../_generated/larray.Array.rename.rst#larray.Array.rename): to replace one or several axis names.\n",
    "- [set_axes](../_generated/larray.Array.set_axes.rst#larray.Array.set_axes): to replace one or several axes.\n",
    "- [transpose](../_generated/larray.Array.transpose.rst#larray.Array.transpose): to modify the order of axes.\n",
    "- [drop](../_generated/larray.Array.drop.rst#larray.Array.drop): to remove one or several labels.\n",
    "- [combine_axes](../_generated/larray.Array.combine_axes.rst#larray.Array.combine_axes): to combine axes.\n",
    "- [split_axes](../_generated/larray.Array.split_axes.rst#larray.Array.split_axes): to split one or several axes by splitting their labels and names.\n",
    "- [reindex](../_generated/larray.Array.reindex.rst#larray.Array.reindex): to reorder, add and remove labels of one or several axes.\n",
    "- [insert](../_generated/larray.Array.insert.rst#larray.Array.insert): to insert a label at a given position.\n"
   ]
  },
  {
   "cell_type": "markdown",
   "metadata": {},
   "source": [
    "### Relabeling\n",
    "\n",
    "Replace some labels of an axis:\n"
   ]
  },
  {
   "cell_type": "code",
   "execution_count": null,
   "metadata": {},
   "outputs": [],
   "source": [
    "# replace all labels of the 'gender' axis by passing the list of all new labels\n",
    "pop_new_labels = pop.set_labels('gender', ['Men', 'Women'])\n",
    "pop_new_labels"
   ]
  },
  {
   "cell_type": "code",
   "execution_count": null,
   "metadata": {},
   "outputs": [],
   "source": [
    "# set all labels of the 'country' axis to uppercase by passing the function str.upper()\n",
    "pop_new_labels = pop.set_labels('country', str.upper)\n",
    "pop_new_labels"
   ]
  },
  {
   "cell_type": "code",
   "execution_count": null,
   "metadata": {},
   "outputs": [],
   "source": [
    "# replace only one label of the 'gender' axis by passing a dict\n",
    "pop_new_labels = pop.set_labels('gender', {'Male': 'Men'})\n",
    "pop_new_labels"
   ]
  },
  {
   "cell_type": "markdown",
   "metadata": {},
   "source": [
    "See [set_labels](../_generated/larray.Array.set_labels.rst#larray.Array.set_labels) for more details and examples."
   ]
  },
  {
   "cell_type": "markdown",
   "metadata": {},
   "source": [
    "### Renaming axes\n",
    "\n",
    "Rename one axis:\n"
   ]
  },
  {
   "cell_type": "code",
   "execution_count": null,
   "metadata": {},
   "outputs": [],
   "source": [
    "# 'rename' returns a copy of the array\n",
    "pop_new_names = pop.rename('time', 'year')\n",
    "pop_new_names"
   ]
  },
  {
   "cell_type": "markdown",
   "metadata": {},
   "source": [
    "Rename several axes at once:\n"
   ]
  },
  {
   "cell_type": "code",
   "execution_count": null,
   "metadata": {},
   "outputs": [],
   "source": [
    "pop_new_names = pop.rename({'gender': 'sex', 'time': 'year'})\n",
    "pop_new_names"
   ]
  },
  {
   "cell_type": "markdown",
   "metadata": {},
   "source": [
    "See [rename](../_generated/larray.Array.rename.rst#larray.Array.rename) for more details and examples."
   ]
  },
  {
   "cell_type": "markdown",
   "metadata": {},
   "source": [
    "### Replacing Axes\n",
    "\n",
    "Replace one axis:"
   ]
  },
  {
   "cell_type": "code",
   "execution_count": null,
   "metadata": {},
   "outputs": [],
   "source": [
    "new_gender = Axis('sex=Men,Women')\n",
    "pop_new_axis = pop.set_axes('gender', new_gender)\n",
    "pop_new_axis"
   ]
  },
  {
   "cell_type": "markdown",
   "metadata": {},
   "source": [
    "Replace several axes at once:"
   ]
  },
  {
   "cell_type": "code",
   "execution_count": null,
   "metadata": {},
   "outputs": [],
   "source": [
    "new_country = Axis('country_codes=BE,FR,DE') \n",
    "pop_new_axes = pop.set_axes({'country': new_country, 'gender': new_gender})\n",
    "pop_new_axes"
   ]
  },
  {
   "cell_type": "markdown",
   "metadata": {},
   "source": [
    "### Reordering axes\n",
    "\n",
    "Axes can be reordered using ``transpose`` method.\n",
    "By default, *transpose* reverse axes, otherwise it permutes the axes according to the list given as argument.\n",
    "Axes not mentioned come after those which are mentioned(and keep their relative order).\n",
    "Finally, *transpose* returns a copy of the array.\n"
   ]
  },
  {
   "cell_type": "code",
   "execution_count": null,
   "metadata": {},
   "outputs": [],
   "source": [
    "# starting order : country, gender, time\n",
    "pop"
   ]
  },
  {
   "cell_type": "code",
   "execution_count": null,
   "metadata": {},
   "outputs": [],
   "source": [
    "# no argument --> reverse all axes\n",
    "pop_transposed = pop.transpose()\n",
    "\n",
    "# .T is a shortcut for .transpose()\n",
    "pop_transposed = pop.T\n",
    "\n",
    "pop_transposed"
   ]
  },
  {
   "cell_type": "code",
   "execution_count": null,
   "metadata": {},
   "outputs": [],
   "source": [
    "# reorder according to list\n",
    "pop_transposed = pop.transpose('gender', 'country', 'time')\n",
    "pop_transposed"
   ]
  },
  {
   "cell_type": "code",
   "execution_count": null,
   "metadata": {},
   "outputs": [],
   "source": [
    "# move 'time' axis at first place\n",
    "# not mentioned axes come after those which are mentioned (and keep their relative order)\n",
    "pop_transposed = pop.transpose('time')\n",
    "pop_transposed"
   ]
  },
  {
   "cell_type": "code",
   "execution_count": null,
   "metadata": {},
   "outputs": [],
   "source": [
    "# move 'gender' axis at last place\n",
    "# not mentioned axes come before those which are mentioned (and keep their relative order)\n",
    "pop_transposed = pop.transpose(..., 'gender')\n",
    "pop_transposed"
   ]
  },
  {
   "cell_type": "markdown",
   "metadata": {},
   "source": [
    "See [transpose](../_generated/larray.Array.transpose.rst#larray.Array.transpose) for more details and examples."
   ]
  },
  {
   "cell_type": "markdown",
   "metadata": {},
   "source": [
    "### Dropping Labels"
   ]
  },
  {
   "cell_type": "code",
   "execution_count": null,
   "metadata": {},
   "outputs": [],
   "source": [
    "pop_labels_dropped = pop.drop([2014, 2016])\n",
    "pop_labels_dropped"
   ]
  },
  {
   "cell_type": "markdown",
   "metadata": {},
   "source": [
    "See [drop](../_generated/larray.Array.drop.rst#larray.Array.drop) for more details and examples."
   ]
  },
  {
   "cell_type": "markdown",
   "metadata": {},
   "source": [
    "### Combine And Split Axes\n",
    "\n",
    "Combine two axes:"
   ]
  },
  {
   "cell_type": "code",
   "execution_count": null,
   "metadata": {},
   "outputs": [],
   "source": [
    "pop_combined_axes = pop.combine_axes(('country', 'gender'))\n",
    "pop_combined_axes"
   ]
  },
  {
   "cell_type": "markdown",
   "metadata": {},
   "source": [
    "Split an axis:"
   ]
  },
  {
   "cell_type": "code",
   "execution_count": null,
   "metadata": {},
   "outputs": [],
   "source": [
    "pop_split_axes = pop_combined_axes.split_axes('country_gender')\n",
    "pop_split_axes"
   ]
  },
  {
   "cell_type": "markdown",
   "metadata": {},
   "source": [
    "See [combine_axes](../_generated/larray.Array.combine_axes.rst#larray.Array.combine_axes) and [split_axes](../_generated/larray.Array.split_axes.rst#larray.Array.split_axes) for more details and examples."
   ]
  },
  {
   "cell_type": "markdown",
   "metadata": {},
   "source": [
    "### Reordering, adding and removing labels\n",
    "\n",
    "The ``reindex`` method allows to reorder, add and remove labels along one axis:"
   ]
  },
  {
   "cell_type": "code",
   "execution_count": null,
   "metadata": {},
   "outputs": [],
   "source": [
    "# reverse years + remove 2013 + add 2018 + copy data for 2017 to 2018\n",
    "pop_new_time = pop.reindex('time', '2018..2014', fill_value=pop[2017])\n",
    "pop_new_time"
   ]
  },
  {
   "cell_type": "markdown",
   "metadata": {},
   "source": [
    "or several axes:"
   ]
  },
  {
   "cell_type": "code",
   "execution_count": null,
   "metadata": {},
   "outputs": [],
   "source": [
    "pop_new = pop.reindex({'country': 'country=Luxembourg,Belgium,France,Germany', \n",
    "                       'time': 'time=2018..2014'}, fill_value=0)\n",
    "pop_new"
   ]
  },
  {
   "cell_type": "markdown",
   "metadata": {},
   "source": [
    "See [reindex](../_generated/larray.Array.reindex.rst#larray.Array.reindex) for more details and examples."
   ]
  },
  {
   "cell_type": "markdown",
   "metadata": {},
   "source": [
    "Another way to insert new labels is to use the ``insert`` method:"
   ]
  },
  {
   "cell_type": "code",
   "execution_count": null,
   "metadata": {},
   "outputs": [],
   "source": [
    "# insert a new country before 'France' with all values set to 0\n",
    "pop_new_country = pop.insert(0, before='France', label='Luxembourg')\n",
    "# or equivalently\n",
    "pop_new_country = pop.insert(0, after='Belgium', label='Luxembourg')\n",
    "\n",
    "pop_new_country"
   ]
  },
  {
   "cell_type": "markdown",
   "metadata": {},
   "source": [
    "See [insert](../_generated/larray.Array.insert.rst#larray.Array.insert) for more details and examples."
   ]
  },
  {
   "cell_type": "markdown",
   "metadata": {},
   "source": [
    "## Sorting\n",
    "\n",
    "\n",
    "- [sort_axes](../_generated/larray.Array.sort_axes.rst#larray.Array.sort_axes): sort the labels of an axis.\n",
    "- [labelsofsorted](../_generated/larray.Array.labelsofsorted.rst#larray.Array.labelsofsorted): give labels which would sort an axis. \n",
    "- [sort_values](../_generated/larray.Array.sort_values.rst#larray.Array.sort_values): sort axes according to values"
   ]
  },
  {
   "cell_type": "code",
   "execution_count": null,
   "metadata": {},
   "outputs": [],
   "source": [
    "# get a copy of the 'pop_benelux' array\n",
    "pop_benelux = demo_eurostat.pop_benelux.copy()\n",
    "pop_benelux"
   ]
  },
  {
   "cell_type": "markdown",
   "metadata": {},
   "source": [
    "Sort an axis (alphabetically if labels are strings)"
   ]
  },
  {
   "cell_type": "code",
   "execution_count": null,
   "metadata": {},
   "outputs": [],
   "source": [
    "pop_sorted = pop_benelux.sort_axes('gender')\n",
    "pop_sorted"
   ]
  },
  {
   "cell_type": "markdown",
   "metadata": {},
   "source": [
    "Give labels which would sort the axis\n"
   ]
  },
  {
   "cell_type": "code",
   "execution_count": null,
   "metadata": {},
   "outputs": [],
   "source": [
    "pop_benelux.labelsofsorted('country')"
   ]
  },
  {
   "cell_type": "markdown",
   "metadata": {},
   "source": [
    "Sort according to values\n"
   ]
  },
  {
   "cell_type": "code",
   "execution_count": null,
   "metadata": {},
   "outputs": [],
   "source": [
    "pop_sorted = pop_benelux.sort_values(('Male', 2017))\n",
    "pop_sorted"
   ]
  },
  {
   "cell_type": "markdown",
   "metadata": {},
   "source": [
    "## Combining arrays\n",
    "\n",
    "The LArray library offers several methods and functions to combine arrays:\n",
    "\n",
    "- [insert](../_generated/larray.Array.insert.rst#larray.Array.insert): inserts an array in another array along an axis\n",
    "- [append](../_generated/larray.Array.append.rst#larray.Array.append): adds an array at the end of an axis.\n",
    "- [prepend](../_generated/larray.Array.prepend.rst#larray.Array.prepend): adds an array at the beginning of an axis.\n",
    "- [extend](../_generated/larray.Array.extend.rst#larray.Array.extend): extends an array along an axis.\n",
    "- [stack](../_generated/larray.stack.rst#larray.stack): combines several arrays along an axis.\n"
   ]
  },
  {
   "cell_type": "markdown",
   "metadata": {},
   "source": [
    "### Insert"
   ]
  },
  {
   "cell_type": "code",
   "execution_count": null,
   "metadata": {},
   "outputs": [],
   "source": [
    "other_countries = zeros((Axis('country=Luxembourg,Netherlands'), pop.gender, pop.time), dtype=int)\n",
    "\n",
    "# insert new countries before 'France'\n",
    "pop_new_countries = pop.insert(other_countries, before='France')\n",
    "pop_new_countries"
   ]
  },
  {
   "cell_type": "markdown",
   "metadata": {},
   "source": [
    "See [insert](../_generated/larray.Array.insert.rst#larray.Array.insert) for more details and examples."
   ]
  },
  {
   "cell_type": "markdown",
   "metadata": {},
   "source": [
    "### Append\n",
    "\n",
    "Append one element to an axis of an array:"
   ]
  },
  {
   "cell_type": "code",
   "execution_count": null,
   "metadata": {},
   "outputs": [],
   "source": [
    "# append data for 'Luxembourg'\n",
    "pop_new = pop.append('country', pop_benelux['Luxembourg'], 'Luxembourg')\n",
    "pop_new"
   ]
  },
  {
   "cell_type": "markdown",
   "metadata": {},
   "source": [
    "The value being appended can have missing (or even extra) axes as long as common axes are compatible:\n"
   ]
  },
  {
   "cell_type": "code",
   "execution_count": null,
   "metadata": {},
   "outputs": [],
   "source": [
    "pop_lux = Array([-1, 1], pop.gender)\n",
    "pop_lux"
   ]
  },
  {
   "cell_type": "code",
   "execution_count": null,
   "metadata": {},
   "outputs": [],
   "source": [
    "pop_new = pop.append('country', pop_lux, 'Luxembourg')\n",
    "pop_new"
   ]
  },
  {
   "cell_type": "markdown",
   "metadata": {},
   "source": [
    "See [append](../_generated/larray.Array.append.rst#larray.Array.append) for more details and examples."
   ]
  },
  {
   "cell_type": "markdown",
   "metadata": {},
   "source": [
    "### Prepend\n",
    "\n",
    "Prepend one element to an axis of an array:"
   ]
  },
  {
   "cell_type": "code",
   "execution_count": null,
   "metadata": {},
   "outputs": [],
   "source": [
    "# append data for 'Luxembourg'\n",
    "pop_new = pop.prepend('country', pop_benelux['Luxembourg'], 'Luxembourg')\n",
    "pop_new"
   ]
  },
  {
   "cell_type": "markdown",
   "metadata": {},
   "source": [
    "See [prepend](../_generated/larray.Array.prepend.rst#larray.Array.prepend) for more details and examples."
   ]
  },
  {
   "cell_type": "markdown",
   "metadata": {},
   "source": [
    "### Extend\n",
    "\n",
    "Extend an array along an axis with another array *with* that axis (but other labels)\n"
   ]
  },
  {
   "cell_type": "code",
   "execution_count": null,
   "metadata": {},
   "outputs": [],
   "source": [
    "pop_extended = pop.extend('country', pop_benelux[['Luxembourg', 'Netherlands']])\n",
    "pop_extended"
   ]
  },
  {
   "cell_type": "markdown",
   "metadata": {},
   "source": [
    "See [extend](../_generated/larray.Array.extend.rst#larray.Array.extend) for more details and examples."
   ]
  },
  {
   "cell_type": "markdown",
   "metadata": {},
   "source": [
    "### Stack\n",
    "\n",
    "Stack several arrays together to create an entirely new dimension\n"
   ]
  },
  {
   "cell_type": "code",
   "execution_count": null,
   "metadata": {},
   "outputs": [],
   "source": [
    "# imagine you have loaded data for each country in different arrays \n",
    "# (e.g. loaded from different Excel sheets)\n",
    "pop_be = pop['Belgium']\n",
    "pop_fr = pop['France']\n",
    "pop_de = pop['Germany']\n",
    "\n",
    "pop_stacked = stack({'Belgium': pop_be, 'France': pop_fr, 'Germany': pop_de}, 'country')\n",
    "pop_stacked"
   ]
  },
  {
   "cell_type": "markdown",
   "metadata": {},
   "source": [
    "See [stack](../_generated/larray.stack.rst#larray.stack) for more details and examples."
   ]
  },
  {
   "cell_type": "markdown",
   "metadata": {},
   "source": [
    "## Aligning Arrays\n",
    "\n",
    "The ``align`` method align two arrays on their axes with a specified join method.\n",
    "In other words, it ensure all common axes are compatible."
   ]
  },
  {
   "cell_type": "code",
   "execution_count": null,
   "metadata": {},
   "outputs": [],
   "source": [
    "# get a copy of the 'births' array\n",
    "births = demo_eurostat.births.copy()\n",
    "\n",
    "# align the two arrays with the 'inner' join method\n",
    "pop_aligned, births_aligned = pop_benelux.align(births, join='inner')"
   ]
  },
  {
   "cell_type": "code",
   "execution_count": null,
   "metadata": {},
   "outputs": [],
   "source": [
    "print('pop_benelux before align:')\n",
    "print(pop_benelux)\n",
    "print()\n",
    "print('pop_benelux after align:')\n",
    "print(pop_aligned)"
   ]
  },
  {
   "cell_type": "code",
   "execution_count": null,
   "metadata": {},
   "outputs": [],
   "source": [
    "print('births before align:')\n",
    "print(births)\n",
    "print()\n",
    "print('births after align:')\n",
    "print(births_aligned)"
   ]
  },
  {
   "cell_type": "markdown",
   "metadata": {},
   "source": [
    "Aligned arrays can then be used in arithmetic operations:"
   ]
  },
  {
   "cell_type": "code",
   "execution_count": null,
   "metadata": {},
   "outputs": [],
   "source": [
    "pop_aligned - births_aligned"
   ]
  },
  {
   "cell_type": "markdown",
   "metadata": {},
   "source": [
    "See [align](../_generated/larray.Array.align.rst#larray.Array.align) for more details and examples."
   ]
  }
 ],
 "metadata": {
  "celltoolbar": "Edit Metadata",
  "kernelspec": {
   "display_name": "Python 3",
   "language": "python",
   "name": "python3"
  },
  "language_info": {
   "codemirror_mode": {
    "name": "ipython",
    "version": 3
   },
   "file_extension": ".py",
   "mimetype": "text/x-python",
   "name": "python",
   "nbconvert_exporter": "python",
   "pygments_lexer": "ipython3",
   "version": "3.7.3"
  },
  "livereveal": {
   "autolaunch": false,
   "scroll": true
  }
 },
 "nbformat": 4,
 "nbformat_minor": 2
}
