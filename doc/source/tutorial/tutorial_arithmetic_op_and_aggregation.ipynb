{
 "cells": [
  {
   "cell_type": "markdown",
   "metadata": {},
   "source": [
    "# Arithmetic Operations And Aggregations\n"
   ]
  },
  {
   "cell_type": "markdown",
   "metadata": {},
   "source": [
    "Import the LArray library:\n"
   ]
  },
  {
   "cell_type": "code",
   "execution_count": null,
   "metadata": {},
   "outputs": [],
   "source": [
    "from larray import *"
   ]
  },
  {
   "cell_type": "markdown",
   "metadata": {},
   "source": [
    "## Arithmetic operations\n"
   ]
  },
  {
   "cell_type": "code",
   "execution_count": null,
   "metadata": {},
   "outputs": [],
   "source": [
    "# load the 'demography_eurostat' dataset\n",
    "demography_eurostat = load_example_data('demography_eurostat')\n",
    "\n",
    "# extract the 'population' array\n",
    "population = demography_eurostat.population\n",
    "\n",
    "# show the 'population' array\n",
    "population"
   ]
  },
  {
   "cell_type": "code",
   "execution_count": null,
   "metadata": {},
   "outputs": [],
   "source": [
    "# let us also imagine a constant growth rate of the population\n",
    "constant_growth_rate = Array(data=[[1.011, 1.010], [1.013, 1.011], [1.010, 1.009]], \n",
    "                             axes=population.axes - population.time)\n",
    "constant_growth_rate"
   ]
  },
  {
   "cell_type": "markdown",
   "metadata": {},
   "source": [
    "One can do all usual arithmetic operations on an array, it will apply the operation to all elements individually\n"
   ]
  },
  {
   "cell_type": "code",
   "execution_count": null,
   "metadata": {},
   "outputs": [],
   "source": [
    "# 'true' division\n",
    "population_in_millions = population / (10**6)\n",
    "population_in_millions"
   ]
  },
  {
   "cell_type": "code",
   "execution_count": null,
   "metadata": {},
   "outputs": [],
   "source": [
    "# 'floor' division\n",
    "population_in_millions = population // (10**6)\n",
    "population_in_millions"
   ]
  },
  {
   "cell_type": "markdown",
   "metadata": {},
   "source": [
    "<div class=\"alert alert-warning\">\n",
    "**Warning:** Python has two different division operators: \n",
    "\n",
    "- the 'true' division (/) always returns a float.\n",
    "- the 'floor' division (//) returns an integer result (discarding any fractional result).\n",
    "</div>"
   ]
  },
  {
   "cell_type": "code",
   "execution_count": null,
   "metadata": {},
   "outputs": [],
   "source": [
    "# % means modulo (aka remainder of division)\n",
    "population % (10**6)"
   ]
  },
  {
   "cell_type": "code",
   "execution_count": null,
   "metadata": {},
   "outputs": [],
   "source": [
    "# ** means raising to the power\n",
    "constant_growth_rate ** 3"
   ]
  },
  {
   "cell_type": "markdown",
   "metadata": {},
   "source": [
    "More interestingly, binary operators as above also works between two arrays:\n"
   ]
  },
  {
   "cell_type": "code",
   "execution_count": null,
   "metadata": {},
   "outputs": [],
   "source": [
    "# first, we store the population of the year 2017 in a new variable\n",
    "population_2017 = population[2017]\n",
    "population_2017"
   ]
  },
  {
   "cell_type": "code",
   "execution_count": null,
   "metadata": {},
   "outputs": [],
   "source": [
    "# perform an arithmetic operation between two arrays\n",
    "population_2020 = population_2017 * (constant_growth_rate ** 3)\n",
    "population_2020"
   ]
  },
  {
   "cell_type": "markdown",
   "metadata": {},
   "source": [
    "<div class=\"alert alert-info\">\n",
    "**Note:** Be careful when mixing different data types.\n",
    "You can use the method [astype](../_generated/larray.Array.astype.rst#larray.Array.astype) to change the data type of an array.\n",
    "</div>\n"
   ]
  },
  {
   "cell_type": "code",
   "execution_count": null,
   "metadata": {},
   "outputs": [],
   "source": [
    "# force the resulting matrix to be an integer matrix\n",
    "population_2020 = (population_2017 * (constant_growth_rate ** 3)).astype(int)\n",
    "population_2020"
   ]
  },
  {
   "cell_type": "markdown",
   "metadata": {},
   "source": [
    "### Axis order does not matter much (except for output)\n",
    "\n",
    "You can do operations between arrays having different axes order.\n",
    "The axis order of the result is the same as the left array\n"
   ]
  },
  {
   "cell_type": "code",
   "execution_count": null,
   "metadata": {},
   "outputs": [],
   "source": [
    "# let's change the order of axes of the 'constant_growth_rate' array\n",
    "transposed_growth_rate = constant_growth_rate.transpose()\n",
    "\n",
    "# look at the order of the new 'transposed_growth_rate' array:\n",
    "# 'gender' is the first axis while 'country' is the second\n",
    "transposed_growth_rate"
   ]
  },
  {
   "cell_type": "code",
   "execution_count": null,
   "metadata": {},
   "outputs": [],
   "source": [
    "# look at the order of the 'population_2017' array:\n",
    "# 'country' is the first axis while 'gender' is the second\n",
    "population_2017"
   ]
  },
  {
   "cell_type": "code",
   "execution_count": null,
   "metadata": {},
   "outputs": [],
   "source": [
    "# LArray doesn't care of axes order when performing \n",
    "# arithmetic operations between arrays\n",
    "population_2018 = population_2017 * transposed_growth_rate\n",
    "population_2018"
   ]
  },
  {
   "cell_type": "markdown",
   "metadata": {},
   "source": [
    "### Axes must be compatible\n",
    "\n",
    "Arithmetic operations between two arrays only works when they have compatible axes (i.e. same list of labels in the same order)."
   ]
  },
  {
   "cell_type": "code",
   "execution_count": null,
   "metadata": {},
   "outputs": [],
   "source": [
    "# show 'population_2017'\n",
    "population_2017"
   ]
  },
  {
   "cell_type": "markdown",
   "metadata": {},
   "source": [
    "#### Order of labels matter"
   ]
  },
  {
   "cell_type": "code",
   "execution_count": null,
   "metadata": {},
   "outputs": [],
   "source": [
    "# let us imagine that the labels of the 'country' axis \n",
    "# of the 'constant_growth_rate' array are in a different order\n",
    "# than in the 'population_2017' array\n",
    "reordered_growth_rate = constant_growth_rate.reindex('country', ['Germany', 'Belgium', 'France'])\n",
    "reordered_growth_rate"
   ]
  },
  {
   "cell_type": "code",
   "execution_count": null,
   "metadata": {},
   "outputs": [],
   "source": [
    "# when doing arithmetic operations, \n",
    "# the order of labels counts\n",
    "try:\n",
    "    population_2018 = population_2017 * reordered_growth_rate\n",
    "except Exception as e:\n",
    "    print(type(e).__name__, e)"
   ]
  },
  {
   "cell_type": "markdown",
   "metadata": {},
   "source": [
    "#### No extra or missing labels are permitted"
   ]
  },
  {
   "cell_type": "code",
   "execution_count": null,
   "metadata": {},
   "outputs": [],
   "source": [
    "# let us imagine that the 'country' axis of \n",
    "# the 'constant_growth_rate' array has an extra \n",
    "# label 'Netherlands' compared to the same axis of \n",
    "# the 'population_2017' array\n",
    "growth_rate_Netherlands = Array([1.012, 1.], population.gender)\n",
    "growth_rate_extra_country = constant_growth_rate.append('country', growth_rate_Netherlands, label='Netherlands')\n",
    "growth_rate_extra_country"
   ]
  },
  {
   "cell_type": "code",
   "execution_count": null,
   "metadata": {},
   "outputs": [],
   "source": [
    "# when doing arithmetic operations, \n",
    "# no extra or missing labels are permitted \n",
    "try:\n",
    "    population_2018 = population_2017 * growth_rate_extra_country\n",
    "except Exception as e:\n",
    "    print(type(e).__name__, e)"
   ]
  },
  {
   "cell_type": "markdown",
   "metadata": {},
   "source": [
    "#### Ignoring labels (risky)"
   ]
  },
  {
   "cell_type": "markdown",
   "metadata": {},
   "source": [
    "<div class=\"alert alert-warning\">\n",
    "    **Warning:** Operations between two arrays only works when they have compatible axes (i.e. same labels) but this behavior can be override via the [ignore_labels](../_generated/larray.Array.ignore_labels.rst#larray.Array.ignore_labels) method.\n",
    "In that case only the position on the axis is used and not the labels.\n",
    "\n",
    "Using this method is done at your own risk and SHOULD NEVER BEEN USED IN A MODEL. \n",
    "Use this method only for quick tests or rapid data exploration. \n",
    "</div>\n"
   ]
  },
  {
   "cell_type": "code",
   "execution_count": null,
   "metadata": {},
   "outputs": [],
   "source": [
    "# let us imagine that the labels of the 'country' axis \n",
    "# of the 'constant_growth_rate' array are the \n",
    "# country codes instead of the country full names\n",
    "growth_rate_country_codes = constant_growth_rate.set_labels('country', ['BE', 'FR', 'DE'])\n",
    "growth_rate_country_codes"
   ]
  },
  {
   "cell_type": "code",
   "execution_count": null,
   "metadata": {
    "scrolled": true
   },
   "outputs": [],
   "source": [
    "# use the .ignore_labels() method on axis 'country'\n",
    "# to avoid the incompatible axes error (risky)\n",
    "population_2018 = population_2017 * growth_rate_country_codes.ignore_labels('country')\n",
    "population_2018"
   ]
  },
  {
   "cell_type": "markdown",
   "metadata": {},
   "source": [
    "### Extra Or Missing Axes (Broadcasting)"
   ]
  },
  {
   "cell_type": "markdown",
   "metadata": {},
   "source": [
    "The condition that axes must be compatible only applies on common axes. \n",
    "Arithmetic operations between two arrays can be performed even if the second array has extra or missing axes compared to the first one:"
   ]
  },
  {
   "cell_type": "code",
   "execution_count": null,
   "metadata": {},
   "outputs": [],
   "source": [
    "# let's define a 'multiplicator' vector with \n",
    "# one value defined for each gender\n",
    "multiplicator = Array([-1, 1], axes=population.gender)\n",
    "multiplicator"
   ]
  },
  {
   "cell_type": "code",
   "execution_count": null,
   "metadata": {},
   "outputs": [],
   "source": [
    "# the multiplication below has been propagated to the \n",
    "# 'country' and 'time' axes.\n",
    "# This behavior is called broadcasting\n",
    "population * multiplicator"
   ]
  },
  {
   "cell_type": "markdown",
   "metadata": {},
   "source": [
    "### Boolean Operations\n",
    "\n",
    "Python comparison operators are: \n",
    "\n",
    "| Operator  | Meaning                 |\n",
    "|-----------|-------------------------|\n",
    "|``==``     | equal                   | \n",
    "|``!=``     | not equal               | \n",
    "|``>``      | greater than            | \n",
    "|``>=``     | greater than or equal   | \n",
    "|``<``      | less than               | \n",
    "|``<=``     | less than or equal      |\n",
    "\n",
    "Applying a comparison operator on an array returns a boolean array:"
   ]
  },
  {
   "cell_type": "code",
   "execution_count": null,
   "metadata": {},
   "outputs": [],
   "source": [
    "# test which values are greater than 10 millions\n",
    "population > 10e6"
   ]
  },
  {
   "cell_type": "markdown",
   "metadata": {},
   "source": [
    "Comparison operations can be combined using Python bitwise operators:\n",
    "\n",
    "| Operator | Meaning                              |\n",
    "|----------|------------------------------------- |\n",
    "|  &       | and                                  |\n",
    "|  \\|      | or                                   |\n",
    "|  ~       | not                                  |"
   ]
  },
  {
   "cell_type": "code",
   "execution_count": null,
   "metadata": {},
   "outputs": [],
   "source": [
    "# test which values are greater than 10 millions and less than 40 millions\n",
    "(population > 10e6) & (population < 40e6)"
   ]
  },
  {
   "cell_type": "code",
   "execution_count": null,
   "metadata": {},
   "outputs": [],
   "source": [
    "# test which values are less than 10 millions or greater than 40 millions\n",
    "(population < 10e6) | (population > 40e6)"
   ]
  },
  {
   "cell_type": "code",
   "execution_count": null,
   "metadata": {},
   "outputs": [],
   "source": [
    "# test which values are not less than 10 millions\n",
    "~(population < 10e6)"
   ]
  },
  {
   "cell_type": "markdown",
   "metadata": {},
   "source": [
    "The returned boolean array can then be used in selections and assignments:"
   ]
  },
  {
   "cell_type": "code",
   "execution_count": null,
   "metadata": {},
   "outputs": [],
   "source": [
    "population_copy = population.copy()\n",
    "\n",
    "# set all values greater than 40 millions to 40 millions\n",
    "population_copy[population_copy > 40e6] = 40e6\n",
    "population_copy"
   ]
  },
  {
   "cell_type": "markdown",
   "metadata": {},
   "source": [
    "Boolean operations can be made between arrays:"
   ]
  },
  {
   "cell_type": "code",
   "execution_count": null,
   "metadata": {},
   "outputs": [],
   "source": [
    "# test where the two arrays have the same values\n",
    "population == population_copy"
   ]
  },
  {
   "cell_type": "markdown",
   "metadata": {},
   "source": [
    "To test if all values between are equals, use the [equals](../_generated/larray.Array.equals.rst#larray.Array.equals) method:"
   ]
  },
  {
   "cell_type": "code",
   "execution_count": null,
   "metadata": {},
   "outputs": [],
   "source": [
    "population.equals(population_copy)"
   ]
  },
  {
   "cell_type": "markdown",
   "metadata": {},
   "source": [
    "## Aggregates\n",
    "\n",
    "The LArray library provides many aggregation functions. The list is given in the [Aggregation Functions](../api.rst#aggregation-functions) subsection of the [API Reference](../api.rst) page.\n",
    "\n",
    "Aggregation operations can be performed on axes or groups. Axes and groups can be mixed. \n",
    "\n",
    "The main rules are: \n",
    "\n",
    "-  Axes are separated by commas ``,``\n",
    "-  Groups belonging to the same axis are grouped inside parentheses ()\n"
   ]
  },
  {
   "cell_type": "markdown",
   "metadata": {},
   "source": [
    "Calculate the sum along an axis:"
   ]
  },
  {
   "cell_type": "code",
   "execution_count": null,
   "metadata": {},
   "outputs": [],
   "source": [
    "population.sum('gender')"
   ]
  },
  {
   "cell_type": "markdown",
   "metadata": {},
   "source": [
    "or several axes (axes are separated by commas ``,``):"
   ]
  },
  {
   "cell_type": "code",
   "execution_count": null,
   "metadata": {},
   "outputs": [],
   "source": [
    "population.sum('country', 'gender')"
   ]
  },
  {
   "cell_type": "markdown",
   "metadata": {},
   "source": [
    "Calculate the sum along all axes except one by appending `_by` to the aggregation function:\n"
   ]
  },
  {
   "cell_type": "code",
   "execution_count": null,
   "metadata": {},
   "outputs": [],
   "source": [
    "population.sum_by('time')"
   ]
  },
  {
   "cell_type": "markdown",
   "metadata": {},
   "source": [
    "Calculate the sum along groups (the groups belonging to the same axis must grouped inside parentheses ()):\n"
   ]
  },
  {
   "cell_type": "code",
   "execution_count": null,
   "metadata": {},
   "outputs": [],
   "source": [
    "even_years = population.time[2014::2] >> 'even_years'\n",
    "odd_years = population.time[2013::2] >> 'odd_years'\n",
    "\n",
    "population.sum((odd_years, even_years))"
   ]
  },
  {
   "cell_type": "markdown",
   "metadata": {},
   "source": [
    "Mixing axes and groups in aggregations:\n"
   ]
  },
  {
   "cell_type": "code",
   "execution_count": null,
   "metadata": {},
   "outputs": [],
   "source": [
    "population.sum('gender', (odd_years, even_years))"
   ]
  }
 ],
 "metadata": {
  "celltoolbar": "Edit Metadata",
  "kernelspec": {
   "display_name": "Python 3",
   "language": "python",
   "name": "python3"
  },
  "language_info": {
   "codemirror_mode": {
    "name": "ipython",
    "version": 3
   },
   "file_extension": ".py",
   "mimetype": "text/x-python",
   "name": "python",
   "nbconvert_exporter": "python",
   "pygments_lexer": "ipython3",
   "version": "3.7.3"
  },
  "livereveal": {
   "autolaunch": false,
   "scroll": true
  }
 },
 "nbformat": 4,
 "nbformat_minor": 2
}
