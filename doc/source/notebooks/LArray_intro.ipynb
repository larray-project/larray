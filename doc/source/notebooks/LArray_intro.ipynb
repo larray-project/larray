{
 "cells": [
  {
   "cell_type": "code",
   "execution_count": 1,
   "metadata": {
    "collapsed": true,
    "scrolled": false
   },
   "outputs": [
    {
     "name": "stderr",
     "output_type": "stream",
     "text": [
      "C:\\Users\\ald\\Miniconda3\\lib\\site-packages\\matplotlib\\__init__.py:1350: UserWarning:  This call to matplotlib.use() has no effect\n",
      "because the backend has already been chosen;\n",
      "matplotlib.use() must be called *before* pylab, matplotlib.pyplot,\n",
      "or matplotlib.backends is imported for the first time.\n",
      "\n",
      "  warnings.warn(_use_error_msg)\n"
     ]
    }
   ],
   "source": [
    "from larray import *"
   ]
  },
  {
   "cell_type": "code",
   "execution_count": 2,
   "metadata": {
    "collapsed": true
   },
   "outputs": [],
   "source": [
    "%matplotlib inline"
   ]
  },
  {
   "cell_type": "markdown",
   "metadata": {},
   "source": [
    "# Basic input/output"
   ]
  },
  {
   "cell_type": "code",
   "execution_count": 3,
   "metadata": {
    "collapsed": false
   },
   "outputs": [],
   "source": [
    "a = read_csv('test3d.csv')"
   ]
  },
  {
   "cell_type": "code",
   "execution_count": 4,
   "metadata": {
    "collapsed": true
   },
   "outputs": [
    {
     "data": {
      "text/plain": [
       "age | geo | sex\\lipro |                  P01 |                 P02 |                 P03 |                  P04 | ... |                  P12 |                  P13 |                 P14 |                  P15\n",
       "  0 | A11 |         H |   0.7986085756301988 |  0.1549669562142233 |  0.5594898172744543 |   0.6050998418360097 | ... |   0.6658148625080943 |   0.6351534719709239 |  0.7317499092988217 |   0.4763302905934093\n",
       "  0 | A11 |         F |   0.7452292034514122 |  0.7245541585179216 |  0.1062878421822664 |   0.3611621321961279 | ... |   0.1939371867197549 |  0.18631785650755173 |  0.7588818357765889 |   0.3804435942140878\n",
       "  0 | A12 |         H |   0.7577095280716684 | 0.10418640536848768 | 0.05335031575646288 |   0.8660769294968185 | ... |   0.6165615324060292 |  0.23502992489866906 |  0.7563867435712328 |   0.7866135061990074\n",
       "  0 | A12 |         F |   0.9205282479096782 |   0.538764091985915 |  0.5874623158610445 |   0.6167464178989147 | ... |   0.7180678254269199 |   0.7618757191480121 |  0.2183662297917828 | 0.054191501956657666\n",
       "  0 | A13 |         H |   0.2689691416602969 |  0.3058980109212196 |  0.5267934884597111 |   0.2710122037988091 | ... |   0.5583295668113659 |   0.7469144433242324 |  0.2680406809727973 | 0.052905060082932935\n",
       "... | ... |       ... |                  ... |                 ... |                 ... |                  ... | ... |                  ... |                  ... |                 ... |                  ...\n",
       "115 | A92 |         F |   0.2971553468089869 |  0.5123636344043591 |  0.6114290705783524 |  0.04548885728803265 | ... |   0.6007644626415594 |    0.553667190390577 | 0.03172887406661784 |   0.1774770416177801\n",
       "115 | A93 |         H |   0.9908145792781348 |  0.9546925968806358 |  0.9783008134523226 | 0.032817995742722705 | ... |  0.40716781137787184 |   0.5813846865059686 |  0.5659693823888788 |   0.7018249484053728\n",
       "115 | A93 |         F |  0.09980559305554704 | 0.17436351028468233 |   0.912301637225758 |   0.5442510199593779 | ... |   0.7726854461380964 |   0.5495319710598308 | 0.10698429627703544 |   0.4989952766210509\n",
       "115 | A21 |         H |  0.23974207555586136 |  0.6934898077945582 |  0.8443141006866122 |   0.4144493913601733 | ... |   0.4746977889308028 |  0.18940209565256216 |  0.9061620285897874 |   0.6533690116110108\n",
       "115 | A21 |         F | 0.049466260742856205 | 0.23104379332335434 |  0.9422891515839706 |    0.467990965170801 | ... | 0.009294655542304242 | 0.010267817461696915 |  0.3744189338931369 |   0.7161566153790067"
      ]
     },
     "execution_count": 4,
     "metadata": {},
     "output_type": "execute_result"
    }
   ],
   "source": [
    "a"
   ]
  },
  {
   "cell_type": "code",
   "execution_count": 5,
   "metadata": {
    "collapsed": true
   },
   "outputs": [],
   "source": [
    "# writing it back to a .csv file\n",
    "a.to_csv('other_test.csv')"
   ]
  },
  {
   "cell_type": "code",
   "execution_count": 6,
   "metadata": {
    "collapsed": false
   },
   "outputs": [],
   "source": [
    "# ... or an Excel file\n",
    "# if the file does not already exist, it is created with a single sheet, otherwise a new sheet is added to it\n",
    "a.to_excel('test3d.xlsx')"
   ]
  },
  {
   "cell_type": "code",
   "execution_count": 7,
   "metadata": {
    "collapsed": false
   },
   "outputs": [],
   "source": [
    "# reading it back in another variable (reads the first sheet by default)\n",
    "b = read_excel('test3d.xlsx')"
   ]
  },
  {
   "cell_type": "code",
   "execution_count": 8,
   "metadata": {
    "collapsed": true
   },
   "outputs": [],
   "source": [
    "# it is usually better to specify the sheet explicitly (by name or position) though\n",
    "b.to_excel('other_test.xlsx', 'my_sheet')"
   ]
  },
  {
   "cell_type": "code",
   "execution_count": 9,
   "metadata": {
    "collapsed": false
   },
   "outputs": [],
   "source": [
    "c = read_excel('other_test.xlsx', 'my_sheet')"
   ]
  },
  {
   "cell_type": "code",
   "execution_count": 10,
   "metadata": {
    "collapsed": false
   },
   "outputs": [
    {
     "data": {
      "text/plain": [
       "age | sex\\time | 2007 | 2010 | 2013\n",
       "  0 |        F | 3722 | 3395 | 3347\n",
       "  0 |        H |  338 |  316 |  323\n",
       "  1 |        F | 2878 | 2791 | 2822\n",
       "  1 |        H | 1121 | 1037 |  976\n",
       "  2 |        F | 4073 | 4161 | 4429\n",
       "  2 |        H | 1561 | 1463 | 1467\n",
       "  3 |        F | 3507 | 3741 | 3366\n",
       "  3 |        H | 2052 | 2052 | 2118\n",
       "  4 |        F | 4807 | 4868 | 4852\n",
       "  4 |        H | 3785 | 3508 | 3172"
      ]
     },
     "execution_count": 10,
     "metadata": {},
     "output_type": "execute_result"
    }
   ],
   "source": [
    "# after a round-trip it is the same as before\n",
    "c"
   ]
  },
  {
   "cell_type": "markdown",
   "metadata": {},
   "source": [
    "## Inspecting"
   ]
  },
  {
   "cell_type": "code",
   "execution_count": 11,
   "metadata": {
    "collapsed": false
   },
   "outputs": [
    {
     "data": {
      "text/plain": [
       "5 x 2 x 3\n",
       " age [5]: 0 1 2 3 4\n",
       " sex [2]: 'F' 'H'\n",
       " time [3]: 2007 2010 2013"
      ]
     },
     "execution_count": 11,
     "metadata": {},
     "output_type": "execute_result"
    }
   ],
   "source": [
    "# summary of axes information\n",
    "a.info"
   ]
  },
  {
   "cell_type": "code",
   "execution_count": 12,
   "metadata": {
    "collapsed": false
   },
   "outputs": [
    {
     "data": {
      "text/plain": [
       "(5, 2, 3)"
      ]
     },
     "execution_count": 12,
     "metadata": {},
     "output_type": "execute_result"
    }
   ],
   "source": [
    "a.shape"
   ]
  },
  {
   "cell_type": "code",
   "execution_count": 13,
   "metadata": {
    "collapsed": false
   },
   "outputs": [
    {
     "data": {
      "text/plain": [
       "30"
      ]
     },
     "execution_count": 13,
     "metadata": {},
     "output_type": "execute_result"
    }
   ],
   "source": [
    "# number of elements\n",
    "a.size"
   ]
  },
  {
   "cell_type": "code",
   "execution_count": 14,
   "metadata": {
    "collapsed": false
   },
   "outputs": [
    {
     "data": {
      "text/plain": [
       "240"
      ]
     },
     "execution_count": 14,
     "metadata": {},
     "output_type": "execute_result"
    }
   ],
   "source": [
    "# size in memory\n",
    "a.nbytes"
   ]
  },
  {
   "cell_type": "code",
   "execution_count": 15,
   "metadata": {
    "collapsed": true
   },
   "outputs": [],
   "source": [
    "# this will open a new window and block execution of the rest of code until the windows is closed!\n",
    "view(a)"
   ]
  },
  {
   "cell_type": "code",
   "execution_count": 16,
   "metadata": {
    "collapsed": true
   },
   "outputs": [],
   "source": [
    "# an array can also be viewed in a \"live\" Excel instance by not specifying any filename in to_excel\n",
    "a.to_excel()"
   ]
  },
  {
   "cell_type": "markdown",
   "metadata": {},
   "source": [
    "# Create arrays from scratch"
   ]
  },
  {
   "cell_type": "code",
   "execution_count": 17,
   "metadata": {
    "collapsed": true
   },
   "outputs": [],
   "source": [
    "age = Axis('age', range(100))"
   ]
  },
  {
   "cell_type": "code",
   "execution_count": 18,
   "metadata": {
    "collapsed": true
   },
   "outputs": [],
   "source": [
    "sex = Axis('sex', ['M', 'F'])"
   ]
  },
  {
   "cell_type": "code",
   "execution_count": 19,
   "metadata": {
    "collapsed": true
   },
   "outputs": [],
   "source": [
    "time = Axis('time', range(2016, 2020))"
   ]
  },
  {
   "cell_type": "code",
   "execution_count": 20,
   "metadata": {
    "collapsed": false
   },
   "outputs": [
    {
     "data": {
      "text/plain": [
       "sex\\time | 2016 | 2017 | 2018 | 2019\n",
       "       M |    0 |    1 |    2 |    3\n",
       "       F |    4 |    5 |    6 |    7"
      ]
     },
     "execution_count": 20,
     "metadata": {},
     "output_type": "execute_result"
    }
   ],
   "source": [
    "# ndrange is mostly useful for testing and examples, it fills an array with increasing numbers\n",
    "# (garantees that each cell has a unique value)\n",
    "ndrange([sex, time])"
   ]
  },
  {
   "cell_type": "code",
   "execution_count": 21,
   "metadata": {
    "collapsed": false
   },
   "outputs": [
    {
     "data": {
      "text/plain": [
       "{0}* | 0 | 1 | 2 | 3 | 4 | 5 | 6 | 7 | 8 | 9\n",
       "     | 0 | 1 | 2 | 3 | 4 | 5 | 6 | 7 | 8 | 9"
      ]
     },
     "execution_count": 21,
     "metadata": {},
     "output_type": "execute_result"
    }
   ],
   "source": [
    "# or if you are in a hurry / do not want to specify labels for your axes\n",
    "ndrange(10)"
   ]
  },
  {
   "cell_type": "code",
   "execution_count": 22,
   "metadata": {
    "collapsed": false
   },
   "outputs": [
    {
     "data": {
      "text/plain": [
       "{0}*\\{1}* | 0 | 1 |  2 |  3\n",
       "        0 | 0 | 1 |  2 |  3\n",
       "        1 | 4 | 5 |  6 |  7\n",
       "        2 | 8 | 9 | 10 | 11"
      ]
     },
     "execution_count": 22,
     "metadata": {},
     "output_type": "execute_result"
    }
   ],
   "source": [
    "ndrange([3, 4])"
   ]
  },
  {
   "cell_type": "code",
   "execution_count": 23,
   "metadata": {
    "collapsed": false
   },
   "outputs": [
    {
     "data": {
      "text/plain": [
       "sex | M | F\n",
       "    | 0 | 1"
      ]
     },
     "execution_count": 23,
     "metadata": {},
     "output_type": "execute_result"
    }
   ],
   "source": [
    "# for real model use, create sequential is usually more interesting. It increments values (by one by default)\n",
    "# along a single axis (even if the result is multi-dimensional)\n",
    "create_sequential(sex)"
   ]
  },
  {
   "cell_type": "code",
   "execution_count": 24,
   "metadata": {
    "collapsed": false
   },
   "outputs": [],
   "source": [
    "bysex = create_sequential(sex, initial=1.0, inc=0.5)"
   ]
  },
  {
   "cell_type": "code",
   "execution_count": 25,
   "metadata": {
    "collapsed": false
   },
   "outputs": [
    {
     "data": {
      "text/plain": [
       "sex |   M |   F\n",
       "    | 1.0 | 1.5"
      ]
     },
     "execution_count": 25,
     "metadata": {},
     "output_type": "execute_result"
    }
   ],
   "source": [
    "bysex"
   ]
  },
  {
   "cell_type": "code",
   "execution_count": 26,
   "metadata": {
    "collapsed": false
   },
   "outputs": [
    {
     "data": {
      "text/plain": [
       "sex\\time | 2016 | 2017 | 2018 | 2019\n",
       "       M | 10.0 | 11.0 | 12.0 | 13.0\n",
       "       F | 10.0 | 11.5 | 13.0 | 14.5"
      ]
     },
     "execution_count": 26,
     "metadata": {},
     "output_type": "execute_result"
    }
   ],
   "source": [
    "# the increment can be itself an larray (ie the increment will be different depending on its axes)\n",
    "create_sequential(time, initial=10.0, inc=bysex)"
   ]
  },
  {
   "cell_type": "code",
   "execution_count": 27,
   "metadata": {
    "collapsed": false
   },
   "outputs": [
    {
     "data": {
      "text/plain": [
       "sex\\time | 2016 | 2017 | 2018 |  2019\n",
       "       M | 10.0 | 10.0 | 10.0 |  10.0\n",
       "       F | 10.0 | 15.0 | 22.5 | 33.75"
      ]
     },
     "execution_count": 27,
     "metadata": {},
     "output_type": "execute_result"
    }
   ],
   "source": [
    "# likewise, it can also be used to incrementally multiply along an axis (for example, if you have growth rates)\n",
    "create_sequential(time, initial=10.0, mult=bysex)"
   ]
  },
  {
   "cell_type": "code",
   "execution_count": 28,
   "metadata": {
    "collapsed": false
   },
   "outputs": [],
   "source": [
    "# creating an array initialized by duplicating a value\n",
    "b = full([sex, time], 42)"
   ]
  },
  {
   "cell_type": "code",
   "execution_count": 29,
   "metadata": {
    "collapsed": false
   },
   "outputs": [
    {
     "data": {
      "text/plain": [
       "sex\\time | 2016 | 2017 | 2018 | 2019\n",
       "       M |   42 |   42 |   42 |   42\n",
       "       F |   42 |   42 |   42 |   42"
      ]
     },
     "execution_count": 29,
     "metadata": {},
     "output_type": "execute_result"
    }
   ],
   "source": [
    "b"
   ]
  },
  {
   "cell_type": "code",
   "execution_count": 30,
   "metadata": {
    "collapsed": false
   },
   "outputs": [
    {
     "data": {
      "text/plain": [
       "sex\\time | 2016 | 2017 | 2018 | 2019\n",
       "       M |  1.0 |  1.0 |  1.0 |  1.0\n",
       "       F |  1.5 |  1.5 |  1.5 |  1.5"
      ]
     },
     "execution_count": 30,
     "metadata": {},
     "output_type": "execute_result"
    }
   ],
   "source": [
    "# the \"value\" can be an array too\n",
    "full([sex, time], bysex)"
   ]
  },
  {
   "cell_type": "code",
   "execution_count": 31,
   "metadata": {
    "collapsed": false
   },
   "outputs": [
    {
     "data": {
      "text/plain": [
       "sex\\time | 2016 | 2017 | 2018 | 2019\n",
       "       M |  0.0 |  0.0 |  0.0 |  0.0\n",
       "       F |  0.0 |  0.0 |  0.0 |  0.0"
      ]
     },
     "execution_count": 31,
     "metadata": {},
     "output_type": "execute_result"
    }
   ],
   "source": [
    "zeros([sex, time])"
   ]
  },
  {
   "cell_type": "code",
   "execution_count": 32,
   "metadata": {
    "collapsed": false
   },
   "outputs": [
    {
     "data": {
      "text/plain": [
       "sex\\time | 2016 | 2017 | 2018 | 2019\n",
       "       M |  1.0 |  1.0 |  1.0 |  1.0\n",
       "       F |  1.0 |  1.0 |  1.0 |  1.0"
      ]
     },
     "execution_count": 32,
     "metadata": {},
     "output_type": "execute_result"
    }
   ],
   "source": [
    "ones([sex, time])"
   ]
  },
  {
   "cell_type": "code",
   "execution_count": 33,
   "metadata": {
    "collapsed": false
   },
   "outputs": [
    {
     "data": {
      "text/plain": [
       "sex\\time | 2016 |      2017 |                 2018 |                 2019\n",
       "       M |  0.0 |       0.0 |                  0.0 |                  0.0\n",
       "       F |  0.0 | 8.42e-321 | 1.3750532725455e-311 | 1.3750532725455e-311"
      ]
     },
     "execution_count": 33,
     "metadata": {},
     "output_type": "execute_result"
    }
   ],
   "source": [
    "# uninitialised array with correct axes (much faster but use with care!).\n",
    "# This not really random either, it just reuses a portion of memory that is available, with whatever content is there.\n",
    "empty([sex, time])"
   ]
  },
  {
   "cell_type": "code",
   "execution_count": 34,
   "metadata": {
    "collapsed": true
   },
   "outputs": [],
   "source": [
    "# if you will initialize it ENTIRELY manually, and performance matters (in a loop for example), it can make sense to use that\n",
    "# instead of the other functions (zeros, ...)"
   ]
  },
  {
   "cell_type": "code",
   "execution_count": 35,
   "metadata": {
    "collapsed": true
   },
   "outputs": [],
   "source": [
    "e = empty([sex, time])"
   ]
  },
  {
   "cell_type": "code",
   "execution_count": 36,
   "metadata": {
    "collapsed": true
   },
   "outputs": [],
   "source": [
    "e['F'] = 2"
   ]
  },
  {
   "cell_type": "code",
   "execution_count": 37,
   "metadata": {
    "collapsed": true
   },
   "outputs": [],
   "source": [
    "e['M'] = time"
   ]
  },
  {
   "cell_type": "code",
   "execution_count": 38,
   "metadata": {
    "collapsed": false
   },
   "outputs": [
    {
     "data": {
      "text/plain": [
       "sex\\time |   2016 |   2017 |   2018 |   2019\n",
       "       M | 2016.0 | 2017.0 | 2018.0 | 2019.0\n",
       "       F |    2.0 |    2.0 |    2.0 |    2.0"
      ]
     },
     "execution_count": 38,
     "metadata": {},
     "output_type": "execute_result"
    }
   ],
   "source": [
    "e"
   ]
  },
  {
   "cell_type": "code",
   "execution_count": 39,
   "metadata": {
    "collapsed": false
   },
   "outputs": [
    {
     "data": {
      "text/plain": [
       "sex\\time | 2016 | 2017 | 2018 | 2019\n",
       "       M |    1 |    1 |    1 |    1\n",
       "       F |    1 |    1 |    1 |    1"
      ]
     },
     "execution_count": 39,
     "metadata": {},
     "output_type": "execute_result"
    }
   ],
   "source": [
    "# all the above function exist in *_like variants which takes axes from another array\n",
    "ones_like(b)"
   ]
  },
  {
   "cell_type": "markdown",
   "metadata": {},
   "source": [
    "# Getting subsets"
   ]
  },
  {
   "cell_type": "code",
   "execution_count": 40,
   "metadata": {
    "collapsed": true
   },
   "outputs": [],
   "source": [
    "# let us create some test array\n",
    "a = ndrange([age, sex, time])"
   ]
  },
  {
   "cell_type": "code",
   "execution_count": 41,
   "metadata": {
    "collapsed": false
   },
   "outputs": [
    {
     "data": {
      "text/plain": [
       "100 x 2 x 4\n",
       " age [100]: 0 1 2 ... 97 98 99\n",
       " sex [2]: 'M' 'F'\n",
       " time [4]: 2016 2017 2018 2019"
      ]
     },
     "execution_count": 41,
     "metadata": {},
     "output_type": "execute_result"
    }
   ],
   "source": [
    "a.info"
   ]
  },
  {
   "cell_type": "code",
   "execution_count": 42,
   "metadata": {
    "collapsed": false
   },
   "outputs": [
    {
     "data": {
      "text/plain": [
       "time | 2016 | 2017 | 2018 | 2019\n",
       "     |   84 |   85 |   86 |   87"
      ]
     },
     "execution_count": 42,
     "metadata": {},
     "output_type": "execute_result"
    }
   ],
   "source": [
    "# to take subsets of an array, use []. Single elements along an axis drop the concerned dimensions; \n",
    "# other dimensions are left intact. Here we take women aged 10:\n",
    "a[10, 'F']"
   ]
  },
  {
   "cell_type": "code",
   "execution_count": 43,
   "metadata": {
    "collapsed": false
   },
   "outputs": [
    {
     "data": {
      "text/plain": [
       "age | sex\\time | 2017 | 2018\n",
       " 10 |        M |   81 |   82\n",
       " 10 |        F |   85 |   86\n",
       " 11 |        M |   89 |   90\n",
       " 11 |        F |   93 |   94\n",
       " 12 |        M |   97 |   98\n",
       " 12 |        F |  101 |  102\n",
       " 13 |        M |  105 |  106\n",
       " 13 |        F |  109 |  110"
      ]
     },
     "execution_count": 43,
     "metadata": {},
     "output_type": "execute_result"
    }
   ],
   "source": [
    "# one can also take slices of an array (from a label to another label).\n",
    "a[10:13, 2017:2018]"
   ]
  },
  {
   "cell_type": "code",
   "execution_count": 44,
   "metadata": {
    "collapsed": false
   },
   "outputs": [
    {
     "data": {
      "text/plain": [
       "age | sex\\time | 2017 | 2018 | 2019\n",
       "  0 |        M |    1 |    2 |    3\n",
       "  0 |        F |    5 |    6 |    7\n",
       "  1 |        M |    9 |   10 |   11\n",
       "  1 |        F |   13 |   14 |   15\n",
       "  2 |        M |   17 |   18 |   19\n",
       "  2 |        F |   21 |   22 |   23\n",
       "  3 |        M |   25 |   26 |   27\n",
       "  3 |        F |   29 |   30 |   31"
      ]
     },
     "execution_count": 44,
     "metadata": {},
     "output_type": "execute_result"
    }
   ],
   "source": [
    "# slices bounds are optional: if not given start is assumed to be the first label and stop is the last one.\n",
    "a[:3, 2017:]"
   ]
  },
  {
   "cell_type": "code",
   "execution_count": 45,
   "metadata": {
    "collapsed": false
   },
   "outputs": [
    {
     "data": {
      "text/plain": [
       "age | sex\\time | 2017 | 2018 | 2019\n",
       "  3 |        M |   25 |   26 |   27\n",
       "  3 |        F |   29 |   30 |   31\n",
       "  5 |        M |   41 |   42 |   43\n",
       "  5 |        F |   45 |   46 |   47\n",
       "  7 |        M |   57 |   58 |   59\n",
       "  7 |        F |   61 |   62 |   63\n",
       "  9 |        M |   73 |   74 |   75\n",
       "  9 |        F |   77 |   78 |   79"
      ]
     },
     "execution_count": 45,
     "metadata": {},
     "output_type": "execute_result"
    }
   ],
   "source": [
    "# slices can also have a step (defaults to 1), to take every Nth labels\n",
    "a[3:9:2, 2017:]"
   ]
  },
  {
   "cell_type": "code",
   "execution_count": 46,
   "metadata": {
    "collapsed": false
   },
   "outputs": [
    {
     "data": {
      "text/plain": [
       "age | sex\\time | 2016 | 2017 | 2018\n",
       " 10 |        M |   80 |   81 |   82\n",
       " 10 |        F |   84 |   85 |   86\n",
       " 12 |        M |   96 |   97 |   98\n",
       " 12 |        F |  100 |  101 |  102\n",
       " 15 |        M |  120 |  121 |  122\n",
       " 15 |        F |  124 |  125 |  126"
      ]
     },
     "execution_count": 46,
     "metadata": {},
     "output_type": "execute_result"
    }
   ],
   "source": [
    "# one can also use list of labels to take non-contiguous labels\n",
    "a[[10, 12, 15], :2018]"
   ]
  },
  {
   "cell_type": "code",
   "execution_count": 47,
   "metadata": {
    "collapsed": false
   },
   "outputs": [
    {
     "data": {
      "text/plain": [
       "age\\time | 2016 | 2018 | 2019\n",
       "      10 |   84 |   86 |   87\n",
       "      12 |  100 |  102 |  103\n",
       "      14 |  116 |  118 |  119\n",
       "      16 |  132 |  134 |  135\n",
       "      18 |  148 |  150 |  151"
      ]
     },
     "execution_count": 47,
     "metadata": {},
     "output_type": "execute_result"
    }
   ],
   "source": [
    "# one can combine all of the above\n",
    "a[10:18:2, 'F', [2016, 2018, 2019]]"
   ]
  },
  {
   "cell_type": "code",
   "execution_count": 48,
   "metadata": {
    "collapsed": false
   },
   "outputs": [
    {
     "data": {
      "text/plain": [
       "age\\time | 2016 | 2017 | 2018\n",
       "      10 |   84 |   85 |   86\n",
       "      11 |   92 |   93 |   94\n",
       "      12 |  100 |  101 |  102\n",
       "      13 |  108 |  109 |  110\n",
       "      14 |  116 |  117 |  118\n",
       "      15 |  124 |  125 |  126\n",
       "      16 |  132 |  133 |  134\n",
       "      17 |  140 |  141 |  142\n",
       "      18 |  148 |  149 |  150\n",
       "      19 |  156 |  157 |  158"
      ]
     },
     "execution_count": 48,
     "metadata": {},
     "output_type": "execute_result"
    }
   ],
   "source": [
    "# the order of indexing does not matter either, so you usually do not care/have to remember about axes positions\n",
    "# during computation. It only matters for output.\n",
    "a[:2018, 10:19, 'F']"
   ]
  },
  {
   "cell_type": "code",
   "execution_count": 49,
   "metadata": {
    "collapsed": false
   },
   "outputs": [],
   "source": [
    "# let us now create an array with the same labels on several axes\n",
    "age2 = age.rename('age2')\n",
    "a2 = ndrange([age, age2, time])"
   ]
  },
  {
   "cell_type": "code",
   "execution_count": 50,
   "metadata": {
    "collapsed": false
   },
   "outputs": [
    {
     "data": {
      "text/plain": [
       "100 x 100 x 4\n",
       " age [100]: 0 1 2 ... 97 98 99\n",
       " age2 [100]: 0 1 2 ... 97 98 99\n",
       " time [4]: 2016 2017 2018 2019"
      ]
     },
     "execution_count": 50,
     "metadata": {},
     "output_type": "execute_result"
    }
   ],
   "source": [
    "a2.info"
   ]
  },
  {
   "cell_type": "code",
   "execution_count": 52,
   "metadata": {
    "collapsed": false
   },
   "outputs": [
    {
     "ename": "ValueError",
     "evalue": "slice(10, 13, None) is ambiguous (valid in age, age2)",
     "output_type": "error",
     "traceback": [
      "\u001b[0;31m---------------------------------------------------------------------------\u001b[0m",
      "\u001b[0;31mValueError\u001b[0m                                Traceback (most recent call last)",
      "\u001b[0;32m<ipython-input-52-5a2a3c31a206>\u001b[0m in \u001b[0;36m<module>\u001b[0;34m()\u001b[0m\n\u001b[1;32m      1\u001b[0m \u001b[0;31m# in this case a subset is ambiguous and this results in an error:\u001b[0m\u001b[0;34m\u001b[0m\u001b[0;34m\u001b[0m\u001b[0m\n\u001b[0;32m----> 2\u001b[0;31m \u001b[0ma2\u001b[0m\u001b[0;34m[\u001b[0m\u001b[0;36m10\u001b[0m\u001b[0;34m:\u001b[0m\u001b[0;36m13\u001b[0m\u001b[0;34m]\u001b[0m\u001b[0;34m\u001b[0m\u001b[0m\n\u001b[0m",
      "\u001b[0;32mc:\\users\\gdm\\devel\\larray\\larray\\core.py\u001b[0m in \u001b[0;36m__getitem__\u001b[0;34m(self, key, collapse_slices)\u001b[0m\n\u001b[1;32m   2763\u001b[0m \u001b[0;34m\u001b[0m\u001b[0m\n\u001b[1;32m   2764\u001b[0m         \u001b[0mdata\u001b[0m \u001b[0;34m=\u001b[0m \u001b[0mnp\u001b[0m\u001b[0;34m.\u001b[0m\u001b[0masarray\u001b[0m\u001b[0;34m(\u001b[0m\u001b[0mself\u001b[0m\u001b[0;34m.\u001b[0m\u001b[0mdata\u001b[0m\u001b[0;34m)\u001b[0m\u001b[0;34m\u001b[0m\u001b[0m\n\u001b[0;32m-> 2765\u001b[0;31m         \u001b[0mtranslated_key\u001b[0m \u001b[0;34m=\u001b[0m \u001b[0mself\u001b[0m\u001b[0;34m.\u001b[0m\u001b[0mtranslated_key\u001b[0m\u001b[0;34m(\u001b[0m\u001b[0mkey\u001b[0m\u001b[0;34m)\u001b[0m\u001b[0;34m\u001b[0m\u001b[0m\n\u001b[0m\u001b[1;32m   2766\u001b[0m \u001b[0;34m\u001b[0m\u001b[0m\n\u001b[1;32m   2767\u001b[0m         \u001b[0;31m# FIXME: I have a huge problem with boolean labels + non points\u001b[0m\u001b[0;34m\u001b[0m\u001b[0;34m\u001b[0m\u001b[0m\n",
      "\u001b[0;32mc:\\users\\gdm\\devel\\larray\\larray\\core.py\u001b[0m in \u001b[0;36mtranslated_key\u001b[0;34m(self, key, bool_stuff)\u001b[0m\n\u001b[1;32m   2664\u001b[0m             key = [self._translate_axis_key(axis_key,\n\u001b[1;32m   2665\u001b[0m                                             bool_passthrough=not bool_stuff)\n\u001b[0;32m-> 2666\u001b[0;31m                    for axis_key in key]\n\u001b[0m\u001b[1;32m   2667\u001b[0m \u001b[0;34m\u001b[0m\u001b[0m\n\u001b[1;32m   2668\u001b[0m             \u001b[0;32massert\u001b[0m \u001b[0mall\u001b[0m\u001b[0;34m(\u001b[0m\u001b[0misinstance\u001b[0m\u001b[0;34m(\u001b[0m\u001b[0maxis_key\u001b[0m\u001b[0;34m,\u001b[0m \u001b[0mPGroup\u001b[0m\u001b[0;34m)\u001b[0m \u001b[0;32mfor\u001b[0m \u001b[0maxis_key\u001b[0m \u001b[0;32min\u001b[0m \u001b[0mkey\u001b[0m\u001b[0;34m)\u001b[0m\u001b[0;34m\u001b[0m\u001b[0m\n",
      "\u001b[0;32mc:\\users\\gdm\\devel\\larray\\larray\\core.py\u001b[0m in \u001b[0;36m<listcomp>\u001b[0;34m(.0)\u001b[0m\n\u001b[1;32m   2664\u001b[0m             key = [self._translate_axis_key(axis_key,\n\u001b[1;32m   2665\u001b[0m                                             bool_passthrough=not bool_stuff)\n\u001b[0;32m-> 2666\u001b[0;31m                    for axis_key in key]\n\u001b[0m\u001b[1;32m   2667\u001b[0m \u001b[0;34m\u001b[0m\u001b[0m\n\u001b[1;32m   2668\u001b[0m             \u001b[0;32massert\u001b[0m \u001b[0mall\u001b[0m\u001b[0;34m(\u001b[0m\u001b[0misinstance\u001b[0m\u001b[0;34m(\u001b[0m\u001b[0maxis_key\u001b[0m\u001b[0;34m,\u001b[0m \u001b[0mPGroup\u001b[0m\u001b[0;34m)\u001b[0m \u001b[0;32mfor\u001b[0m \u001b[0maxis_key\u001b[0m \u001b[0;32min\u001b[0m \u001b[0mkey\u001b[0m\u001b[0;34m)\u001b[0m\u001b[0;34m\u001b[0m\u001b[0m\n",
      "\u001b[0;32mc:\\users\\gdm\\devel\\larray\\larray\\core.py\u001b[0m in \u001b[0;36m_translate_axis_key\u001b[0;34m(self, axis_key, bool_passthrough)\u001b[0m\n\u001b[1;32m   2566\u001b[0m                                                   bool_passthrough)\n\u001b[1;32m   2567\u001b[0m         \u001b[0;32melse\u001b[0m\u001b[0;34m:\u001b[0m\u001b[0;34m\u001b[0m\u001b[0m\n\u001b[0;32m-> 2568\u001b[0;31m             \u001b[0;32mreturn\u001b[0m \u001b[0mself\u001b[0m\u001b[0;34m.\u001b[0m\u001b[0m_translate_axis_key_chunk\u001b[0m\u001b[0;34m(\u001b[0m\u001b[0maxis_key\u001b[0m\u001b[0;34m,\u001b[0m \u001b[0mbool_passthrough\u001b[0m\u001b[0;34m)\u001b[0m\u001b[0;34m\u001b[0m\u001b[0m\n\u001b[0m\u001b[1;32m   2569\u001b[0m \u001b[0;34m\u001b[0m\u001b[0m\n\u001b[1;32m   2570\u001b[0m     \u001b[0;32mdef\u001b[0m \u001b[0m_guess_axis\u001b[0m\u001b[0;34m(\u001b[0m\u001b[0mself\u001b[0m\u001b[0;34m,\u001b[0m \u001b[0maxis_key\u001b[0m\u001b[0;34m)\u001b[0m\u001b[0;34m:\u001b[0m\u001b[0;34m\u001b[0m\u001b[0m\n",
      "\u001b[0;32mc:\\users\\gdm\\devel\\larray\\larray\\core.py\u001b[0m in \u001b[0;36m_translate_axis_key_chunk\u001b[0;34m(self, axis_key, bool_passthrough)\u001b[0m\n\u001b[1;32m   2530\u001b[0m             \u001b[0mvalid_axes\u001b[0m \u001b[0;34m=\u001b[0m \u001b[0;34m', '\u001b[0m\u001b[0;34m.\u001b[0m\u001b[0mjoin\u001b[0m\u001b[0;34m(\u001b[0m\u001b[0mstr\u001b[0m\u001b[0;34m(\u001b[0m\u001b[0ma\u001b[0m\u001b[0;34m.\u001b[0m\u001b[0mid\u001b[0m\u001b[0;34m)\u001b[0m \u001b[0;32mfor\u001b[0m \u001b[0ma\u001b[0m \u001b[0;32min\u001b[0m \u001b[0mvalid_axes\u001b[0m\u001b[0;34m)\u001b[0m\u001b[0;34m\u001b[0m\u001b[0m\n\u001b[1;32m   2531\u001b[0m             raise ValueError('%s is ambiguous (valid in %s)' %\n\u001b[0;32m-> 2532\u001b[0;31m                              (axis_key, valid_axes))\n\u001b[0m\u001b[1;32m   2533\u001b[0m         \u001b[0;32mreturn\u001b[0m \u001b[0mvalid_axes\u001b[0m\u001b[0;34m[\u001b[0m\u001b[0;36m0\u001b[0m\u001b[0;34m]\u001b[0m\u001b[0;34m.\u001b[0m\u001b[0mi\u001b[0m\u001b[0;34m[\u001b[0m\u001b[0maxis_pos_key\u001b[0m\u001b[0;34m]\u001b[0m\u001b[0;34m\u001b[0m\u001b[0m\n\u001b[1;32m   2534\u001b[0m \u001b[0;34m\u001b[0m\u001b[0m\n",
      "\u001b[0;31mValueError\u001b[0m: slice(10, 13, None) is ambiguous (valid in age, age2)"
     ]
    }
   ],
   "source": [
    "# in this case a subset is ambiguous and this results in an error:\n",
    "a2[10:13]"
   ]
  },
  {
   "cell_type": "code",
   "execution_count": 53,
   "metadata": {
    "collapsed": false
   },
   "outputs": [],
   "source": [
    "# In that case, one must specify explicitly which axis he wants to subset...\n",
    "a3 = a2[x.age[10:13], :2018]"
   ]
  },
  {
   "cell_type": "code",
   "execution_count": 54,
   "metadata": {
    "collapsed": false
   },
   "outputs": [
    {
     "data": {
      "text/plain": [
       "4 x 100 x 3\n",
       " age [4]: 10 11 12 13\n",
       " age2 [100]: 0 1 2 ... 97 98 99\n",
       " time [3]: 2016 2017 2018"
      ]
     },
     "execution_count": 54,
     "metadata": {},
     "output_type": "execute_result"
    }
   ],
   "source": [
    "a3.info"
   ]
  },
  {
   "cell_type": "markdown",
   "metadata": {},
   "source": [
    "# Assigning subsets"
   ]
  },
  {
   "cell_type": "code",
   "execution_count": 55,
   "metadata": {
    "collapsed": false
   },
   "outputs": [],
   "source": [
    "# let us work with a smaller array\n",
    "b = a[10:12].copy()"
   ]
  },
  {
   "cell_type": "code",
   "execution_count": 56,
   "metadata": {
    "collapsed": false
   },
   "outputs": [
    {
     "data": {
      "text/plain": [
       "age | sex\\time | 2016 | 2017 | 2018 | 2019\n",
       " 10 |        M |   80 |   81 |   82 |   83\n",
       " 10 |        F |   84 |   85 |   86 |   87\n",
       " 11 |        M |   88 |   89 |   90 |   91\n",
       " 11 |        F |   92 |   93 |   94 |   95\n",
       " 12 |        M |   96 |   97 |   98 |   99\n",
       " 12 |        F |  100 |  101 |  102 |  103"
      ]
     },
     "execution_count": 56,
     "metadata": {},
     "output_type": "execute_result"
    }
   ],
   "source": [
    "b"
   ]
  },
  {
   "cell_type": "code",
   "execution_count": 57,
   "metadata": {
    "collapsed": false
   },
   "outputs": [],
   "source": [
    "# one can set the value of a subset of an array using a similar syntax than for getting a subset\n",
    "b[:11, 'M', 2018:] = -1"
   ]
  },
  {
   "cell_type": "code",
   "execution_count": 58,
   "metadata": {
    "collapsed": false
   },
   "outputs": [
    {
     "data": {
      "text/plain": [
       "age | sex\\time | 2016 | 2017 | 2018 | 2019\n",
       " 10 |        M |   80 |   81 |   -1 |   -1\n",
       " 10 |        F |   84 |   85 |   86 |   87\n",
       " 11 |        M |   88 |   89 |   -1 |   -1\n",
       " 11 |        F |   92 |   93 |   94 |   95\n",
       " 12 |        M |   96 |   97 |   98 |   99\n",
       " 12 |        F |  100 |  101 |  102 |  103"
      ]
     },
     "execution_count": 58,
     "metadata": {},
     "output_type": "execute_result"
    }
   ],
   "source": [
    "b"
   ]
  },
  {
   "cell_type": "markdown",
   "metadata": {
    "collapsed": true
   },
   "source": [
    "This also works if the new value is an array itself. In that case, that array can have less axes than the target but those which are present must be compatible with the subset being targetted."
   ]
  },
  {
   "cell_type": "code",
   "execution_count": 59,
   "metadata": {
    "collapsed": true
   },
   "outputs": [],
   "source": [
    "new_value = create_sequential(sex)"
   ]
  },
  {
   "cell_type": "code",
   "execution_count": 60,
   "metadata": {
    "collapsed": false
   },
   "outputs": [
    {
     "data": {
      "text/plain": [
       "sex | M | F\n",
       "    | 0 | 1"
      ]
     },
     "execution_count": 60,
     "metadata": {},
     "output_type": "execute_result"
    }
   ],
   "source": [
    "new_value"
   ]
  },
  {
   "cell_type": "code",
   "execution_count": 61,
   "metadata": {
    "collapsed": false
   },
   "outputs": [],
   "source": [
    "# this assigns 0 to men and 1 to women for all persons aged 11 or less and for years after 2018\n",
    "b[:11, 2018:] = new_value"
   ]
  },
  {
   "cell_type": "code",
   "execution_count": 62,
   "metadata": {
    "collapsed": false
   },
   "outputs": [
    {
     "data": {
      "text/plain": [
       "age | sex\\time | 2016 | 2017 | 2018 | 2019\n",
       " 10 |        M |   80 |   81 |    0 |    0\n",
       " 10 |        F |   84 |   85 |    1 |    1\n",
       " 11 |        M |   88 |   89 |    0 |    0\n",
       " 11 |        F |   92 |   93 |    1 |    1\n",
       " 12 |        M |   96 |   97 |   98 |   99\n",
       " 12 |        F |  100 |  101 |  102 |  103"
      ]
     },
     "execution_count": 62,
     "metadata": {},
     "output_type": "execute_result"
    }
   ],
   "source": [
    "b"
   ]
  },
  {
   "cell_type": "markdown",
   "metadata": {},
   "source": [
    "### the value being assigned must have compatible axes with the target slice"
   ]
  },
  {
   "cell_type": "code",
   "execution_count": 63,
   "metadata": {
    "collapsed": true
   },
   "outputs": [],
   "source": [
    "# let us suppose we want to assign a new value wich depends only on time\n",
    "new_value = create_sequential(time)"
   ]
  },
  {
   "cell_type": "code",
   "execution_count": 64,
   "metadata": {
    "collapsed": false
   },
   "outputs": [
    {
     "data": {
      "text/plain": [
       "time | 2016 | 2017 | 2018 | 2019\n",
       "     |    0 |    1 |    2 |    3"
      ]
     },
     "execution_count": 64,
     "metadata": {},
     "output_type": "execute_result"
    }
   ],
   "source": [
    "new_value"
   ]
  },
  {
   "cell_type": "code",
   "execution_count": 65,
   "metadata": {
    "collapsed": false
   },
   "outputs": [
    {
     "ename": "ValueError",
     "evalue": "could not broadcast input array from shape (1,1,4) into shape (2,2,2)",
     "output_type": "error",
     "traceback": [
      "\u001b[0;31m---------------------------------------------------------------------------\u001b[0m",
      "\u001b[0;31mValueError\u001b[0m                                Traceback (most recent call last)",
      "\u001b[0;32m<ipython-input-65-faa252fbe2b0>\u001b[0m in \u001b[0;36m<module>\u001b[0;34m()\u001b[0m\n\u001b[0;32m----> 1\u001b[0;31m \u001b[0mb\u001b[0m\u001b[0;34m[\u001b[0m\u001b[0;34m:\u001b[0m\u001b[0;36m11\u001b[0m\u001b[0;34m,\u001b[0m \u001b[0;36m2018\u001b[0m\u001b[0;34m:\u001b[0m\u001b[0;34m]\u001b[0m \u001b[0;34m=\u001b[0m \u001b[0mnew_value\u001b[0m\u001b[0;34m\u001b[0m\u001b[0m\n\u001b[0m",
      "\u001b[0;32mc:\\users\\gdm\\devel\\larray\\larray\\core.py\u001b[0m in \u001b[0;36m__setitem__\u001b[0;34m(self, key, value, collapse_slices)\u001b[0m\n\u001b[1;32m   2857\u001b[0m         \u001b[0;31m# if value is a \"raw\" ndarray we rely on numpy broadcasting\u001b[0m\u001b[0;34m\u001b[0m\u001b[0;34m\u001b[0m\u001b[0m\n\u001b[1;32m   2858\u001b[0m         \u001b[0mdata\u001b[0m\u001b[0;34m[\u001b[0m\u001b[0mcross_key\u001b[0m\u001b[0;34m]\u001b[0m \u001b[0;34m=\u001b[0m \u001b[0mvalue\u001b[0m\u001b[0;34m.\u001b[0m\u001b[0mbroadcast_with\u001b[0m\u001b[0;34m(\u001b[0m\u001b[0maxes\u001b[0m\u001b[0;34m)\u001b[0m\u001b[0;31m \u001b[0m\u001b[0;31m\\\u001b[0m\u001b[0;34m\u001b[0m\u001b[0m\n\u001b[0;32m-> 2859\u001b[0;31m             \u001b[0;32mif\u001b[0m \u001b[0misinstance\u001b[0m\u001b[0;34m(\u001b[0m\u001b[0mvalue\u001b[0m\u001b[0;34m,\u001b[0m \u001b[0mLArray\u001b[0m\u001b[0;34m)\u001b[0m \u001b[0;32melse\u001b[0m \u001b[0mvalue\u001b[0m\u001b[0;34m\u001b[0m\u001b[0m\n\u001b[0m\u001b[1;32m   2860\u001b[0m \u001b[0;34m\u001b[0m\u001b[0m\n\u001b[1;32m   2861\u001b[0m     \u001b[0;32mdef\u001b[0m \u001b[0m_bool_key_new_axes\u001b[0m\u001b[0;34m(\u001b[0m\u001b[0mself\u001b[0m\u001b[0;34m,\u001b[0m \u001b[0mkey\u001b[0m\u001b[0;34m,\u001b[0m \u001b[0mwildcard_allowed\u001b[0m\u001b[0;34m=\u001b[0m\u001b[0;32mFalse\u001b[0m\u001b[0;34m)\u001b[0m\u001b[0;34m:\u001b[0m\u001b[0;34m\u001b[0m\u001b[0m\n",
      "\u001b[0;31mValueError\u001b[0m: could not broadcast input array from shape (1,1,4) into shape (2,2,2)"
     ]
    }
   ],
   "source": [
    "b[:11, 2018:] = new_value"
   ]
  },
  {
   "cell_type": "code",
   "execution_count": 66,
   "metadata": {
    "collapsed": false
   },
   "outputs": [
    {
     "data": {
      "text/plain": [
       "2 x 2 x 2\n",
       " age [2]: 10 11\n",
       " sex [2]: 'M' 'F'\n",
       " time [2]: 2018 2019"
      ]
     },
     "execution_count": 66,
     "metadata": {},
     "output_type": "execute_result"
    }
   ],
   "source": [
    "# the problem is that the target subset has a time axis of length 2\n",
    "b[:11, 2018:].info"
   ]
  },
  {
   "cell_type": "code",
   "execution_count": 67,
   "metadata": {
    "collapsed": false
   },
   "outputs": [
    {
     "data": {
      "text/plain": [
       "4\n",
       " time [4]: 2016 2017 2018 2019"
      ]
     },
     "execution_count": 67,
     "metadata": {},
     "output_type": "execute_result"
    }
   ],
   "source": [
    "# ... while new_value has a time axis of length 4\n",
    "new_value.info"
   ]
  },
  {
   "cell_type": "code",
   "execution_count": 68,
   "metadata": {
    "collapsed": false
   },
   "outputs": [
    {
     "data": {
      "text/plain": [
       "time | 2018 | 2019\n",
       "     |    2 |    3"
      ]
     },
     "execution_count": 68,
     "metadata": {},
     "output_type": "execute_result"
    }
   ],
   "source": [
    "# we must make sure the value being assigned has the correct time axis:\n",
    "new_value[2018:]"
   ]
  },
  {
   "cell_type": "code",
   "execution_count": 69,
   "metadata": {
    "collapsed": false
   },
   "outputs": [],
   "source": [
    "# ... so this works:\n",
    "b[:11, 2018:] = new_value[2018:]"
   ]
  },
  {
   "cell_type": "code",
   "execution_count": 70,
   "metadata": {
    "collapsed": false
   },
   "outputs": [
    {
     "data": {
      "text/plain": [
       "age | sex\\time | 2016 | 2017 | 2018 | 2019\n",
       " 10 |        M |   80 |   81 |    2 |    3\n",
       " 10 |        F |   84 |   85 |    2 |    3\n",
       " 11 |        M |   88 |   89 |    2 |    3\n",
       " 11 |        F |   92 |   93 |    2 |    3\n",
       " 12 |        M |   96 |   97 |   98 |   99\n",
       " 12 |        F |  100 |  101 |  102 |  103"
      ]
     },
     "execution_count": 70,
     "metadata": {},
     "output_type": "execute_result"
    }
   ],
   "source": [
    "b"
   ]
  },
  {
   "cell_type": "markdown",
   "metadata": {},
   "source": [
    "### one very important gotcha though..."
   ]
  },
  {
   "cell_type": "markdown",
   "metadata": {},
   "source": [
    "<div class=\"alert alert-warning\">\n",
    "**<span style=\"color:red\">WARNING</span>**: modifying a slice of an array in-place like we did above should be done with care otherwise you could have **unexpected effects**\n",
    "</div>"
   ]
  },
  {
   "cell_type": "markdown",
   "metadata": {},
   "source": [
    "The reason is that taking a **slice** subset of an array does not return a copy of that array, but rather a view on that array. This has two important consequences: \n",
    "* taking a slice subset of an array is extremely fast (no data is copied)\n",
    "* if one modifies that subset in-place, one also **modifies the original array**"
   ]
  },
  {
   "cell_type": "code",
   "execution_count": 71,
   "metadata": {
    "collapsed": true
   },
   "outputs": [],
   "source": [
    "# let us create a small test array\n",
    "a = ndrange([sex, time])"
   ]
  },
  {
   "cell_type": "code",
   "execution_count": 72,
   "metadata": {
    "collapsed": false
   },
   "outputs": [
    {
     "data": {
      "text/plain": [
       "sex\\time | 2016 | 2017 | 2018 | 2019\n",
       "       M |    0 |    1 |    2 |    3\n",
       "       F |    4 |    5 |    6 |    7"
      ]
     },
     "execution_count": 72,
     "metadata": {},
     "output_type": "execute_result"
    }
   ],
   "source": [
    "a"
   ]
  },
  {
   "cell_type": "code",
   "execution_count": 73,
   "metadata": {
    "collapsed": true
   },
   "outputs": [],
   "source": [
    "b = a[2018:]"
   ]
  },
  {
   "cell_type": "code",
   "execution_count": 74,
   "metadata": {
    "collapsed": false
   },
   "outputs": [
    {
     "data": {
      "text/plain": [
       "sex\\time | 2018 | 2019\n",
       "       M |    2 |    3\n",
       "       F |    6 |    7"
      ]
     },
     "execution_count": 74,
     "metadata": {},
     "output_type": "execute_result"
    }
   ],
   "source": [
    "b"
   ]
  },
  {
   "cell_type": "code",
   "execution_count": 75,
   "metadata": {
    "collapsed": true
   },
   "outputs": [],
   "source": [
    "# modify b in place...\n",
    "b['M'] = 42"
   ]
  },
  {
   "cell_type": "code",
   "execution_count": 76,
   "metadata": {
    "collapsed": false
   },
   "outputs": [
    {
     "data": {
      "text/plain": [
       "sex\\time | 2018 | 2019\n",
       "       M |   42 |   42\n",
       "       F |    6 |    7"
      ]
     },
     "execution_count": 76,
     "metadata": {},
     "output_type": "execute_result"
    }
   ],
   "source": [
    "b"
   ]
  },
  {
   "cell_type": "code",
   "execution_count": 77,
   "metadata": {
    "collapsed": false
   },
   "outputs": [
    {
     "data": {
      "text/plain": [
       "sex\\time | 2016 | 2017 | 2018 | 2019\n",
       "       M |    0 |    1 |   42 |   42\n",
       "       F |    4 |    5 |    6 |    7"
      ]
     },
     "execution_count": 77,
     "metadata": {},
     "output_type": "execute_result"
    }
   ],
   "source": [
    "# ... but a was also modified !!!!\n",
    "a"
   ]
  },
  {
   "cell_type": "markdown",
   "metadata": {},
   "source": [
    "### how to avoid the problem? use .copy()"
   ]
  },
  {
   "cell_type": "markdown",
   "metadata": {},
   "source": [
    "<div class=\"alert alert-info\">\n",
    "Whenever you modify an array in-place, ask yourself: is this a copy or a view? If what you wanted was to modify a copy, verify that you are indeed working on a copy. A copy can be done using **.copy()**\n",
    "</div>"
   ]
  },
  {
   "cell_type": "code",
   "execution_count": 78,
   "metadata": {
    "collapsed": true
   },
   "outputs": [],
   "source": [
    "# let us create the same small test array\n",
    "a = ndrange([sex, time])"
   ]
  },
  {
   "cell_type": "code",
   "execution_count": 79,
   "metadata": {
    "collapsed": false
   },
   "outputs": [
    {
     "data": {
      "text/plain": [
       "sex\\time | 2016 | 2017 | 2018 | 2019\n",
       "       M |    0 |    1 |    2 |    3\n",
       "       F |    4 |    5 |    6 |    7"
      ]
     },
     "execution_count": 79,
     "metadata": {},
     "output_type": "execute_result"
    }
   ],
   "source": [
    "a"
   ]
  },
  {
   "cell_type": "code",
   "execution_count": 80,
   "metadata": {
    "collapsed": true
   },
   "outputs": [],
   "source": [
    "# but this time, we take a copy\n",
    "b = a[2018:].copy()"
   ]
  },
  {
   "cell_type": "code",
   "execution_count": 81,
   "metadata": {
    "collapsed": false
   },
   "outputs": [
    {
     "data": {
      "text/plain": [
       "sex\\time | 2018 | 2019\n",
       "       M |    2 |    3\n",
       "       F |    6 |    7"
      ]
     },
     "execution_count": 81,
     "metadata": {},
     "output_type": "execute_result"
    }
   ],
   "source": [
    "b"
   ]
  },
  {
   "cell_type": "code",
   "execution_count": 82,
   "metadata": {
    "collapsed": true
   },
   "outputs": [],
   "source": [
    "# modify b in place...\n",
    "b['M'] = 42"
   ]
  },
  {
   "cell_type": "code",
   "execution_count": 83,
   "metadata": {
    "collapsed": false
   },
   "outputs": [
    {
     "data": {
      "text/plain": [
       "sex\\time | 2018 | 2019\n",
       "       M |   42 |   42\n",
       "       F |    6 |    7"
      ]
     },
     "execution_count": 83,
     "metadata": {},
     "output_type": "execute_result"
    }
   ],
   "source": [
    "b"
   ]
  },
  {
   "cell_type": "code",
   "execution_count": 84,
   "metadata": {
    "collapsed": false
   },
   "outputs": [
    {
     "data": {
      "text/plain": [
       "sex\\time | 2016 | 2017 | 2018 | 2019\n",
       "       M |    0 |    1 |    2 |    3\n",
       "       F |    4 |    5 |    6 |    7"
      ]
     },
     "execution_count": 84,
     "metadata": {},
     "output_type": "execute_result"
    }
   ],
   "source": [
    "# this time a was not modified !\n",
    "a"
   ]
  },
  {
   "cell_type": "markdown",
   "metadata": {},
   "source": [
    "# Using positions (indices) instead of labels"
   ]
  },
  {
   "cell_type": "markdown",
   "metadata": {},
   "source": [
    "### sometimes it is more practical to use positions along the axis, instead of labels"
   ]
  },
  {
   "cell_type": "markdown",
   "metadata": {},
   "source": [
    "<div class=\"alert alert-info\">\n",
    "Remember that positions (indices) are always **0-based** in Python. So the first element is at position 0, the second is at position 1, etc.\n",
    "</div>"
   ]
  },
  {
   "cell_type": "code",
   "execution_count": 85,
   "metadata": {
    "collapsed": true
   },
   "outputs": [],
   "source": [
    "# let us recreate our test array\n",
    "a = ndrange([age, sex, time])"
   ]
  },
  {
   "cell_type": "code",
   "execution_count": 86,
   "metadata": {
    "collapsed": false
   },
   "outputs": [
    {
     "data": {
      "text/plain": [
       "age | sex\\time | 2017 | 2018 | 2019\n",
       " 10 |        M |   81 |   82 |   83\n",
       " 10 |        F |   85 |   86 |   87\n",
       " 11 |        M |   89 |   90 |   91\n",
       " 11 |        F |   93 |   94 |   95\n",
       " 12 |        M |   97 |   98 |   99\n",
       " 12 |        F |  101 |  102 |  103\n",
       " 13 |        M |  105 |  106 |  107\n",
       " 13 |        F |  109 |  110 |  111"
      ]
     },
     "execution_count": 86,
     "metadata": {},
     "output_type": "execute_result"
    }
   ],
   "source": [
    "# one might want to use positional subsets, for example, to skip the first year whatever it is (2016 in this case). \n",
    "a[10:13, x.time.i[1:]]"
   ]
  },
  {
   "cell_type": "code",
   "execution_count": 87,
   "metadata": {
    "collapsed": false
   },
   "outputs": [
    {
     "data": {
      "text/plain": [
       "age | sex\\time | 2016 | 2017 | 2018\n",
       " 10 |        M |   80 |   81 |   82\n",
       " 10 |        F |   84 |   85 |   86\n",
       " 11 |        M |   88 |   89 |   90\n",
       " 11 |        F |   92 |   93 |   94\n",
       " 12 |        M |   96 |   97 |   98\n",
       " 12 |        F |  100 |  101 |  102\n",
       " 13 |        M |  104 |  105 |  106\n",
       " 13 |        F |  108 |  109 |  110"
      ]
     },
     "execution_count": 87,
     "metadata": {},
     "output_type": "execute_result"
    }
   ],
   "source": [
    "# omit last year whatever it is (2019) (negative position start at the end: -1 is the last, -2 the one before, etc.)\n",
    "a[10:13, x.time.i[:-1]]"
   ]
  },
  {
   "cell_type": "code",
   "execution_count": 88,
   "metadata": {
    "collapsed": false
   },
   "outputs": [
    {
     "data": {
      "text/plain": [
       "age | sex\\time | 2016 | 2017 | 2018 | 2019\n",
       " 10 |        M |   80 |   81 |   82 |   83\n",
       " 10 |        F |   84 |   85 |   86 |   87\n",
       " 11 |        M |   88 |   89 |   90 |   91\n",
       " 11 |        F |   92 |   93 |   94 |   95\n",
       " 12 |        M |   96 |   97 |   98 |   99\n",
       " 12 |        F |  100 |  101 |  102 |  103"
      ]
     },
     "execution_count": 88,
     "metadata": {},
     "output_type": "execute_result"
    }
   ],
   "source": [
    "# also note that the end *indice* (position) is EXCLUSIVE (while the end label is inclusive)\n",
    "a[x.age.i[10:13]]"
   ]
  },
  {
   "cell_type": "code",
   "execution_count": 89,
   "metadata": {
    "collapsed": false
   },
   "outputs": [
    {
     "data": {
      "text/plain": [
       "age | sex\\time | 2016 | 2017 | 2018 | 2019\n",
       " 10 |        M |   80 |   81 |   82 |   83\n",
       " 10 |        F |   84 |   85 |   86 |   87\n",
       " 11 |        M |   88 |   89 |   90 |   91\n",
       " 11 |        F |   92 |   93 |   94 |   95\n",
       " 12 |        M |   96 |   97 |   98 |   99\n",
       " 12 |        F |  100 |  101 |  102 |  103\n",
       " 13 |        M |  104 |  105 |  106 |  107\n",
       " 13 |        F |  108 |  109 |  110 |  111"
      ]
     },
     "execution_count": 89,
     "metadata": {},
     "output_type": "execute_result"
    }
   ],
   "source": [
    "# compare this with\n",
    "a[x.age[10:13]]"
   ]
  },
  {
   "cell_type": "code",
   "execution_count": 90,
   "metadata": {
    "collapsed": false
   },
   "outputs": [
    {
     "data": {
      "text/plain": [
       "age | sex\\time | 2017 | 2018\n",
       " 10 |        M |   81 |   82\n",
       " 10 |        F |   85 |   86\n",
       " 11 |        M |   89 |   90\n",
       " 11 |        F |   93 |   94\n",
       " 12 |        M |   97 |   98\n",
       " 12 |        F |  101 |  102"
      ]
     },
     "execution_count": 90,
     "metadata": {},
     "output_type": "execute_result"
    }
   ],
   "source": [
    "# one can also rely on indices/positions for both axes labels and the axes themselves. In this context, using \"full\" slices\n",
    "# (without start nor end bound) must be used to avoid subsetting a dimension ...\n",
    "a.i[10:13, :, 1:3]"
   ]
  },
  {
   "cell_type": "code",
   "execution_count": 91,
   "metadata": {
    "collapsed": false
   },
   "outputs": [
    {
     "data": {
      "text/plain": [
       "age | sex\\time | 2016 | 2017 | 2018 | 2019\n",
       " 10 |        M |   80 |   81 |   82 |   83\n",
       " 10 |        F |   84 |   85 |   86 |   87\n",
       " 11 |        M |   88 |   89 |   90 |   91\n",
       " 11 |        F |   92 |   93 |   94 |   95\n",
       " 12 |        M |   96 |   97 |   98 |   99\n",
       " 12 |        F |  100 |  101 |  102 |  103"
      ]
     },
     "execution_count": 91,
     "metadata": {},
     "output_type": "execute_result"
    }
   ],
   "source": [
    "# ... though this is only necessary if you want to take a subset on a dimension without also\n",
    "# taking a subset of all dimensions before it. So, for example if one wants to subset the first dimension, this works:\n",
    "a.i[10:13]"
   ]
  },
  {
   "cell_type": "code",
   "execution_count": 92,
   "metadata": {
    "collapsed": false
   },
   "outputs": [],
   "source": [
    "# ... but for the third one you have to write:\n",
    "a4 = a.i[:, :, 2:]"
   ]
  },
  {
   "cell_type": "code",
   "execution_count": 93,
   "metadata": {
    "collapsed": false
   },
   "outputs": [
    {
     "data": {
      "text/plain": [
       "100 x 2 x 2\n",
       " age [100]: 0 1 2 ... 97 98 99\n",
       " sex [2]: 'M' 'F'\n",
       " time [2]: 2018 2019"
      ]
     },
     "execution_count": 93,
     "metadata": {},
     "output_type": "execute_result"
    }
   ],
   "source": [
    "a4.info"
   ]
  },
  {
   "cell_type": "markdown",
   "metadata": {},
   "source": [
    "# Reordering axes"
   ]
  },
  {
   "cell_type": "code",
   "execution_count": 94,
   "metadata": {
    "collapsed": false
   },
   "outputs": [
    {
     "data": {
      "text/plain": [
       "time | sex\\age | 0 |  1 |  2 |  3 |  4 | ... |  95 |  96 |  97 |  98 |  99\n",
       "2016 |       M | 0 |  8 | 16 | 24 | 32 | ... | 760 | 768 | 776 | 784 | 792\n",
       "2016 |       F | 4 | 12 | 20 | 28 | 36 | ... | 764 | 772 | 780 | 788 | 796\n",
       "2017 |       M | 1 |  9 | 17 | 25 | 33 | ... | 761 | 769 | 777 | 785 | 793\n",
       "2017 |       F | 5 | 13 | 21 | 29 | 37 | ... | 765 | 773 | 781 | 789 | 797\n",
       "2018 |       M | 2 | 10 | 18 | 26 | 34 | ... | 762 | 770 | 778 | 786 | 794\n",
       "2018 |       F | 6 | 14 | 22 | 30 | 38 | ... | 766 | 774 | 782 | 790 | 798\n",
       "2019 |       M | 3 | 11 | 19 | 27 | 35 | ... | 763 | 771 | 779 | 787 | 795\n",
       "2019 |       F | 7 | 15 | 23 | 31 | 39 | ... | 767 | 775 | 783 | 791 | 799"
      ]
     },
     "execution_count": 94,
     "metadata": {},
     "output_type": "execute_result"
    }
   ],
   "source": [
    "# the last axis is always in columns\n",
    "a.transpose(x.time, x.sex, x.age)"
   ]
  },
  {
   "cell_type": "code",
   "execution_count": 95,
   "metadata": {
    "collapsed": false
   },
   "outputs": [
    {
     "data": {
      "text/plain": [
       "sex | age\\time | 2016 | 2017 | 2018 | 2019\n",
       "  M |       10 |   80 |   81 |   82 |   83\n",
       "  M |       11 |   88 |   89 |   90 |   91\n",
       "  M |       12 |   96 |   97 |   98 |   99\n",
       "  F |       10 |   84 |   85 |   86 |   87\n",
       "  F |       11 |   92 |   93 |   94 |   95\n",
       "  F |       12 |  100 |  101 |  102 |  103"
      ]
     },
     "execution_count": 95,
     "metadata": {},
     "output_type": "execute_result"
    }
   ],
   "source": [
    "# axes not mentioned come after those which are mentioned (and keep their relative order)\n",
    "a[10:12].transpose(x.sex)"
   ]
  },
  {
   "cell_type": "markdown",
   "metadata": {},
   "source": [
    "# Groups"
   ]
  },
  {
   "cell_type": "code",
   "execution_count": 96,
   "metadata": {
    "collapsed": true
   },
   "outputs": [],
   "source": [
    "# one can define and reuse groups of labels (or indices)\n",
    "teens = x.age[10:19]\n",
    "twenties = x.age[20:29]\n",
    "strange = x.age[[30, 55, 52, 25, 99]]"
   ]
  },
  {
   "cell_type": "code",
   "execution_count": 97,
   "metadata": {
    "collapsed": false
   },
   "outputs": [
    {
     "data": {
      "text/plain": [
       "age | sex\\time | 2016 | 2017 | 2018 | 2019\n",
       " 30 |        M |  240 |  241 |  242 |  243\n",
       " 30 |        F |  244 |  245 |  246 |  247\n",
       " 55 |        M |  440 |  441 |  442 |  443\n",
       " 55 |        F |  444 |  445 |  446 |  447\n",
       " 52 |        M |  416 |  417 |  418 |  419\n",
       " 52 |        F |  420 |  421 |  422 |  423\n",
       " 25 |        M |  200 |  201 |  202 |  203\n",
       " 25 |        F |  204 |  205 |  206 |  207\n",
       " 99 |        M |  792 |  793 |  794 |  795\n",
       " 99 |        F |  796 |  797 |  798 |  799"
      ]
     },
     "execution_count": 97,
     "metadata": {},
     "output_type": "execute_result"
    }
   ],
   "source": [
    "a[strange]"
   ]
  },
  {
   "cell_type": "markdown",
   "metadata": {},
   "source": [
    "# Aggregates"
   ]
  },
  {
   "cell_type": "markdown",
   "metadata": {},
   "source": [
    "## full axes"
   ]
  },
  {
   "cell_type": "code",
   "execution_count": 98,
   "metadata": {
    "collapsed": false
   },
   "outputs": [
    {
     "data": {
      "text/plain": [
       "sex\\time |  2016 |  2017 |  2018 |  2019\n",
       "       M | 39600 | 39700 | 39800 | 39900\n",
       "       F | 40000 | 40100 | 40200 | 40300"
      ]
     },
     "execution_count": 98,
     "metadata": {},
     "output_type": "execute_result"
    }
   ],
   "source": [
    "a.sum(x.age)"
   ]
  },
  {
   "cell_type": "markdown",
   "metadata": {},
   "source": [
    "## by group"
   ]
  },
  {
   "cell_type": "code",
   "execution_count": 99,
   "metadata": {
    "collapsed": false
   },
   "outputs": [
    {
     "data": {
      "text/plain": [
       "sex\\time | 2016 | 2017 | 2018 | 2019\n",
       "       M | 1160 | 1170 | 1180 | 1190\n",
       "       F | 1200 | 1210 | 1220 | 1230"
      ]
     },
     "execution_count": 99,
     "metadata": {},
     "output_type": "execute_result"
    }
   ],
   "source": [
    "a.sum(teens)"
   ]
  },
  {
   "cell_type": "code",
   "execution_count": 100,
   "metadata": {
    "collapsed": false
   },
   "outputs": [
    {
     "data": {
      "text/plain": [
       "        age | sex\\time | 2016 | 2017 | 2018 | 2019\n",
       "      10:19 |        M | 1160 | 1170 | 1180 | 1190\n",
       "      10:19 |        F | 1200 | 1210 | 1220 | 1230\n",
       "      20:29 |        M | 1960 | 1970 | 1980 | 1990\n",
       "      20:29 |        F | 2000 | 2010 | 2020 | 2030\n",
       "[30 ... 99] |        M | 2088 | 2093 | 2098 | 2103\n",
       "[30 ... 99] |        F | 2108 | 2113 | 2118 | 2123"
      ]
     },
     "execution_count": 100,
     "metadata": {},
     "output_type": "execute_result"
    }
   ],
   "source": [
    "# several groups\n",
    "a.sum((teens, twenties, strange))"
   ]
  },
  {
   "cell_type": "code",
   "execution_count": 101,
   "metadata": {
    "collapsed": false
   },
   "outputs": [
    {
     "data": {
      "text/plain": [
       "    age\\sex |    M |    F\n",
       "      10:19 | 4700 | 4860\n",
       "      20:29 | 7900 | 8060\n",
       "[30 ... 99] | 8382 | 8462"
      ]
     },
     "execution_count": 101,
     "metadata": {},
     "output_type": "execute_result"
    }
   ],
   "source": [
    "# combined with other axes\n",
    "a.sum((teens, twenties, strange), x.time)"
   ]
  },
  {
   "cell_type": "code",
   "execution_count": 102,
   "metadata": {
    "collapsed": true
   },
   "outputs": [],
   "source": [
    "# there are many other aggregate functions built-in: \n",
    "# mean, min, max, median, percentile, var (variance), std (standard deviation)\n",
    "# argmin, argmax (label indirect minimum/maxium -- labels where the value is minimum/maximum)\n",
    "# posargmin, posargmax (positional indirect minimum/maxium -- position along axis where the value is minimum/maximum)\n",
    "# cumsum, cumprod (cumulative sum, cumulative product)"
   ]
  },
  {
   "cell_type": "markdown",
   "metadata": {},
   "source": [
    "## Using named groups"
   ]
  },
  {
   "cell_type": "code",
   "execution_count": 103,
   "metadata": {
    "collapsed": false
   },
   "outputs": [],
   "source": [
    "teens = x.age[10:19].named('teens')\n",
    "twenties = x.age[20:29].named('twenties')\n",
    "strange = x.age[[30, 55, 52, 25, 99]].named('strange')"
   ]
  },
  {
   "cell_type": "code",
   "execution_count": 104,
   "metadata": {
    "collapsed": false
   },
   "outputs": [
    {
     "data": {
      "text/plain": [
       "                    age | sex\\time | 2016 | 2017 | 2018 | 2019\n",
       "        'teens' (10:19) |        M | 1160 | 1170 | 1180 | 1190\n",
       "        'teens' (10:19) |        F | 1200 | 1210 | 1220 | 1230\n",
       "     'twenties' (20:29) |        M | 1960 | 1970 | 1980 | 1990\n",
       "     'twenties' (20:29) |        F | 2000 | 2010 | 2020 | 2030\n",
       "'strange' ([30 ... 99]) |        M | 2088 | 2093 | 2098 | 2103\n",
       "'strange' ([30 ... 99]) |        F | 2108 | 2113 | 2118 | 2123"
      ]
     },
     "execution_count": 104,
     "metadata": {},
     "output_type": "execute_result"
    }
   ],
   "source": [
    "a.sum((teens, twenties, strange))"
   ]
  },
  {
   "cell_type": "markdown",
   "metadata": {},
   "source": [
    "# Arithmetic operations"
   ]
  },
  {
   "cell_type": "code",
   "execution_count": 105,
   "metadata": {
    "collapsed": false
   },
   "outputs": [],
   "source": [
    "# let us use a small subset\n",
    "a = a[strange]"
   ]
  },
  {
   "cell_type": "code",
   "execution_count": 106,
   "metadata": {
    "collapsed": false
   },
   "outputs": [
    {
     "data": {
      "text/plain": [
       "age | sex\\time | 2016 | 2017 | 2018 | 2019\n",
       " 30 |        M |  240 |  241 |  242 |  243\n",
       " 30 |        F |  244 |  245 |  246 |  247\n",
       " 55 |        M |  440 |  441 |  442 |  443\n",
       " 55 |        F |  444 |  445 |  446 |  447\n",
       " 52 |        M |  416 |  417 |  418 |  419\n",
       " 52 |        F |  420 |  421 |  422 |  423\n",
       " 25 |        M |  200 |  201 |  202 |  203\n",
       " 25 |        F |  204 |  205 |  206 |  207\n",
       " 99 |        M |  792 |  793 |  794 |  795\n",
       " 99 |        F |  796 |  797 |  798 |  799"
      ]
     },
     "execution_count": 106,
     "metadata": {},
     "output_type": "execute_result"
    }
   ],
   "source": [
    "a"
   ]
  },
  {
   "cell_type": "code",
   "execution_count": 107,
   "metadata": {
    "collapsed": false
   },
   "outputs": [
    {
     "data": {
      "text/plain": [
       "age | sex\\time | 2016 | 2017 | 2018 | 2019\n",
       " 30 |        M |  241 |  242 |  243 |  244\n",
       " 30 |        F |  245 |  246 |  247 |  248\n",
       " 55 |        M |  441 |  442 |  443 |  444\n",
       " 55 |        F |  445 |  446 |  447 |  448\n",
       " 52 |        M |  417 |  418 |  419 |  420\n",
       " 52 |        F |  421 |  422 |  423 |  424\n",
       " 25 |        M |  201 |  202 |  203 |  204\n",
       " 25 |        F |  205 |  206 |  207 |  208\n",
       " 99 |        M |  793 |  794 |  795 |  796\n",
       " 99 |        F |  797 |  798 |  799 |  800"
      ]
     },
     "execution_count": 107,
     "metadata": {},
     "output_type": "execute_result"
    }
   ],
   "source": [
    "# one can do all usual arithmetic operations on an array, it will apply the operation to all elements individually\n",
    "a + 1"
   ]
  },
  {
   "cell_type": "code",
   "execution_count": 108,
   "metadata": {
    "collapsed": false
   },
   "outputs": [
    {
     "data": {
      "text/plain": [
       "age | sex\\time | 2016 | 2017 | 2018 | 2019\n",
       " 30 |        M |  480 |  482 |  484 |  486\n",
       " 30 |        F |  488 |  490 |  492 |  494\n",
       " 55 |        M |  880 |  882 |  884 |  886\n",
       " 55 |        F |  888 |  890 |  892 |  894\n",
       " 52 |        M |  832 |  834 |  836 |  838\n",
       " 52 |        F |  840 |  842 |  844 |  846\n",
       " 25 |        M |  400 |  402 |  404 |  406\n",
       " 25 |        F |  408 |  410 |  412 |  414\n",
       " 99 |        M | 1584 | 1586 | 1588 | 1590\n",
       " 99 |        F | 1592 | 1594 | 1596 | 1598"
      ]
     },
     "execution_count": 108,
     "metadata": {},
     "output_type": "execute_result"
    }
   ],
   "source": [
    "a * 2"
   ]
  },
  {
   "cell_type": "code",
   "execution_count": 109,
   "metadata": {
    "collapsed": false
   },
   "outputs": [
    {
     "data": {
      "text/plain": [
       "age\\time | 2016 | 2017 | 2018 | 2019\n",
       "      30 |  484 |  486 |  488 |  490\n",
       "      55 |  884 |  886 |  888 |  890\n",
       "      52 |  836 |  838 |  840 |  842\n",
       "      25 |  404 |  406 |  408 |  410\n",
       "      99 | 1588 | 1590 | 1592 | 1594"
      ]
     },
     "execution_count": 109,
     "metadata": {},
     "output_type": "execute_result"
    }
   ],
   "source": [
    "# more interestingly, it also works between two arrays\n",
    "a['F'] + a['M']"
   ]
  },
  {
   "cell_type": "code",
   "execution_count": 110,
   "metadata": {
    "collapsed": false
   },
   "outputs": [
    {
     "ename": "ValueError",
     "evalue": "incompatible axes:\nAxis('age', [30, 55, 52, 25])\nvs\nAxis('age', [55, 52, 25, 99])",
     "output_type": "error",
     "traceback": [
      "\u001b[0;31m---------------------------------------------------------------------------\u001b[0m",
      "\u001b[0;31mValueError\u001b[0m                                Traceback (most recent call last)",
      "\u001b[0;32m<ipython-input-110-59cfcfcf6bb3>\u001b[0m in \u001b[0;36m<module>\u001b[0;34m()\u001b[0m\n\u001b[1;32m      1\u001b[0m \u001b[0;31m# but it only works when arrays have compatible axes\u001b[0m\u001b[0;34m\u001b[0m\u001b[0;34m\u001b[0m\u001b[0m\n\u001b[0;32m----> 2\u001b[0;31m \u001b[0ma\u001b[0m\u001b[0;34m[\u001b[0m\u001b[0;36m55\u001b[0m\u001b[0;34m:\u001b[0m\u001b[0;34m]\u001b[0m \u001b[0;34m+\u001b[0m \u001b[0ma\u001b[0m\u001b[0;34m[\u001b[0m\u001b[0;34m:\u001b[0m\u001b[0;36m25\u001b[0m\u001b[0;34m]\u001b[0m\u001b[0;34m\u001b[0m\u001b[0m\n\u001b[0m",
      "\u001b[0;32mc:\\users\\gdm\\devel\\larray\\larray\\core.py\u001b[0m in \u001b[0;36mopmethod\u001b[0;34m(self, other)\u001b[0m\n\u001b[1;32m   3904\u001b[0m                 \u001b[0;31m# TODO: first test if it is not already broadcastable\u001b[0m\u001b[0;34m\u001b[0m\u001b[0;34m\u001b[0m\u001b[0m\n\u001b[1;32m   3905\u001b[0m                 \u001b[0;34m(\u001b[0m\u001b[0mself\u001b[0m\u001b[0;34m,\u001b[0m \u001b[0mother\u001b[0m\u001b[0;34m)\u001b[0m\u001b[0;34m,\u001b[0m \u001b[0mres_axes\u001b[0m \u001b[0;34m=\u001b[0m\u001b[0;31m \u001b[0m\u001b[0;31m\\\u001b[0m\u001b[0;34m\u001b[0m\u001b[0m\n\u001b[0;32m-> 3906\u001b[0;31m                     \u001b[0mmake_numpy_broadcastable\u001b[0m\u001b[0;34m(\u001b[0m\u001b[0;34m[\u001b[0m\u001b[0mself\u001b[0m\u001b[0;34m,\u001b[0m \u001b[0mother\u001b[0m\u001b[0;34m]\u001b[0m\u001b[0;34m)\u001b[0m\u001b[0;34m\u001b[0m\u001b[0m\n\u001b[0m\u001b[1;32m   3907\u001b[0m                 \u001b[0mother\u001b[0m \u001b[0;34m=\u001b[0m \u001b[0mother\u001b[0m\u001b[0;34m.\u001b[0m\u001b[0mdata\u001b[0m\u001b[0;34m\u001b[0m\u001b[0m\n\u001b[1;32m   3908\u001b[0m             \u001b[0;32mreturn\u001b[0m \u001b[0mLArray\u001b[0m\u001b[0;34m(\u001b[0m\u001b[0msuper_method\u001b[0m\u001b[0;34m(\u001b[0m\u001b[0mself\u001b[0m\u001b[0;34m.\u001b[0m\u001b[0mdata\u001b[0m\u001b[0;34m,\u001b[0m \u001b[0mother\u001b[0m\u001b[0;34m)\u001b[0m\u001b[0;34m,\u001b[0m \u001b[0mres_axes\u001b[0m\u001b[0;34m)\u001b[0m\u001b[0;34m\u001b[0m\u001b[0m\n",
      "\u001b[0;32mc:\\users\\gdm\\devel\\larray\\larray\\core.py\u001b[0m in \u001b[0;36mmake_numpy_broadcastable\u001b[0;34m(values)\u001b[0m\n\u001b[1;32m   6193\u001b[0m     \u001b[0;34m*\u001b[0m \u001b[0mlength\u001b[0m \u001b[0;36m1\u001b[0m \u001b[0mwildcard\u001b[0m \u001b[0maxes\u001b[0m \u001b[0mwill\u001b[0m \u001b[0mbe\u001b[0m \u001b[0madded\u001b[0m \u001b[0;32mfor\u001b[0m \u001b[0maxes\u001b[0m \u001b[0;32mnot\u001b[0m \u001b[0mpresent\u001b[0m \u001b[0;32min\u001b[0m \u001b[0minput\u001b[0m\u001b[0;34m\u001b[0m\u001b[0m\n\u001b[1;32m   6194\u001b[0m     \"\"\"\n\u001b[0;32m-> 6195\u001b[0;31m     \u001b[0mall_axes\u001b[0m \u001b[0;34m=\u001b[0m \u001b[0mAxisCollection\u001b[0m\u001b[0;34m.\u001b[0m\u001b[0munion\u001b[0m\u001b[0;34m(\u001b[0m\u001b[0;34m*\u001b[0m\u001b[0;34m[\u001b[0m\u001b[0mget_axes\u001b[0m\u001b[0;34m(\u001b[0m\u001b[0mv\u001b[0m\u001b[0;34m)\u001b[0m \u001b[0;32mfor\u001b[0m \u001b[0mv\u001b[0m \u001b[0;32min\u001b[0m \u001b[0mvalues\u001b[0m\u001b[0;34m]\u001b[0m\u001b[0;34m)\u001b[0m\u001b[0;34m\u001b[0m\u001b[0m\n\u001b[0m\u001b[1;32m   6196\u001b[0m     return [v.broadcast_with(all_axes) if isinstance(v, LArray) else v\n\u001b[1;32m   6197\u001b[0m             for v in values], all_axes\n",
      "\u001b[0;32mc:\\users\\gdm\\devel\\larray\\larray\\core.py\u001b[0m in \u001b[0;36munion\u001b[0;34m(self, *args, **kwargs)\u001b[0m\n\u001b[1;32m   1388\u001b[0m             \u001b[0;32mif\u001b[0m \u001b[0;32mnot\u001b[0m \u001b[0misinstance\u001b[0m\u001b[0;34m(\u001b[0m\u001b[0ma\u001b[0m\u001b[0;34m,\u001b[0m \u001b[0mAxisCollection\u001b[0m\u001b[0;34m)\u001b[0m\u001b[0;34m:\u001b[0m\u001b[0;34m\u001b[0m\u001b[0m\n\u001b[1;32m   1389\u001b[0m                 \u001b[0ma\u001b[0m \u001b[0;34m=\u001b[0m \u001b[0mAxisCollection\u001b[0m\u001b[0;34m(\u001b[0m\u001b[0ma\u001b[0m\u001b[0;34m)\u001b[0m\u001b[0;34m\u001b[0m\u001b[0m\n\u001b[0;32m-> 1390\u001b[0;31m             \u001b[0mresult\u001b[0m\u001b[0;34m.\u001b[0m\u001b[0mextend\u001b[0m\u001b[0;34m(\u001b[0m\u001b[0ma\u001b[0m\u001b[0;34m,\u001b[0m \u001b[0mvalidate\u001b[0m\u001b[0;34m=\u001b[0m\u001b[0mvalidate\u001b[0m\u001b[0;34m,\u001b[0m \u001b[0mreplace_wildcards\u001b[0m\u001b[0;34m=\u001b[0m\u001b[0mreplace_wildcards\u001b[0m\u001b[0;34m)\u001b[0m\u001b[0;34m\u001b[0m\u001b[0m\n\u001b[0m\u001b[1;32m   1391\u001b[0m         \u001b[0;32mreturn\u001b[0m \u001b[0mresult\u001b[0m\u001b[0;34m\u001b[0m\u001b[0m\n\u001b[1;32m   1392\u001b[0m     \u001b[0m__or__\u001b[0m \u001b[0;34m=\u001b[0m \u001b[0munion\u001b[0m\u001b[0;34m\u001b[0m\u001b[0m\n",
      "\u001b[0;32mc:\\users\\gdm\\devel\\larray\\larray\\core.py\u001b[0m in \u001b[0;36mextend\u001b[0;34m(self, axes, validate, replace_wildcards)\u001b[0m\n\u001b[1;32m   1568\u001b[0m                 \u001b[0;32mif\u001b[0m \u001b[0mvalidate\u001b[0m \u001b[0;32mand\u001b[0m \u001b[0;32mnot\u001b[0m \u001b[0mold_axis\u001b[0m\u001b[0;34m.\u001b[0m\u001b[0miscompatible\u001b[0m\u001b[0;34m(\u001b[0m\u001b[0maxis\u001b[0m\u001b[0;34m)\u001b[0m\u001b[0;34m:\u001b[0m\u001b[0;34m\u001b[0m\u001b[0m\n\u001b[1;32m   1569\u001b[0m                     raise ValueError(\"incompatible axes:\\n%r\\nvs\\n%r\"\n\u001b[0;32m-> 1570\u001b[0;31m                                      % (axis, old_axis))\n\u001b[0m\u001b[1;32m   1571\u001b[0m                 \u001b[0;32mif\u001b[0m \u001b[0mreplace_wildcards\u001b[0m \u001b[0;32mand\u001b[0m \u001b[0mold_axis\u001b[0m\u001b[0;34m.\u001b[0m\u001b[0miswildcard\u001b[0m\u001b[0;34m:\u001b[0m\u001b[0;34m\u001b[0m\u001b[0m\n\u001b[1;32m   1572\u001b[0m                     \u001b[0mself\u001b[0m\u001b[0;34m[\u001b[0m\u001b[0mold_axis\u001b[0m\u001b[0;34m]\u001b[0m \u001b[0;34m=\u001b[0m \u001b[0maxis\u001b[0m\u001b[0;34m\u001b[0m\u001b[0m\n",
      "\u001b[0;31mValueError\u001b[0m: incompatible axes:\nAxis('age', [30, 55, 52, 25])\nvs\nAxis('age', [55, 52, 25, 99])"
     ]
    }
   ],
   "source": [
    "# but it only works when arrays have compatible axes\n",
    "a[55:] + a[:25]"
   ]
  },
  {
   "cell_type": "code",
   "execution_count": 111,
   "metadata": {
    "collapsed": false
   },
   "outputs": [
    {
     "data": {
      "text/plain": [
       "age\\time | 2016 | 2017 | 2018 | 2019\n",
       "      55 |  688 |  690 |  692 |  694\n",
       "      52 |  864 |  866 |  868 |  870\n",
       "      25 |  624 |  626 |  628 |  630\n",
       "      99 | 1000 | 1002 | 1004 | 1006"
      ]
     },
     "execution_count": 111,
     "metadata": {},
     "output_type": "execute_result"
    }
   ],
   "source": [
    "# but you can override that (at your own risk). In that case only the position on the axis is used and not the labels.\n",
    "a[55:, 'F'] + a[:25, 'F'].drop_labels(x.age)"
   ]
  },
  {
   "cell_type": "markdown",
   "metadata": {},
   "source": [
    "### All usual operations are provided using the usual symbols, including +, -, *, /, <, >, <=, >= "
   ]
  },
  {
   "cell_type": "markdown",
   "metadata": {
    "collapsed": false
   },
   "source": [
    "There are a few worth mentioning explicitly:"
   ]
  },
  {
   "cell_type": "code",
   "execution_count": 112,
   "metadata": {
    "collapsed": false
   },
   "outputs": [
    {
     "data": {
      "text/plain": [
       "age | sex\\time | 2016 | 2017 | 2018 | 2019\n",
       " 30 |        M | True | True | True | True\n",
       " 30 |        F | True | True | True | True\n",
       " 55 |        M | True | True | True | True\n",
       " 55 |        F | True | True | True | True\n",
       " 52 |        M | True | True | True | True\n",
       " 52 |        F | True | True | True | True\n",
       " 25 |        M | True | True | True | True\n",
       " 25 |        F | True | True | True | True\n",
       " 99 |        M | True | True | True | True\n",
       " 99 |        F | True | True | True | True"
      ]
     },
     "execution_count": 112,
     "metadata": {},
     "output_type": "execute_result"
    }
   ],
   "source": [
    "# testing for equality is done using == (a single = assigns the value)\n",
    "a == a"
   ]
  },
  {
   "cell_type": "code",
   "execution_count": 113,
   "metadata": {
    "collapsed": false
   },
   "outputs": [
    {
     "data": {
      "text/plain": [
       "age | sex\\time |  2016 |  2017 |  2018 |  2019\n",
       " 30 |        M | False | False | False | False\n",
       " 30 |        F | False | False | False | False\n",
       " 55 |        M | False | False | False | False\n",
       " 55 |        F | False | False | False | False\n",
       " 52 |        M | False | False | False | False\n",
       " 52 |        F | False | False | False | False\n",
       " 25 |        M | False | False | False | False\n",
       " 25 |        F | False | False | False | False\n",
       " 99 |        M | False | False | False | False\n",
       " 99 |        F | False | False | False | False"
      ]
     },
     "execution_count": 113,
     "metadata": {},
     "output_type": "execute_result"
    }
   ],
   "source": [
    "# testing for inequality\n",
    "a != a"
   ]
  },
  {
   "cell_type": "code",
   "execution_count": 114,
   "metadata": {
    "collapsed": false
   },
   "outputs": [
    {
     "data": {
      "text/plain": [
       "age | sex\\time |   2016 |   2017 |   2018 |   2019\n",
       " 30 |        M |  57600 |  58081 |  58564 |  59049\n",
       " 30 |        F |  59536 |  60025 |  60516 |  61009\n",
       " 55 |        M | 193600 | 194481 | 195364 | 196249\n",
       " 55 |        F | 197136 | 198025 | 198916 | 199809\n",
       " 52 |        M | 173056 | 173889 | 174724 | 175561\n",
       " 52 |        F | 176400 | 177241 | 178084 | 178929\n",
       " 25 |        M |  40000 |  40401 |  40804 |  41209\n",
       " 25 |        F |  41616 |  42025 |  42436 |  42849\n",
       " 99 |        M | 627264 | 628849 | 630436 | 632025\n",
       " 99 |        F | 633616 | 635209 | 636804 | 638401"
      ]
     },
     "execution_count": 114,
     "metadata": {},
     "output_type": "execute_result"
    }
   ],
   "source": [
    "# ** means raising to the power (squaring in this case)\n",
    "a ** 2"
   ]
  },
  {
   "cell_type": "code",
   "execution_count": 115,
   "metadata": {
    "collapsed": false
   },
   "outputs": [
    {
     "data": {
      "text/plain": [
       "age | sex\\time | 2016 | 2017 | 2018 | 2019\n",
       " 30 |        M |    0 |    1 |    2 |    3\n",
       " 30 |        F |    4 |    5 |    6 |    7\n",
       " 55 |        M |    0 |    1 |    2 |    3\n",
       " 55 |        F |    4 |    5 |    6 |    7\n",
       " 52 |        M |    6 |    7 |    8 |    9\n",
       " 52 |        F |    0 |    1 |    2 |    3\n",
       " 25 |        M |    0 |    1 |    2 |    3\n",
       " 25 |        F |    4 |    5 |    6 |    7\n",
       " 99 |        M |    2 |    3 |    4 |    5\n",
       " 99 |        F |    6 |    7 |    8 |    9"
      ]
     },
     "execution_count": 115,
     "metadata": {},
     "output_type": "execute_result"
    }
   ],
   "source": [
    "# % means modulo (aka remainder of division)\n",
    "a % 10"
   ]
  },
  {
   "cell_type": "code",
   "execution_count": 116,
   "metadata": {
    "collapsed": false
   },
   "outputs": [
    {
     "data": {
      "text/plain": [
       "age | sex\\time | 2016 | 2017 | 2018 | 2019\n",
       " 30 |        M |  240 |  241 |  242 |  243\n",
       " 30 |        F |  244 |  245 |  246 |  247\n",
       " 55 |        M |  440 |  441 |  442 |  443\n",
       " 55 |        F |  444 |  445 |  446 |  447\n",
       " 52 |        M |  416 |  417 |  418 |  419\n",
       " 52 |        F |  420 |  421 |  422 |  423\n",
       " 25 |        M |  200 |  201 |  202 |  203\n",
       " 25 |        F |  204 |  205 |  206 |  207\n",
       " 99 |        M |  792 |  793 |  794 |  795\n",
       " 99 |        F |  796 |  797 |  798 |  799"
      ]
     },
     "execution_count": 116,
     "metadata": {},
     "output_type": "execute_result"
    }
   ],
   "source": [
    "# what was our test data like again?\n",
    "a"
   ]
  },
  {
   "cell_type": "code",
   "execution_count": 117,
   "metadata": {
    "collapsed": false
   },
   "outputs": [
    {
     "data": {
      "text/plain": [
       "age | sex\\time |  2016 |  2017 |  2018 |  2019\n",
       " 30 |        M | False | False | False | False\n",
       " 30 |        F | False | False | False | False\n",
       " 55 |        M |  True |  True |  True |  True\n",
       " 55 |        F |  True | False | False | False\n",
       " 52 |        M |  True |  True |  True |  True\n",
       " 52 |        F |  True |  True |  True |  True\n",
       " 25 |        M | False | False | False | False\n",
       " 25 |        F | False | False | False | False\n",
       " 99 |        M | False | False | False | False\n",
       " 99 |        F | False | False | False | False"
      ]
     },
     "execution_count": 117,
     "metadata": {},
     "output_type": "execute_result"
    }
   ],
   "source": [
    "# & means (boolean array) and\n",
    "(a >= 400) & (a < 445)"
   ]
  },
  {
   "cell_type": "code",
   "execution_count": 118,
   "metadata": {
    "collapsed": false
   },
   "outputs": [
    {
     "data": {
      "text/plain": [
       "age | sex\\time |  2016 |  2017 |  2018 |  2019\n",
       " 30 |        M |  True |  True |  True |  True\n",
       " 30 |        F |  True | False | False | False\n",
       " 55 |        M | False | False | False | False\n",
       " 55 |        F | False | False | False | False\n",
       " 52 |        M | False | False | False | False\n",
       " 52 |        F | False | False | False | False\n",
       " 25 |        M |  True |  True |  True |  True\n",
       " 25 |        F |  True |  True |  True |  True\n",
       " 99 |        M | False | False | False |  True\n",
       " 99 |        F |  True |  True |  True |  True"
      ]
     },
     "execution_count": 118,
     "metadata": {},
     "output_type": "execute_result"
    }
   ],
   "source": [
    "# | means (boolean array) or\n",
    "(a < 245) | (a >= 795)"
   ]
  },
  {
   "cell_type": "markdown",
   "metadata": {},
   "source": [
    "### Arithmetic operations with missing axes"
   ]
  },
  {
   "cell_type": "code",
   "execution_count": 119,
   "metadata": {
    "collapsed": false
   },
   "outputs": [
    {
     "data": {
      "text/plain": [
       "sex\\time | 2016 | 2017 | 2018 | 2019\n",
       "       M | 2088 | 2093 | 2098 | 2103\n",
       "       F | 2108 | 2113 | 2118 | 2123"
      ]
     },
     "execution_count": 119,
     "metadata": {},
     "output_type": "execute_result"
    }
   ],
   "source": [
    "a.sum(x.age)"
   ]
  },
  {
   "cell_type": "code",
   "execution_count": 120,
   "metadata": {
    "collapsed": false
   },
   "outputs": [
    {
     "data": {
      "text/plain": [
       "5 x 2 x 4\n",
       " age [5]: 30 55 52 25 99\n",
       " sex [2]: 'M' 'F'\n",
       " time [4]: 2016 2017 2018 2019"
      ]
     },
     "execution_count": 120,
     "metadata": {},
     "output_type": "execute_result"
    }
   ],
   "source": [
    "# a has 3 dimensions\n",
    "a.info"
   ]
  },
  {
   "cell_type": "code",
   "execution_count": 121,
   "metadata": {
    "collapsed": false
   },
   "outputs": [
    {
     "data": {
      "text/plain": [
       "2 x 4\n",
       " sex [2]: 'M' 'F'\n",
       " time [4]: 2016 2017 2018 2019"
      ]
     },
     "execution_count": 121,
     "metadata": {},
     "output_type": "execute_result"
    }
   ],
   "source": [
    "# and a.sum(x.age) has 2\n",
    "a.sum(x.age).info"
   ]
  },
  {
   "cell_type": "code",
   "execution_count": 122,
   "metadata": {
    "collapsed": false
   },
   "outputs": [
    {
     "data": {
      "text/plain": [
       "age | sex\\time |                2016 | ... |                2019\n",
       " 30 |        M | 0.11494252873563218 | ... | 0.11554921540656206\n",
       " 30 |        F |  0.1157495256166983 | ... | 0.11634479510127178\n",
       " 55 |        M |   0.210727969348659 | ... | 0.21065145030908225\n",
       " 55 |        F | 0.21062618595825428 | ... | 0.21055110692416393\n",
       " 52 |        M | 0.19923371647509577 | ... | 0.19923918212077985\n",
       " 52 |        F | 0.19924098671726756 | ... | 0.19924634950541686\n",
       " 25 |        M | 0.09578544061302682 | ... | 0.09652876842605801\n",
       " 25 |        F |  0.0967741935483871 | ... | 0.09750353273669336\n",
       " 99 |        M |  0.3793103448275862 | ... |  0.3780313837375178\n",
       " 99 |        F |  0.3776091081593928 | ... |  0.3763542157324541"
      ]
     },
     "execution_count": 122,
     "metadata": {},
     "output_type": "execute_result"
    }
   ],
   "source": [
    "# you can do operation with missing axes so this works\n",
    "a / a.sum(x.age)"
   ]
  },
  {
   "cell_type": "code",
   "execution_count": 123,
   "metadata": {
    "collapsed": false
   },
   "outputs": [
    {
     "data": {
      "text/plain": [
       "age | sex\\time |                2016 | ... |                2019\n",
       " 30 |        M | 0.11494252873563218 | ... | 0.11554921540656206\n",
       " 30 |        F |  0.1157495256166983 | ... | 0.11634479510127178\n",
       " 55 |        M |   0.210727969348659 | ... | 0.21065145030908225\n",
       " 55 |        F | 0.21062618595825428 | ... | 0.21055110692416393\n",
       " 52 |        M | 0.19923371647509577 | ... | 0.19923918212077985\n",
       " 52 |        F | 0.19924098671726756 | ... | 0.19924634950541686\n",
       " 25 |        M | 0.09578544061302682 | ... | 0.09652876842605801\n",
       " 25 |        F |  0.0967741935483871 | ... | 0.09750353273669336\n",
       " 99 |        M |  0.3793103448275862 | ... |  0.3780313837375178\n",
       " 99 |        F |  0.3776091081593928 | ... |  0.3763542157324541"
      ]
     },
     "execution_count": 123,
     "metadata": {},
     "output_type": "execute_result"
    }
   ],
   "source": [
    "# this particular operation (dividing the array by its sum along an axis) is built-in though:\n",
    "a.ratio(x.age)"
   ]
  },
  {
   "cell_type": "code",
   "execution_count": 124,
   "metadata": {
    "collapsed": false
   },
   "outputs": [
    {
     "data": {
      "text/plain": [
       "age | sex\\time |               2016 | ... |               2019\n",
       " 30 |        M | 11.494252873563218 | ... | 11.554921540656206\n",
       " 30 |        F | 11.574952561669829 | ... | 11.634479510127179\n",
       " 55 |        M |   21.0727969348659 | ... | 21.065145030908226\n",
       " 55 |        F | 21.062618595825427 | ... |  21.05511069241639\n",
       " 52 |        M |  19.92337164750958 | ... | 19.923918212077982\n",
       " 52 |        F | 19.924098671726757 | ... | 19.924634950541687\n",
       " 25 |        M |  9.578544061302683 | ... |  9.652876842605801\n",
       " 25 |        F |   9.67741935483871 | ... |  9.750353273669337\n",
       " 99 |        M |  37.93103448275862 | ... | 37.803138373751786\n",
       " 99 |        F | 37.760910815939276 | ... |  37.63542157324541"
      ]
     },
     "execution_count": 124,
     "metadata": {},
     "output_type": "execute_result"
    }
   ],
   "source": [
    "# or, if you want * 100\n",
    "a.percent(x.age)"
   ]
  },
  {
   "cell_type": "markdown",
   "metadata": {},
   "source": [
    "## axis order does not matter much (except for output)"
   ]
  },
  {
   "cell_type": "code",
   "execution_count": 125,
   "metadata": {
    "collapsed": false
   },
   "outputs": [
    {
     "data": {
      "text/plain": [
       "age | sex\\time | 2016 | 2017 | 2018 | 2019\n",
       " 30 |        M |  240 |  241 |  242 |  243\n",
       " 30 |        F |  244 |  245 |  246 |  247\n",
       " 55 |        M |  440 |  441 |  442 |  443\n",
       " 55 |        F |  444 |  445 |  446 |  447\n",
       " 52 |        M |  416 |  417 |  418 |  419\n",
       " 52 |        F |  420 |  421 |  422 |  423\n",
       " 25 |        M |  200 |  201 |  202 |  203\n",
       " 25 |        F |  204 |  205 |  206 |  207\n",
       " 99 |        M |  792 |  793 |  794 |  795\n",
       " 99 |        F |  796 |  797 |  798 |  799"
      ]
     },
     "execution_count": 125,
     "metadata": {},
     "output_type": "execute_result"
    }
   ],
   "source": [
    "a"
   ]
  },
  {
   "cell_type": "code",
   "execution_count": 126,
   "metadata": {
    "collapsed": false
   },
   "outputs": [],
   "source": [
    "# let us change the order of axes\n",
    "a_transposed = a.transpose()"
   ]
  },
  {
   "cell_type": "code",
   "execution_count": 127,
   "metadata": {
    "collapsed": false
   },
   "outputs": [
    {
     "data": {
      "text/plain": [
       "time | sex\\age |  30 |  55 |  52 |  25 |  99\n",
       "2016 |       M | 240 | 440 | 416 | 200 | 792\n",
       "2016 |       F | 244 | 444 | 420 | 204 | 796\n",
       "2017 |       M | 241 | 441 | 417 | 201 | 793\n",
       "2017 |       F | 245 | 445 | 421 | 205 | 797\n",
       "2018 |       M | 242 | 442 | 418 | 202 | 794\n",
       "2018 |       F | 246 | 446 | 422 | 206 | 798\n",
       "2019 |       M | 243 | 443 | 419 | 203 | 795\n",
       "2019 |       F | 247 | 447 | 423 | 207 | 799"
      ]
     },
     "execution_count": 127,
     "metadata": {},
     "output_type": "execute_result"
    }
   ],
   "source": [
    "a_transposed"
   ]
  },
  {
   "cell_type": "code",
   "execution_count": 128,
   "metadata": {
    "collapsed": false
   },
   "outputs": [
    {
     "data": {
      "text/plain": [
       "time | sex\\age |  30 |  55 |  52 |  25 |   99\n",
       "2016 |       M | 480 | 880 | 832 | 400 | 1584\n",
       "2016 |       F | 488 | 888 | 840 | 408 | 1592\n",
       "2017 |       M | 482 | 882 | 834 | 402 | 1586\n",
       "2017 |       F | 490 | 890 | 842 | 410 | 1594\n",
       "2018 |       M | 484 | 884 | 836 | 404 | 1588\n",
       "2018 |       F | 492 | 892 | 844 | 412 | 1596\n",
       "2019 |       M | 486 | 886 | 838 | 406 | 1590\n",
       "2019 |       F | 494 | 894 | 846 | 414 | 1598"
      ]
     },
     "execution_count": 128,
     "metadata": {},
     "output_type": "execute_result"
    }
   ],
   "source": [
    "# you can do operations between arrays having different axes order. The axis order of the result\n",
    "# is the same as the left array\n",
    "a_transposed + a"
   ]
  },
  {
   "cell_type": "markdown",
   "metadata": {},
   "source": [
    "## Boolean filtering"
   ]
  },
  {
   "cell_type": "code",
   "execution_count": 129,
   "metadata": {
    "collapsed": true
   },
   "outputs": [],
   "source": [
    "# let us recreate our original test array\n",
    "a = ndrange([age, sex, time])"
   ]
  },
  {
   "cell_type": "code",
   "execution_count": 130,
   "metadata": {
    "collapsed": false
   },
   "outputs": [
    {
     "data": {
      "text/plain": [
       "100 x 2 x 4\n",
       " age [100]: 0 1 2 ... 97 98 99\n",
       " sex [2]: 'M' 'F'\n",
       " time [4]: 2016 2017 2018 2019"
      ]
     },
     "execution_count": 130,
     "metadata": {},
     "output_type": "execute_result"
    }
   ],
   "source": [
    "a.info"
   ]
  },
  {
   "cell_type": "code",
   "execution_count": 131,
   "metadata": {
    "collapsed": false
   },
   "outputs": [
    {
     "data": {
      "text/plain": [
       "Axis('age', [0, 1, 2, 3, 4, 5, 6, 7, 8, 9, 10, 11, 12, 13, 14, 15, 16, 17, 18, 19, 20, 21, 22, 23, 24, 25, 26, 27, 28, 29, 30, 31, 32, 33, 34, 35, 36, 37, 38, 39, 40, 41, 42, 43, 44, 45, 46, 47, 48, 49, 50, 51, 52, 53, 54, 55, 56, 57, 58, 59, 60, 61, 62, 63, 64, 65, 66, 67, 68, 69, 70, 71, 72, 73, 74, 75, 76, 77, 78, 79, 80, 81, 82, 83, 84, 85, 86, 87, 88, 89, 90, 91, 92, 93, 94, 95, 96, 97, 98, 99])"
      ]
     },
     "execution_count": 131,
     "metadata": {},
     "output_type": "execute_result"
    }
   ],
   "source": [
    "age"
   ]
  },
  {
   "cell_type": "code",
   "execution_count": 132,
   "metadata": {
    "collapsed": false
   },
   "outputs": [
    {
     "data": {
      "text/plain": [
       "age |     0 |     1 |     2 |     3 | ... |   95 |   96 |   97 |   98 |   99\n",
       "    | False | False | False | False | ... | True | True | True | True | True"
      ]
     },
     "execution_count": 132,
     "metadata": {},
     "output_type": "execute_result"
    }
   ],
   "source": [
    "age > 10"
   ]
  },
  {
   "cell_type": "code",
   "execution_count": 133,
   "metadata": {
    "collapsed": false
   },
   "outputs": [
    {
     "data": {
      "text/plain": [
       "age | sex\\time | 2016 | 2017 | 2018 | 2019\n",
       " 10 |        M |   80 |   81 |   82 |   83\n",
       " 10 |        F |   84 |   85 |   86 |   87\n",
       " 11 |        M |   88 |   89 |   90 |   91\n",
       " 11 |        F |   92 |   93 |   94 |   95"
      ]
     },
     "execution_count": 133,
     "metadata": {},
     "output_type": "execute_result"
    }
   ],
   "source": [
    "# this more cumbersome than a[10:11] or even a[x.age[10:11]] but more powerful\n",
    "a[(age >= 10) & (age < 12)]"
   ]
  },
  {
   "cell_type": "code",
   "execution_count": 134,
   "metadata": {
    "collapsed": true
   },
   "outputs": [],
   "source": [
    "# because in this case the bounds can themselves be arrays\n",
    "age_limit = create_sequential(time, initial=10)"
   ]
  },
  {
   "cell_type": "code",
   "execution_count": 135,
   "metadata": {
    "collapsed": false
   },
   "outputs": [
    {
     "data": {
      "text/plain": [
       "time | 2016 | 2017 | 2018 | 2019\n",
       "     |   10 |   11 |   12 |   13"
      ]
     },
     "execution_count": 135,
     "metadata": {},
     "output_type": "execute_result"
    }
   ],
   "source": [
    "age_limit"
   ]
  },
  {
   "cell_type": "code",
   "execution_count": 136,
   "metadata": {
    "collapsed": false
   },
   "outputs": [
    {
     "data": {
      "text/plain": [
       "age\\time |  2016 |  2017 |  2018 |  2019\n",
       "       5 | False | False | False | False\n",
       "       6 | False | False | False | False\n",
       "       7 | False | False | False | False\n",
       "       8 | False | False | False | False\n",
       "       9 | False | False | False | False\n",
       "      10 |  True | False | False | False\n",
       "      11 |  True |  True | False | False\n",
       "      12 |  True |  True |  True | False\n",
       "      13 |  True |  True |  True |  True\n",
       "      14 |  True |  True |  True |  True\n",
       "      15 |  True |  True |  True |  True\n",
       "      16 |  True |  True |  True |  True\n",
       "      17 |  True |  True |  True |  True\n",
       "      18 |  True |  True |  True |  True\n",
       "      19 |  True |  True |  True |  True\n",
       "      20 |  True |  True |  True |  True"
      ]
     },
     "execution_count": 136,
     "metadata": {},
     "output_type": "execute_result"
    }
   ],
   "source": [
    "(age >= age_limit)[5:20]"
   ]
  },
  {
   "cell_type": "code",
   "execution_count": 137,
   "metadata": {
    "collapsed": false
   },
   "outputs": [],
   "source": [
    "# select all cells which satisfy the filter, but note that it collapse all the concerned axes (age and time)\n",
    "r = a[age >= age_limit]"
   ]
  },
  {
   "cell_type": "code",
   "execution_count": 138,
   "metadata": {
    "collapsed": false
   },
   "outputs": [
    {
     "data": {
      "text/plain": [
       "354 x 2\n",
       " age,time [354]: '10,2016' '11,2016' '11,2017' ... '99,2017' '99,2018' '99,2019'\n",
       " sex [2]: 'M' 'F'"
      ]
     },
     "execution_count": 138,
     "metadata": {},
     "output_type": "execute_result"
    }
   ],
   "source": [
    "r.info"
   ]
  },
  {
   "cell_type": "code",
   "execution_count": 139,
   "metadata": {
    "collapsed": false
   },
   "outputs": [
    {
     "ename": "ValueError",
     "evalue": "slice(10, None, None) is not a valid label for any axis",
     "output_type": "error",
     "traceback": [
      "\u001b[0;31m---------------------------------------------------------------------------\u001b[0m",
      "\u001b[0;31mValueError\u001b[0m                                Traceback (most recent call last)",
      "\u001b[0;32m<ipython-input-139-f3e304899c59>\u001b[0m in \u001b[0;36m<module>\u001b[0;34m()\u001b[0m\n\u001b[1;32m      1\u001b[0m \u001b[0;31m# does not work!\u001b[0m\u001b[0;34m\u001b[0m\u001b[0;34m\u001b[0m\u001b[0m\n\u001b[0;32m----> 2\u001b[0;31m \u001b[0mr\u001b[0m\u001b[0;34m[\u001b[0m\u001b[0;36m10\u001b[0m\u001b[0;34m:\u001b[0m\u001b[0;34m]\u001b[0m\u001b[0;34m\u001b[0m\u001b[0m\n\u001b[0m",
      "\u001b[0;32mc:\\users\\gdm\\devel\\larray\\larray\\core.py\u001b[0m in \u001b[0;36m__getitem__\u001b[0;34m(self, key, collapse_slices)\u001b[0m\n\u001b[1;32m   2763\u001b[0m \u001b[0;34m\u001b[0m\u001b[0m\n\u001b[1;32m   2764\u001b[0m         \u001b[0mdata\u001b[0m \u001b[0;34m=\u001b[0m \u001b[0mnp\u001b[0m\u001b[0;34m.\u001b[0m\u001b[0masarray\u001b[0m\u001b[0;34m(\u001b[0m\u001b[0mself\u001b[0m\u001b[0;34m.\u001b[0m\u001b[0mdata\u001b[0m\u001b[0;34m)\u001b[0m\u001b[0;34m\u001b[0m\u001b[0m\n\u001b[0;32m-> 2765\u001b[0;31m         \u001b[0mtranslated_key\u001b[0m \u001b[0;34m=\u001b[0m \u001b[0mself\u001b[0m\u001b[0;34m.\u001b[0m\u001b[0mtranslated_key\u001b[0m\u001b[0;34m(\u001b[0m\u001b[0mkey\u001b[0m\u001b[0;34m)\u001b[0m\u001b[0;34m\u001b[0m\u001b[0m\n\u001b[0m\u001b[1;32m   2766\u001b[0m \u001b[0;34m\u001b[0m\u001b[0m\n\u001b[1;32m   2767\u001b[0m         \u001b[0;31m# FIXME: I have a huge problem with boolean labels + non points\u001b[0m\u001b[0;34m\u001b[0m\u001b[0;34m\u001b[0m\u001b[0m\n",
      "\u001b[0;32mc:\\users\\gdm\\devel\\larray\\larray\\core.py\u001b[0m in \u001b[0;36mtranslated_key\u001b[0;34m(self, key, bool_stuff)\u001b[0m\n\u001b[1;32m   2664\u001b[0m             key = [self._translate_axis_key(axis_key,\n\u001b[1;32m   2665\u001b[0m                                             bool_passthrough=not bool_stuff)\n\u001b[0;32m-> 2666\u001b[0;31m                    for axis_key in key]\n\u001b[0m\u001b[1;32m   2667\u001b[0m \u001b[0;34m\u001b[0m\u001b[0m\n\u001b[1;32m   2668\u001b[0m             \u001b[0;32massert\u001b[0m \u001b[0mall\u001b[0m\u001b[0;34m(\u001b[0m\u001b[0misinstance\u001b[0m\u001b[0;34m(\u001b[0m\u001b[0maxis_key\u001b[0m\u001b[0;34m,\u001b[0m \u001b[0mPGroup\u001b[0m\u001b[0;34m)\u001b[0m \u001b[0;32mfor\u001b[0m \u001b[0maxis_key\u001b[0m \u001b[0;32min\u001b[0m \u001b[0mkey\u001b[0m\u001b[0;34m)\u001b[0m\u001b[0;34m\u001b[0m\u001b[0m\n",
      "\u001b[0;32mc:\\users\\gdm\\devel\\larray\\larray\\core.py\u001b[0m in \u001b[0;36m<listcomp>\u001b[0;34m(.0)\u001b[0m\n\u001b[1;32m   2664\u001b[0m             key = [self._translate_axis_key(axis_key,\n\u001b[1;32m   2665\u001b[0m                                             bool_passthrough=not bool_stuff)\n\u001b[0;32m-> 2666\u001b[0;31m                    for axis_key in key]\n\u001b[0m\u001b[1;32m   2667\u001b[0m \u001b[0;34m\u001b[0m\u001b[0m\n\u001b[1;32m   2668\u001b[0m             \u001b[0;32massert\u001b[0m \u001b[0mall\u001b[0m\u001b[0;34m(\u001b[0m\u001b[0misinstance\u001b[0m\u001b[0;34m(\u001b[0m\u001b[0maxis_key\u001b[0m\u001b[0;34m,\u001b[0m \u001b[0mPGroup\u001b[0m\u001b[0;34m)\u001b[0m \u001b[0;32mfor\u001b[0m \u001b[0maxis_key\u001b[0m \u001b[0;32min\u001b[0m \u001b[0mkey\u001b[0m\u001b[0;34m)\u001b[0m\u001b[0;34m\u001b[0m\u001b[0m\n",
      "\u001b[0;32mc:\\users\\gdm\\devel\\larray\\larray\\core.py\u001b[0m in \u001b[0;36m_translate_axis_key\u001b[0;34m(self, axis_key, bool_passthrough)\u001b[0m\n\u001b[1;32m   2566\u001b[0m                                                   bool_passthrough)\n\u001b[1;32m   2567\u001b[0m         \u001b[0;32melse\u001b[0m\u001b[0;34m:\u001b[0m\u001b[0;34m\u001b[0m\u001b[0m\n\u001b[0;32m-> 2568\u001b[0;31m             \u001b[0;32mreturn\u001b[0m \u001b[0mself\u001b[0m\u001b[0;34m.\u001b[0m\u001b[0m_translate_axis_key_chunk\u001b[0m\u001b[0;34m(\u001b[0m\u001b[0maxis_key\u001b[0m\u001b[0;34m,\u001b[0m \u001b[0mbool_passthrough\u001b[0m\u001b[0;34m)\u001b[0m\u001b[0;34m\u001b[0m\u001b[0m\n\u001b[0m\u001b[1;32m   2569\u001b[0m \u001b[0;34m\u001b[0m\u001b[0m\n\u001b[1;32m   2570\u001b[0m     \u001b[0;32mdef\u001b[0m \u001b[0m_guess_axis\u001b[0m\u001b[0;34m(\u001b[0m\u001b[0mself\u001b[0m\u001b[0;34m,\u001b[0m \u001b[0maxis_key\u001b[0m\u001b[0;34m)\u001b[0m\u001b[0;34m:\u001b[0m\u001b[0;34m\u001b[0m\u001b[0m\n",
      "\u001b[0;32mc:\\users\\gdm\\devel\\larray\\larray\\core.py\u001b[0m in \u001b[0;36m_translate_axis_key_chunk\u001b[0;34m(self, axis_key, bool_passthrough)\u001b[0m\n\u001b[1;32m   2525\u001b[0m         \u001b[0;32mif\u001b[0m \u001b[0;32mnot\u001b[0m \u001b[0mvalid_axes\u001b[0m\u001b[0;34m:\u001b[0m\u001b[0;34m\u001b[0m\u001b[0m\n\u001b[1;32m   2526\u001b[0m             raise ValueError(\"%s is not a valid label for any axis\"\n\u001b[0;32m-> 2527\u001b[0;31m                              % axis_key)\n\u001b[0m\u001b[1;32m   2528\u001b[0m         \u001b[0;32melif\u001b[0m \u001b[0mlen\u001b[0m\u001b[0;34m(\u001b[0m\u001b[0mvalid_axes\u001b[0m\u001b[0;34m)\u001b[0m \u001b[0;34m>\u001b[0m \u001b[0;36m1\u001b[0m\u001b[0;34m:\u001b[0m\u001b[0;34m\u001b[0m\u001b[0m\n\u001b[1;32m   2529\u001b[0m             \u001b[0;31m# FIXME: .id\u001b[0m\u001b[0;34m\u001b[0m\u001b[0;34m\u001b[0m\u001b[0m\n",
      "\u001b[0;31mValueError\u001b[0m: slice(10, None, None) is not a valid label for any axis"
     ]
    }
   ],
   "source": [
    "# does not work!\n",
    "r[10:]"
   ]
  },
  {
   "cell_type": "code",
   "execution_count": 140,
   "metadata": {
    "collapsed": false
   },
   "outputs": [
    {
     "data": {
      "text/plain": [
       "age,time\\sex |   M |   F\n",
       "     10,2016 |  80 |  84\n",
       "     11,2016 |  88 |  92\n",
       "     11,2017 |  89 |  93\n",
       "     12,2016 |  96 | 100\n",
       "     12,2017 |  97 | 101\n",
       "     12,2018 |  98 | 102\n",
       "     13,2016 | 104 | 108\n",
       "     13,2017 | 105 | 109\n",
       "     13,2018 | 106 | 110\n",
       "     13,2019 | 107 | 111"
      ]
     },
     "execution_count": 140,
     "metadata": {},
     "output_type": "execute_result"
    }
   ],
   "source": [
    "r.i[:10]"
   ]
  },
  {
   "cell_type": "code",
   "execution_count": 141,
   "metadata": {
    "collapsed": true
   },
   "outputs": [],
   "source": [
    "# for that reason, sometimes it is more useful to not select, but rather set to 0 (or another value) non matching elements\n",
    "a[age < age_limit] = 0"
   ]
  },
  {
   "cell_type": "code",
   "execution_count": 142,
   "metadata": {
    "collapsed": false
   },
   "outputs": [
    {
     "data": {
      "text/plain": [
       "age | sex\\time | 2016 | 2017 | 2018 | 2019\n",
       " 10 |        M |   80 |    0 |    0 |    0\n",
       " 10 |        F |   84 |    0 |    0 |    0\n",
       " 11 |        M |   88 |   89 |    0 |    0\n",
       " 11 |        F |   92 |   93 |    0 |    0\n",
       " 12 |        M |   96 |   97 |   98 |    0\n",
       " 12 |        F |  100 |  101 |  102 |    0\n",
       " 13 |        M |  104 |  105 |  106 |  107\n",
       " 13 |        F |  108 |  109 |  110 |  111\n",
       " 14 |        M |  112 |  113 |  114 |  115\n",
       " 14 |        F |  116 |  117 |  118 |  119\n",
       " 15 |        M |  120 |  121 |  122 |  123\n",
       " 15 |        F |  124 |  125 |  126 |  127"
      ]
     },
     "execution_count": 142,
     "metadata": {},
     "output_type": "execute_result"
    }
   ],
   "source": [
    "a[10:15]"
   ]
  },
  {
   "cell_type": "code",
   "execution_count": 143,
   "metadata": {
    "collapsed": true
   },
   "outputs": [],
   "source": [
    "# or to multiply by that criterion (which also sets to 0)\n",
    "b = a * (age >= age_limit)"
   ]
  },
  {
   "cell_type": "code",
   "execution_count": 144,
   "metadata": {
    "collapsed": false
   },
   "outputs": [
    {
     "data": {
      "text/plain": [
       "age | sex\\time | 2016 | 2017 | 2018 | 2019\n",
       " 10 |        M |   80 |    0 |    0 |    0\n",
       " 10 |        F |   84 |    0 |    0 |    0\n",
       " 11 |        M |   88 |   89 |    0 |    0\n",
       " 11 |        F |   92 |   93 |    0 |    0\n",
       " 12 |        M |   96 |   97 |   98 |    0\n",
       " 12 |        F |  100 |  101 |  102 |    0\n",
       " 13 |        M |  104 |  105 |  106 |  107\n",
       " 13 |        F |  108 |  109 |  110 |  111\n",
       " 14 |        M |  112 |  113 |  114 |  115\n",
       " 14 |        F |  116 |  117 |  118 |  119\n",
       " 15 |        M |  120 |  121 |  122 |  123\n",
       " 15 |        F |  124 |  125 |  126 |  127"
      ]
     },
     "execution_count": 144,
     "metadata": {},
     "output_type": "execute_result"
    }
   ],
   "source": [
    "b[10:15]"
   ]
  },
  {
   "cell_type": "markdown",
   "metadata": {},
   "source": [
    "\n",
    "# Relabeling"
   ]
  },
  {
   "cell_type": "code",
   "execution_count": 145,
   "metadata": {
    "collapsed": false
   },
   "outputs": [],
   "source": [
    "b = a[10:12]"
   ]
  },
  {
   "cell_type": "code",
   "execution_count": 146,
   "metadata": {
    "collapsed": false
   },
   "outputs": [
    {
     "data": {
      "text/plain": [
       "age | sex\\time | 2016 | 2017 | 2018 | 2019\n",
       " 10 |        M |   80 |    0 |    0 |    0\n",
       " 10 |        F |   84 |    0 |    0 |    0\n",
       " 11 |        M |   88 |   89 |    0 |    0\n",
       " 11 |        F |   92 |   93 |    0 |    0\n",
       " 12 |        M |   96 |   97 |   98 |    0\n",
       " 12 |        F |  100 |  101 |  102 |    0"
      ]
     },
     "execution_count": 146,
     "metadata": {},
     "output_type": "execute_result"
    }
   ],
   "source": [
    "b"
   ]
  },
  {
   "cell_type": "code",
   "execution_count": 147,
   "metadata": {
    "collapsed": true
   },
   "outputs": [],
   "source": [
    "c = b.set_labels(x.sex, ['Men', 'Women'])"
   ]
  },
  {
   "cell_type": "code",
   "execution_count": 148,
   "metadata": {
    "collapsed": false
   },
   "outputs": [
    {
     "data": {
      "text/plain": [
       "age | sex\\time | 2016 | 2017 | 2018 | 2019\n",
       " 10 |    Women |   80 |    0 |    0 |    0\n",
       " 10 |      Men |   84 |    0 |    0 |    0\n",
       " 11 |    Women |   88 |   89 |    0 |    0\n",
       " 11 |      Men |   92 |   93 |    0 |    0\n",
       " 12 |    Women |   96 |   97 |   98 |    0\n",
       " 12 |      Men |  100 |  101 |  102 |    0"
      ]
     },
     "execution_count": 148,
     "metadata": {},
     "output_type": "execute_result"
    }
   ],
   "source": [
    "c"
   ]
  },
  {
   "cell_type": "markdown",
   "metadata": {},
   "source": [
    "# Renaming axes"
   ]
  },
  {
   "cell_type": "code",
   "execution_count": 149,
   "metadata": {
    "collapsed": false
   },
   "outputs": [
    {
     "data": {
      "text/plain": [
       "age | gender\\time | 2016 | 2017 | 2018 | 2019\n",
       " 10 |       Women |   80 |    0 |    0 |    0\n",
       " 10 |         Men |   84 |    0 |    0 |    0\n",
       " 11 |       Women |   88 |   89 |    0 |    0\n",
       " 11 |         Men |   92 |   93 |    0 |    0\n",
       " 12 |       Women |   96 |   97 |   98 |    0\n",
       " 12 |         Men |  100 |  101 |  102 |    0"
      ]
     },
     "execution_count": 149,
     "metadata": {},
     "output_type": "execute_result"
    }
   ],
   "source": [
    "c.rename(x.sex, x.gender)"
   ]
  },
  {
   "cell_type": "code",
   "execution_count": 150,
   "metadata": {
    "collapsed": false
   },
   "outputs": [
    {
     "data": {
      "text/plain": [
       "age | gender\\year | 2016 | 2017 | 2018 | 2019\n",
       " 10 |       Women |   80 |    0 |    0 |    0\n",
       " 10 |         Men |   84 |    0 |    0 |    0\n",
       " 11 |       Women |   88 |   89 |    0 |    0\n",
       " 11 |         Men |   92 |   93 |    0 |    0\n",
       " 12 |       Women |   96 |   97 |   98 |    0\n",
       " 12 |         Men |  100 |  101 |  102 |    0"
      ]
     },
     "execution_count": 150,
     "metadata": {},
     "output_type": "execute_result"
    }
   ],
   "source": [
    "# renaming several axes at once is more convenient using:\n",
    "c.rename(sex='gender', time='year')"
   ]
  },
  {
   "cell_type": "markdown",
   "metadata": {},
   "source": [
    "# Combining arrays"
   ]
  },
  {
   "cell_type": "markdown",
   "metadata": {},
   "source": [
    "### appending/prepending one element to an axis of an array (.append/.prepend)"
   ]
  },
  {
   "cell_type": "code",
   "execution_count": 151,
   "metadata": {
    "collapsed": false
   },
   "outputs": [
    {
     "data": {
      "text/plain": [
       "age | sex\\time | 2016 | 2017 | 2018 | 2019\n",
       " 10 |        M |   80 |    0 |    0 |    0\n",
       " 10 |        F |   84 |    0 |    0 |    0\n",
       " 11 |        M |   88 |   89 |    0 |    0\n",
       " 11 |        F |   92 |   93 |    0 |    0\n",
       " 12 |        M |   96 |   97 |   98 |    0\n",
       " 12 |        F |  100 |  101 |  102 |    0"
      ]
     },
     "execution_count": 151,
     "metadata": {},
     "output_type": "execute_result"
    }
   ],
   "source": [
    "b"
   ]
  },
  {
   "cell_type": "code",
   "execution_count": 152,
   "metadata": {
    "collapsed": false
   },
   "outputs": [],
   "source": [
    "# suppose in this case, that we want to append total by sex. \n",
    "# In practice, this is a bad example because adding totals is such a common operation that there is a dedicated method\n",
    "# for this. See the \"adding totals\" section.\n",
    "bysex = b.sum(x.sex)"
   ]
  },
  {
   "cell_type": "code",
   "execution_count": 153,
   "metadata": {
    "collapsed": false
   },
   "outputs": [
    {
     "data": {
      "text/plain": [
       "age | sex\\time | 2016 | 2017 | 2018 | 2019\n",
       " 10 |        M |   80 |    0 |    0 |    0\n",
       " 10 |        F |   84 |    0 |    0 |    0\n",
       " 10 |    total |  164 |    0 |    0 |    0\n",
       " 11 |        M |   88 |   89 |    0 |    0\n",
       " 11 |        F |   92 |   93 |    0 |    0\n",
       " 11 |    total |  180 |  182 |    0 |    0\n",
       " 12 |        M |   96 |   97 |   98 |    0\n",
       " 12 |        F |  100 |  101 |  102 |    0\n",
       " 12 |    total |  196 |  198 |  200 |    0"
      ]
     },
     "execution_count": 153,
     "metadata": {},
     "output_type": "execute_result"
    }
   ],
   "source": [
    "b.append(x.sex, bysex, 'total')"
   ]
  },
  {
   "cell_type": "code",
   "execution_count": 154,
   "metadata": {
    "collapsed": false
   },
   "outputs": [
    {
     "data": {
      "text/plain": [
       "age | sex\\time |  2016 |  2017 |  2018 | 2019\n",
       " 10 |     mean |  82.0 |   0.0 |   0.0 |  0.0\n",
       " 10 |        M |  80.0 |   0.0 |   0.0 |  0.0\n",
       " 10 |        F |  84.0 |   0.0 |   0.0 |  0.0\n",
       " 11 |     mean |  90.0 |  91.0 |   0.0 |  0.0\n",
       " 11 |        M |  88.0 |  89.0 |   0.0 |  0.0\n",
       " 11 |        F |  92.0 |  93.0 |   0.0 |  0.0\n",
       " 12 |     mean |  98.0 |  99.0 | 100.0 |  0.0\n",
       " 12 |        M |  96.0 |  97.0 |  98.0 |  0.0\n",
       " 12 |        F | 100.0 | 101.0 | 102.0 |  0.0"
      ]
     },
     "execution_count": 154,
     "metadata": {},
     "output_type": "execute_result"
    }
   ],
   "source": [
    "# you can also add something at the start of an axis\n",
    "b.prepend(x.sex, b.mean(x.sex), 'mean')"
   ]
  },
  {
   "cell_type": "code",
   "execution_count": 155,
   "metadata": {
    "collapsed": false
   },
   "outputs": [],
   "source": [
    "# the value being appended/prepended can have missing (or even extra) axes as long as common axes are compatible\n",
    "new_value = create_sequential(time)"
   ]
  },
  {
   "cell_type": "code",
   "execution_count": 156,
   "metadata": {
    "collapsed": false
   },
   "outputs": [
    {
     "data": {
      "text/plain": [
       "time | 2016 | 2017 | 2018 | 2019\n",
       "     |    0 |    1 |    2 |    3"
      ]
     },
     "execution_count": 156,
     "metadata": {},
     "output_type": "execute_result"
    }
   ],
   "source": [
    "new_value"
   ]
  },
  {
   "cell_type": "code",
   "execution_count": 157,
   "metadata": {
    "collapsed": false
   },
   "outputs": [
    {
     "data": {
      "text/plain": [
       "age | sex\\time | 2016 | 2017 | 2018 | 2019\n",
       " 10 |    other |    0 |    1 |    2 |    3\n",
       " 10 |        M |   80 |    0 |    0 |    0\n",
       " 10 |        F |   84 |    0 |    0 |    0\n",
       " 11 |    other |    0 |    1 |    2 |    3\n",
       " 11 |        M |   88 |   89 |    0 |    0\n",
       " 11 |        F |   92 |   93 |    0 |    0\n",
       " 12 |    other |    0 |    1 |    2 |    3\n",
       " 12 |        M |   96 |   97 |   98 |    0\n",
       " 12 |        F |  100 |  101 |  102 |    0"
      ]
     },
     "execution_count": 157,
     "metadata": {},
     "output_type": "execute_result"
    }
   ],
   "source": [
    "b.prepend(x.sex, new_value, 'other')"
   ]
  },
  {
   "cell_type": "markdown",
   "metadata": {},
   "source": [
    "### extending an array along an axis with another array _with_ that axis (but other labels) (.extend)"
   ]
  },
  {
   "cell_type": "code",
   "execution_count": 158,
   "metadata": {
    "collapsed": true
   },
   "outputs": [],
   "source": [
    "new_value = zeros(Axis('age', range(20, 22)))"
   ]
  },
  {
   "cell_type": "code",
   "execution_count": 159,
   "metadata": {
    "collapsed": false
   },
   "outputs": [
    {
     "data": {
      "text/plain": [
       "age |  20 |  21\n",
       "    | 0.0 | 0.0"
      ]
     },
     "execution_count": 159,
     "metadata": {},
     "output_type": "execute_result"
    }
   ],
   "source": [
    "new_value"
   ]
  },
  {
   "cell_type": "code",
   "execution_count": 160,
   "metadata": {
    "collapsed": false
   },
   "outputs": [
    {
     "data": {
      "text/plain": [
       "age | sex\\time | 2016 | 2017 | 2018 | 2019\n",
       " 10 |        M |   80 |    0 |    0 |    0\n",
       " 10 |        F |   84 |    0 |    0 |    0\n",
       " 11 |        M |   88 |   89 |    0 |    0\n",
       " 11 |        F |   92 |   93 |    0 |    0\n",
       " 12 |        M |   96 |   97 |   98 |    0\n",
       " 12 |        F |  100 |  101 |  102 |    0\n",
       " 20 |        M |    0 |    0 |    0 |    0\n",
       " 20 |        F |    0 |    0 |    0 |    0\n",
       " 21 |        M |    0 |    0 |    0 |    0\n",
       " 21 |        F |    0 |    0 |    0 |    0"
      ]
     },
     "execution_count": 160,
     "metadata": {},
     "output_type": "execute_result"
    }
   ],
   "source": [
    "b.extend(x.age, new_value)"
   ]
  },
  {
   "cell_type": "markdown",
   "metadata": {},
   "source": [
    "### stacking several arrays together to create an entirely new dimension (stack)"
   ]
  },
  {
   "cell_type": "code",
   "execution_count": 161,
   "metadata": {
    "collapsed": true
   },
   "outputs": [],
   "source": [
    "m = create_sequential(time)"
   ]
  },
  {
   "cell_type": "code",
   "execution_count": 162,
   "metadata": {
    "collapsed": false
   },
   "outputs": [
    {
     "data": {
      "text/plain": [
       "time | 2016 | 2017 | 2018 | 2019\n",
       "     |    0 |    1 |    2 |    3"
      ]
     },
     "execution_count": 162,
     "metadata": {},
     "output_type": "execute_result"
    }
   ],
   "source": [
    "m"
   ]
  },
  {
   "cell_type": "code",
   "execution_count": 163,
   "metadata": {
    "collapsed": true
   },
   "outputs": [],
   "source": [
    "f = create_sequential(time, initial=5, inc=-1)"
   ]
  },
  {
   "cell_type": "code",
   "execution_count": 164,
   "metadata": {
    "collapsed": false
   },
   "outputs": [
    {
     "data": {
      "text/plain": [
       "time | 2016 | 2017 | 2018 | 2019\n",
       "     |    5 |    4 |    3 |    2"
      ]
     },
     "execution_count": 164,
     "metadata": {},
     "output_type": "execute_result"
    }
   ],
   "source": [
    "f"
   ]
  },
  {
   "cell_type": "code",
   "execution_count": 165,
   "metadata": {
    "collapsed": false
   },
   "outputs": [
    {
     "data": {
      "text/plain": [
       "Axis('sex', ['M', 'F'])"
      ]
     },
     "execution_count": 165,
     "metadata": {},
     "output_type": "execute_result"
    }
   ],
   "source": [
    "sex"
   ]
  },
  {
   "cell_type": "code",
   "execution_count": 166,
   "metadata": {
    "collapsed": false
   },
   "outputs": [
    {
     "data": {
      "text/plain": [
       "time\\sex | M | F\n",
       "    2016 | 0 | 5\n",
       "    2017 | 1 | 4\n",
       "    2018 | 2 | 3\n",
       "    2019 | 3 | 2"
      ]
     },
     "execution_count": 166,
     "metadata": {},
     "output_type": "execute_result"
    }
   ],
   "source": [
    "stack([m, f], sex)"
   ]
  },
  {
   "cell_type": "markdown",
   "metadata": {},
   "source": [
    "# Adding totals"
   ]
  },
  {
   "cell_type": "code",
   "execution_count": 167,
   "metadata": {
    "collapsed": false
   },
   "outputs": [
    {
     "data": {
      "text/plain": [
       "age | sex\\time | 2016 | 2017 | 2018 | 2019\n",
       " 10 |        M |   80 |    0 |    0 |    0\n",
       " 10 |        F |   84 |    0 |    0 |    0\n",
       " 10 |    total |  164 |    0 |    0 |    0\n",
       " 11 |        M |   88 |   89 |    0 |    0\n",
       " 11 |        F |   92 |   93 |    0 |    0\n",
       " 11 |    total |  180 |  182 |    0 |    0\n",
       " 12 |        M |   96 |   97 |   98 |    0\n",
       " 12 |        F |  100 |  101 |  102 |    0\n",
       " 12 |    total |  196 |  198 |  200 |    0"
      ]
     },
     "execution_count": 167,
     "metadata": {},
     "output_type": "execute_result"
    }
   ],
   "source": [
    "b.with_total(x.sex)"
   ]
  },
  {
   "cell_type": "code",
   "execution_count": 168,
   "metadata": {
    "collapsed": false
   },
   "outputs": [
    {
     "data": {
      "text/plain": [
       "  age | sex\\time | 2016 | 2017 | 2018 | 2019 | total\n",
       "   10 |        M |   80 |    0 |    0 |    0 |    80\n",
       "   10 |        F |   84 |    0 |    0 |    0 |    84\n",
       "   10 |    total |  164 |    0 |    0 |    0 |   164\n",
       "   11 |        M |   88 |   89 |    0 |    0 |   177\n",
       "   11 |        F |   92 |   93 |    0 |    0 |   185\n",
       "   11 |    total |  180 |  182 |    0 |    0 |   362\n",
       "   12 |        M |   96 |   97 |   98 |    0 |   291\n",
       "   12 |        F |  100 |  101 |  102 |    0 |   303\n",
       "   12 |    total |  196 |  198 |  200 |    0 |   594\n",
       "total |        M |  264 |  186 |   98 |    0 |   548\n",
       "total |        F |  276 |  194 |  102 |    0 |   572\n",
       "total |    total |  540 |  380 |  200 |    0 |  1120"
      ]
     },
     "execution_count": 168,
     "metadata": {},
     "output_type": "execute_result"
    }
   ],
   "source": [
    "# one can also add totals to all axes at once\n",
    "b.with_total()"
   ]
  },
  {
   "cell_type": "markdown",
   "metadata": {},
   "source": [
    "\n",
    "# Sorting"
   ]
  },
  {
   "cell_type": "code",
   "execution_count": 169,
   "metadata": {
    "collapsed": false
   },
   "outputs": [
    {
     "data": {
      "text/plain": [
       "age | sex\\time | 2016 | 2017 | 2018 | 2019\n",
       " 10 |        M |   80 |    0 |    0 |    0\n",
       " 10 |        F |   84 |    0 |    0 |    0\n",
       " 11 |        M |   88 |   89 |    0 |    0\n",
       " 11 |        F |   92 |   93 |    0 |    0\n",
       " 12 |        M |   96 |   97 |   98 |    0\n",
       " 12 |        F |  100 |  101 |  102 |    0"
      ]
     },
     "execution_count": 169,
     "metadata": {},
     "output_type": "execute_result"
    }
   ],
   "source": [
    "b"
   ]
  },
  {
   "cell_type": "code",
   "execution_count": 170,
   "metadata": {
    "collapsed": false
   },
   "outputs": [],
   "source": [
    "# sorts an axis (alphabetically if labels are strings)\n",
    "sorted_b = b.sort_axis(x.sex)"
   ]
  },
  {
   "cell_type": "code",
   "execution_count": 171,
   "metadata": {
    "collapsed": false
   },
   "outputs": [
    {
     "data": {
      "text/plain": [
       "age | sex\\time | 2016 | 2017 | 2018 | 2019\n",
       " 10 |        F |   84 |    0 |    0 |    0\n",
       " 10 |        M |   80 |    0 |    0 |    0\n",
       " 11 |        F |   92 |   93 |    0 |    0\n",
       " 11 |        M |   88 |   89 |    0 |    0\n",
       " 12 |        F |  100 |  101 |  102 |    0\n",
       " 12 |        M |   96 |   97 |   98 |    0"
      ]
     },
     "execution_count": 171,
     "metadata": {},
     "output_type": "execute_result"
    }
   ],
   "source": [
    "sorted_b"
   ]
  },
  {
   "cell_type": "code",
   "execution_count": 172,
   "metadata": {
    "collapsed": false
   },
   "outputs": [
    {
     "data": {
      "text/plain": [
       "age | sex\\time |    0 |    1 |    2 |    3\n",
       " 10 |        F | 2017 | 2018 | 2019 | 2016\n",
       " 10 |        M | 2017 | 2018 | 2019 | 2016\n",
       " 11 |        F | 2018 | 2019 | 2016 | 2017\n",
       " 11 |        M | 2018 | 2019 | 2016 | 2017\n",
       " 12 |        F | 2019 | 2016 | 2017 | 2018\n",
       " 12 |        M | 2019 | 2016 | 2017 | 2018"
      ]
     },
     "execution_count": 172,
     "metadata": {},
     "output_type": "execute_result"
    }
   ],
   "source": [
    "# indirect sort along an axis (ie give labels which would sort the axis)\n",
    "sorted_b.argsort(x.time)"
   ]
  },
  {
   "cell_type": "code",
   "execution_count": 173,
   "metadata": {
    "collapsed": false
   },
   "outputs": [
    {
     "data": {
      "text/plain": [
       "age | sex\\time | 2017 | 2018 | 2019 | 2016\n",
       " 10 |        F |    0 |    0 |    0 |   84\n",
       " 10 |        M |    0 |    0 |    0 |   80\n",
       " 11 |        F |   93 |    0 |    0 |   92\n",
       " 11 |        M |   89 |    0 |    0 |   88\n",
       " 12 |        F |  101 |  102 |    0 |  100\n",
       " 12 |        M |   97 |   98 |    0 |   96"
      ]
     },
     "execution_count": 173,
     "metadata": {},
     "output_type": "execute_result"
    }
   ],
   "source": [
    "sorted_b.sort_values((10, 'M'))"
   ]
  },
  {
   "cell_type": "markdown",
   "metadata": {},
   "source": [
    "# Plotting"
   ]
  },
  {
   "cell_type": "code",
   "execution_count": 174,
   "metadata": {
    "collapsed": true
   },
   "outputs": [],
   "source": [
    "c = a.sum(x.age) - 39000"
   ]
  },
  {
   "cell_type": "code",
   "execution_count": 175,
   "metadata": {
    "collapsed": false
   },
   "outputs": [
    {
     "data": {
      "image/png": "[encoded data removed]",
      "text/plain": [
       "<matplotlib.figure.Figure at 0x288668fe2b0>"
      ]
     },
     "metadata": {},
     "output_type": "display_data"
    }
   ],
   "source": [
    "d = c.transpose(x.time).plot()"
   ]
  },
  {
   "cell_type": "markdown",
   "metadata": {},
   "source": [
    "# Misc other interesting methods"
   ]
  },
  {
   "cell_type": "code",
   "execution_count": 176,
   "metadata": {
    "collapsed": false
   },
   "outputs": [
    {
     "data": {
      "text/plain": [
       "age | sex\\time | 2016 | 2017 | 2018 | 2019\n",
       " 10 |        M |   80 |    0 |    0 |    0\n",
       " 10 |        F |   84 |    0 |    0 |    0\n",
       " 11 |        M |   88 |   89 |    0 |    0\n",
       " 11 |        F |   92 |   93 |    0 |    0\n",
       " 12 |        M |   96 |   97 |   98 |    0\n",
       " 12 |        F |  100 |  101 |  102 |    0"
      ]
     },
     "execution_count": 176,
     "metadata": {},
     "output_type": "execute_result"
    }
   ],
   "source": [
    "# let us take some small test data\n",
    "b = a[10:12]\n",
    "b"
   ]
  },
  {
   "cell_type": "markdown",
   "metadata": {},
   "source": [
    "## where"
   ]
  },
  {
   "cell_type": "markdown",
   "metadata": {},
   "source": [
    "where can be used to apply some compution depending on a condition"
   ]
  },
  {
   "cell_type": "code",
   "execution_count": 177,
   "metadata": {
    "collapsed": false
   },
   "outputs": [],
   "source": [
    "c = where(b < 85, -1, b * 2)"
   ]
  },
  {
   "cell_type": "code",
   "execution_count": 178,
   "metadata": {
    "collapsed": false
   },
   "outputs": [
    {
     "data": {
      "text/plain": [
       "age | sex\\time | 2016 | 2017 | 2018 | 2019\n",
       " 10 |        M |   -1 |   -1 |   -1 |   -1\n",
       " 10 |        F |   -1 |   -1 |   -1 |   -1\n",
       " 11 |        M |  176 |  178 |   -1 |   -1\n",
       " 11 |        F |  184 |  186 |   -1 |   -1\n",
       " 12 |        M |  192 |  194 |  196 |   -1\n",
       " 12 |        F |  200 |  202 |  204 |   -1"
      ]
     },
     "execution_count": 178,
     "metadata": {},
     "output_type": "execute_result"
    }
   ],
   "source": [
    "c"
   ]
  },
  {
   "cell_type": "markdown",
   "metadata": {},
   "source": [
    "## clip"
   ]
  },
  {
   "cell_type": "code",
   "execution_count": 179,
   "metadata": {
    "collapsed": false
   },
   "outputs": [],
   "source": [
    "a = ndrange((sex, time))"
   ]
  },
  {
   "cell_type": "code",
   "execution_count": 180,
   "metadata": {
    "collapsed": false
   },
   "outputs": [
    {
     "data": {
      "text/plain": [
       "sex\\time | 2016 | 2017 | 2018 | 2019\n",
       "       M |    0 |    1 |    2 |    3\n",
       "       F |    4 |    5 |    6 |    7"
      ]
     },
     "execution_count": 180,
     "metadata": {},
     "output_type": "execute_result"
    }
   ],
   "source": [
    "a"
   ]
  },
  {
   "cell_type": "code",
   "execution_count": 181,
   "metadata": {
    "collapsed": false
   },
   "outputs": [
    {
     "data": {
      "text/plain": [
       "sex\\time | 2016 | 2017 | 2018 | 2019\n",
       "       M |    2 |    2 |    2 |    3\n",
       "       F |    4 |    5 |    6 |    6"
      ]
     },
     "execution_count": 181,
     "metadata": {},
     "output_type": "execute_result"
    }
   ],
   "source": [
    "# values below 2 are set to 2, above 6 set to 6\n",
    "a.clip(2, 6)"
   ]
  },
  {
   "cell_type": "markdown",
   "metadata": {},
   "source": [
    "## divnot0"
   ]
  },
  {
   "cell_type": "code",
   "execution_count": 182,
   "metadata": {
    "collapsed": false
   },
   "outputs": [
    {
     "data": {
      "text/plain": [
       "sex\\time | 2016 | 2017 | 2018 | 2019\n",
       "       M |    0 |    1 |    2 |    3\n",
       "       F |    4 |    5 |    6 |    7"
      ]
     },
     "execution_count": 182,
     "metadata": {},
     "output_type": "execute_result"
    }
   ],
   "source": [
    "a"
   ]
  },
  {
   "cell_type": "code",
   "execution_count": 183,
   "metadata": {
    "collapsed": false
   },
   "outputs": [],
   "source": [
    "b = ones(time)\n",
    "b[2016] = 0"
   ]
  },
  {
   "cell_type": "code",
   "execution_count": 184,
   "metadata": {
    "collapsed": false
   },
   "outputs": [
    {
     "data": {
      "text/plain": [
       "time | 2016 | 2017 | 2018 | 2019\n",
       "     |  0.0 |  1.0 |  1.0 |  1.0"
      ]
     },
     "execution_count": 184,
     "metadata": {},
     "output_type": "execute_result"
    }
   ],
   "source": [
    "b"
   ]
  },
  {
   "cell_type": "code",
   "execution_count": 185,
   "metadata": {
    "collapsed": false
   },
   "outputs": [
    {
     "data": {
      "text/plain": [
       "sex\\time | 2016 | 2017 | 2018 | 2019\n",
       "       M |  nan |  1.0 |  2.0 |  3.0\n",
       "       F |  inf |  5.0 |  6.0 |  7.0"
      ]
     },
     "execution_count": 185,
     "metadata": {},
     "output_type": "execute_result"
    }
   ],
   "source": [
    "# dividing by zero normally produces \"inf\" (for infinite) if the numerator is not zero or \"nan\" (for not a number) if it is\n",
    "a / b"
   ]
  },
  {
   "cell_type": "code",
   "execution_count": 186,
   "metadata": {
    "collapsed": false
   },
   "outputs": [
    {
     "data": {
      "text/plain": [
       "sex\\time | 2016 | 2017 | 2018 | 2019\n",
       "       M |  0.0 |  1.0 |  2.0 |  3.0\n",
       "       F |  0.0 |  5.0 |  6.0 |  7.0"
      ]
     },
     "execution_count": 186,
     "metadata": {},
     "output_type": "execute_result"
    }
   ],
   "source": [
    "# but in some cases, you do not want that. You can use the divnot0 method instead. Using it should be done with care though\n",
    "# because it can hide a real error in your data.\n",
    "a.divnot0(b)"
   ]
  },
  {
   "cell_type": "markdown",
   "metadata": {},
   "source": [
    "## diff (discrete difference along an axis)"
   ]
  },
  {
   "cell_type": "markdown",
   "metadata": {},
   "source": [
    "... or how to compute the value increase since the previous year for each year"
   ]
  },
  {
   "cell_type": "code",
   "execution_count": 187,
   "metadata": {
    "collapsed": true
   },
   "outputs": [],
   "source": [
    "# let us first recreate some data\n",
    "bysex = create_sequential(sex, initial=1.5, inc=0.5)"
   ]
  },
  {
   "cell_type": "code",
   "execution_count": 188,
   "metadata": {
    "collapsed": false
   },
   "outputs": [
    {
     "data": {
      "text/plain": [
       "sex |   M |   F\n",
       "    | 1.5 | 2.0"
      ]
     },
     "execution_count": 188,
     "metadata": {},
     "output_type": "execute_result"
    }
   ],
   "source": [
    "bysex"
   ]
  },
  {
   "cell_type": "code",
   "execution_count": 189,
   "metadata": {
    "collapsed": true
   },
   "outputs": [],
   "source": [
    "a = create_sequential(time, initial=1.0, inc=bysex)"
   ]
  },
  {
   "cell_type": "code",
   "execution_count": 190,
   "metadata": {
    "collapsed": false
   },
   "outputs": [
    {
     "data": {
      "text/plain": [
       "sex\\time | 2016 | 2017 | 2018 | 2019\n",
       "       M |  1.0 |  2.5 |  4.0 |  5.5\n",
       "       F |  1.0 |  3.0 |  5.0 |  7.0"
      ]
     },
     "execution_count": 190,
     "metadata": {},
     "output_type": "execute_result"
    }
   ],
   "source": [
    "a"
   ]
  },
  {
   "cell_type": "code",
   "execution_count": 191,
   "metadata": {
    "collapsed": false
   },
   "outputs": [
    {
     "data": {
      "text/plain": [
       "sex\\time | 2017 | 2018 | 2019\n",
       "       M |  1.5 |  1.5 |  1.5\n",
       "       F |  2.0 |  2.0 |  2.0"
      ]
     },
     "execution_count": 191,
     "metadata": {},
     "output_type": "execute_result"
    }
   ],
   "source": [
    "a.diff(x.time)"
   ]
  },
  {
   "cell_type": "markdown",
   "metadata": {},
   "source": [
    "## growth_rate"
   ]
  },
  {
   "cell_type": "markdown",
   "metadata": {
    "collapsed": true
   },
   "source": [
    "using the same principle than diff..."
   ]
  },
  {
   "cell_type": "code",
   "execution_count": 192,
   "metadata": {
    "collapsed": false
   },
   "outputs": [
    {
     "data": {
      "text/plain": [
       "sex |   M |   F\n",
       "    | 1.5 | 2.0"
      ]
     },
     "execution_count": 192,
     "metadata": {},
     "output_type": "execute_result"
    }
   ],
   "source": [
    "bysex"
   ]
  },
  {
   "cell_type": "code",
   "execution_count": 193,
   "metadata": {
    "collapsed": true
   },
   "outputs": [],
   "source": [
    "# but using \"mult\" this time\n",
    "a = create_sequential(time, initial=1.0, mult=bysex)"
   ]
  },
  {
   "cell_type": "code",
   "execution_count": 194,
   "metadata": {
    "collapsed": false
   },
   "outputs": [
    {
     "data": {
      "text/plain": [
       "sex\\time | 2016 | 2017 | 2018 |  2019\n",
       "       M |  1.0 |  1.5 | 2.25 | 3.375\n",
       "       F |  1.0 |  2.0 |  4.0 |   8.0"
      ]
     },
     "execution_count": 194,
     "metadata": {},
     "output_type": "execute_result"
    }
   ],
   "source": [
    "a"
   ]
  },
  {
   "cell_type": "code",
   "execution_count": 195,
   "metadata": {
    "collapsed": false
   },
   "outputs": [
    {
     "data": {
      "text/plain": [
       "sex\\time | 2017 | 2018 | 2019\n",
       "       M |  0.5 |  0.5 |  0.5\n",
       "       F |  1.0 |  1.0 |  1.0"
      ]
     },
     "execution_count": 195,
     "metadata": {},
     "output_type": "execute_result"
    }
   ],
   "source": [
    "a.growth_rate(x.time)"
   ]
  },
  {
   "cell_type": "code",
   "execution_count": 196,
   "metadata": {
    "collapsed": false
   },
   "outputs": [
    {
     "data": {
      "text/plain": [
       "sex\\time | 2017 | 2018 | 2019\n",
       "       M |  1.5 |  1.5 |  1.5\n",
       "       F |  2.0 |  2.0 |  2.0"
      ]
     },
     "execution_count": 196,
     "metadata": {},
     "output_type": "execute_result"
    }
   ],
   "source": [
    "a.growth_rate(x.time) + 1"
   ]
  },
  {
   "cell_type": "markdown",
   "metadata": {},
   "source": [
    "## shift - drop first label of an axis and shift all subsequent labels"
   ]
  },
  {
   "cell_type": "code",
   "execution_count": 197,
   "metadata": {
    "collapsed": true
   },
   "outputs": [],
   "source": [
    "a = create_sequential(time, initial=1.0, inc=bysex)"
   ]
  },
  {
   "cell_type": "code",
   "execution_count": 198,
   "metadata": {
    "collapsed": false
   },
   "outputs": [
    {
     "data": {
      "text/plain": [
       "sex\\time | 2016 | 2017 | 2018 | 2019\n",
       "       M |  1.0 |  2.5 |  4.0 |  5.5\n",
       "       F |  1.0 |  3.0 |  5.0 |  7.0"
      ]
     },
     "execution_count": 198,
     "metadata": {},
     "output_type": "execute_result"
    }
   ],
   "source": [
    "a"
   ]
  },
  {
   "cell_type": "code",
   "execution_count": 199,
   "metadata": {
    "collapsed": false
   },
   "outputs": [
    {
     "data": {
      "text/plain": [
       "sex\\time | 2017 | 2018 | 2019\n",
       "       M |  1.0 |  2.5 |  4.0\n",
       "       F |  1.0 |  3.0 |  5.0"
      ]
     },
     "execution_count": 199,
     "metadata": {},
     "output_type": "execute_result"
    }
   ],
   "source": [
    "# when shift is applied on an (increasing) time axis, it effectively brings \"past\" data into the future\n",
    "a.shift(x.time)"
   ]
  },
  {
   "cell_type": "code",
   "execution_count": 200,
   "metadata": {
    "collapsed": false
   },
   "outputs": [
    {
     "data": {
      "text/plain": [
       "sex\\time | 2017 | 2018 | 2019\n",
       "       M |  1.5 |  1.5 |  1.5\n",
       "       F |  2.0 |  2.0 |  2.0"
      ]
     },
     "execution_count": 200,
     "metadata": {},
     "output_type": "execute_result"
    }
   ],
   "source": [
    "# this is mostly useful when you want to do operations between the past and now\n",
    "# as an example, here is an alternative implementation of the .diff method seen above:\n",
    "a[2017:] - a.shift(x.time)"
   ]
  },
  {
   "cell_type": "markdown",
   "metadata": {},
   "source": [
    "# Misc other interesting functions"
   ]
  },
  {
   "cell_type": "markdown",
   "metadata": {},
   "source": [
    "There are a lot more functions available: \n",
    "- round, floor, ceil, trunc, \n",
    "- exp, log, log10, \n",
    "- sqrt, absolute, nan_to_num, isnan, isinf, inverse,\n",
    "- sin, cos, tan, arcsin, arccos, arctan\n",
    "- ...\n",
    "- and many many more..."
   ]
  },
  {
   "cell_type": "markdown",
   "metadata": {},
   "source": [
    "\n",
    "## more Excel IO"
   ]
  },
  {
   "cell_type": "code",
   "execution_count": 201,
   "metadata": {
    "collapsed": true
   },
   "outputs": [],
   "source": [
    "a = ndrange((sex, time))\n",
    "wb = open_excel('c:/tmp/test.xlsx')"
   ]
  },
  {
   "cell_type": "code",
   "execution_count": 202,
   "metadata": {
    "collapsed": true
   },
   "outputs": [],
   "source": [
    "# put a at A1 in Sheet1, excluding headers (labels)\n",
    "wb['Sheet1'] = a"
   ]
  },
  {
   "cell_type": "code",
   "execution_count": 203,
   "metadata": {
    "collapsed": true
   },
   "outputs": [],
   "source": [
    "# dump a at A1 in Sheet2, including headers (labels)\n",
    "wb['Sheet2'] = a.dump()"
   ]
  },
  {
   "cell_type": "code",
   "execution_count": 204,
   "metadata": {
    "collapsed": true
   },
   "outputs": [],
   "source": [
    "# save the file to disk\n",
    "wb.save()"
   ]
  },
  {
   "cell_type": "code",
   "execution_count": 205,
   "metadata": {
    "collapsed": true
   },
   "outputs": [],
   "source": [
    "# close it\n",
    "wb.close()"
   ]
  },
  {
   "cell_type": "code",
   "execution_count": 206,
   "metadata": {
    "collapsed": true
   },
   "outputs": [],
   "source": [
    "wb = open_excel('c:/tmp/test.xlsx')\n",
    "# load a from the data starting at A1 in Sheet1, assuming the absence of headers.\n",
    "a1 = wb['Sheet1']"
   ]
  },
  {
   "cell_type": "code",
   "execution_count": 207,
   "metadata": {
    "collapsed": false
   },
   "outputs": [
    {
     "data": {
      "text/plain": [
       "<larray.excel.Sheet at 0x28867209908>"
      ]
     },
     "execution_count": 207,
     "metadata": {},
     "output_type": "execute_result"
    }
   ],
   "source": [
    "a1"
   ]
  },
  {
   "cell_type": "code",
   "execution_count": 208,
   "metadata": {
    "collapsed": true
   },
   "outputs": [],
   "source": [
    "# load a from the data starting at A1 in Sheet1, assuming the presence of (correctly formatted) headers.\n",
    "a2 = wb['Sheet2'].load()"
   ]
  },
  {
   "cell_type": "code",
   "execution_count": 209,
   "metadata": {
    "collapsed": false
   },
   "outputs": [
    {
     "data": {
      "text/plain": [
       "sex\\time | 2016 | 2017 | 2018 | 2019\n",
       "       M |    0 |    1 |    2 |    3\n",
       "       F |    4 |    5 |    6 |    7"
      ]
     },
     "execution_count": 209,
     "metadata": {},
     "output_type": "execute_result"
    }
   ],
   "source": [
    "a2"
   ]
  },
  {
   "cell_type": "code",
   "execution_count": 210,
   "metadata": {
    "collapsed": true
   },
   "outputs": [],
   "source": [
    "wb.close()"
   ]
  },
  {
   "cell_type": "code",
   "execution_count": 211,
   "metadata": {
    "collapsed": true
   },
   "outputs": [],
   "source": [
    "wb = open_excel('c:/tmp/test.xlsx')"
   ]
  },
  {
   "cell_type": "code",
   "execution_count": 212,
   "metadata": {
    "collapsed": true
   },
   "outputs": [],
   "source": [
    "# note that Sheet2 must exist\n",
    "sheet2 = wb['Sheet2']"
   ]
  },
  {
   "cell_type": "code",
   "execution_count": 213,
   "metadata": {
    "collapsed": true
   },
   "outputs": [],
   "source": [
    "# write a without labels starting at C5\n",
    "sheet2['C5'] = a"
   ]
  },
  {
   "cell_type": "code",
   "execution_count": 214,
   "metadata": {
    "collapsed": false
   },
   "outputs": [],
   "source": [
    "# write a with its labels starting at A10\n",
    "sheet2['A10'] = a.dump()"
   ]
  },
  {
   "cell_type": "code",
   "execution_count": 215,
   "metadata": {
    "collapsed": true
   },
   "outputs": [],
   "source": [
    "wb.save()"
   ]
  },
  {
   "cell_type": "code",
   "execution_count": 216,
   "metadata": {
    "collapsed": false
   },
   "outputs": [],
   "source": [
    "# load an array with its axes information from a range. \n",
    "# As you might have guessed, we could also use the sheet2 variable here\n",
    "b = wb['Sheet2']['A10:D12'].load()"
   ]
  },
  {
   "cell_type": "code",
   "execution_count": 217,
   "metadata": {
    "collapsed": false
   },
   "outputs": [
    {
     "data": {
      "text/plain": [
       "sex\\time | 2016 | 2017 | 2018\n",
       "       M |    0 |    1 |    2\n",
       "       F |    4 |    5 |    6"
      ]
     },
     "execution_count": 217,
     "metadata": {},
     "output_type": "execute_result"
    }
   ],
   "source": [
    "b"
   ]
  },
  {
   "cell_type": "code",
   "execution_count": 218,
   "metadata": {
    "collapsed": false
   },
   "outputs": [],
   "source": [
    "# load an array (raw data) with no axis information from a range. \n",
    "c = sheet2['B11:D12']"
   ]
  },
  {
   "cell_type": "code",
   "execution_count": 219,
   "metadata": {
    "collapsed": false
   },
   "outputs": [
    {
     "data": {
      "text/plain": [
       "larray.excel.Range"
      ]
     },
     "execution_count": 219,
     "metadata": {},
     "output_type": "execute_result"
    }
   ],
   "source": [
    "# in fact, this is not really an LArray ...\n",
    "type(c)"
   ]
  },
  {
   "cell_type": "code",
   "execution_count": 220,
   "metadata": {
    "collapsed": false
   },
   "outputs": [
    {
     "data": {
      "text/plain": [
       "{0}* |   0 |   1 |   2\n",
       "     | 4.0 | 6.0 | 8.0"
      ]
     },
     "execution_count": 220,
     "metadata": {},
     "output_type": "execute_result"
    }
   ],
   "source": [
    "# ... but it can be used as such (this is currently very experimental)\n",
    "c.sum(axis=0)"
   ]
  },
  {
   "cell_type": "code",
   "execution_count": 221,
   "metadata": {
    "collapsed": true
   },
   "outputs": [],
   "source": [
    "# ... and it can be used for other stuff, like setting the formula instead of the value:\n",
    "c.formula = '=D10+1'"
   ]
  },
  {
   "cell_type": "code",
   "execution_count": 222,
   "metadata": {
    "collapsed": false
   },
   "outputs": [],
   "source": [
    "# in the future, we should also be able to set font name, size, style, etc."
   ]
  },
  {
   "cell_type": "code",
   "execution_count": 223,
   "metadata": {
    "collapsed": true
   },
   "outputs": [],
   "source": [
    "wb.close()"
   ]
  },
  {
   "cell_type": "markdown",
   "metadata": {},
   "source": [
    "# Sessions"
   ]
  },
  {
   "cell_type": "code",
   "execution_count": 224,
   "metadata": {
    "collapsed": true
   },
   "outputs": [],
   "source": [
    "a = ndrange([sex, time])"
   ]
  },
  {
   "cell_type": "code",
   "execution_count": 225,
   "metadata": {
    "collapsed": false,
    "scrolled": true
   },
   "outputs": [
    {
     "data": {
      "text/plain": [
       "sex\\time | 2016 | 2017 | 2018 | 2019\n",
       "       M |    0 |    1 |    2 |    3\n",
       "       F |    4 |    5 |    6 |    7"
      ]
     },
     "execution_count": 225,
     "metadata": {},
     "output_type": "execute_result"
    }
   ],
   "source": [
    "a"
   ]
  },
  {
   "cell_type": "code",
   "execution_count": 226,
   "metadata": {
    "collapsed": true
   },
   "outputs": [],
   "source": [
    "# you can group several arrays in a Session\n",
    "s1 = Session()\n",
    "s1.a = a\n",
    "s1.b = zeros_like(a)\n",
    "s1.c = ones_like(a)"
   ]
  },
  {
   "cell_type": "code",
   "execution_count": 227,
   "metadata": {
    "collapsed": false
   },
   "outputs": [],
   "source": [
    "# view(s1)"
   ]
  },
  {
   "cell_type": "markdown",
   "metadata": {},
   "source": [
    "### the advantage of sessions is that you can manipulate all of the arrays in them in one shot"
   ]
  },
  {
   "cell_type": "code",
   "execution_count": 228,
   "metadata": {
    "collapsed": false
   },
   "outputs": [
    {
     "data": {
      "text/plain": [
       "'C:\\\\Users\\\\gdm\\\\devel\\\\larray\\\\doc\\\\notebooks'"
      ]
     },
     "execution_count": 228,
     "metadata": {},
     "output_type": "execute_result"
    }
   ],
   "source": [
    "pwd"
   ]
  },
  {
   "cell_type": "code",
   "execution_count": 229,
   "metadata": {
    "collapsed": false
   },
   "outputs": [
    {
     "data": {
      "text/plain": [
       "sex\\time | 2016 | 2017 | 2018 | 2019\n",
       "       M |    0 |    1 |    2 |    3\n",
       "       F |    4 |    5 |    6 |    7"
      ]
     },
     "execution_count": 229,
     "metadata": {},
     "output_type": "execute_result"
    }
   ],
   "source": [
    "s1.a"
   ]
  },
  {
   "cell_type": "code",
   "execution_count": 230,
   "metadata": {
    "collapsed": false
   },
   "outputs": [],
   "source": [
    "# this saves all the arrays in a single excel file (each array on a different sheet)\n",
    "s1.dump('test.xlsx')"
   ]
  },
  {
   "cell_type": "code",
   "execution_count": 231,
   "metadata": {
    "collapsed": true
   },
   "outputs": [],
   "source": [
    "# this saves all the arrays in a single HDF5 file (which is a very fast format)\n",
    "s1.dump('test.h5')"
   ]
  },
  {
   "cell_type": "code",
   "execution_count": 232,
   "metadata": {
    "collapsed": true
   },
   "outputs": [],
   "source": [
    "# this creates a session out of all arrays in the .h5 file\n",
    "s2 = Session('test.h5')"
   ]
  },
  {
   "cell_type": "code",
   "execution_count": 233,
   "metadata": {
    "collapsed": false
   },
   "outputs": [
    {
     "data": {
      "text/plain": [
       "Session(a, b, c)"
      ]
     },
     "execution_count": 233,
     "metadata": {},
     "output_type": "execute_result"
    }
   ],
   "source": [
    "s2"
   ]
  },
  {
   "cell_type": "code",
   "execution_count": 234,
   "metadata": {
    "collapsed": false
   },
   "outputs": [],
   "source": [
    "# the excel version does not work currently (axes are not detected properly)\n",
    "s3 = Session('test.xlsx')"
   ]
  },
  {
   "cell_type": "code",
   "execution_count": 235,
   "metadata": {
    "collapsed": false
   },
   "outputs": [],
   "source": [
    "# view(s2)"
   ]
  },
  {
   "cell_type": "code",
   "execution_count": 236,
   "metadata": {
    "collapsed": false
   },
   "outputs": [
    {
     "data": {
      "text/plain": [
       "name |    a |    b |    c\n",
       "     | True | True | True"
      ]
     },
     "execution_count": 236,
     "metadata": {},
     "output_type": "execute_result"
    }
   ],
   "source": [
    "s1 == s2"
   ]
  },
  {
   "cell_type": "code",
   "execution_count": 237,
   "metadata": {
    "collapsed": false
   },
   "outputs": [],
   "source": [
    "# let us introduce a difference (a variant, or a mistake perhaps)\n",
    "s2.b['F', 2018:] = 1"
   ]
  },
  {
   "cell_type": "code",
   "execution_count": 238,
   "metadata": {
    "collapsed": false
   },
   "outputs": [
    {
     "data": {
      "text/plain": [
       "name |    a |     b |    c\n",
       "     | True | False | True"
      ]
     },
     "execution_count": 238,
     "metadata": {},
     "output_type": "execute_result"
    }
   ],
   "source": [
    "s1 == s2"
   ]
  },
  {
   "cell_type": "code",
   "execution_count": 239,
   "metadata": {
    "collapsed": false
   },
   "outputs": [],
   "source": [
    "s1_diff = s1[s1 != s2]"
   ]
  },
  {
   "cell_type": "code",
   "execution_count": 240,
   "metadata": {
    "collapsed": false
   },
   "outputs": [
    {
     "data": {
      "text/plain": [
       "Session(b)"
      ]
     },
     "execution_count": 240,
     "metadata": {},
     "output_type": "execute_result"
    }
   ],
   "source": [
    "s1_diff"
   ]
  },
  {
   "cell_type": "code",
   "execution_count": 241,
   "metadata": {
    "collapsed": false
   },
   "outputs": [],
   "source": [
    "s2_diff = s2[s1 != s2]"
   ]
  },
  {
   "cell_type": "code",
   "execution_count": 242,
   "metadata": {
    "collapsed": false
   },
   "outputs": [
    {
     "data": {
      "text/plain": [
       "Session(b)"
      ]
     },
     "execution_count": 242,
     "metadata": {},
     "output_type": "execute_result"
    }
   ],
   "source": [
    "s2_diff"
   ]
  },
  {
   "cell_type": "code",
   "execution_count": 243,
   "metadata": {
    "collapsed": true
   },
   "outputs": [],
   "source": [
    "# this a bit experimental but can be usefull nonetheless\n",
    "compare(s1_diff[0], s2_diff[0])"
   ]
  }
 ],
 "metadata": {
  "anaconda-cloud": {},
  "celltoolbar": "Raw Cell Format",
  "kernelspec": {
   "display_name": "Python [default]",
   "language": "python",
   "name": "python3"
  },
  "language_info": {
   "codemirror_mode": {
    "name": "ipython",
    "version": 3
   },
   "file_extension": ".py",
   "mimetype": "text/x-python",
   "name": "python",
   "nbconvert_exporter": "python",
   "pygments_lexer": "ipython3",
   "version": "3.5.2"
  }
 },
 "nbformat": 4,
 "nbformat_minor": 0
}
