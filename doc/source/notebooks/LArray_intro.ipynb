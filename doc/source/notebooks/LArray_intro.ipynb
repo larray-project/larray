{
 "cells": [
  {
   "cell_type": "markdown",
   "metadata": {},
   "source": [
    "# Tutorial"
   ]
  },
  {
   "cell_type": "markdown",
   "metadata": {},
   "source": [
    "This is an introduction to LArray. It is not intended to be a fully comprehensive manual. \n",
    "It is mainly dedicated to help new users to familiarize with it and others to remind essentials.\n",
    "\n",
    "The first step to use the LArray library is to import it:"
   ]
  },
  {
   "cell_type": "code",
   "execution_count": 1,
   "metadata": {
    "collapsed": true
   },
   "outputs": [],
   "source": [
    "from larray import *"
   ]
  },
  {
   "cell_type": "code",
   "execution_count": 2,
   "metadata": {
    "collapsed": false,
    "nbsphinx": "hidden"
   },
   "outputs": [],
   "source": [
    "%matplotlib inline\n",
    "import numpy as np\n",
    "import warnings\n",
    "warnings.filterwarnings('ignore')"
   ]
  },
  {
   "cell_type": "code",
   "execution_count": 3,
   "metadata": {
    "collapsed": true,
    "nbsphinx": "hidden"
   },
   "outputs": [],
   "source": [
    "# To simplify what is printed when an exception is raised\n",
    "class ExCtx(object):\n",
    "    def __enter__(self):\n",
    "        pass\n",
    "    def __exit__(self, e_type, e_value, traceback):\n",
    "        print(e_type, e_value)\n",
    "        return True"
   ]
  },
  {
   "cell_type": "markdown",
   "metadata": {},
   "source": [
    "## Axis creation"
   ]
  },
  {
   "cell_type": "markdown",
   "metadata": {},
   "source": [
    "An axis represents a dimension of an LArray object. It consists of a name and a list of labels.\n",
    "They are several ways to create an axis:"
   ]
  },
  {
   "cell_type": "code",
   "execution_count": 4,
   "metadata": {
    "collapsed": false
   },
   "outputs": [
    {
     "data": {
      "text/plain": [
       "(Axis(3, 'age'),\n",
       " Axis(['M', 'F'], 'sex'),\n",
       " Axis([2007, 2008, 2009], 'time'),\n",
       " Axis(['A01', 'A02', 'A03', 'B01', 'B02', 'B03', 'C01', 'C02', 'C03'], 'other'))"
      ]
     },
     "execution_count": 4,
     "metadata": {},
     "output_type": "execute_result"
    }
   ],
   "source": [
    "# create a wildcard axis \n",
    "age = Axis(3, 'age')\n",
    "# labels given as a list \n",
    "time = Axis([2007, 2008, 2009], 'time')\n",
    "# create an axis using one string\n",
    "sex = Axis('sex=M,F')\n",
    "# labels generated using a special syntax  \n",
    "other = Axis('other=A01..C03')\n",
    "\n",
    "age, sex, time, other"
   ]
  },
  {
   "cell_type": "markdown",
   "metadata": {},
   "source": [
    "## Array creation"
   ]
  },
  {
   "cell_type": "markdown",
   "metadata": {},
   "source": [
    "A LArray object represents a multidimensional array with labeled axes. "
   ]
  },
  {
   "cell_type": "markdown",
   "metadata": {},
   "source": [
    "### From scratch"
   ]
  },
  {
   "cell_type": "markdown",
   "metadata": {},
   "source": [
    "To create an array from scratch, you need to provide the data and a list of axes. \n",
    "Optionally, a title can be defined."
   ]
  },
  {
   "cell_type": "code",
   "execution_count": 5,
   "metadata": {
    "collapsed": false
   },
   "outputs": [
    {
     "data": {
      "text/plain": [
       "age*  sex  time\\other  A01  A02  A03  B01  B02  B03  C01  C02  C03\n",
       "   0    M        2007   43    4   66   33   48   81    9    5   38\n",
       "   0    M        2008   51    3   23   77   54   43   40   22    7\n",
       "   0    M        2009   40   61   38   47   47   39   51   30   48\n",
       "   0    F        2007   35    3   71   72   11   30    1   45   33\n",
       "   0    F        2008    8   24   74    0   35   89   75   41   89\n",
       "   0    F        2009    3   87   44   11   65   85    1   22   18\n",
       "   1    M        2007   23   84   57    2    0    5   58   84   26\n",
       "   1    M        2008   84   53   80   26   77   33   53   18   37\n",
       "   1    M        2009   43   70   42   30   16   71   37    6   25\n",
       "   1    F        2007   26   98   30   39   94   48   71   15   38\n",
       "   1    F        2008    7   61   59   15   72   58   15   82   21\n",
       "   1    F        2009   29   70    5   42   79   87   53    7   41\n",
       "   2    M        2007   59   85   71   86   56   57   66    6   89\n",
       "   2    M        2008   10   20   82   18   47   61   70   84    8\n",
       "   2    M        2009   24   32   78    8   92   92   41   40   24\n",
       "   2    F        2007   16   10   49   61   22   77   73   29   42\n",
       "   2    F        2008   39   45   16   87   27   38   35   98   74\n",
       "   2    F        2009   71   18    8   64   12   36   34   90   80"
      ]
     },
     "execution_count": 5,
     "metadata": {},
     "output_type": "execute_result"
    }
   ],
   "source": [
    "# list of the axes\n",
    "axes = [age, sex, time, other]\n",
    "# data (the shape of data array must match axes lengths)\n",
    "data = np.random.randint(100, size=[len(axis) for axis in axes])\n",
    "# title (optional)\n",
    "title = 'random data'\n",
    "\n",
    "arr = LArray(data, axes, title)\n",
    "arr"
   ]
  },
  {
   "cell_type": "markdown",
   "metadata": {},
   "source": [
    "### Array creation functions"
   ]
  },
  {
   "cell_type": "markdown",
   "metadata": {},
   "source": [
    "Arrays can also be generated in an easier way through creation functions:\n",
    "\n",
    "- **ndrange** : fills an array with increasing numbers\n",
    "- **ndtest**  : same as ndrange but with axes generated automatically (for testing)\n",
    "- **empty**   : creates an array but leaves its allocated memory unchanged (i.e., it contains \"garbage\". Be careful !)\n",
    "- **zeros**   : fills an array with 0 \n",
    "- **ones**    : fills an array with 1\n",
    "- **full**    : fills an array with a given value\n",
    "\n",
    "Except for ndtest, a list of axes must be provided. Axes can be passed in different ways:\n",
    "\n",
    "- as Axis objects \n",
    "- as integers defining the lengths of auto-generated wildcard axes\n",
    "- as a string : 'sex=M,F;time=2007,2008,2009' (name is optional)\n",
    "- as pairs (name, labels)\n",
    "\n",
    "Optionally, the type of data stored by the array can be specified using argument dtype."
   ]
  },
  {
   "cell_type": "code",
   "execution_count": 6,
   "metadata": {
    "collapsed": false
   },
   "outputs": [
    {
     "data": {
      "text/plain": [
       "age  sex\\time  2007  2008  2009\n",
       "  0         M    -1     0     1\n",
       "  0         F     2     3     4\n",
       "  1         M     5     6     7\n",
       "  1         F     8     9    10\n",
       "  2         M    11    12    13\n",
       "  2         F    14    15    16"
      ]
     },
     "execution_count": 6,
     "metadata": {},
     "output_type": "execute_result"
    }
   ],
   "source": [
    "# start defines the starting value of data\n",
    "ndrange(['age=0..2', 'sex=M,F', 'time=2007..2009'], start=-1)"
   ]
  },
  {
   "cell_type": "code",
   "execution_count": 7,
   "metadata": {
    "collapsed": false
   },
   "outputs": [
    {
     "data": {
      "text/plain": [
       "a\\b  b2  b3  b4\n",
       " a2  -1   0   1\n",
       " a3   2   3   4\n",
       " a4   5   6   7"
      ]
     },
     "execution_count": 7,
     "metadata": {},
     "output_type": "execute_result"
    }
   ],
   "source": [
    "# start defines the starting value of data\n",
    "# label_start defines the starting index of labels\n",
    "ndtest((3, 3), start=-1, label_start=2)"
   ]
  },
  {
   "cell_type": "code",
   "execution_count": 8,
   "metadata": {
    "collapsed": false
   },
   "outputs": [
    {
     "data": {
      "text/plain": [
       "age  sex\\time                     2007                     2008                    2009\n",
       "  0         M   2.439987165725474e-152  2.3146174050789592e-152  9.311152243558189e+242\n",
       "  0         F   1.175673664932327e+214   1.414807375125991e+161  8.026288117339919e+165\n",
       "  1         M   8.422441897317246e+252   7.492295173108775e+247  2.875046757826351e+161\n",
       "  1         F   7.266079505816696e+223   6.901354338413896e+212  5.944007193326606e+175\n",
       "  2         M    8.968625263359706e-96   2.875046278102646e+161  6.805616589504441e+212\n",
       "  2         F  2.8751819670889737e+161  2.6462421788901364e-260    8.8289367109041e+199"
      ]
     },
     "execution_count": 8,
     "metadata": {},
     "output_type": "execute_result"
    }
   ],
   "source": [
    "# empty generates uninitialised array with correct axes (much faster but use with care!).\n",
    "# This not really random either, it just reuses a portion of memory that is available, with whatever content is there. \n",
    "# Use it only if performance matters and make sure all data will be overridden. \n",
    "empty(['age=0..2', 'sex=M,F', 'time=2007..2009'])"
   ]
  },
  {
   "cell_type": "code",
   "execution_count": 9,
   "metadata": {
    "collapsed": false
   },
   "outputs": [
    {
     "data": {
      "text/plain": [
       "{0}  {1}\\{2}  2007  2008  2009\n",
       "  0        M   0.0   0.0   0.0\n",
       "  0        F   0.0   0.0   0.0\n",
       "  1        M   0.0   0.0   0.0\n",
       "  1        F   0.0   0.0   0.0\n",
       "  2        M   0.0   0.0   0.0\n",
       "  2        F   0.0   0.0   0.0"
      ]
     },
     "execution_count": 9,
     "metadata": {},
     "output_type": "execute_result"
    }
   ],
   "source": [
    "# example with anonymous axes\n",
    "zeros(['0..2', 'M,F', '2007..2009'])"
   ]
  },
  {
   "cell_type": "code",
   "execution_count": 10,
   "metadata": {
    "collapsed": false
   },
   "outputs": [
    {
     "data": {
      "text/plain": [
       "age  sex\\time  2007  2008  2009\n",
       "  0         M     1     1     1\n",
       "  0         F     1     1     1\n",
       "  1         M     1     1     1\n",
       "  1         F     1     1     1\n",
       "  2         M     1     1     1\n",
       "  2         F     1     1     1"
      ]
     },
     "execution_count": 10,
     "metadata": {},
     "output_type": "execute_result"
    }
   ],
   "source": [
    "# dtype=int forces to store int data instead of default float\n",
    "ones(['age=0..2', 'sex=M,F', 'time=2007..2009'], dtype=int)"
   ]
  },
  {
   "cell_type": "code",
   "execution_count": 11,
   "metadata": {
    "collapsed": false
   },
   "outputs": [
    {
     "data": {
      "text/plain": [
       "age  sex\\time  2007  2008  2009\n",
       "  0         M  1.23  1.23  1.23\n",
       "  0         F  1.23  1.23  1.23\n",
       "  1         M  1.23  1.23  1.23\n",
       "  1         F  1.23  1.23  1.23\n",
       "  2         M  1.23  1.23  1.23\n",
       "  2         F  1.23  1.23  1.23"
      ]
     },
     "execution_count": 11,
     "metadata": {},
     "output_type": "execute_result"
    }
   ],
   "source": [
    "full(['age=0..2', 'sex=M,F', 'time=2007..2009'], 1.23)"
   ]
  },
  {
   "cell_type": "markdown",
   "metadata": {},
   "source": [
    "All the above function exist in *{func}_like* variants which takes axes from another array"
   ]
  },
  {
   "cell_type": "code",
   "execution_count": 12,
   "metadata": {
    "collapsed": false,
    "scrolled": true
   },
   "outputs": [
    {
     "data": {
      "text/plain": [
       "age*  sex  time\\other  A01  A02  A03  B01  B02  B03  C01  C02  C03\n",
       "   0    M        2007    1    1    1    1    1    1    1    1    1\n",
       "   0    M        2008    1    1    1    1    1    1    1    1    1\n",
       "   0    M        2009    1    1    1    1    1    1    1    1    1\n",
       "   0    F        2007    1    1    1    1    1    1    1    1    1\n",
       "   0    F        2008    1    1    1    1    1    1    1    1    1\n",
       "   0    F        2009    1    1    1    1    1    1    1    1    1\n",
       "   1    M        2007    1    1    1    1    1    1    1    1    1\n",
       "   1    M        2008    1    1    1    1    1    1    1    1    1\n",
       "   1    M        2009    1    1    1    1    1    1    1    1    1\n",
       "   1    F        2007    1    1    1    1    1    1    1    1    1\n",
       "   1    F        2008    1    1    1    1    1    1    1    1    1\n",
       "   1    F        2009    1    1    1    1    1    1    1    1    1\n",
       "   2    M        2007    1    1    1    1    1    1    1    1    1\n",
       "   2    M        2008    1    1    1    1    1    1    1    1    1\n",
       "   2    M        2009    1    1    1    1    1    1    1    1    1\n",
       "   2    F        2007    1    1    1    1    1    1    1    1    1\n",
       "   2    F        2008    1    1    1    1    1    1    1    1    1\n",
       "   2    F        2009    1    1    1    1    1    1    1    1    1"
      ]
     },
     "execution_count": 12,
     "metadata": {},
     "output_type": "execute_result"
    }
   ],
   "source": [
    "ones_like(arr)"
   ]
  },
  {
   "cell_type": "markdown",
   "metadata": {},
   "source": [
    "### Create Sequential"
   ]
  },
  {
   "cell_type": "markdown",
   "metadata": {},
   "source": [
    "The special **create_sequencial** function allows you to create an array from an axis by iteratively applying a function to a given initial value. \n",
    "You can choose between **inc** and **mult** functions or define your own."
   ]
  },
  {
   "cell_type": "code",
   "execution_count": 13,
   "metadata": {
    "collapsed": false
   },
   "outputs": [
    {
     "data": {
      "text/plain": [
       "sex    M    F\n",
       "     1.0  1.5"
      ]
     },
     "execution_count": 13,
     "metadata": {},
     "output_type": "execute_result"
    }
   ],
   "source": [
    "# With initial=1.0 and inc=0.5, we generate the sequence 1.0, 1.5, 2.0, 2.5, 3.0, ... \n",
    "create_sequential('sex=M,F', initial=1.0, inc=0.5)"
   ]
  },
  {
   "cell_type": "code",
   "execution_count": 14,
   "metadata": {
    "collapsed": false
   },
   "outputs": [
    {
     "data": {
      "text/plain": [
       "age    0    1    2\n",
       "     1.0  2.0  4.0"
      ]
     },
     "execution_count": 14,
     "metadata": {},
     "output_type": "execute_result"
    }
   ],
   "source": [
    "# With initial=1.0 and mult=2.0, we generate the sequence 1.0, 2.0, 4.0, 8.0, ... \n",
    "create_sequential('age=0..2', initial=1.0, mult=2.0) "
   ]
  },
  {
   "cell_type": "code",
   "execution_count": 15,
   "metadata": {
    "collapsed": false
   },
   "outputs": [
    {
     "data": {
      "text/plain": [
       "time  2007  2008  2009\n",
       "       2.0   4.0  16.0"
      ]
     },
     "execution_count": 15,
     "metadata": {},
     "output_type": "execute_result"
    }
   ],
   "source": [
    "# Using your own function\n",
    "create_sequential('time=2007..2009', initial=2.0, func=lambda value: value**2)"
   ]
  },
  {
   "cell_type": "markdown",
   "metadata": {},
   "source": [
    "You can also create N-dimensional array by passing (N-1)-dimensional array to initial, inc or mult argument"
   ]
  },
  {
   "cell_type": "code",
   "execution_count": 16,
   "metadata": {
    "collapsed": false
   },
   "outputs": [
    {
     "data": {
      "text/plain": [
       "sex\\time  2007  2008  2009\n",
       "       M   0.0  1.05   2.1\n",
       "       F   0.0  1.15   2.3"
      ]
     },
     "execution_count": 16,
     "metadata": {},
     "output_type": "execute_result"
    }
   ],
   "source": [
    "birth = LArray([1.05, 1.15], 'sex=M,F')\n",
    "cumulate_newborns = create_sequential('time=2007..2009', initial=0.0, inc=birth)\n",
    "cumulate_newborns"
   ]
  },
  {
   "cell_type": "code",
   "execution_count": 17,
   "metadata": {
    "collapsed": false
   },
   "outputs": [
    {
     "data": {
      "text/plain": [
       "sex\\age     80                 81                 82                 83\n",
       "      M   90.0  86.39999999999999  82.94399999999999  79.62623999999998\n",
       "      F  100.0               98.0  96.03999999999999  94.11919999999999"
      ]
     },
     "execution_count": 17,
     "metadata": {},
     "output_type": "execute_result"
    }
   ],
   "source": [
    "initial = LArray([90, 100], 'sex=M,F') \n",
    "survival = LArray([0.96, 0.98], 'sex=M,F')\n",
    "pop = create_sequential('age=80..83', initial=initial, mult=survival)\n",
    "pop"
   ]
  },
  {
   "cell_type": "markdown",
   "metadata": {},
   "source": [
    "## Load/Dump from files"
   ]
  },
  {
   "cell_type": "markdown",
   "metadata": {},
   "source": [
    "### Load from files"
   ]
  },
  {
   "cell_type": "code",
   "execution_count": 18,
   "metadata": {
    "collapsed": false
   },
   "outputs": [],
   "source": [
    "example_dir = EXAMPLE_FILES_DIR"
   ]
  },
  {
   "cell_type": "markdown",
   "metadata": {},
   "source": [
    "Arrays can be loaded from CSV files (see documentation of *read_csv* for more details)"
   ]
  },
  {
   "cell_type": "code",
   "execution_count": 19,
   "metadata": {
    "collapsed": false
   },
   "outputs": [
    {
     "data": {
      "text/plain": [
       "26 x 3 x 7\n",
       " time [26]: 1991 1992 1993 ... 2014 2015 2016\n",
       " geo [3]: 'BruCap' 'Fla' 'Wal'\n",
       " hh_type [7]: 'SING' \"'MAR0\" 'MAR+' ... 'UNM+' 'H1P' 'OTHR'"
      ]
     },
     "execution_count": 19,
     "metadata": {},
     "output_type": "execute_result"
    }
   ],
   "source": [
    "# read_tsv is a shortcut when data are separated by tabs instead of commas (default separator of read_csv)\n",
    "# read_eurostat is a shortcut to read EUROSTAT TSV files  \n",
    "household = read_csv(example_dir + 'hh.csv')\n",
    "household.info"
   ]
  },
  {
   "cell_type": "markdown",
   "metadata": {},
   "source": [
    "or Excel sheets (see documentation of *read_excel* for more details)"
   ]
  },
  {
   "cell_type": "code",
   "execution_count": 20,
   "metadata": {
    "collapsed": false,
    "scrolled": true
   },
   "outputs": [
    {
     "data": {
      "text/plain": [
       "26 x 3 x 121 x 2 x 2\n",
       " time [26]: 1991 1992 1993 ... 2014 2015 2016\n",
       " geo [3]: 'BruCap' 'Fla' 'Wal'\n",
       " age [121]: 0 1 2 ... 118 119 120\n",
       " sex [2]: 'M' 'F'\n",
       " nat [2]: 'BE' 'FO'"
      ]
     },
     "execution_count": 20,
     "metadata": {},
     "output_type": "execute_result"
    }
   ],
   "source": [
    "# loads array from the first sheet if no sheetname is given \n",
    "pop = read_excel(example_dir + 'data.xlsx', 'pop')\n",
    "pop.info"
   ]
  },
  {
   "cell_type": "markdown",
   "metadata": {},
   "source": [
    "or HDF5 files (HDF5 is file format designed to store and organize large amounts of data. An HDF5 file can contain multiple arrays. See documentation of *read_hdf* for more details)"
   ]
  },
  {
   "cell_type": "code",
   "execution_count": 21,
   "metadata": {
    "collapsed": false
   },
   "outputs": [
    {
     "data": {
      "text/plain": [
       "26 x 3 x 121 x 2 x 2\n",
       " time [26]: 1991 1992 1993 ... 2014 2015 2016\n",
       " geo [3]: 'BruCap' 'Fla' 'Wal'\n",
       " age [121]: 0 1 2 ... 118 119 120\n",
       " sex [2]: 'M' 'F'\n",
       " nat [2]: 'BE' 'FO'"
      ]
     },
     "execution_count": 21,
     "metadata": {},
     "output_type": "execute_result"
    }
   ],
   "source": [
    "mortality = read_hdf(example_dir + 'data.h5','qx')\n",
    "mortality.info"
   ]
  },
  {
   "cell_type": "markdown",
   "metadata": {},
   "source": [
    "### Dump in files"
   ]
  },
  {
   "cell_type": "markdown",
   "metadata": {},
   "source": [
    "Arrays can be dumped in CSV files (see documentation of *to_csv* for more details) "
   ]
  },
  {
   "cell_type": "code",
   "execution_count": 22,
   "metadata": {
    "collapsed": true
   },
   "outputs": [],
   "source": [
    "household.to_csv('hh2.csv')"
   ]
  },
  {
   "cell_type": "markdown",
   "metadata": {},
   "source": [
    "or in Excel files (see documentation of *to_excel* for more details)"
   ]
  },
  {
   "cell_type": "code",
   "execution_count": 23,
   "metadata": {
    "collapsed": false
   },
   "outputs": [],
   "source": [
    "# if the file does not already exist, it is created with a single sheet, \n",
    "# otherwise a new sheet is added to it\n",
    "household.to_excel('data2.xlsx', overwrite_file=True)\n",
    "# it is usually better to specify the sheet explicitly (by name or position) though\n",
    "household.to_excel('data2.xlsx', 'hh')"
   ]
  },
  {
   "cell_type": "markdown",
   "metadata": {},
   "source": [
    "or in HDF5 files (see documentation of *to_hdf* for more details)"
   ]
  },
  {
   "cell_type": "code",
   "execution_count": 24,
   "metadata": {
    "collapsed": false
   },
   "outputs": [],
   "source": [
    "household.to_hdf('data2.h5', 'hh')"
   ]
  },
  {
   "cell_type": "markdown",
   "metadata": {},
   "source": [
    "\n",
    "### more Excel IO"
   ]
  },
  {
   "cell_type": "code",
   "execution_count": 25,
   "metadata": {
    "collapsed": false
   },
   "outputs": [
    {
     "data": {
      "text/plain": [
       "age  sex\\time  2007  2008  2009\n",
       "  0         M     0     1     2\n",
       "  0         F     3     4     5\n",
       "  1         M     6     7     8\n",
       "  1         F     9    10    11\n",
       "  2         M    12    13    14\n",
       "  2         F    15    16    17"
      ]
     },
     "execution_count": 25,
     "metadata": {},
     "output_type": "execute_result"
    }
   ],
   "source": [
    "# create a 3 x 2 x 3 array \n",
    "age, sex, time = Axis('age=0..2'), Axis('sex=M,F'), Axis('time=2007..2009')\n",
    "arr = ndrange([age, sex, time])\n",
    "arr"
   ]
  },
  {
   "cell_type": "markdown",
   "metadata": {},
   "source": [
    "#### Write Arrays"
   ]
  },
  {
   "cell_type": "markdown",
   "metadata": {},
   "source": [
    "Open an Excel file"
   ]
  },
  {
   "cell_type": "code",
   "execution_count": 26,
   "metadata": {
    "collapsed": false
   },
   "outputs": [],
   "source": [
    "wb = open_excel('test.xlsx', overwrite_file=True)"
   ]
  },
  {
   "cell_type": "markdown",
   "metadata": {},
   "source": [
    "Put an array in an Excel Sheet, **excluding** headers (labels)"
   ]
  },
  {
   "cell_type": "code",
   "execution_count": 27,
   "metadata": {
    "collapsed": false
   },
   "outputs": [],
   "source": [
    "# put arr at A1 in Sheet1, excluding headers (labels)\n",
    "wb['Sheet1'] = arr\n",
    "# same but starting at A9\n",
    "# note that Sheet1 must exist\n",
    "wb['Sheet1']['A9'] = arr"
   ]
  },
  {
   "cell_type": "markdown",
   "metadata": {},
   "source": [
    "Put an array in an Excel Sheet, **including** headers (labels)"
   ]
  },
  {
   "cell_type": "code",
   "execution_count": 28,
   "metadata": {
    "collapsed": true
   },
   "outputs": [],
   "source": [
    "# dump arr at A1 in Sheet2, including headers (labels)\n",
    "wb['Sheet2'] = arr.dump()\n",
    "# same but starting at A10\n",
    "wb['Sheet2']['A10'] = arr.dump()"
   ]
  },
  {
   "cell_type": "markdown",
   "metadata": {},
   "source": [
    "Save file to disk"
   ]
  },
  {
   "cell_type": "code",
   "execution_count": 29,
   "metadata": {
    "collapsed": true
   },
   "outputs": [],
   "source": [
    "wb.save()"
   ]
  },
  {
   "cell_type": "markdown",
   "metadata": {},
   "source": [
    "Close file"
   ]
  },
  {
   "cell_type": "code",
   "execution_count": 30,
   "metadata": {
    "collapsed": true
   },
   "outputs": [],
   "source": [
    "wb.close()"
   ]
  },
  {
   "cell_type": "markdown",
   "metadata": {},
   "source": [
    "#### Read Arrays"
   ]
  },
  {
   "cell_type": "markdown",
   "metadata": {},
   "source": [
    "Open an Excel file"
   ]
  },
  {
   "cell_type": "code",
   "execution_count": 31,
   "metadata": {
    "collapsed": false
   },
   "outputs": [],
   "source": [
    "wb = open_excel('test.xlsx')"
   ]
  },
  {
   "cell_type": "markdown",
   "metadata": {},
   "source": [
    "Load an array from a sheet (assuming the presence of (correctly formatted) headers and only one array in sheet)"
   ]
  },
  {
   "cell_type": "code",
   "execution_count": 32,
   "metadata": {
    "collapsed": false
   },
   "outputs": [
    {
     "data": {
      "text/plain": [
       "age  sex\\time  2007  2008  2009\n",
       "  0         M     0     1     2\n",
       "  0         F     3     4     5\n",
       "  1         M     6     7     8\n",
       "  1         F     9    10    11\n",
       "  2         M    12    13    14\n",
       "  2         F    15    16    17"
      ]
     },
     "execution_count": 32,
     "metadata": {},
     "output_type": "execute_result"
    }
   ],
   "source": [
    "# save one array in Sheet3 (including headers)\n",
    "wb['Sheet3'] = arr.dump()\n",
    "\n",
    "# load array from the data starting at A1 in Sheet3\n",
    "arr = wb['Sheet3'].load()\n",
    "arr"
   ]
  },
  {
   "cell_type": "markdown",
   "metadata": {},
   "source": [
    "Load an array with its axes information from a range"
   ]
  },
  {
   "cell_type": "code",
   "execution_count": 33,
   "metadata": {
    "collapsed": false
   },
   "outputs": [
    {
     "data": {
      "text/plain": [
       "age  sex\\time  2007  2008\n",
       "  0         M     0     1\n",
       "  0         F     3     4\n",
       "  1         M     6     7\n",
       "  1         F     9    10"
      ]
     },
     "execution_count": 33,
     "metadata": {},
     "output_type": "execute_result"
    }
   ],
   "source": [
    "# if you need to use the same sheet several times,\n",
    "# you can create a sheet variable \n",
    "sheet2 = wb['Sheet2']\n",
    "\n",
    "# load array contained in the 4 x 4 table defined by cells A10 and D14\n",
    "arr2 = sheet2['A10:D14'].load()\n",
    "arr2"
   ]
  },
  {
   "cell_type": "markdown",
   "metadata": {},
   "source": [
    "#### Read Ranges (experimental)"
   ]
  },
  {
   "cell_type": "markdown",
   "metadata": {},
   "source": [
    "Load an array (raw data) with no axis information from a range"
   ]
  },
  {
   "cell_type": "code",
   "execution_count": 34,
   "metadata": {
    "collapsed": false
   },
   "outputs": [
    {
     "data": {
      "text/plain": [
       "{0}*\\{1}*    0     1\n",
       "        0  0.0   1.0\n",
       "        1  3.0   4.0\n",
       "        2  6.0   7.0\n",
       "        3  9.0  10.0"
      ]
     },
     "execution_count": 34,
     "metadata": {},
     "output_type": "execute_result"
    }
   ],
   "source": [
    "arr3 = wb['Sheet1']['A1:B4']\n",
    "arr3"
   ]
  },
  {
   "cell_type": "markdown",
   "metadata": {},
   "source": [
    "in fact, this is not really an LArray ..."
   ]
  },
  {
   "cell_type": "code",
   "execution_count": 35,
   "metadata": {
    "collapsed": false
   },
   "outputs": [
    {
     "data": {
      "text/plain": [
       "larray.io.excel.Range"
      ]
     },
     "execution_count": 35,
     "metadata": {},
     "output_type": "execute_result"
    }
   ],
   "source": [
    "type(arr3)"
   ]
  },
  {
   "cell_type": "markdown",
   "metadata": {},
   "source": [
    "... but it can be used as such"
   ]
  },
  {
   "cell_type": "code",
   "execution_count": 36,
   "metadata": {
    "collapsed": false
   },
   "outputs": [
    {
     "data": {
      "text/plain": [
       "{0}*     0     1\n",
       "      18.0  22.0"
      ]
     },
     "execution_count": 36,
     "metadata": {},
     "output_type": "execute_result"
    }
   ],
   "source": [
    "arr3.sum(axis=0)"
   ]
  },
  {
   "cell_type": "markdown",
   "metadata": {},
   "source": [
    "... and it can be used for other stuff, like setting the formula instead of the value:"
   ]
  },
  {
   "cell_type": "code",
   "execution_count": 37,
   "metadata": {
    "collapsed": true
   },
   "outputs": [],
   "source": [
    "arr3.formula = '=D10+1'"
   ]
  },
  {
   "cell_type": "markdown",
   "metadata": {
    "collapsed": false
   },
   "source": [
    "In the future, we should also be able to set font name, size, style, etc."
   ]
  },
  {
   "cell_type": "code",
   "execution_count": 38,
   "metadata": {
    "collapsed": true
   },
   "outputs": [],
   "source": [
    "wb.close()"
   ]
  },
  {
   "cell_type": "markdown",
   "metadata": {},
   "source": [
    "## Inspecting"
   ]
  },
  {
   "cell_type": "code",
   "execution_count": 39,
   "metadata": {
    "collapsed": false,
    "nbsphinx": "hidden"
   },
   "outputs": [],
   "source": [
    "# load population array\n",
    "pop = load_example_data('demography').pop"
   ]
  },
  {
   "cell_type": "markdown",
   "metadata": {},
   "source": [
    "Get array summary : dimensions + description of axes "
   ]
  },
  {
   "cell_type": "code",
   "execution_count": 40,
   "metadata": {
    "collapsed": false
   },
   "outputs": [
    {
     "data": {
      "text/plain": [
       "26 x 3 x 121 x 2 x 2\n",
       " time [26]: 1991 1992 1993 ... 2014 2015 2016\n",
       " geo [3]: 'BruCap' 'Fla' 'Wal'\n",
       " age [121]: 0 1 2 ... 118 119 120\n",
       " sex [2]: 'M' 'F'\n",
       " nat [2]: 'BE' 'FO'"
      ]
     },
     "execution_count": 40,
     "metadata": {},
     "output_type": "execute_result"
    }
   ],
   "source": [
    "pop.info"
   ]
  },
  {
   "cell_type": "markdown",
   "metadata": {},
   "source": [
    "Get axes"
   ]
  },
  {
   "cell_type": "code",
   "execution_count": 41,
   "metadata": {
    "collapsed": false
   },
   "outputs": [],
   "source": [
    "time, geo, age, sex, nat = pop.axes"
   ]
  },
  {
   "cell_type": "markdown",
   "metadata": {},
   "source": [
    "Get array dimensions"
   ]
  },
  {
   "cell_type": "code",
   "execution_count": 42,
   "metadata": {
    "collapsed": false
   },
   "outputs": [
    {
     "data": {
      "text/plain": [
       "(26, 3, 121, 2, 2)"
      ]
     },
     "execution_count": 42,
     "metadata": {},
     "output_type": "execute_result"
    }
   ],
   "source": [
    "pop.shape"
   ]
  },
  {
   "cell_type": "markdown",
   "metadata": {},
   "source": [
    "Get number of elements"
   ]
  },
  {
   "cell_type": "code",
   "execution_count": 43,
   "metadata": {
    "collapsed": false
   },
   "outputs": [
    {
     "data": {
      "text/plain": [
       "37752"
      ]
     },
     "execution_count": 43,
     "metadata": {},
     "output_type": "execute_result"
    }
   ],
   "source": [
    "pop.size"
   ]
  },
  {
   "cell_type": "markdown",
   "metadata": {},
   "source": [
    "Get size in memory"
   ]
  },
  {
   "cell_type": "code",
   "execution_count": 44,
   "metadata": {
    "collapsed": false
   },
   "outputs": [
    {
     "data": {
      "text/plain": [
       "302016"
      ]
     },
     "execution_count": 44,
     "metadata": {},
     "output_type": "execute_result"
    }
   ],
   "source": [
    "pop.nbytes"
   ]
  },
  {
   "cell_type": "markdown",
   "metadata": {},
   "source": [
    "Start viewer (graphical user interface) in read-only mode. \n",
    "This will open a new window and block execution of the rest of code until the windows is closed!\n",
    "Required PyQt installed."
   ]
  },
  {
   "cell_type": "code",
   "execution_count": 45,
   "metadata": {
    "collapsed": false
   },
   "outputs": [],
   "source": [
    "view(pop)"
   ]
  },
  {
   "cell_type": "markdown",
   "metadata": {},
   "source": [
    "Load array in an Excel sheet"
   ]
  },
  {
   "cell_type": "code",
   "execution_count": 46,
   "metadata": {
    "collapsed": false
   },
   "outputs": [],
   "source": [
    "pop.to_excel()"
   ]
  },
  {
   "cell_type": "markdown",
   "metadata": {},
   "source": [
    "## Selection (Subsets)"
   ]
  },
  {
   "cell_type": "markdown",
   "metadata": {},
   "source": [
    "LArray allows to select a subset of an array either by labels or positions"
   ]
  },
  {
   "cell_type": "markdown",
   "metadata": {},
   "source": [
    "### Selection by Labels"
   ]
  },
  {
   "cell_type": "markdown",
   "metadata": {},
   "source": [
    "To take a subset of an array using labels, use brackets [ ]. Let's start by selecting a single element: "
   ]
  },
  {
   "cell_type": "code",
   "execution_count": 47,
   "metadata": {
    "collapsed": false
   },
   "outputs": [
    {
     "data": {
      "text/plain": [
       "4813"
      ]
     },
     "execution_count": 47,
     "metadata": {},
     "output_type": "execute_result"
    }
   ],
   "source": [
    "# here we select the value associated with Belgian women of age 50 from Brussels region for the year 2015\n",
    "pop[2015, 'BruCap', 50, 'F', 'BE']"
   ]
  },
  {
   "cell_type": "markdown",
   "metadata": {},
   "source": [
    "Continue with selecting a subset using slices and lists of labels"
   ]
  },
  {
   "cell_type": "code",
   "execution_count": 48,
   "metadata": {
    "collapsed": false
   },
   "outputs": [
    {
     "data": {
      "text/plain": [
       "time\\age    50    51    52\n",
       "    2010  4869  4811  4699\n",
       "    2011  5015  4860  4792\n",
       "    2012  4722  5014  4818\n",
       "    2013  4711  4727  5007\n",
       "    2014  4788  4702  4730\n",
       "    2015  4813  4767  4676\n",
       "    2016  4814  4792  4740"
      ]
     },
     "execution_count": 48,
     "metadata": {},
     "output_type": "execute_result"
    }
   ],
   "source": [
    "# here we select the subset associated with Belgian women of age 50, 51 and 52 \n",
    "# from Brussels region for the years 2010 to 2016\n",
    "pop[2010:2016, 'BruCap', 50:52, 'F', 'BE']"
   ]
  },
  {
   "cell_type": "code",
   "execution_count": 49,
   "metadata": {
    "collapsed": false
   },
   "outputs": [
    {
     "data": {
      "text/plain": [
       "time\\age    50    51    52\n",
       "    2010  4869  4811  4699\n",
       "    2011  5015  4860  4792\n",
       "    2012  4722  5014  4818\n",
       "    2013  4711  4727  5007\n",
       "    2014  4788  4702  4730\n",
       "    2015  4813  4767  4676\n",
       "    2016  4814  4792  4740"
      ]
     },
     "execution_count": 49,
     "metadata": {},
     "output_type": "execute_result"
    }
   ],
   "source": [
    "# slices bounds are optional: \n",
    "# if not given start is assumed to be the first label and stop is the last one.\n",
    "# Here we select all years starting from 2010\n",
    "pop[2010:, 'BruCap', 50:52, 'F', 'BE']"
   ]
  },
  {
   "cell_type": "code",
   "execution_count": 50,
   "metadata": {
    "collapsed": false
   },
   "outputs": [
    {
     "data": {
      "text/plain": [
       "time\\age    50    51    52\n",
       "    2010  4869  4811  4699\n",
       "    2012  4722  5014  4818\n",
       "    2014  4788  4702  4730\n",
       "    2016  4814  4792  4740"
      ]
     },
     "execution_count": 50,
     "metadata": {},
     "output_type": "execute_result"
    }
   ],
   "source": [
    "# Slices can also have a step (defaults to 1), to take every Nth labels\n",
    "# Here we select all even years starting from 2010\n",
    "pop[2010::2, 'BruCap', 50:52, 'F', 'BE']"
   ]
  },
  {
   "cell_type": "code",
   "execution_count": 51,
   "metadata": {
    "collapsed": false
   },
   "outputs": [
    {
     "data": {
      "text/plain": [
       "time\\age    50    51    52\n",
       "    2008  4731  4735  4724\n",
       "    2010  4869  4811  4699\n",
       "    2013  4711  4727  5007\n",
       "    2015  4813  4767  4676"
      ]
     },
     "execution_count": 51,
     "metadata": {},
     "output_type": "execute_result"
    }
   ],
   "source": [
    "# one can also use list of labels to take non-contiguous labels.\n",
    "# Here we select years 2008, 2010, 2013 and 2015\n",
    "pop[[2008, 2010, 2013, 2015], 'BruCap', 50:52, 'F', 'BE']"
   ]
  },
  {
   "cell_type": "markdown",
   "metadata": {},
   "source": [
    "The order of indexing does not matter either, so you usually do not care/have to remember about axes positions during computation. \n",
    "It only matters for output."
   ]
  },
  {
   "cell_type": "code",
   "execution_count": 52,
   "metadata": {
    "collapsed": false,
    "scrolled": true
   },
   "outputs": [
    {
     "data": {
      "text/plain": [
       "time\\age    50    51    52\n",
       "    2008  4731  4735  4724\n",
       "    2010  4869  4811  4699\n",
       "    2013  4711  4727  5007\n",
       "    2015  4813  4767  4676"
      ]
     },
     "execution_count": 52,
     "metadata": {},
     "output_type": "execute_result"
    }
   ],
   "source": [
    "# order of index doesn't matter\n",
    "pop['F', 'BE', 'BruCap', [2008, 2010, 2013, 2015], 50:52]"
   ]
  },
  {
   "cell_type": "markdown",
   "metadata": {},
   "source": [
    "<div class=\"alert alert-warning\">\n",
    "\n",
    "**Warning:** Selecting by labels as above works well as long as there is no ambiguity. \n",
    "When two or more axes have common labels, it may lead to a crash. \n",
    "Don't panic! The solution is then to precise to which axis belong the labels.  \n",
    "\n",
    "</div>"
   ]
  },
  {
   "cell_type": "code",
   "execution_count": 53,
   "metadata": {
    "collapsed": false,
    "raw_mimetype": "text/restructuredtext"
   },
   "outputs": [
    {
     "name": "stdout",
     "output_type": "stream",
     "text": [
      "<class 'ValueError'> slice(10, 18, None) is ambiguous (valid in age, weight, size)\n"
     ]
    }
   ],
   "source": [
    "# let us now create an array with the same labels on several axes\n",
    "age, weight, size = Axis('age=0..80'), Axis('weight=0..120'), Axis('size=0..200')\n",
    "arr_ws = ndrange([age, weight, size])\n",
    "\n",
    "# let's try to select teenagers with size between 1 m 60 and 1 m 65 and weight > 80 kg.\n",
    "# In this case the subset is ambiguous and this results in an error:\n",
    "with ExCtx():\n",
    "    arr_ws[10:18, :80, 160:165]"
   ]
  },
  {
   "cell_type": "code",
   "execution_count": 54,
   "metadata": {
    "collapsed": false
   },
   "outputs": [
    {
     "data": {
      "text/plain": [
       "age  weight\\size     160     161     162     163     164     165\n",
       " 10            0  243370  243371  243372  243373  243374  243375\n",
       " 10            1  243571  243572  243573  243574  243575  243576\n",
       " 10            2  243772  243773  243774  243775  243776  243777\n",
       " 10            3  243973  243974  243975  243976  243977  243978\n",
       " 10            4  244174  244175  244176  244177  244178  244179\n",
       "...          ...     ...     ...     ...     ...     ...     ...\n",
       " 18           76  453214  453215  453216  453217  453218  453219\n",
       " 18           77  453415  453416  453417  453418  453419  453420\n",
       " 18           78  453616  453617  453618  453619  453620  453621\n",
       " 18           79  453817  453818  453819  453820  453821  453822\n",
       " 18           80  454018  454019  454020  454021  454022  454023"
      ]
     },
     "execution_count": 54,
     "metadata": {},
     "output_type": "execute_result"
    }
   ],
   "source": [
    "# the solution is simple. You need to precise the axes on which you make a selection\n",
    "arr_ws[age[10:18], weight[:80], size[160:165]]"
   ]
  },
  {
   "cell_type": "markdown",
   "metadata": {},
   "source": [
    "### Speciale variable x"
   ]
  },
  {
   "cell_type": "markdown",
   "metadata": {},
   "source": [
    "When selecting, assiging or using aggregate functions, an axis can be refered via the special variable **x**: \n",
    "\n",
    "- pop[x.age[:20]] \n",
    "- pop.sum(x.age)\n",
    "\n",
    "This gives you acces to axes of the array you are manipulating. The main drawback of using *x* is that you lose the autocompletion available from many editors. It only works with non-wildcard axes. "
   ]
  },
  {
   "cell_type": "code",
   "execution_count": 55,
   "metadata": {
    "collapsed": false,
    "scrolled": true
   },
   "outputs": [
    {
     "data": {
      "text/plain": [
       "age  weight\\size     160     161     162     163     164     165\n",
       " 10            0  243370  243371  243372  243373  243374  243375\n",
       " 10            1  243571  243572  243573  243574  243575  243576\n",
       " 10            2  243772  243773  243774  243775  243776  243777\n",
       " 10            3  243973  243974  243975  243976  243977  243978\n",
       " 10            4  244174  244175  244176  244177  244178  244179\n",
       "...          ...     ...     ...     ...     ...     ...     ...\n",
       " 18           76  453214  453215  453216  453217  453218  453219\n",
       " 18           77  453415  453416  453417  453418  453419  453420\n",
       " 18           78  453616  453617  453618  453619  453620  453621\n",
       " 18           79  453817  453818  453819  453820  453821  453822\n",
       " 18           80  454018  454019  454020  454021  454022  454023"
      ]
     },
     "execution_count": 55,
     "metadata": {},
     "output_type": "execute_result"
    }
   ],
   "source": [
    "# the previous example could have been also written as  \n",
    "arr_ws[x.age[10:18], x.weight[:80], x.size[160:165]]"
   ]
  },
  {
   "cell_type": "markdown",
   "metadata": {},
   "source": [
    "### Selection by Positions"
   ]
  },
  {
   "cell_type": "markdown",
   "metadata": {},
   "source": [
    "Sometimes it is more practical to use positions along the axis, instead of labels. You need to add the character **i** before the brackets: *.i[positions]*. As for selection with labels, you can use single position or slice or list of positions. Positions can be also negative (-1 represent the last element of an axis)."
   ]
  },
  {
   "cell_type": "markdown",
   "metadata": {},
   "source": [
    "<div class=\"alert alert-info\">\n",
    "\n",
    "**Note**: Remember that positions (indices) are always **0-based** in Python. So the first element is at position 0, the second is at position 1, etc.\n",
    "\n",
    "</div>"
   ]
  },
  {
   "cell_type": "code",
   "execution_count": 56,
   "metadata": {
    "collapsed": false
   },
   "outputs": [
    {
     "data": {
      "text/plain": [
       "time\\age    50    51    52\n",
       "    1991  3739  4138  4101\n",
       "    1992  3373  3665  4088\n",
       "    1993  3648  3335  3615"
      ]
     },
     "execution_count": 56,
     "metadata": {},
     "output_type": "execute_result"
    }
   ],
   "source": [
    "# here we select the subset associated with Belgian women of age 50, 51 and 52 \n",
    "# from Brussels region for the first 3 years\n",
    "pop[x.time.i[:3], 'BruCap', 50:52, 'F', 'BE']"
   ]
  },
  {
   "cell_type": "code",
   "execution_count": 57,
   "metadata": {
    "collapsed": false
   },
   "outputs": [
    {
     "data": {
      "text/plain": [
       "time\\age    50    51    52\n",
       "    2014  4788  4702  4730\n",
       "    2015  4813  4767  4676\n",
       "    2016  4814  4792  4740"
      ]
     },
     "execution_count": 57,
     "metadata": {},
     "output_type": "execute_result"
    }
   ],
   "source": [
    "# same but for the last 3 years\n",
    "pop[x.time.i[-3:], 'BruCap', 50:52, 'F', 'BE']"
   ]
  },
  {
   "cell_type": "code",
   "execution_count": 58,
   "metadata": {
    "collapsed": false
   },
   "outputs": [
    {
     "data": {
      "text/plain": [
       "time\\age    50    51    52\n",
       "    2008  4731  4735  4724\n",
       "    2010  4869  4811  4699\n",
       "    2013  4711  4727  5007\n",
       "    2015  4813  4767  4676"
      ]
     },
     "execution_count": 58,
     "metadata": {},
     "output_type": "execute_result"
    }
   ],
   "source": [
    "# using list of positions\n",
    "pop[x.time.i[-9,-7,-4,-2], 'BruCap', 50:52, 'F', 'BE']"
   ]
  },
  {
   "cell_type": "markdown",
   "metadata": {},
   "source": [
    "<div class=\"alert alert-warning\">\n",
    "\n",
    "**Warning**: The end *indice* (position) is EXCLUSIVE while the end label is INCLUSIVE.\n",
    "\n",
    "</div>"
   ]
  },
  {
   "cell_type": "code",
   "execution_count": 59,
   "metadata": {
    "collapsed": false
   },
   "outputs": [
    {
     "data": {
      "text/plain": [
       "age     0     1     2     3\n",
       "     6020  5882  6023  5861"
      ]
     },
     "execution_count": 59,
     "metadata": {},
     "output_type": "execute_result"
    }
   ],
   "source": [
    "# with labels (3 is included)\n",
    "pop[2015, 'BruCap', x.age[:3], 'F', 'BE']"
   ]
  },
  {
   "cell_type": "code",
   "execution_count": 60,
   "metadata": {
    "collapsed": false
   },
   "outputs": [
    {
     "data": {
      "text/plain": [
       "age     0     1     2\n",
       "     6020  5882  6023"
      ]
     },
     "execution_count": 60,
     "metadata": {},
     "output_type": "execute_result"
    }
   ],
   "source": [
    "# with position (3 is out)\n",
    "pop[2015, 'BruCap', x.age.i[:3], 'F', 'BE']"
   ]
  },
  {
   "cell_type": "markdown",
   "metadata": {},
   "source": [
    "You can use *.i[]* selection directly on array instead of axes. In this context, if you want to select a subset of the first and third axes for example, you must use a full slice **:** for the second one. "
   ]
  },
  {
   "cell_type": "code",
   "execution_count": 61,
   "metadata": {
    "collapsed": false
   },
   "outputs": [
    {
     "data": {
      "text/plain": [
       "   geo  age  sex\\nat     BE    FO\n",
       "BruCap    0        M   6155  3104\n",
       "BruCap    0        F   5900  2817\n",
       "BruCap    1        M   6165  3068\n",
       "BruCap    1        F   5916  2946\n",
       "BruCap    2        M   6053  2918\n",
       "BruCap    2        F   5736  2776\n",
       "   Fla    0        M  29993  3717\n",
       "   Fla    0        F  28483  3587\n",
       "   Fla    1        M  31292  3716\n",
       "   Fla    1        F  29721  3575\n",
       "   Fla    2        M  31718  3597\n",
       "   Fla    2        F  30353  3387\n",
       "   Wal    0        M  17869  1472\n",
       "   Wal    0        F  17242  1454\n",
       "   Wal    1        M  18820  1432\n",
       "   Wal    1        F  17604  1443\n",
       "   Wal    2        M  19076  1444\n",
       "   Wal    2        F  18189  1358"
      ]
     },
     "execution_count": 61,
     "metadata": {},
     "output_type": "execute_result"
    }
   ],
   "source": [
    "# here we select the last year and first 3 ages\n",
    "pop.i[-1, :, :3]\n",
    "\n",
    "# which is equivalent to \n",
    "pop.i[-1, :, :3, :, :]"
   ]
  },
  {
   "cell_type": "markdown",
   "metadata": {},
   "source": [
    "### Assigning subsets"
   ]
  },
  {
   "cell_type": "markdown",
   "metadata": {},
   "source": [
    "#### Assigning value"
   ]
  },
  {
   "cell_type": "markdown",
   "metadata": {},
   "source": [
    "Assign a value to a subset"
   ]
  },
  {
   "cell_type": "code",
   "execution_count": 62,
   "metadata": {
    "collapsed": false
   },
   "outputs": [
    {
     "data": {
      "text/plain": [
       "age  sex\\nat  BE  FO\n",
       "100        M  12   0\n",
       "100        F  60   3\n",
       "101        M  12   2\n",
       "101        F  66   5\n",
       "102        M   8   0\n",
       "102        F  26   1\n",
       "103        M   2   1\n",
       "103        F  17   2\n",
       "104        M   2   1\n",
       "104        F  14   0\n",
       "105        M   0   0\n",
       "105        F   2   2"
      ]
     },
     "execution_count": 62,
     "metadata": {},
     "output_type": "execute_result"
    }
   ],
   "source": [
    "# let's take a smaller array\n",
    "pop = load_example_data('demography').pop[2016, 'BruCap', 100:105]\n",
    "pop2 = pop\n",
    "pop2"
   ]
  },
  {
   "cell_type": "code",
   "execution_count": 63,
   "metadata": {
    "collapsed": false
   },
   "outputs": [
    {
     "data": {
      "text/plain": [
       "age  sex\\nat  BE  FO\n",
       "100        M  12   0\n",
       "100        F  60   3\n",
       "101        M  12   2\n",
       "101        F  66   5\n",
       "102        M   0   0\n",
       "102        F   0   0\n",
       "103        M   0   0\n",
       "103        F   0   0\n",
       "104        M   0   0\n",
       "104        F   0   0\n",
       "105        M   0   0\n",
       "105        F   0   0"
      ]
     },
     "execution_count": 63,
     "metadata": {},
     "output_type": "execute_result"
    }
   ],
   "source": [
    "# set all data corresponding to age >= 102 to 0\n",
    "pop2[102:] = 0\n",
    "pop2"
   ]
  },
  {
   "cell_type": "markdown",
   "metadata": {},
   "source": [
    "One very important gotcha though...\n",
    "\n",
    "<div class=\"alert alert-warning\">\n",
    "\n",
    "**WARNING**: Modifying a slice of an array in-place like we did above should be done with care otherwise you could have **unexpected effects**. The reason is that taking a **slice** subset of an array does not return a copy of that array, but rather a view on that array. To avoid such behavior, use **.copy()** method.\n",
    "\n",
    "</div>\n",
    "\n",
    "Remember: \n",
    "\n",
    "- taking a slice subset of an array is extremely fast (no data is copied)\n",
    "- if one modifies that subset in-place, one also **modifies the original array**\n",
    "- **.copy()** returns a copy of the subset (takes speed and memory) but allows you to change the subset without modifying the original array in the same time"
   ]
  },
  {
   "cell_type": "code",
   "execution_count": 64,
   "metadata": {
    "collapsed": false
   },
   "outputs": [
    {
     "data": {
      "text/plain": [
       "age  sex\\nat  BE  FO\n",
       "100        M  12   0\n",
       "100        F  60   3\n",
       "101        M  12   2\n",
       "101        F  66   5\n",
       "102        M   0   0\n",
       "102        F   0   0\n",
       "103        M   0   0\n",
       "103        F   0   0\n",
       "104        M   0   0\n",
       "104        F   0   0\n",
       "105        M   0   0\n",
       "105        F   0   0"
      ]
     },
     "execution_count": 64,
     "metadata": {},
     "output_type": "execute_result"
    }
   ],
   "source": [
    "# indeed, data from the original array have also changed\n",
    "pop"
   ]
  },
  {
   "cell_type": "code",
   "execution_count": 65,
   "metadata": {
    "collapsed": false
   },
   "outputs": [
    {
     "data": {
      "text/plain": [
       "age  sex\\nat  BE  FO\n",
       "100        M  12   0\n",
       "100        F  60   3\n",
       "101        M  12   2\n",
       "101        F  66   5\n",
       "102        M   0   0\n",
       "102        F   0   0\n",
       "103        M   0   0\n",
       "103        F   0   0\n",
       "104        M   0   0\n",
       "104        F   0   0\n",
       "105        M   0   0\n",
       "105        F   0   0"
      ]
     },
     "execution_count": 65,
     "metadata": {},
     "output_type": "execute_result"
    }
   ],
   "source": [
    "# the right way\n",
    "pop = load_example_data('demography').pop[2016, 'BruCap', 100:105]\n",
    "\n",
    "pop2 = pop.copy()\n",
    "pop2[102:] = 0\n",
    "pop2"
   ]
  },
  {
   "cell_type": "code",
   "execution_count": 66,
   "metadata": {
    "collapsed": false
   },
   "outputs": [
    {
     "data": {
      "text/plain": [
       "age  sex\\nat  BE  FO\n",
       "100        M  12   0\n",
       "100        F  60   3\n",
       "101        M  12   2\n",
       "101        F  66   5\n",
       "102        M   8   0\n",
       "102        F  26   1\n",
       "103        M   2   1\n",
       "103        F  17   2\n",
       "104        M   2   1\n",
       "104        F  14   0\n",
       "105        M   0   0\n",
       "105        F   2   2"
      ]
     },
     "execution_count": 66,
     "metadata": {},
     "output_type": "execute_result"
    }
   ],
   "source": [
    "# now, data from the original array have not changed this time\n",
    "pop"
   ]
  },
  {
   "cell_type": "markdown",
   "metadata": {},
   "source": [
    "#### Assigning Arrays & Broadcasting"
   ]
  },
  {
   "cell_type": "markdown",
   "metadata": {
    "collapsed": true
   },
   "source": [
    "Instead of a value, we can also assign an array to a subset. In that case, that array can have less axes than the target but those which are present must be compatible with the subset being targetted."
   ]
  },
  {
   "cell_type": "code",
   "execution_count": 67,
   "metadata": {
    "collapsed": false
   },
   "outputs": [
    {
     "data": {
      "text/plain": [
       "sex\\nat  BE  FO\n",
       "      M   1  -1\n",
       "      F   2  -2"
      ]
     },
     "execution_count": 67,
     "metadata": {},
     "output_type": "execute_result"
    }
   ],
   "source": [
    "sex, nat = Axis('sex=M,F'), Axis('nat=BE,FO')\n",
    "new_value = LArray([[1, -1], [2, -2]],[sex, nat])\n",
    "new_value"
   ]
  },
  {
   "cell_type": "code",
   "execution_count": 68,
   "metadata": {
    "collapsed": false
   },
   "outputs": [
    {
     "data": {
      "text/plain": [
       "age  sex\\nat  BE  FO\n",
       "100        M  12   0\n",
       "100        F  60   3\n",
       "101        M  12   2\n",
       "101        F  66   5\n",
       "102        M   1  -1\n",
       "102        F   2  -2\n",
       "103        M   1  -1\n",
       "103        F   2  -2\n",
       "104        M   1  -1\n",
       "104        F   2  -2\n",
       "105        M   1  -1\n",
       "105        F   2  -2"
      ]
     },
     "execution_count": 68,
     "metadata": {},
     "output_type": "execute_result"
    }
   ],
   "source": [
    "# this assigns 1, -1 to Belgian, Foreigner men \n",
    "# and 2, -2 to Belgian, Foreigner women for all \n",
    "# people older than 100\n",
    "pop[102:] = new_value\n",
    "pop"
   ]
  },
  {
   "cell_type": "markdown",
   "metadata": {},
   "source": [
    "<div class=\"alert alert-warning\">\n",
    "\n",
    "**Warning**: The array being assigned must have compatible axes with the target subset\n",
    "\n",
    "</div>"
   ]
  },
  {
   "cell_type": "code",
   "execution_count": 69,
   "metadata": {
    "collapsed": false
   },
   "outputs": [
    {
     "data": {
      "text/plain": [
       "age  sex\\nat   BE   FO\n",
       "  0        M  0.0  0.0\n",
       "  0        F  0.0  0.0\n",
       "  1        M  0.0  0.0\n",
       "  1        F  0.0  0.0\n",
       "  2        M  0.0  0.0\n",
       "  2        F  0.0  0.0"
      ]
     },
     "execution_count": 69,
     "metadata": {},
     "output_type": "execute_result"
    }
   ],
   "source": [
    "# assume we define the following array with shape 3 x 2 x 2\n",
    "new_value = zeros(['age=0..2', sex, nat]) \n",
    "new_value"
   ]
  },
  {
   "cell_type": "code",
   "execution_count": 70,
   "metadata": {
    "collapsed": false
   },
   "outputs": [
    {
     "name": "stdout",
     "output_type": "stream",
     "text": [
      "<class 'ValueError'> could not broadcast input array from shape (3,2,2) into shape (4,2,2)\n"
     ]
    }
   ],
   "source": [
    "# now let's try to assign the previous array in a subset with shape 7 x 2 x 2\n",
    "with ExCtx():\n",
    "    pop[102:] = new_value"
   ]
  },
  {
   "cell_type": "code",
   "execution_count": 71,
   "metadata": {
    "collapsed": false
   },
   "outputs": [
    {
     "data": {
      "text/plain": [
       "age  sex\\nat  BE  FO\n",
       "100        M  12   0\n",
       "100        F  60   3\n",
       "101        M  12   2\n",
       "101        F  66   5\n",
       "102        M   0   0\n",
       "102        F   0   0\n",
       "103        M   0   0\n",
       "103        F   0   0\n",
       "104        M   0   0\n",
       "104        F   0   0\n",
       "105        M   1  -1\n",
       "105        F   2  -2"
      ]
     },
     "execution_count": 71,
     "metadata": {},
     "output_type": "execute_result"
    }
   ],
   "source": [
    "# but this works\n",
    "pop[102:104] = new_value\n",
    "pop"
   ]
  },
  {
   "cell_type": "markdown",
   "metadata": {},
   "source": [
    "### Boolean filtering"
   ]
  },
  {
   "cell_type": "markdown",
   "metadata": {},
   "source": [
    "Boolean filtering can be use to extract subsets."
   ]
  },
  {
   "cell_type": "code",
   "execution_count": 72,
   "metadata": {
    "collapsed": false
   },
   "outputs": [
    {
     "data": {
      "text/plain": [
       "age,sex\\nat    BE    FO\n",
       "        0,F  5900  2817\n",
       "        1,F  5916  2946\n",
       "        2,F  5736  2776\n",
       "        3,F  5883  2734\n",
       "        4,F  5784  2523\n",
       "        5,F  5780  2521\n",
       "        6,F  5759  2290\n",
       "        7,F  5518  2234\n",
       "        8,F  5474  2066\n",
       "        9,F  5354  1896\n",
       "       10,F  5200  1785"
      ]
     },
     "execution_count": 72,
     "metadata": {},
     "output_type": "execute_result"
    }
   ],
   "source": [
    "#Let's focus on population living in Brussels during the year 2016\n",
    "pop = load_example_data('demography').pop[2016, 'BruCap']\n",
    "\n",
    "# here we select all males and females with age less than 5 and 10 respectively\n",
    "subset = pop[((x.sex == 'H') & (x.age <= 5)) | ((x.sex == 'F') & (x.age <= 10))]\n",
    "subset"
   ]
  },
  {
   "cell_type": "markdown",
   "metadata": {},
   "source": [
    "<div class=\"alert alert-info\">\n",
    "\n",
    "**Note**: Be aware that after boolean filtering, several axes may have merged. \n",
    "\n",
    "</div>"
   ]
  },
  {
   "cell_type": "code",
   "execution_count": 73,
   "metadata": {
    "collapsed": false
   },
   "outputs": [
    {
     "data": {
      "text/plain": [
       "11 x 2\n",
       " age,sex [11]: '0,F' '1,F' '2,F' ... '8,F' '9,F' '10,F'\n",
       " nat [2]: 'BE' 'FO'"
      ]
     },
     "execution_count": 73,
     "metadata": {},
     "output_type": "execute_result"
    }
   ],
   "source": [
    "# 'age' and 'sex' axes have been merged together\n",
    "subset.info"
   ]
  },
  {
   "cell_type": "markdown",
   "metadata": {},
   "source": [
    "This may be not what you because previous selections on merged axes are no longer valid "
   ]
  },
  {
   "cell_type": "code",
   "execution_count": 74,
   "metadata": {
    "collapsed": false
   },
   "outputs": [
    {
     "name": "stdout",
     "output_type": "stream",
     "text": [
      "<class 'ValueError'> F is not a valid label for any axis\n"
     ]
    }
   ],
   "source": [
    "# now let's try to calculate the proportion of females with age less than 10\n",
    "with ExCtx():\n",
    "    subset['F'].sum() / pop['F'].sum()"
   ]
  },
  {
   "cell_type": "markdown",
   "metadata": {},
   "source": [
    "Therefore, it is sometimes more useful to not select, but rather set to 0 (or another value) non matching elements"
   ]
  },
  {
   "cell_type": "code",
   "execution_count": 75,
   "metadata": {
    "collapsed": false
   },
   "outputs": [
    {
     "data": {
      "text/plain": [
       "age\\nat    BE    FO\n",
       "      0  5900  2817\n",
       "      1  5916  2946\n",
       "      2  5736  2776\n",
       "      3  5883  2734\n",
       "      4  5784  2523\n",
       "      5  5780  2521\n",
       "      6  5759  2290\n",
       "      7  5518  2234\n",
       "      8  5474  2066\n",
       "      9  5354  1896\n",
       "     10  5200  1785\n",
       "     11     0     0\n",
       "     12     0     0\n",
       "     13     0     0\n",
       "     14     0     0\n",
       "     15     0     0\n",
       "     16     0     0\n",
       "     17     0     0\n",
       "     18     0     0\n",
       "     19     0     0\n",
       "     20     0     0"
      ]
     },
     "execution_count": 75,
     "metadata": {},
     "output_type": "execute_result"
    }
   ],
   "source": [
    "subset = pop.copy()\n",
    "subset[((x.sex == 'F') & (x.age > 10))] = 0\n",
    "subset['F', :20]"
   ]
  },
  {
   "cell_type": "code",
   "execution_count": 76,
   "metadata": {
    "collapsed": false
   },
   "outputs": [
    {
     "data": {
      "text/plain": [
       "0.14618110657051941"
      ]
     },
     "execution_count": 76,
     "metadata": {},
     "output_type": "execute_result"
    }
   ],
   "source": [
    "# now we can calculate the proportion of females with age less than 10\n",
    "subset['F'].sum() / pop['F'].sum()"
   ]
  },
  {
   "cell_type": "markdown",
   "metadata": {},
   "source": [
    "Boolean filtering can also mix axes and arrays. Example above could also have been written as"
   ]
  },
  {
   "cell_type": "code",
   "execution_count": 77,
   "metadata": {
    "collapsed": false
   },
   "outputs": [
    {
     "data": {
      "text/plain": [
       "sex  M   F\n",
       "     5  10"
      ]
     },
     "execution_count": 77,
     "metadata": {},
     "output_type": "execute_result"
    }
   ],
   "source": [
    "age_limit = create_sequential('sex=M,F', initial=5, inc=5)\n",
    "age_limit"
   ]
  },
  {
   "cell_type": "code",
   "execution_count": 78,
   "metadata": {
    "collapsed": false
   },
   "outputs": [
    {
     "data": {
      "text/plain": [
       "age\\sex      M      F\n",
       "      0   True   True\n",
       "      1   True   True\n",
       "      2   True   True\n",
       "      3   True   True\n",
       "      4   True   True\n",
       "      5   True   True\n",
       "      6  False   True\n",
       "      7  False   True\n",
       "      8  False   True\n",
       "      9  False   True\n",
       "     10  False   True\n",
       "     11  False  False\n",
       "     12  False  False\n",
       "     13  False  False\n",
       "     14  False  False\n",
       "     15  False  False\n",
       "     16  False  False\n",
       "     17  False  False\n",
       "     18  False  False\n",
       "     19  False  False\n",
       "     20  False  False"
      ]
     },
     "execution_count": 78,
     "metadata": {},
     "output_type": "execute_result"
    }
   ],
   "source": [
    "age = pop.axes['age']\n",
    "(age <= age_limit)[:20]"
   ]
  },
  {
   "cell_type": "code",
   "execution_count": 79,
   "metadata": {
    "collapsed": false
   },
   "outputs": [
    {
     "data": {
      "text/plain": [
       "0.14618110657051941"
      ]
     },
     "execution_count": 79,
     "metadata": {},
     "output_type": "execute_result"
    }
   ],
   "source": [
    "subset = pop.copy()\n",
    "subset[x.age > age_limit] = 0\n",
    "subset['F'].sum() / pop['F'].sum()"
   ]
  },
  {
   "cell_type": "markdown",
   "metadata": {},
   "source": [
    "Finally, you can choose to filter on data instead of axes"
   ]
  },
  {
   "cell_type": "code",
   "execution_count": 80,
   "metadata": {
    "collapsed": false
   },
   "outputs": [
    {
     "data": {
      "text/plain": [
       "age\\nat    BE   FO\n",
       "     90  1477  136\n",
       "     91  1298  105\n",
       "     92  1141   78\n",
       "     93   906   74\n",
       "     94   739   65\n",
       "     95   566   53\n",
       "     96   327   25\n",
       "     97   171   21\n",
       "     98   135    9\n",
       "     99    92    8\n",
       "    100    60    3\n",
       "    101    66    5\n",
       "    102    26    1\n",
       "    103    17    2\n",
       "    104    14    0\n",
       "    105     2    2\n",
       "    106     3    3\n",
       "    107     1    2\n",
       "    108     1    0\n",
       "    109     0    0\n",
       "    110     0    0"
      ]
     },
     "execution_count": 80,
     "metadata": {},
     "output_type": "execute_result"
    }
   ],
   "source": [
    "# let's focus on females older than 90\n",
    "subset = pop['F', 90:110].copy()\n",
    "subset"
   ]
  },
  {
   "cell_type": "code",
   "execution_count": 81,
   "metadata": {
    "collapsed": false
   },
   "outputs": [
    {
     "data": {
      "text/plain": [
       "age\\nat    BE   FO\n",
       "     90  1477  136\n",
       "     91  1298  105\n",
       "     92  1141   78\n",
       "     93   906   74\n",
       "     94   739   65\n",
       "     95   566   53\n",
       "     96   327   25\n",
       "     97   171   21\n",
       "     98   135    0\n",
       "     99    92    0\n",
       "    100    60    0\n",
       "    101    66    0\n",
       "    102    26    0\n",
       "    103    17    0\n",
       "    104    14    0\n",
       "    105     0    0\n",
       "    106     0    0\n",
       "    107     0    0\n",
       "    108     0    0\n",
       "    109     0    0\n",
       "    110     0    0"
      ]
     },
     "execution_count": 81,
     "metadata": {},
     "output_type": "execute_result"
    }
   ],
   "source": [
    "# here we set to 0 all data < 10\n",
    "subset[subset < 10] = 0\n",
    "subset"
   ]
  },
  {
   "cell_type": "markdown",
   "metadata": {},
   "source": [
    "## Manipulates axes from arrays"
   ]
  },
  {
   "cell_type": "code",
   "execution_count": 82,
   "metadata": {
    "collapsed": false
   },
   "outputs": [
    {
     "data": {
      "text/plain": [
       "age  sex\\nat    BE   FO\n",
       " 90        M   539   74\n",
       " 90        F  1477  136\n",
       " 91        M   499   49\n",
       " 91        F  1298  105\n",
       " 92        M   332   35\n",
       " 92        F  1141   78\n",
       " 93        M   287   27\n",
       " 93        F   906   74\n",
       " 94        M   237   23\n",
       " 94        F   739   65\n",
       " 95        M   154   19\n",
       " 95        F   566   53"
      ]
     },
     "execution_count": 82,
     "metadata": {},
     "output_type": "execute_result"
    }
   ],
   "source": [
    "# let's start with\n",
    "pop = load_example_data('demography').pop[2016, 'BruCap', 90:95]\n",
    "pop"
   ]
  },
  {
   "cell_type": "markdown",
   "metadata": {},
   "source": [
    "### Relabeling"
   ]
  },
  {
   "cell_type": "markdown",
   "metadata": {},
   "source": [
    "Replace all labels of one axis"
   ]
  },
  {
   "cell_type": "code",
   "execution_count": 83,
   "metadata": {
    "collapsed": false
   },
   "outputs": [
    {
     "data": {
      "text/plain": [
       "age  sex\\nat    BE   FO\n",
       " 90      Men   539   74\n",
       " 90    Women  1477  136\n",
       " 91      Men   499   49\n",
       " 91    Women  1298  105\n",
       " 92      Men   332   35\n",
       " 92    Women  1141   78\n",
       " 93      Men   287   27\n",
       " 93    Women   906   74\n",
       " 94      Men   237   23\n",
       " 94    Women   739   65\n",
       " 95      Men   154   19\n",
       " 95    Women   566   53"
      ]
     },
     "execution_count": 83,
     "metadata": {},
     "output_type": "execute_result"
    }
   ],
   "source": [
    "# returns a copy by default\n",
    "pop_new_labels = pop.set_labels(x.sex, ['Men', 'Women'])\n",
    "pop_new_labels"
   ]
  },
  {
   "cell_type": "code",
   "execution_count": 84,
   "metadata": {
    "collapsed": false
   },
   "outputs": [
    {
     "data": {
      "text/plain": [
       "age  sex\\nat    BE   FO\n",
       " 90        M   539   74\n",
       " 90        F  1477  136\n",
       " 91        M   499   49\n",
       " 91        F  1298  105\n",
       " 92        M   332   35\n",
       " 92        F  1141   78\n",
       " 93        M   287   27\n",
       " 93        F   906   74\n",
       " 94        M   237   23\n",
       " 94        F   739   65\n",
       " 95        M   154   19\n",
       " 95        F   566   53"
      ]
     },
     "execution_count": 84,
     "metadata": {},
     "output_type": "execute_result"
    }
   ],
   "source": [
    "# inplace flag avoids to create a copy\n",
    "pop.set_labels(x.sex, ['M', 'F'], inplace=True)\n",
    "pop"
   ]
  },
  {
   "cell_type": "markdown",
   "metadata": {},
   "source": [
    "### Renaming axes"
   ]
  },
  {
   "cell_type": "markdown",
   "metadata": {},
   "source": [
    "Rename one axis"
   ]
  },
  {
   "cell_type": "code",
   "execution_count": 85,
   "metadata": {
    "collapsed": false
   },
   "outputs": [
    {
     "data": {
      "text/plain": [
       "6 x 2 x 2\n",
       " age [6]: 90 91 92 93 94 95\n",
       " sex [2]: 'M' 'F'\n",
       " nat [2]: 'BE' 'FO'"
      ]
     },
     "execution_count": 85,
     "metadata": {},
     "output_type": "execute_result"
    }
   ],
   "source": [
    "pop.info"
   ]
  },
  {
   "cell_type": "code",
   "execution_count": 86,
   "metadata": {
    "collapsed": false
   },
   "outputs": [
    {
     "data": {
      "text/plain": [
       "age  gender\\nat    BE   FO\n",
       " 90           M   539   74\n",
       " 90           F  1477  136\n",
       " 91           M   499   49\n",
       " 91           F  1298  105\n",
       " 92           M   332   35\n",
       " 92           F  1141   78\n",
       " 93           M   287   27\n",
       " 93           F   906   74\n",
       " 94           M   237   23\n",
       " 94           F   739   65\n",
       " 95           M   154   19\n",
       " 95           F   566   53"
      ]
     },
     "execution_count": 86,
     "metadata": {},
     "output_type": "execute_result"
    }
   ],
   "source": [
    "# 'rename' returns a copy of the array\n",
    "pop2 = pop.rename(x.sex, 'gender')\n",
    "pop2"
   ]
  },
  {
   "cell_type": "markdown",
   "metadata": {},
   "source": [
    "Rename several axes at once"
   ]
  },
  {
   "cell_type": "code",
   "execution_count": 87,
   "metadata": {
    "collapsed": false
   },
   "outputs": [
    {
     "data": {
      "text/plain": [
       "age  gender\\nationality    BE   FO\n",
       " 90                   M   539   74\n",
       " 90                   F  1477  136\n",
       " 91                   M   499   49\n",
       " 91                   F  1298  105\n",
       " 92                   M   332   35\n",
       " 92                   F  1141   78\n",
       " 93                   M   287   27\n",
       " 93                   F   906   74\n",
       " 94                   M   237   23\n",
       " 94                   F   739   65\n",
       " 95                   M   154   19\n",
       " 95                   F   566   53"
      ]
     },
     "execution_count": 87,
     "metadata": {},
     "output_type": "execute_result"
    }
   ],
   "source": [
    "# No x. here because sex and nat are keywords and not actual axes\n",
    "pop2 = pop.rename(sex='gender', nat='nationality')\n",
    "pop2"
   ]
  },
  {
   "cell_type": "markdown",
   "metadata": {},
   "source": [
    "### Reordering axes"
   ]
  },
  {
   "cell_type": "markdown",
   "metadata": {},
   "source": [
    "Axes can be reordered using *transpose* method. By default, *transpose* reverse axes, otherwise it permutes the axes according to the list given as argument. Axes not mentioned come after those which are mentioned (and keep their relative order). Finally, *transpose* returns a copy of the array."
   ]
  },
  {
   "cell_type": "code",
   "execution_count": 88,
   "metadata": {
    "collapsed": false
   },
   "outputs": [
    {
     "data": {
      "text/plain": [
       "age  sex\\nat    BE   FO\n",
       " 90        M   539   74\n",
       " 90        F  1477  136\n",
       " 91        M   499   49\n",
       " 91        F  1298  105\n",
       " 92        M   332   35\n",
       " 92        F  1141   78\n",
       " 93        M   287   27\n",
       " 93        F   906   74\n",
       " 94        M   237   23\n",
       " 94        F   739   65\n",
       " 95        M   154   19\n",
       " 95        F   566   53"
      ]
     },
     "execution_count": 88,
     "metadata": {},
     "output_type": "execute_result"
    }
   ],
   "source": [
    "# starting order : age, sex, nat\n",
    "pop"
   ]
  },
  {
   "cell_type": "code",
   "execution_count": 89,
   "metadata": {
    "collapsed": false
   },
   "outputs": [
    {
     "data": {
      "text/plain": [
       "nat  sex\\age    90    91    92   93   94   95\n",
       " BE        M   539   499   332  287  237  154\n",
       " BE        F  1477  1298  1141  906  739  566\n",
       " FO        M    74    49    35   27   23   19\n",
       " FO        F   136   105    78   74   65   53"
      ]
     },
     "execution_count": 89,
     "metadata": {},
     "output_type": "execute_result"
    }
   ],
   "source": [
    "# no argument --> reverse axes\n",
    "pop.transpose()\n",
    "\n",
    "# .T is a shortcut for .transpose()\n",
    "pop.T"
   ]
  },
  {
   "cell_type": "code",
   "execution_count": 90,
   "metadata": {
    "collapsed": false
   },
   "outputs": [
    {
     "data": {
      "text/plain": [
       "age  nat\\sex    M     F\n",
       " 90       BE  539  1477\n",
       " 90       FO   74   136\n",
       " 91       BE  499  1298\n",
       " 91       FO   49   105\n",
       " 92       BE  332  1141\n",
       " 92       FO   35    78\n",
       " 93       BE  287   906\n",
       " 93       FO   27    74\n",
       " 94       BE  237   739\n",
       " 94       FO   23    65\n",
       " 95       BE  154   566\n",
       " 95       FO   19    53"
      ]
     },
     "execution_count": 90,
     "metadata": {},
     "output_type": "execute_result"
    }
   ],
   "source": [
    "# reorder according to list\n",
    "pop.transpose(x.age, x.nat, x.sex)"
   ]
  },
  {
   "cell_type": "code",
   "execution_count": 91,
   "metadata": {
    "collapsed": false
   },
   "outputs": [
    {
     "data": {
      "text/plain": [
       "sex  age\\nat    BE   FO\n",
       "  M       90   539   74\n",
       "  M       91   499   49\n",
       "  M       92   332   35\n",
       "  M       93   287   27\n",
       "  M       94   237   23\n",
       "  M       95   154   19\n",
       "  F       90  1477  136\n",
       "  F       91  1298  105\n",
       "  F       92  1141   78\n",
       "  F       93   906   74\n",
       "  F       94   739   65\n",
       "  F       95   566   53"
      ]
     },
     "execution_count": 91,
     "metadata": {},
     "output_type": "execute_result"
    }
   ],
   "source": [
    "# axes not mentioned come after those which are mentioned (and keep their relative order)\n",
    "pop.transpose(x.sex)"
   ]
  },
  {
   "cell_type": "markdown",
   "metadata": {},
   "source": [
    "## Aggregates"
   ]
  },
  {
   "cell_type": "markdown",
   "metadata": {},
   "source": [
    "Calculate the sum along an axis"
   ]
  },
  {
   "cell_type": "code",
   "execution_count": 92,
   "metadata": {
    "collapsed": false
   },
   "outputs": [
    {
     "data": {
      "text/plain": [
       "sex\\nat      BE      FO\n",
       "      M  375261  204534\n",
       "      F  401554  206541"
      ]
     },
     "execution_count": 92,
     "metadata": {},
     "output_type": "execute_result"
    }
   ],
   "source": [
    "pop = load_example_data('demography').pop[2016, 'BruCap']\n",
    "pop.sum(x.age)"
   ]
  },
  {
   "cell_type": "markdown",
   "metadata": {},
   "source": [
    "or along all axes except one by appending *_by* to the aggregation function"
   ]
  },
  {
   "cell_type": "code",
   "execution_count": 93,
   "metadata": {
    "collapsed": false
   },
   "outputs": [
    {
     "data": {
      "text/plain": [
       "age    90    91    92    93    94   95\n",
       "     2226  1951  1586  1294  1064  792"
      ]
     },
     "execution_count": 93,
     "metadata": {},
     "output_type": "execute_result"
    }
   ],
   "source": [
    "pop[90:95].sum_by(x.age)\n",
    "# is equivalent to \n",
    "pop[90:95].sum(x.sex, x.nat)"
   ]
  },
  {
   "cell_type": "markdown",
   "metadata": {
    "collapsed": true
   },
   "source": [
    "There are many other aggregate functions built-in: \n",
    "\n",
    "- mean, min, max, median, percentile, var (variance), std (standard deviation)\n",
    "- argmin, argmax (label indirect minimum/maxium -- labels where the value is minimum/maximum)\n",
    "- posargmin, posargmax (positional indirect minimum/maxium -- position along axis where the value is minimum/maximum)\n",
    "- cumsum, cumprod (cumulative sum, cumulative product)"
   ]
  },
  {
   "cell_type": "markdown",
   "metadata": {},
   "source": [
    "## Groups"
   ]
  },
  {
   "cell_type": "markdown",
   "metadata": {},
   "source": [
    "One can define groups of labels (or indices)"
   ]
  },
  {
   "cell_type": "code",
   "execution_count": 94,
   "metadata": {
    "collapsed": false
   },
   "outputs": [
    {
     "data": {
      "text/plain": [
       "age[30, 55, 52, 25, 99]"
      ]
     },
     "execution_count": 94,
     "metadata": {},
     "output_type": "execute_result"
    }
   ],
   "source": [
    "age = pop.axes['age']\n",
    "\n",
    "# using indices (remember: 20 will not be included)\n",
    "teens = age.i[10:20]\n",
    "# using labels\n",
    "pensioners = age[67:]\n",
    "strange = age[[30, 55, 52, 25, 99]]\n",
    "\n",
    "strange"
   ]
  },
  {
   "cell_type": "markdown",
   "metadata": {},
   "source": [
    "or rename them"
   ]
  },
  {
   "cell_type": "code",
   "execution_count": 95,
   "metadata": {
    "collapsed": false
   },
   "outputs": [
    {
     "data": {
      "text/plain": [
       "age[67:] >> 'pensioners'"
      ]
     },
     "execution_count": 95,
     "metadata": {},
     "output_type": "execute_result"
    }
   ],
   "source": [
    "# method 'named' returns a new group with the given name\n",
    "teens = teens.named('children')\n",
    "\n",
    "# operator >> is a shortcut for 'named'\n",
    "pensioners = pensioners >> 'pensioners'\n",
    "\n",
    "pensioners"
   ]
  },
  {
   "cell_type": "markdown",
   "metadata": {},
   "source": [
    "Then, use them in selections"
   ]
  },
  {
   "cell_type": "code",
   "execution_count": 96,
   "metadata": {
    "collapsed": false
   },
   "outputs": [
    {
     "data": {
      "text/plain": [
       "age  sex\\nat    BE    FO\n",
       " 30        M  5278  4725\n",
       " 30        F  5253  5419\n",
       " 55        M  4457  2196\n",
       " 55        F  4953  2059\n",
       " 52        M  4635  2640\n",
       " 52        F  4740  2333\n",
       " 25        M  5477  3590\n",
       " 25        F  5539  4635\n",
       " 99        M    20     2\n",
       " 99        F    92     8"
      ]
     },
     "execution_count": 96,
     "metadata": {},
     "output_type": "execute_result"
    }
   ],
   "source": [
    "pop[strange]"
   ]
  },
  {
   "cell_type": "markdown",
   "metadata": {},
   "source": [
    "or aggregations"
   ]
  },
  {
   "cell_type": "code",
   "execution_count": 97,
   "metadata": {
    "collapsed": false
   },
   "outputs": [
    {
     "data": {
      "text/plain": [
       "sex\\nat     BE     FO\n",
       "      M  44138   9939\n",
       "      F  70314  13241"
      ]
     },
     "execution_count": 97,
     "metadata": {},
     "output_type": "execute_result"
    }
   ],
   "source": [
    "pop.sum(pensioners)"
   ]
  },
  {
   "cell_type": "code",
   "execution_count": 98,
   "metadata": {
    "collapsed": false
   },
   "outputs": [
    {
     "data": {
      "text/plain": [
       "           age  sex\\nat     BE     FO\n",
       "      children        M  49143  17100\n",
       "      children        F  47226  16523\n",
       "    pensioners        M  44138   9939\n",
       "    pensioners        F  70314  13241\n",
       "30,55,52,25,99        M  19867  13153\n",
       "30,55,52,25,99        F  20577  14454"
      ]
     },
     "execution_count": 98,
     "metadata": {},
     "output_type": "execute_result"
    }
   ],
   "source": [
    "# several groups (here you see the interest of groups renaming)\n",
    "pop.sum((teens, pensioners, strange))"
   ]
  },
  {
   "cell_type": "code",
   "execution_count": 99,
   "metadata": {
    "collapsed": false
   },
   "outputs": [
    {
     "data": {
      "text/plain": [
       "       age\\sex      M      F\n",
       "      children  66243  63749\n",
       "    pensioners  54077  83555\n",
       "30,55,52,25,99  33020  35031"
      ]
     },
     "execution_count": 99,
     "metadata": {},
     "output_type": "execute_result"
    }
   ],
   "source": [
    "# combined with other axes\n",
    "pop.sum((teens, pensioners, strange), x.nat)"
   ]
  },
  {
   "cell_type": "markdown",
   "metadata": {},
   "source": [
    "## Arithmetic operations"
   ]
  },
  {
   "cell_type": "code",
   "execution_count": 100,
   "metadata": {
    "collapsed": false
   },
   "outputs": [
    {
     "data": {
      "text/plain": [
       "age  sex\\nat    BE   FO\n",
       " 90        M   539   74\n",
       " 90        F  1477  136\n",
       " 91        M   499   49\n",
       " 91        F  1298  105\n",
       " 92        M   332   35\n",
       " 92        F  1141   78\n",
       " 93        M   287   27\n",
       " 93        F   906   74\n",
       " 94        M   237   23\n",
       " 94        F   739   65\n",
       " 95        M   154   19\n",
       " 95        F   566   53"
      ]
     },
     "execution_count": 100,
     "metadata": {},
     "output_type": "execute_result"
    }
   ],
   "source": [
    "# go back to our 6 x 2 x 2 example array\n",
    "pop = load_example_data('demography').pop[2016, 'BruCap', 90:95]\n",
    "pop"
   ]
  },
  {
   "cell_type": "markdown",
   "metadata": {},
   "source": [
    "### Usual Operations"
   ]
  },
  {
   "cell_type": "markdown",
   "metadata": {},
   "source": [
    "One can do all usual arithmetic operations on an array, it will apply the operation to all elements individually"
   ]
  },
  {
   "cell_type": "code",
   "execution_count": 101,
   "metadata": {
    "collapsed": false
   },
   "outputs": [
    {
     "data": {
      "text/plain": [
       "age  sex\\nat    BE   FO\n",
       " 90        M   739  274\n",
       " 90        F  1677  336\n",
       " 91        M   699  249\n",
       " 91        F  1498  305\n",
       " 92        M   532  235\n",
       " 92        F  1341  278\n",
       " 93        M   487  227\n",
       " 93        F  1106  274\n",
       " 94        M   437  223\n",
       " 94        F   939  265\n",
       " 95        M   354  219\n",
       " 95        F   766  253"
      ]
     },
     "execution_count": 101,
     "metadata": {},
     "output_type": "execute_result"
    }
   ],
   "source": [
    "# addition\n",
    "pop + 200"
   ]
  },
  {
   "cell_type": "code",
   "execution_count": 102,
   "metadata": {
    "collapsed": false
   },
   "outputs": [
    {
     "data": {
      "text/plain": [
       "age  sex\\nat    BE   FO\n",
       " 90        M  1078  148\n",
       " 90        F  2954  272\n",
       " 91        M   998   98\n",
       " 91        F  2596  210\n",
       " 92        M   664   70\n",
       " 92        F  2282  156\n",
       " 93        M   574   54\n",
       " 93        F  1812  148\n",
       " 94        M   474   46\n",
       " 94        F  1478  130\n",
       " 95        M   308   38\n",
       " 95        F  1132  106"
      ]
     },
     "execution_count": 102,
     "metadata": {},
     "output_type": "execute_result"
    }
   ],
   "source": [
    "# multiplication\n",
    "pop * 2"
   ]
  },
  {
   "cell_type": "code",
   "execution_count": 103,
   "metadata": {
    "collapsed": false
   },
   "outputs": [
    {
     "data": {
      "text/plain": [
       "age  sex\\nat       BE     FO\n",
       " 90        M   290521   5476\n",
       " 90        F  2181529  18496\n",
       " 91        M   249001   2401\n",
       " 91        F  1684804  11025\n",
       " 92        M   110224   1225\n",
       " 92        F  1301881   6084\n",
       " 93        M    82369    729\n",
       " 93        F   820836   5476\n",
       " 94        M    56169    529\n",
       " 94        F   546121   4225\n",
       " 95        M    23716    361\n",
       " 95        F   320356   2809"
      ]
     },
     "execution_count": 103,
     "metadata": {},
     "output_type": "execute_result"
    }
   ],
   "source": [
    "# ** means raising to the power (squaring in this case)\n",
    "pop ** 2"
   ]
  },
  {
   "cell_type": "code",
   "execution_count": 104,
   "metadata": {
    "collapsed": false,
    "scrolled": true
   },
   "outputs": [
    {
     "data": {
      "text/plain": [
       "age  sex\\nat  BE  FO\n",
       " 90        M   9   4\n",
       " 90        F   7   6\n",
       " 91        M   9   9\n",
       " 91        F   8   5\n",
       " 92        M   2   5\n",
       " 92        F   1   8\n",
       " 93        M   7   7\n",
       " 93        F   6   4\n",
       " 94        M   7   3\n",
       " 94        F   9   5\n",
       " 95        M   4   9\n",
       " 95        F   6   3"
      ]
     },
     "execution_count": 104,
     "metadata": {},
     "output_type": "execute_result"
    }
   ],
   "source": [
    "# % means modulo (aka remainder of division)\n",
    "pop % 10"
   ]
  },
  {
   "cell_type": "markdown",
   "metadata": {},
   "source": [
    "More interestingly, it also works between two arrays"
   ]
  },
  {
   "cell_type": "code",
   "execution_count": 105,
   "metadata": {
    "collapsed": false
   },
   "outputs": [
    {
     "data": {
      "text/plain": [
       "age  sex\\nat                  BE                  FO\n",
       " 90        M   94.00000000000001  13.000000000000004\n",
       " 90        F  204.00000000000003  19.000000000000004\n",
       " 91        M                95.0                 9.0\n",
       " 91        F  200.00000000000006                16.0\n",
       " 92        M                70.0                 7.0\n",
       " 92        F  195.00000000000006  13.000000000000004\n",
       " 93        M   66.00000000000001                 6.0\n",
       " 93        F  171.99999999999997                14.0\n",
       " 94        M                59.0                 6.0\n",
       " 94        F  155.00000000000003                14.0\n",
       " 95        M                41.0                 5.0\n",
       " 95        F               130.0  12.000000000000004"
      ]
     },
     "execution_count": 105,
     "metadata": {},
     "output_type": "execute_result"
    }
   ],
   "source": [
    "# load mortality equivalent array\n",
    "mortality = load_example_data('demography').qx[2016, 'BruCap', 90:95] \n",
    "\n",
    "# compute number of deaths\n",
    "death = pop * mortality\n",
    "death"
   ]
  },
  {
   "cell_type": "markdown",
   "metadata": {},
   "source": [
    "<div class=\"alert alert-info\">\n",
    "\n",
    "**Note**: Be careful when mixing different data types. See **type promotion** in programming. You can use the method *astype* tu change the data type of an array.\n",
    "\n",
    "</div>"
   ]
  },
  {
   "cell_type": "code",
   "execution_count": 106,
   "metadata": {
    "collapsed": false
   },
   "outputs": [
    {
     "data": {
      "text/plain": [
       "age  sex\\nat   BE  FO\n",
       " 90        M   94  13\n",
       " 90        F  204  19\n",
       " 91        M   95   9\n",
       " 91        F  200  16\n",
       " 92        M   70   7\n",
       " 92        F  195  13\n",
       " 93        M   66   6\n",
       " 93        F  171  14\n",
       " 94        M   59   6\n",
       " 94        F  155  14\n",
       " 95        M   41   5\n",
       " 95        F  130  12"
      ]
     },
     "execution_count": 106,
     "metadata": {},
     "output_type": "execute_result"
    }
   ],
   "source": [
    "# to be sure to get number of deaths as integers\n",
    "# one can use .astype() method\n",
    "death = (pop * mortality).astype(int)\n",
    "death"
   ]
  },
  {
   "cell_type": "markdown",
   "metadata": {},
   "source": [
    "But operations between two arrays only works when they have compatible axes (i.e. same labels)"
   ]
  },
  {
   "cell_type": "code",
   "execution_count": 107,
   "metadata": {
    "collapsed": false
   },
   "outputs": [
    {
     "name": "stdout",
     "output_type": "stream",
     "text": [
      "<class 'ValueError'> incompatible axes:\n",
      "Axis([93, 94, 95], 'age')\n",
      "vs\n",
      "Axis([90, 91, 92], 'age')\n"
     ]
    }
   ],
   "source": [
    "with ExCtx():\n",
    "    pop[90:92] * mortality[93:95]"
   ]
  },
  {
   "cell_type": "markdown",
   "metadata": {},
   "source": [
    "You can override that but at your own risk. In that case only the position on the axis is used and not the labels."
   ]
  },
  {
   "cell_type": "code",
   "execution_count": 108,
   "metadata": {
    "collapsed": false
   },
   "outputs": [
    {
     "data": {
      "text/plain": [
       "age  sex\\nat                  BE                  FO\n",
       " 90        M  123.95121951219514  16.444444444444443\n",
       " 90        F    280.401766004415   25.72972972972973\n",
       " 91        M  124.22362869198312  12.782608695652174\n",
       " 91        F  272.24627875507446  22.615384615384617\n",
       " 92        M   88.38961038961038   9.210526315789473\n",
       " 92        F  262.06713780918733   17.66037735849057"
      ]
     },
     "execution_count": 108,
     "metadata": {},
     "output_type": "execute_result"
    }
   ],
   "source": [
    "pop[90:92] * mortality[93:95].drop_labels(x.age)"
   ]
  },
  {
   "cell_type": "markdown",
   "metadata": {},
   "source": [
    "### Boolean Operations"
   ]
  },
  {
   "cell_type": "code",
   "execution_count": 109,
   "metadata": {
    "collapsed": false
   },
   "outputs": [
    {
     "data": {
      "text/plain": [
       "age  sex\\nat     BE    FO\n",
       " 90        M    539    74\n",
       " 90        F  -1477  -136\n",
       " 91        M    499    49\n",
       " 91        F  -1298  -105\n",
       " 92        M    332    35\n",
       " 92        F  -1141   -78\n",
       " 93        M    287    27\n",
       " 93        F   -906   -74\n",
       " 94        M    237    23\n",
       " 94        F   -739   -65\n",
       " 95        M    154    19\n",
       " 95        F   -566   -53"
      ]
     },
     "execution_count": 109,
     "metadata": {},
     "output_type": "execute_result"
    }
   ],
   "source": [
    "pop2 = pop.copy()\n",
    "pop2['F'] = -pop2['F']\n",
    "pop2"
   ]
  },
  {
   "cell_type": "code",
   "execution_count": 110,
   "metadata": {
    "collapsed": false
   },
   "outputs": [
    {
     "data": {
      "text/plain": [
       "age  sex\\nat     BE     FO\n",
       " 90        M   True   True\n",
       " 90        F  False  False\n",
       " 91        M   True   True\n",
       " 91        F  False  False\n",
       " 92        M   True   True\n",
       " 92        F  False  False\n",
       " 93        M   True   True\n",
       " 93        F  False  False\n",
       " 94        M   True   True\n",
       " 94        F  False  False\n",
       " 95        M   True   True\n",
       " 95        F  False  False"
      ]
     },
     "execution_count": 110,
     "metadata": {},
     "output_type": "execute_result"
    }
   ],
   "source": [
    "# testing for equality is done using == (a single = assigns the value)\n",
    "pop == pop2"
   ]
  },
  {
   "cell_type": "code",
   "execution_count": 111,
   "metadata": {
    "collapsed": false
   },
   "outputs": [
    {
     "data": {
      "text/plain": [
       "age  sex\\nat     BE     FO\n",
       " 90        M  False  False\n",
       " 90        F   True   True\n",
       " 91        M  False  False\n",
       " 91        F   True   True\n",
       " 92        M  False  False\n",
       " 92        F   True   True\n",
       " 93        M  False  False\n",
       " 93        F   True   True\n",
       " 94        M  False  False\n",
       " 94        F   True   True\n",
       " 95        M  False  False\n",
       " 95        F   True   True"
      ]
     },
     "execution_count": 111,
     "metadata": {},
     "output_type": "execute_result"
    }
   ],
   "source": [
    "# testing for inequality\n",
    "pop != pop2"
   ]
  },
  {
   "cell_type": "code",
   "execution_count": 112,
   "metadata": {
    "collapsed": false
   },
   "outputs": [
    {
     "data": {
      "text/plain": [
       "age  sex\\nat    BE   FO\n",
       " 90        M   539   74\n",
       " 90        F  1477  136\n",
       " 91        M   499   49\n",
       " 91        F  1298  105\n",
       " 92        M   332   35\n",
       " 92        F  1141   78\n",
       " 93        M   287   27\n",
       " 93        F   906   74\n",
       " 94        M   237   23\n",
       " 94        F   739   65\n",
       " 95        M   154   19\n",
       " 95        F   566   53"
      ]
     },
     "execution_count": 112,
     "metadata": {},
     "output_type": "execute_result"
    }
   ],
   "source": [
    "# what was our original array like again?\n",
    "pop"
   ]
  },
  {
   "cell_type": "code",
   "execution_count": 113,
   "metadata": {
    "collapsed": false
   },
   "outputs": [
    {
     "data": {
      "text/plain": [
       "age  sex\\nat     BE     FO\n",
       " 90        M   True  False\n",
       " 90        F  False  False\n",
       " 91        M  False  False\n",
       " 91        F  False  False\n",
       " 92        M  False  False\n",
       " 92        F  False  False\n",
       " 93        M  False  False\n",
       " 93        F   True  False\n",
       " 94        M  False  False\n",
       " 94        F   True  False\n",
       " 95        M  False  False\n",
       " 95        F   True  False"
      ]
     },
     "execution_count": 113,
     "metadata": {},
     "output_type": "execute_result"
    }
   ],
   "source": [
    "# & means (boolean array) and\n",
    "(pop >= 500) & (pop <= 1000)"
   ]
  },
  {
   "cell_type": "code",
   "execution_count": 114,
   "metadata": {
    "collapsed": false
   },
   "outputs": [
    {
     "data": {
      "text/plain": [
       "age  sex\\nat     BE    FO\n",
       " 90        M  False  True\n",
       " 90        F   True  True\n",
       " 91        M   True  True\n",
       " 91        F   True  True\n",
       " 92        M   True  True\n",
       " 92        F   True  True\n",
       " 93        M   True  True\n",
       " 93        F  False  True\n",
       " 94        M   True  True\n",
       " 94        F  False  True\n",
       " 95        M   True  True\n",
       " 95        F  False  True"
      ]
     },
     "execution_count": 114,
     "metadata": {},
     "output_type": "execute_result"
    }
   ],
   "source": [
    "# | means (boolean array) or\n",
    "(pop < 500) | (pop > 1000)"
   ]
  },
  {
   "cell_type": "markdown",
   "metadata": {},
   "source": [
    "### Arithmetic operations with missing axes"
   ]
  },
  {
   "cell_type": "code",
   "execution_count": 115,
   "metadata": {
    "collapsed": false
   },
   "outputs": [
    {
     "data": {
      "text/plain": [
       "sex\\nat    BE   FO\n",
       "      M  2048  227\n",
       "      F  6127  511"
      ]
     },
     "execution_count": 115,
     "metadata": {},
     "output_type": "execute_result"
    }
   ],
   "source": [
    "pop.sum(x.age)"
   ]
  },
  {
   "cell_type": "code",
   "execution_count": 116,
   "metadata": {
    "collapsed": false
   },
   "outputs": [
    {
     "data": {
      "text/plain": [
       "6 x 2 x 2\n",
       " age [6]: 90 91 92 93 94 95\n",
       " sex [2]: 'M' 'F'\n",
       " nat [2]: 'BE' 'FO'"
      ]
     },
     "execution_count": 116,
     "metadata": {},
     "output_type": "execute_result"
    }
   ],
   "source": [
    "# arr has 3 dimensions\n",
    "pop.info"
   ]
  },
  {
   "cell_type": "code",
   "execution_count": 117,
   "metadata": {
    "collapsed": false
   },
   "outputs": [
    {
     "data": {
      "text/plain": [
       "2 x 2\n",
       " sex [2]: 'M' 'F'\n",
       " nat [2]: 'BE' 'FO'"
      ]
     },
     "execution_count": 117,
     "metadata": {},
     "output_type": "execute_result"
    }
   ],
   "source": [
    "# and arr.sum(age) has two\n",
    "pop.sum(x.age).info"
   ]
  },
  {
   "cell_type": "code",
   "execution_count": 118,
   "metadata": {
    "collapsed": false
   },
   "outputs": [
    {
     "data": {
      "text/plain": [
       "age  sex\\nat                   BE                   FO\n",
       " 90        M        0.26318359375  0.32599118942731276\n",
       " 90        F   0.2410641423208748  0.26614481409001955\n",
       " 91        M        0.24365234375  0.21585903083700442\n",
       " 91        F   0.2118491921005386   0.2054794520547945\n",
       " 92        M          0.162109375  0.15418502202643172\n",
       " 92        F  0.18622490615309287  0.15264187866927592\n",
       " 93        M        0.14013671875  0.11894273127753303\n",
       " 93        F  0.14787008323812634  0.14481409001956946\n",
       " 94        M        0.11572265625   0.1013215859030837\n",
       " 94        F  0.12061367716663947  0.12720156555772993\n",
       " 95        M         0.0751953125  0.08370044052863436\n",
       " 95        F  0.09237799902072792  0.10371819960861056"
      ]
     },
     "execution_count": 118,
     "metadata": {},
     "output_type": "execute_result"
    }
   ],
   "source": [
    "# you can do operation with missing axes so this works\n",
    "pop / pop.sum(x.age)"
   ]
  },
  {
   "cell_type": "markdown",
   "metadata": {},
   "source": [
    "### Axis order does not matter much (except for output)"
   ]
  },
  {
   "cell_type": "markdown",
   "metadata": {},
   "source": [
    "You can do operations between arrays having different axes order. The axis order of the result is the same as the left array"
   ]
  },
  {
   "cell_type": "code",
   "execution_count": 119,
   "metadata": {
    "collapsed": false
   },
   "outputs": [
    {
     "data": {
      "text/plain": [
       "age  sex\\nat    BE   FO\n",
       " 90        M   539   74\n",
       " 90        F  1477  136\n",
       " 91        M   499   49\n",
       " 91        F  1298  105\n",
       " 92        M   332   35\n",
       " 92        F  1141   78\n",
       " 93        M   287   27\n",
       " 93        F   906   74\n",
       " 94        M   237   23\n",
       " 94        F   739   65\n",
       " 95        M   154   19\n",
       " 95        F   566   53"
      ]
     },
     "execution_count": 119,
     "metadata": {},
     "output_type": "execute_result"
    }
   ],
   "source": [
    "pop"
   ]
  },
  {
   "cell_type": "code",
   "execution_count": 120,
   "metadata": {
    "collapsed": false
   },
   "outputs": [
    {
     "data": {
      "text/plain": [
       "nat  sex\\age    90    91    92   93   94   95\n",
       " BE        M   539   499   332  287  237  154\n",
       " BE        F  1477  1298  1141  906  739  566\n",
       " FO        M    74    49    35   27   23   19\n",
       " FO        F   136   105    78   74   65   53"
      ]
     },
     "execution_count": 120,
     "metadata": {},
     "output_type": "execute_result"
    }
   ],
   "source": [
    "# let us change the order of axes\n",
    "pop_transposed = pop.T\n",
    "pop_transposed"
   ]
  },
  {
   "cell_type": "code",
   "execution_count": 121,
   "metadata": {
    "collapsed": false
   },
   "outputs": [
    {
     "data": {
      "text/plain": [
       "nat  sex\\age    90    91    92    93    94    95\n",
       " BE        M  1078   998   664   574   474   308\n",
       " BE        F  2954  2596  2282  1812  1478  1132\n",
       " FO        M   148    98    70    54    46    38\n",
       " FO        F   272   210   156   148   130   106"
      ]
     },
     "execution_count": 121,
     "metadata": {},
     "output_type": "execute_result"
    }
   ],
   "source": [
    "# mind blowing\n",
    "pop_transposed + pop"
   ]
  },
  {
   "cell_type": "markdown",
   "metadata": {},
   "source": [
    "## Combining arrays"
   ]
  },
  {
   "cell_type": "markdown",
   "metadata": {},
   "source": [
    "### Append/Prepend"
   ]
  },
  {
   "cell_type": "markdown",
   "metadata": {},
   "source": [
    "Append/prepend one element to an axis of an array"
   ]
  },
  {
   "cell_type": "code",
   "execution_count": 122,
   "metadata": {
    "collapsed": false
   },
   "outputs": [
    {
     "data": {
      "text/plain": [
       "age  sex\\nat    BE   FO  NEU\n",
       " 90        M   539   74   25\n",
       " 90        F  1477  136   54\n",
       " 91        M   499   49   15\n",
       " 91        F  1298  105   33\n",
       " 92        M   332   35   12\n",
       " 92        F  1141   78   28\n",
       " 93        M   287   27   11\n",
       " 93        F   906   74   37\n",
       " 94        M   237   23    5\n",
       " 94        F   739   65   21\n",
       " 95        M   154   19    7\n",
       " 95        F   566   53   19"
      ]
     },
     "execution_count": 122,
     "metadata": {},
     "output_type": "execute_result"
    }
   ],
   "source": [
    "pop = load_example_data('demography').pop[2016, 'BruCap', 90:95] \n",
    "\n",
    "# imagine that you have now acces to the number of non-EU foreigners\n",
    "data = [[25, 54], [15, 33], [12, 28], [11, 37], [5, 21], [7, 19]]\n",
    "pop_non_eu = LArray(data, pop['FO'].axes)\n",
    "\n",
    "# you can do something like this\n",
    "pop = pop.append(nat, pop_non_eu, 'NEU')\n",
    "pop"
   ]
  },
  {
   "cell_type": "code",
   "execution_count": 123,
   "metadata": {
    "collapsed": false
   },
   "outputs": [
    {
     "data": {
      "text/plain": [
       "age  sex\\nat    BE   FO  NEU\n",
       " 90        B  2016  210   79\n",
       " 90        M   539   74   25\n",
       " 90        F  1477  136   54\n",
       " 91        B  1797  154   48\n",
       " 91        M   499   49   15\n",
       " 91        F  1298  105   33\n",
       " 92        B  1473  113   40\n",
       " 92        M   332   35   12\n",
       " 92        F  1141   78   28\n",
       " 93        B  1193  101   48\n",
       " 93        M   287   27   11\n",
       " 93        F   906   74   37\n",
       " 94        B   976   88   26\n",
       " 94        M   237   23    5\n",
       " 94        F   739   65   21\n",
       " 95        B   720   72   26\n",
       " 95        M   154   19    7\n",
       " 95        F   566   53   19"
      ]
     },
     "execution_count": 123,
     "metadata": {},
     "output_type": "execute_result"
    }
   ],
   "source": [
    "# you can also add something at the start of an axis\n",
    "pop = pop.prepend(x.sex, pop.sum(x.sex), 'B')\n",
    "pop"
   ]
  },
  {
   "cell_type": "markdown",
   "metadata": {},
   "source": [
    "The value being appended/prepended can have missing (or even extra) axes as long as common axes are compatible"
   ]
  },
  {
   "cell_type": "code",
   "execution_count": 124,
   "metadata": {
    "collapsed": false
   },
   "outputs": [
    {
     "data": {
      "text/plain": [
       "sex    B    M    F\n",
       "     0.0  0.0  0.0"
      ]
     },
     "execution_count": 124,
     "metadata": {},
     "output_type": "execute_result"
    }
   ],
   "source": [
    "aliens = zeros(pop.axes['sex'])\n",
    "aliens"
   ]
  },
  {
   "cell_type": "code",
   "execution_count": 125,
   "metadata": {
    "collapsed": false
   },
   "outputs": [
    {
     "data": {
      "text/plain": [
       "age  sex\\nat    BE   FO  NEU  AL\n",
       " 90        B  2016  210   79   0\n",
       " 90        M   539   74   25   0\n",
       " 90        F  1477  136   54   0\n",
       " 91        B  1797  154   48   0\n",
       " 91        M   499   49   15   0\n",
       " 91        F  1298  105   33   0\n",
       " 92        B  1473  113   40   0\n",
       " 92        M   332   35   12   0\n",
       " 92        F  1141   78   28   0\n",
       " 93        B  1193  101   48   0\n",
       " 93        M   287   27   11   0\n",
       " 93        F   906   74   37   0\n",
       " 94        B   976   88   26   0\n",
       " 94        M   237   23    5   0\n",
       " 94        F   739   65   21   0\n",
       " 95        B   720   72   26   0\n",
       " 95        M   154   19    7   0\n",
       " 95        F   566   53   19   0"
      ]
     },
     "execution_count": 125,
     "metadata": {},
     "output_type": "execute_result"
    }
   ],
   "source": [
    "pop = pop.append(x.nat, aliens, 'AL')\n",
    "pop"
   ]
  },
  {
   "cell_type": "markdown",
   "metadata": {},
   "source": [
    "### Extend"
   ]
  },
  {
   "cell_type": "markdown",
   "metadata": {},
   "source": [
    "Extend an array along an axis with another array *with* that axis (but other labels)"
   ]
  },
  {
   "cell_type": "code",
   "execution_count": 126,
   "metadata": {
    "collapsed": false
   },
   "outputs": [
    {
     "data": {
      "text/plain": [
       "age  sex\\nat    BE   FO\n",
       " 90        M   539   74\n",
       " 90        F  1477  136\n",
       " 91        M   499   49\n",
       " 91        F  1298  105\n",
       " 92        M   332   35\n",
       " 92        F  1141   78\n",
       " 93        M   287   27\n",
       " 93        F   906   74\n",
       " 94        M   237   23\n",
       " 94        F   739   65\n",
       " 95        M   154   19\n",
       " 95        F   566   53\n",
       " 96        M    80    9\n",
       " 96        F   327   25\n",
       " 97        M    43    9\n",
       " 97        F   171   21\n",
       " 98        M    23    4\n",
       " 98        F   135    9\n",
       " 99        M    20    2\n",
       " 99        F    92    8\n",
       "100        M    12    0\n",
       "100        F    60    3"
      ]
     },
     "execution_count": 126,
     "metadata": {},
     "output_type": "execute_result"
    }
   ],
   "source": [
    "_pop = load_example_data('demography').pop\n",
    "pop = _pop[2016, 'BruCap', 90:95] \n",
    "pop_next = _pop[2016, 'BruCap', 96:100]\n",
    "\n",
    "# concatenate along age axis\n",
    "pop.extend(x.age, pop_next)"
   ]
  },
  {
   "cell_type": "markdown",
   "metadata": {},
   "source": [
    "### Stack"
   ]
  },
  {
   "cell_type": "markdown",
   "metadata": {},
   "source": [
    "Stack several arrays together to create an entirely new dimension"
   ]
  },
  {
   "cell_type": "code",
   "execution_count": 127,
   "metadata": {
    "collapsed": false
   },
   "outputs": [
    {
     "data": {
      "text/plain": [
       "age  sex\\nat    BE   FO  NEU\n",
       " 90        M   539   74   25\n",
       " 90        F  1477  136   54\n",
       " 91        M   499   49   15\n",
       " 91        F  1298  105   33\n",
       " 92        M   332   35   12\n",
       " 92        F  1141   78   28\n",
       " 93        M   287   27   11\n",
       " 93        F   906   74   37\n",
       " 94        M   237   23    5\n",
       " 94        F   739   65   21\n",
       " 95        M   154   19    7\n",
       " 95        F   566   53   19"
      ]
     },
     "execution_count": 127,
     "metadata": {},
     "output_type": "execute_result"
    }
   ],
   "source": [
    "# imagine you have loaded data for each nationality in different arrays (e.g. loaded from different Excel sheets)\n",
    "pop_be, pop_fo = pop['BE'], pop['FO']\n",
    "\n",
    "# first way to stack them\n",
    "nat = Axis('nat=BE,FO,NEU')\n",
    "pop = stack([pop_be, pop_fo, pop_non_eu], nat)\n",
    "\n",
    "# second way\n",
    "pop = stack([('BE', pop_be), ('FO', pop_fo), ('NEU', pop_non_eu)], 'nat')\n",
    "\n",
    "pop"
   ]
  },
  {
   "cell_type": "markdown",
   "metadata": {},
   "source": [
    "## Sorting"
   ]
  },
  {
   "cell_type": "markdown",
   "metadata": {},
   "source": [
    "Sort an axis (alphabetically if labels are strings)"
   ]
  },
  {
   "cell_type": "code",
   "execution_count": 128,
   "metadata": {
    "collapsed": false
   },
   "outputs": [
    {
     "data": {
      "text/plain": [
       "age  sex\\nat    BE   FO  NEU\n",
       " 90        M   539   74   25\n",
       " 90        F  1477  136   54\n",
       " 91        M   499   49   15\n",
       " 91        F  1298  105   33\n",
       " 92        M   332   35   12\n",
       " 92        F  1141   78   28\n",
       " 93        M   287   27   11\n",
       " 93        F   906   74   37\n",
       " 94        M   237   23    5\n",
       " 94        F   739   65   21\n",
       " 95        M   154   19    7\n",
       " 95        F   566   53   19"
      ]
     },
     "execution_count": 128,
     "metadata": {},
     "output_type": "execute_result"
    }
   ],
   "source": [
    "pop_sorted = pop.sort_axis(x.nat)\n",
    "pop_sorted"
   ]
  },
  {
   "cell_type": "markdown",
   "metadata": {},
   "source": [
    "Give labels which would sort the axis"
   ]
  },
  {
   "cell_type": "code",
   "execution_count": 129,
   "metadata": {
    "collapsed": false
   },
   "outputs": [
    {
     "data": {
      "text/plain": [
       "age  sex\\nat  BE  FO  NEU\n",
       " 90        0   M   M    M\n",
       " 90        1   F   F    F\n",
       " 91        0   M   M    M\n",
       " 91        1   F   F    F\n",
       " 92        0   M   M    M\n",
       " 92        1   F   F    F\n",
       " 93        0   M   M    M\n",
       " 93        1   F   F    F\n",
       " 94        0   M   M    M\n",
       " 94        1   F   F    F\n",
       " 95        0   M   M    M\n",
       " 95        1   F   F    F"
      ]
     },
     "execution_count": 129,
     "metadata": {},
     "output_type": "execute_result"
    }
   ],
   "source": [
    "pop_sorted.argsort(x.sex)"
   ]
  },
  {
   "cell_type": "markdown",
   "metadata": {},
   "source": [
    "Sort according to values"
   ]
  },
  {
   "cell_type": "code",
   "execution_count": 130,
   "metadata": {
    "collapsed": false
   },
   "outputs": [
    {
     "data": {
      "text/plain": [
       "age  sex\\nat  NEU   FO    BE\n",
       " 90        M   25   74   539\n",
       " 90        F   54  136  1477\n",
       " 91        M   15   49   499\n",
       " 91        F   33  105  1298\n",
       " 92        M   12   35   332\n",
       " 92        F   28   78  1141\n",
       " 93        M   11   27   287\n",
       " 93        F   37   74   906\n",
       " 94        M    5   23   237\n",
       " 94        F   21   65   739\n",
       " 95        M    7   19   154\n",
       " 95        F   19   53   566"
      ]
     },
     "execution_count": 130,
     "metadata": {},
     "output_type": "execute_result"
    }
   ],
   "source": [
    "pop_sorted.sort_values((90, 'F'))"
   ]
  },
  {
   "cell_type": "markdown",
   "metadata": {},
   "source": [
    "## Plotting"
   ]
  },
  {
   "cell_type": "markdown",
   "metadata": {},
   "source": [
    "Create a plot (last axis define the different curves to draw)"
   ]
  },
  {
   "cell_type": "code",
   "execution_count": 131,
   "metadata": {
    "collapsed": false
   },
   "outputs": [
    {
     "data": {
      "text/plain": [
       "<matplotlib.axes._subplots.AxesSubplot at 0x2896f0b1898>"
      ]
     },
     "execution_count": 131,
     "metadata": {},
     "output_type": "execute_result"
    },
    {
     "data": {
      "image/png": "[encoded data removed]",
      "text/plain": [
       "<matplotlib.figure.Figure at 0x2896eeef2e8>"
      ]
     },
     "metadata": {},
     "output_type": "display_data"
    }
   ],
   "source": [
    "pop.plot()"
   ]
  },
  {
   "cell_type": "code",
   "execution_count": 132,
   "metadata": {
    "collapsed": false
   },
   "outputs": [
    {
     "data": {
      "text/plain": [
       "<matplotlib.axes._subplots.AxesSubplot at 0x2896eed33c8>"
      ]
     },
     "execution_count": 132,
     "metadata": {},
     "output_type": "execute_result"
    },
    {
     "data": {
      "image/png": "[encoded data removed]",
      "text/plain": [
       "<matplotlib.figure.Figure at 0x2896f03ecc0>"
      ]
     },
     "metadata": {},
     "output_type": "display_data"
    }
   ],
   "source": [
    "# plot total of both sex\n",
    "pop.sum(x.sex).plot()"
   ]
  },
  {
   "cell_type": "markdown",
   "metadata": {},
   "source": [
    "## Interesting methods"
   ]
  },
  {
   "cell_type": "code",
   "execution_count": 133,
   "metadata": {
    "collapsed": false
   },
   "outputs": [
    {
     "data": {
      "text/plain": [
       "age  sex\\nat  BE  FO\n",
       "100        M  12   0\n",
       "100        F  60   3\n",
       "101        M  12   2\n",
       "101        F  66   5\n",
       "102        M   8   0\n",
       "102        F  26   1\n",
       "103        M   2   1\n",
       "103        F  17   2\n",
       "104        M   2   1\n",
       "104        F  14   0\n",
       "105        M   0   0\n",
       "105        F   2   2"
      ]
     },
     "execution_count": 133,
     "metadata": {},
     "output_type": "execute_result"
    }
   ],
   "source": [
    "# starting array\n",
    "pop = load_example_data('demography').pop[2016, 'BruCap', 100:105]\n",
    "pop"
   ]
  },
  {
   "cell_type": "markdown",
   "metadata": {},
   "source": [
    "### with total"
   ]
  },
  {
   "cell_type": "markdown",
   "metadata": {},
   "source": [
    "Add totals to one axis"
   ]
  },
  {
   "cell_type": "code",
   "execution_count": 134,
   "metadata": {
    "collapsed": false
   },
   "outputs": [
    {
     "data": {
      "text/plain": [
       "age  sex\\nat  BE  FO\n",
       "100        M  12   0\n",
       "100        F  60   3\n",
       "100        B  72   3\n",
       "101        M  12   2\n",
       "101        F  66   5\n",
       "101        B  78   7\n",
       "102        M   8   0\n",
       "102        F  26   1\n",
       "102        B  34   1\n",
       "103        M   2   1\n",
       "103        F  17   2\n",
       "103        B  19   3\n",
       "104        M   2   1\n",
       "104        F  14   0\n",
       "104        B  16   1\n",
       "105        M   0   0\n",
       "105        F   2   2\n",
       "105        B   2   2"
      ]
     },
     "execution_count": 134,
     "metadata": {},
     "output_type": "execute_result"
    }
   ],
   "source": [
    "pop.with_total(x.sex, label='B')"
   ]
  },
  {
   "cell_type": "markdown",
   "metadata": {},
   "source": [
    "Add totals to all axes at once"
   ]
  },
  {
   "cell_type": "code",
   "execution_count": 135,
   "metadata": {
    "collapsed": false,
    "scrolled": true
   },
   "outputs": [
    {
     "data": {
      "text/plain": [
       "  age  sex\\nat   BE  FO  total\n",
       "  100        M   12   0     12\n",
       "  100        F   60   3     63\n",
       "  100    total   72   3     75\n",
       "  101        M   12   2     14\n",
       "  101        F   66   5     71\n",
       "  101    total   78   7     85\n",
       "  102        M    8   0      8\n",
       "  102        F   26   1     27\n",
       "  102    total   34   1     35\n",
       "  103        M    2   1      3\n",
       "  103        F   17   2     19\n",
       "  103    total   19   3     22\n",
       "  104        M    2   1      3\n",
       "  104        F   14   0     14\n",
       "  104    total   16   1     17\n",
       "  105        M    0   0      0\n",
       "  105        F    2   2      4\n",
       "  105    total    2   2      4\n",
       "total        M   36   4     40\n",
       "total        F  185  13    198\n",
       "total    total  221  17    238"
      ]
     },
     "execution_count": 135,
     "metadata": {},
     "output_type": "execute_result"
    }
   ],
   "source": [
    "# by default label is 'total'\n",
    "pop.with_total()"
   ]
  },
  {
   "cell_type": "markdown",
   "metadata": {},
   "source": [
    "### where"
   ]
  },
  {
   "cell_type": "markdown",
   "metadata": {},
   "source": [
    "where can be used to apply some compution depending on a condition"
   ]
  },
  {
   "cell_type": "code",
   "execution_count": 136,
   "metadata": {
    "collapsed": false
   },
   "outputs": [
    {
     "data": {
      "text/plain": [
       "age  sex\\nat   BE  FO\n",
       "100        M  -12   0\n",
       "100        F  -60   0\n",
       "101        M  -12   0\n",
       "101        F  -66   0\n",
       "102        M    0   0\n",
       "102        F  -26   0\n",
       "103        M    0   0\n",
       "103        F  -17   0\n",
       "104        M    0   0\n",
       "104        F  -14   0\n",
       "105        M    0   0\n",
       "105        F    0   0"
      ]
     },
     "execution_count": 136,
     "metadata": {},
     "output_type": "execute_result"
    }
   ],
   "source": [
    "# where(condition, value if true, value if false)\n",
    "where(pop < 10, 0, -pop)"
   ]
  },
  {
   "cell_type": "markdown",
   "metadata": {},
   "source": [
    "### clip"
   ]
  },
  {
   "cell_type": "markdown",
   "metadata": {},
   "source": [
    "Set all data between a certain range"
   ]
  },
  {
   "cell_type": "code",
   "execution_count": 137,
   "metadata": {
    "collapsed": false
   },
   "outputs": [
    {
     "data": {
      "text/plain": [
       "age  sex\\nat  BE  FO\n",
       "100        M  12  10\n",
       "100        F  50  10\n",
       "101        M  12  10\n",
       "101        F  50  10\n",
       "102        M  10  10\n",
       "102        F  26  10\n",
       "103        M  10  10\n",
       "103        F  17  10\n",
       "104        M  10  10\n",
       "104        F  14  10\n",
       "105        M  10  10\n",
       "105        F  10  10"
      ]
     },
     "execution_count": 137,
     "metadata": {},
     "output_type": "execute_result"
    }
   ],
   "source": [
    "# clip(min, max)\n",
    "# values below 10 are set to 10 and values above 50 are set to 50\n",
    "pop.clip(10, 50)"
   ]
  },
  {
   "cell_type": "markdown",
   "metadata": {},
   "source": [
    "### divnot0"
   ]
  },
  {
   "cell_type": "markdown",
   "metadata": {},
   "source": [
    "Replace division by 0 to 0"
   ]
  },
  {
   "cell_type": "code",
   "execution_count": 138,
   "metadata": {
    "collapsed": false
   },
   "outputs": [
    {
     "data": {
      "text/plain": [
       "age\\sex    M     F\n",
       "    100  inf  20.0\n",
       "    101  6.0  13.2\n",
       "    102  inf  26.0\n",
       "    103  2.0   8.5\n",
       "    104  2.0   inf\n",
       "    105  nan   1.0"
      ]
     },
     "execution_count": 138,
     "metadata": {},
     "output_type": "execute_result"
    }
   ],
   "source": [
    "pop['BE'] / pop['FO']"
   ]
  },
  {
   "cell_type": "code",
   "execution_count": 139,
   "metadata": {
    "collapsed": false
   },
   "outputs": [
    {
     "data": {
      "text/plain": [
       "age\\sex    M     F\n",
       "    100  0.0  20.0\n",
       "    101  6.0  13.2\n",
       "    102  0.0  26.0\n",
       "    103  2.0   8.5\n",
       "    104  2.0   0.0\n",
       "    105  0.0   1.0"
      ]
     },
     "execution_count": 139,
     "metadata": {},
     "output_type": "execute_result"
    }
   ],
   "source": [
    "# divnot0 replaces results of division by 0 by 0. \n",
    "# Using it should be done with care though\n",
    "# because it can hide a real error in your data.\n",
    "pop['BE'].divnot0(pop['FO'])"
   ]
  },
  {
   "cell_type": "markdown",
   "metadata": {},
   "source": [
    "### diff"
   ]
  },
  {
   "cell_type": "markdown",
   "metadata": {},
   "source": [
    "*diff* calculates the n-th order discrete difference along given axis. \n",
    "The first order difference is given by out[n+1] = in[n + 1] - in[n] along the given axis. "
   ]
  },
  {
   "cell_type": "code",
   "execution_count": 140,
   "metadata": {
    "collapsed": false
   },
   "outputs": [
    {
     "data": {
      "text/plain": [
       "time  sex\\nat    BE    FO\n",
       "2005        M  4289  1591\n",
       "2005        F  4661  1584\n",
       "2006        M  4335  1761\n",
       "2006        F  4781  1580\n",
       "2007        M  4291  1806\n",
       "2007        F  4719  1650\n",
       "2008        M  4349  1773\n",
       "2008        F  4731  1680\n",
       "2009        M  4429  2003\n",
       "2009        F  4824  1722\n",
       "2010        M  4582  2085\n",
       "2010        F  4869  1928\n",
       "2011        M  4677  2294\n",
       "2011        F  5015  2104\n",
       "2012        M  4463  2450\n",
       "2012        F  4722  2186\n",
       "2013        M  4610  2604\n",
       "2013        F  4711  2254\n",
       "2014        M  4725  2709\n",
       "2014        F  4788  2349\n",
       "2015        M  4841  2891\n",
       "2015        F  4813  2498"
      ]
     },
     "execution_count": 140,
     "metadata": {},
     "output_type": "execute_result"
    }
   ],
   "source": [
    "pop = load_example_data('demography').pop[2005:2015, 'BruCap', 50]\n",
    "pop"
   ]
  },
  {
   "cell_type": "code",
   "execution_count": 141,
   "metadata": {
    "collapsed": false
   },
   "outputs": [
    {
     "data": {
      "text/plain": [
       "time  sex\\nat    BE   FO\n",
       "2006        M    46  170\n",
       "2006        F   120   -4\n",
       "2007        M   -44   45\n",
       "2007        F   -62   70\n",
       "2008        M    58  -33\n",
       "2008        F    12   30\n",
       "2009        M    80  230\n",
       "2009        F    93   42\n",
       "2010        M   153   82\n",
       "2010        F    45  206\n",
       "2011        M    95  209\n",
       "2011        F   146  176\n",
       "2012        M  -214  156\n",
       "2012        F  -293   82\n",
       "2013        M   147  154\n",
       "2013        F   -11   68\n",
       "2014        M   115  105\n",
       "2014        F    77   95\n",
       "2015        M   116  182\n",
       "2015        F    25  149"
      ]
     },
     "execution_count": 141,
     "metadata": {},
     "output_type": "execute_result"
    }
   ],
   "source": [
    "# calculates 'pop[year+1] - pop[year]'\n",
    "pop.diff(x.time)"
   ]
  },
  {
   "cell_type": "code",
   "execution_count": 142,
   "metadata": {
    "collapsed": false
   },
   "outputs": [
    {
     "data": {
      "text/plain": [
       "time  sex\\nat    BE   FO\n",
       "2007        M     2  215\n",
       "2007        F    58   66\n",
       "2008        M    14   12\n",
       "2008        F   -50  100\n",
       "2009        M   138  197\n",
       "2009        F   105   72\n",
       "2010        M   233  312\n",
       "2010        F   138  248\n",
       "2011        M   248  291\n",
       "2011        F   191  382\n",
       "2012        M  -119  365\n",
       "2012        F  -147  258\n",
       "2013        M   -67  310\n",
       "2013        F  -304  150\n",
       "2014        M   262  259\n",
       "2014        F    66  163\n",
       "2015        M   231  287\n",
       "2015        F   102  244"
      ]
     },
     "execution_count": 142,
     "metadata": {},
     "output_type": "execute_result"
    }
   ],
   "source": [
    "# calculates 'pop[year+2] - pop[year]'\n",
    "pop.diff(x.time, d=2)"
   ]
  },
  {
   "cell_type": "markdown",
   "metadata": {},
   "source": [
    "### ratio"
   ]
  },
  {
   "cell_type": "code",
   "execution_count": 143,
   "metadata": {
    "collapsed": false,
    "scrolled": true
   },
   "outputs": [
    {
     "data": {
      "text/plain": [
       "time  sex\\nat                  BE                   FO\n",
       "2005        M   0.729421768707483    0.270578231292517\n",
       "2005        F  0.7463570856685349   0.2536429143314652\n",
       "2006        M  0.7111220472440944   0.2888779527559055\n",
       "2006        F  0.7516113818581984   0.2483886181418016\n",
       "2007        M   0.703788748564868  0.29621125143513205\n",
       "2007        F  0.7409326424870466  0.25906735751295334\n",
       "2008        M  0.7103887618425351  0.28961123815746487\n",
       "2008        F  0.7379503977538605  0.26204960224613943\n",
       "2009        M  0.6885883084577115  0.31141169154228854\n",
       "2009        F  0.7369385884509624  0.26306141154903756\n",
       "2010        M  0.6872656367181641   0.3127343632818359\n",
       "2010        F  0.7163454465205238   0.2836545534794762\n",
       "2011        M  0.6709223927700474  0.32907760722995266\n",
       "2011        F  0.7044528725944655  0.29554712740553446\n",
       "2012        M  0.6455952553160712  0.35440474468392885\n",
       "2012        F  0.6835552982049797  0.31644470179502027\n",
       "2013        M  0.6390352093152204   0.3609647906847796\n",
       "2013        F  0.6763819095477387   0.3236180904522613\n",
       "2014        M   0.635593220338983   0.3644067796610169\n",
       "2014        F  0.6708701134930644   0.3291298865069357\n",
       "2015        M  0.6260993274702535   0.3739006725297465\n",
       "2015        F  0.6583230748187663  0.34167692518123377"
      ]
     },
     "execution_count": 143,
     "metadata": {},
     "output_type": "execute_result"
    }
   ],
   "source": [
    "pop.ratio(x.nat)\n",
    "\n",
    "# which is equivalent to\n",
    "pop / pop.sum(x.nat)"
   ]
  },
  {
   "cell_type": "markdown",
   "metadata": {},
   "source": [
    "### percents"
   ]
  },
  {
   "cell_type": "code",
   "execution_count": 144,
   "metadata": {
    "collapsed": false,
    "scrolled": true
   },
   "outputs": [
    {
     "data": {
      "text/plain": [
       "time  sex\\nat                  BE                  FO\n",
       "2005        M    72.9421768707483    27.0578231292517\n",
       "2005        F   74.63570856685348  25.364291433146516\n",
       "2006        M   71.11220472440945  28.887795275590552\n",
       "2006        F   75.16113818581984   24.83886181418016\n",
       "2007        M    70.3788748564868  29.621125143513204\n",
       "2007        F   74.09326424870466  25.906735751295336\n",
       "2008        M   71.03887618425351   28.96112381574649\n",
       "2008        F   73.79503977538606  26.204960224613945\n",
       "2009        M   68.85883084577114  31.141169154228855\n",
       "2009        F   73.69385884509624   26.30614115490376\n",
       "2010        M   68.72656367181641  31.273436328183593\n",
       "2010        F   71.63454465205237  28.365455347947623\n",
       "2011        M   67.09223927700474   32.90776072299526\n",
       "2011        F   70.44528725944654  29.554712740553448\n",
       "2012        M   64.55952553160712  35.440474468392885\n",
       "2012        F   68.35552982049798  31.644470179502026\n",
       "2013        M   63.90352093152204   36.09647906847796\n",
       "2013        F   67.63819095477388   32.36180904522613\n",
       "2014        M  63.559322033898304  36.440677966101696\n",
       "2014        F   67.08701134930644   32.91298865069357\n",
       "2015        M   62.60993274702535   37.39006725297465\n",
       "2015        F   65.83230748187663  34.167692518123374"
      ]
     },
     "execution_count": 144,
     "metadata": {},
     "output_type": "execute_result"
    }
   ],
   "source": [
    "# or, if you want the previous ratios in percents\n",
    "pop.percent(x.nat)"
   ]
  },
  {
   "cell_type": "markdown",
   "metadata": {},
   "source": [
    "### growth_rate"
   ]
  },
  {
   "cell_type": "markdown",
   "metadata": {
    "collapsed": true
   },
   "source": [
    "using the same principle than diff..."
   ]
  },
  {
   "cell_type": "code",
   "execution_count": 145,
   "metadata": {
    "collapsed": false
   },
   "outputs": [
    {
     "data": {
      "text/plain": [
       "time  sex\\nat                     BE                      FO\n",
       "2006        M   0.010725110748426206     0.10685103708359522\n",
       "2006        F   0.025745548165629694  -0.0025252525252525255\n",
       "2007        M  -0.010149942329873126     0.02555366269165247\n",
       "2007        F  -0.012967998326709893     0.04430379746835443\n",
       "2008        M   0.013516662782568165   -0.018272425249169437\n",
       "2008        F  0.0025429116338207248     0.01818181818181818\n",
       "2009        M    0.01839503334099793     0.12972363226170333\n",
       "2009        F   0.019657577679137603                   0.025\n",
       "2010        M    0.03454504402799729    0.040938592111832255\n",
       "2010        F   0.009328358208955223     0.11962833914053426\n",
       "2011        M    0.02073330423395897     0.10023980815347722\n",
       "2011        F   0.029985623331279524      0.0912863070539419\n",
       "2012        M   -0.04575582638443447     0.06800348735832606\n",
       "2012        F    -0.0584247258225324     0.03897338403041825\n",
       "2013        M    0.03293748599596684     0.06285714285714286\n",
       "2013        F  -0.002329521389241847     0.03110704483074108\n",
       "2014        M   0.024945770065075923     0.04032258064516129\n",
       "2014        F    0.01634472511144131     0.04214729370008873\n",
       "2015        M    0.02455026455026455     0.06718346253229975\n",
       "2015        F  0.0052213868003341685     0.06343124733929331"
      ]
     },
     "execution_count": 145,
     "metadata": {},
     "output_type": "execute_result"
    }
   ],
   "source": [
    "pop.growth_rate(x.time)"
   ]
  },
  {
   "cell_type": "markdown",
   "metadata": {},
   "source": [
    "### shift"
   ]
  },
  {
   "cell_type": "markdown",
   "metadata": {},
   "source": [
    "The *shift* method drops first label of an axis and shifts all subsequent labels"
   ]
  },
  {
   "cell_type": "code",
   "execution_count": 146,
   "metadata": {
    "collapsed": false
   },
   "outputs": [
    {
     "data": {
      "text/plain": [
       "time  sex\\nat    BE    FO\n",
       "2006        M  4289  1591\n",
       "2006        F  4661  1584\n",
       "2007        M  4335  1761\n",
       "2007        F  4781  1580\n",
       "2008        M  4291  1806\n",
       "2008        F  4719  1650\n",
       "2009        M  4349  1773\n",
       "2009        F  4731  1680\n",
       "2010        M  4429  2003\n",
       "2010        F  4824  1722\n",
       "2011        M  4582  2085\n",
       "2011        F  4869  1928\n",
       "2012        M  4677  2294\n",
       "2012        F  5015  2104\n",
       "2013        M  4463  2450\n",
       "2013        F  4722  2186\n",
       "2014        M  4610  2604\n",
       "2014        F  4711  2254\n",
       "2015        M  4725  2709\n",
       "2015        F  4788  2349"
      ]
     },
     "execution_count": 146,
     "metadata": {},
     "output_type": "execute_result"
    }
   ],
   "source": [
    "pop.shift(x.time)"
   ]
  },
  {
   "cell_type": "code",
   "execution_count": 147,
   "metadata": {
    "collapsed": false
   },
   "outputs": [
    {
     "data": {
      "text/plain": [
       "time*  sex\\nat    BE    FO\n",
       "    0        M  True  True\n",
       "    0        F  True  True\n",
       "    1        M  True  True\n",
       "    1        F  True  True\n",
       "    2        M  True  True\n",
       "    2        F  True  True\n",
       "    3        M  True  True\n",
       "    3        F  True  True\n",
       "    4        M  True  True\n",
       "    4        F  True  True\n",
       "    5        M  True  True\n",
       "    5        F  True  True\n",
       "    6        M  True  True\n",
       "    6        F  True  True\n",
       "    7        M  True  True\n",
       "    7        F  True  True\n",
       "    8        M  True  True\n",
       "    8        F  True  True\n",
       "    9        M  True  True\n",
       "    9        F  True  True"
      ]
     },
     "execution_count": 147,
     "metadata": {},
     "output_type": "execute_result"
    }
   ],
   "source": [
    "# when shift is applied on an (increasing) time axis, it effectively brings \"past\" data into the future\n",
    "pop.shift(x.time).drop_labels(x.time) == pop[2005:2014].drop_labels(x.time)"
   ]
  },
  {
   "cell_type": "code",
   "execution_count": 148,
   "metadata": {
    "collapsed": false
   },
   "outputs": [
    {
     "data": {
      "text/plain": [
       "time  sex\\nat    BE   FO\n",
       "2006        M    46  170\n",
       "2006        F   120   -4\n",
       "2007        M   -44   45\n",
       "2007        F   -62   70\n",
       "2008        M    58  -33\n",
       "2008        F    12   30\n",
       "2009        M    80  230\n",
       "2009        F    93   42\n",
       "2010        M   153   82\n",
       "2010        F    45  206\n",
       "2011        M    95  209\n",
       "2011        F   146  176\n",
       "2012        M  -214  156\n",
       "2012        F  -293   82\n",
       "2013        M   147  154\n",
       "2013        F   -11   68\n",
       "2014        M   115  105\n",
       "2014        F    77   95\n",
       "2015        M   116  182\n",
       "2015        F    25  149"
      ]
     },
     "execution_count": 148,
     "metadata": {},
     "output_type": "execute_result"
    }
   ],
   "source": [
    "# this is mostly useful when you want to do operations between the past and now\n",
    "# as an example, here is an alternative implementation of the .diff method seen above:\n",
    "pop.i[1:] - pop.shift(x.time)"
   ]
  },
  {
   "cell_type": "markdown",
   "metadata": {},
   "source": [
    "### Misc other interesting functions"
   ]
  },
  {
   "cell_type": "markdown",
   "metadata": {},
   "source": [
    "There are a lot more functions available: \n",
    "- round, floor, ceil, trunc, \n",
    "- exp, log, log10, \n",
    "- sqrt, absolute, nan_to_num, isnan, isinf, inverse,\n",
    "- sin, cos, tan, arcsin, arccos, arctan\n",
    "- ...\n",
    "- and many many more..."
   ]
  },
  {
   "cell_type": "markdown",
   "metadata": {},
   "source": [
    "## Sessions (Experimental)"
   ]
  },
  {
   "cell_type": "markdown",
   "metadata": {},
   "source": [
    "You can group several arrays in a *Session*"
   ]
  },
  {
   "cell_type": "code",
   "execution_count": 149,
   "metadata": {
    "collapsed": false
   },
   "outputs": [
    {
     "data": {
      "text/plain": [
       "Session(arr1, arr2, arr3)"
      ]
     },
     "execution_count": 149,
     "metadata": {},
     "output_type": "execute_result"
    }
   ],
   "source": [
    "# load several arrays\n",
    "arr1, arr2, arr3 = ndtest((3, 3)), ndtest((4, 2)), ndtest((2, 4))\n",
    "\n",
    "# create and populate a 'session'\n",
    "s1 = Session()\n",
    "s1.arr1 = arr1\n",
    "s1.arr2 = arr2\n",
    "s1.arr3 = arr3\n",
    "\n",
    "s1"
   ]
  },
  {
   "cell_type": "markdown",
   "metadata": {},
   "source": [
    "The advantage of sessions is that you can manipulate all of the arrays in them in one shot"
   ]
  },
  {
   "cell_type": "code",
   "execution_count": 150,
   "metadata": {
    "collapsed": false
   },
   "outputs": [],
   "source": [
    "# this saves all the arrays in a single excel file (each array on a different sheet)\n",
    "s1.save('test.xlsx')"
   ]
  },
  {
   "cell_type": "code",
   "execution_count": 151,
   "metadata": {
    "collapsed": true
   },
   "outputs": [],
   "source": [
    "# this saves all the arrays in a single HDF5 file (which is a very fast format)\n",
    "s1.save('test.h5')"
   ]
  },
  {
   "cell_type": "code",
   "execution_count": 152,
   "metadata": {
    "collapsed": false
   },
   "outputs": [
    {
     "data": {
      "text/plain": [
       "Session(arr1, arr2, arr3)"
      ]
     },
     "execution_count": 152,
     "metadata": {},
     "output_type": "execute_result"
    }
   ],
   "source": [
    "# this creates a session out of all arrays in the .h5 file\n",
    "s2 = Session('test.h5')\n",
    "s2"
   ]
  },
  {
   "cell_type": "code",
   "execution_count": 153,
   "metadata": {
    "collapsed": false
   },
   "outputs": [
    {
     "name": "stdout",
     "output_type": "stream",
     "text": [
      "<class 'Exception'> cannot handle a non-unique multi-index!\n"
     ]
    }
   ],
   "source": [
    "# the excel version does not work currently (axes are not detected properly)\n",
    "with ExCtx():\n",
    "    s3 = Session('test.xlsx')"
   ]
  },
  {
   "cell_type": "markdown",
   "metadata": {},
   "source": [
    "You can compare two sessions"
   ]
  },
  {
   "cell_type": "code",
   "execution_count": 154,
   "metadata": {
    "collapsed": false
   },
   "outputs": [
    {
     "data": {
      "text/plain": [
       "name  arr1  arr2  arr3\n",
       "      True  True  True"
      ]
     },
     "execution_count": 154,
     "metadata": {},
     "output_type": "execute_result"
    }
   ],
   "source": [
    "s1 == s2"
   ]
  },
  {
   "cell_type": "code",
   "execution_count": 155,
   "metadata": {
    "collapsed": false
   },
   "outputs": [],
   "source": [
    "# let us introduce a difference (a variant, or a mistake perhaps)\n",
    "s2.arr1['a0', 'b1':] = 0"
   ]
  },
  {
   "cell_type": "code",
   "execution_count": 156,
   "metadata": {
    "collapsed": false
   },
   "outputs": [
    {
     "data": {
      "text/plain": [
       "name   arr1  arr2  arr3\n",
       "      False  True  True"
      ]
     },
     "execution_count": 156,
     "metadata": {},
     "output_type": "execute_result"
    }
   ],
   "source": [
    "s1 == s2"
   ]
  },
  {
   "cell_type": "code",
   "execution_count": 157,
   "metadata": {
    "collapsed": false
   },
   "outputs": [
    {
     "data": {
      "text/plain": [
       "Session(arr1)"
      ]
     },
     "execution_count": 157,
     "metadata": {},
     "output_type": "execute_result"
    }
   ],
   "source": [
    "s1_diff = s1[s1 != s2]\n",
    "s1_diff"
   ]
  },
  {
   "cell_type": "code",
   "execution_count": 158,
   "metadata": {
    "collapsed": false
   },
   "outputs": [
    {
     "data": {
      "text/plain": [
       "Session(arr1)"
      ]
     },
     "execution_count": 158,
     "metadata": {},
     "output_type": "execute_result"
    }
   ],
   "source": [
    "s2_diff = s2[s1 != s2]\n",
    "s2_diff"
   ]
  },
  {
   "cell_type": "markdown",
   "metadata": {},
   "source": [
    "This a bit experimental but can be usefull nonetheless (Open a graphical interface)"
   ]
  },
  {
   "cell_type": "code",
   "execution_count": 159,
   "metadata": {
    "collapsed": false
   },
   "outputs": [],
   "source": [
    "compare(s1_diff.arr1, s2_diff.arr1)"
   ]
  }
 ],
 "metadata": {
  "anaconda-cloud": {},
  "kernelspec": {
   "display_name": "Python [conda root]",
   "language": "python",
   "name": "conda-root-py"
  },
  "language_info": {
   "codemirror_mode": {
    "name": "ipython",
    "version": 3
   },
   "file_extension": ".py",
   "mimetype": "text/x-python",
   "name": "python",
   "nbconvert_exporter": "python",
   "pygments_lexer": "ipython3",
   "version": "3.5.2"
  }
 },
 "nbformat": 4,
 "nbformat_minor": 0
}
